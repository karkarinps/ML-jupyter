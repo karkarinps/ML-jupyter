{
 "cells": [
  {
   "cell_type": "code",
   "execution_count": 2,
   "id": "c3b21f03",
   "metadata": {},
   "outputs": [],
   "source": [
    "# грузим пандас, грузим датасет\n",
    "import pandas as pd\n",
    "dataset = pd.read_csv('C:\\\\Users\\\\Uldum\\\\Downloads\\\\housing_market_dataset.csv')"
   ]
  },
  {
   "cell_type": "code",
   "execution_count": 33,
   "id": "4b48aac2",
   "metadata": {},
   "outputs": [],
   "source": [
    "# чистим колонку Цена, изменяем тип на инт\n",
    "dataset['Очищенная цена'] = dataset['Цена'].apply(lambda x: int(''.join([i for i in x if i.isdigit()])))"
   ]
  },
  {
   "cell_type": "code",
   "execution_count": 6,
   "id": "df5102ed",
   "metadata": {},
   "outputs": [],
   "source": [
    "# группируем датасет по значениям этапа строительства и для каждого значения находим среднюю цену\n",
    "groups = dataset.groupby('Этап строительства')\n",
    "groups_mean_price = groups['Очищенная цена'].mean()"
   ]
  },
  {
   "cell_type": "code",
   "execution_count": 7,
   "id": "1fc229d7",
   "metadata": {},
   "outputs": [
    {
     "data": {
      "text/plain": [
       "Этап строительства\n",
       "В проекте          6.185037e+06\n",
       "Возведение стен    1.236093e+07\n",
       "Заморожено         8.774750e+06\n",
       "Котлован           8.517868e+06\n",
       "Отделка            1.554390e+07\n",
       "Площадка           1.032724e+07\n",
       "Сдан               2.043495e+07\n",
       "Name: Очищенная цена, dtype: float64"
      ]
     },
     "execution_count": 7,
     "metadata": {},
     "output_type": "execute_result"
    }
   ],
   "source": [
    "groups_mean_price"
   ]
  },
  {
   "cell_type": "code",
   "execution_count": 9,
   "id": "b2c8f55a",
   "metadata": {},
   "outputs": [
    {
     "data": {
      "text/plain": [
       "Этап строительства\n",
       "В проекте           6185036\n",
       "Возведение стен    12360927\n",
       "Заморожено          8774750\n",
       "Котлован            8517868\n",
       "Отделка            15543895\n",
       "Площадка           10327241\n",
       "Сдан               20434953\n",
       "Name: Очищенная цена, dtype: int32"
      ]
     },
     "execution_count": 9,
     "metadata": {},
     "output_type": "execute_result"
    }
   ],
   "source": [
    "# преобразуем формат цены в целочисленный (инт)\n",
    "groups_mean_price = groups_mean_price.astype('int')\n",
    "groups_mean_price"
   ]
  },
  {
   "cell_type": "code",
   "execution_count": 18,
   "id": "976cd4ff",
   "metadata": {},
   "outputs": [
    {
     "data": {
      "text/plain": [
       "<pandas.core.groupby.generic.DataFrameGroupBy object at 0x000001BCA9ED0F10>"
      ]
     },
     "execution_count": 18,
     "metadata": {},
     "output_type": "execute_result"
    }
   ],
   "source": [
    "dataset.groupby(['Этап строительства', 'Класс жилья'])"
   ]
  },
  {
   "cell_type": "code",
   "execution_count": 24,
   "id": "7651bacb",
   "metadata": {},
   "outputs": [
    {
     "data": {
      "text/plain": [
       "Этап строительства  Класс жилья  \n",
       "В проекте           Бизнес класс     17854750\n",
       "                    Комфорт класс     5876689\n",
       "                    Элит класс        7300000\n",
       "Возведение стен     Бизнес класс     14832840\n",
       "                    Комфорт класс     5993095\n",
       "                    Эконом класс      6564340\n",
       "                    Элит класс       30390451\n",
       "Заморожено          Бизнес класс      8750000\n",
       "                    Эконом класс      8799500\n",
       "Котлован            Бизнес класс      6100000\n",
       "                    Комфорт класс     8611092\n",
       "                    Эконом класс      7300000\n",
       "Отделка             Бизнес класс     14800645\n",
       "                    Комфорт класс     6862173\n",
       "                    Элит класс       31383414\n",
       "Площадка            Бизнес класс     11033281\n",
       "                    Комфорт класс    10083113\n",
       "Сдан                Бизнес класс     15561696\n",
       "                    Комфорт класс     7677024\n",
       "                    Эконом класс      8259168\n",
       "                    Элит класс       61650630\n",
       "Name: Очищенная цена, dtype: int32"
      ]
     },
     "execution_count": 24,
     "metadata": {},
     "output_type": "execute_result"
    }
   ],
   "source": [
    "# группировка по значениям Этапов строительства и классов жилья для них, нахождение средней цены для каждого элемента\n",
    "groups_mean_price = dataset.groupby(['Этап строительства', 'Класс жилья'])['Очищенная цена'].mean()\n",
    "groups_mean_price = groups_mean_price.astype(int)\n",
    "groups_mean_price"
   ]
  },
  {
   "cell_type": "code",
   "execution_count": 29,
   "id": "595544b1",
   "metadata": {},
   "outputs": [
    {
     "data": {
      "text/html": [
       "<div>\n",
       "<style scoped>\n",
       "    .dataframe tbody tr th:only-of-type {\n",
       "        vertical-align: middle;\n",
       "    }\n",
       "\n",
       "    .dataframe tbody tr th {\n",
       "        vertical-align: top;\n",
       "    }\n",
       "\n",
       "    .dataframe thead th {\n",
       "        text-align: right;\n",
       "    }\n",
       "</style>\n",
       "<table border=\"1\" class=\"dataframe\">\n",
       "  <thead>\n",
       "    <tr style=\"text-align: right;\">\n",
       "      <th></th>\n",
       "      <th>Этап строительства</th>\n",
       "      <th>Класс жилья</th>\n",
       "      <th>Очищенная цена</th>\n",
       "    </tr>\n",
       "  </thead>\n",
       "  <tbody>\n",
       "    <tr>\n",
       "      <th>0</th>\n",
       "      <td>В проекте</td>\n",
       "      <td>Бизнес класс</td>\n",
       "      <td>1.785475e+07</td>\n",
       "    </tr>\n",
       "    <tr>\n",
       "      <th>1</th>\n",
       "      <td>В проекте</td>\n",
       "      <td>Комфорт класс</td>\n",
       "      <td>5.876690e+06</td>\n",
       "    </tr>\n",
       "    <tr>\n",
       "      <th>2</th>\n",
       "      <td>В проекте</td>\n",
       "      <td>Элит класс</td>\n",
       "      <td>7.300000e+06</td>\n",
       "    </tr>\n",
       "    <tr>\n",
       "      <th>3</th>\n",
       "      <td>Возведение стен</td>\n",
       "      <td>Бизнес класс</td>\n",
       "      <td>1.483284e+07</td>\n",
       "    </tr>\n",
       "    <tr>\n",
       "      <th>4</th>\n",
       "      <td>Возведение стен</td>\n",
       "      <td>Комфорт класс</td>\n",
       "      <td>5.993096e+06</td>\n",
       "    </tr>\n",
       "    <tr>\n",
       "      <th>5</th>\n",
       "      <td>Возведение стен</td>\n",
       "      <td>Эконом класс</td>\n",
       "      <td>6.564340e+06</td>\n",
       "    </tr>\n",
       "    <tr>\n",
       "      <th>6</th>\n",
       "      <td>Возведение стен</td>\n",
       "      <td>Элит класс</td>\n",
       "      <td>3.039045e+07</td>\n",
       "    </tr>\n",
       "    <tr>\n",
       "      <th>7</th>\n",
       "      <td>Заморожено</td>\n",
       "      <td>Бизнес класс</td>\n",
       "      <td>8.750000e+06</td>\n",
       "    </tr>\n",
       "    <tr>\n",
       "      <th>8</th>\n",
       "      <td>Заморожено</td>\n",
       "      <td>Эконом класс</td>\n",
       "      <td>8.799500e+06</td>\n",
       "    </tr>\n",
       "    <tr>\n",
       "      <th>9</th>\n",
       "      <td>Котлован</td>\n",
       "      <td>Бизнес класс</td>\n",
       "      <td>6.100000e+06</td>\n",
       "    </tr>\n",
       "    <tr>\n",
       "      <th>10</th>\n",
       "      <td>Котлован</td>\n",
       "      <td>Комфорт класс</td>\n",
       "      <td>8.611092e+06</td>\n",
       "    </tr>\n",
       "    <tr>\n",
       "      <th>11</th>\n",
       "      <td>Котлован</td>\n",
       "      <td>Эконом класс</td>\n",
       "      <td>7.300000e+06</td>\n",
       "    </tr>\n",
       "    <tr>\n",
       "      <th>12</th>\n",
       "      <td>Отделка</td>\n",
       "      <td>Бизнес класс</td>\n",
       "      <td>1.480065e+07</td>\n",
       "    </tr>\n",
       "    <tr>\n",
       "      <th>13</th>\n",
       "      <td>Отделка</td>\n",
       "      <td>Комфорт класс</td>\n",
       "      <td>6.862173e+06</td>\n",
       "    </tr>\n",
       "    <tr>\n",
       "      <th>14</th>\n",
       "      <td>Отделка</td>\n",
       "      <td>Элит класс</td>\n",
       "      <td>3.138341e+07</td>\n",
       "    </tr>\n",
       "    <tr>\n",
       "      <th>15</th>\n",
       "      <td>Площадка</td>\n",
       "      <td>Бизнес класс</td>\n",
       "      <td>1.103328e+07</td>\n",
       "    </tr>\n",
       "    <tr>\n",
       "      <th>16</th>\n",
       "      <td>Площадка</td>\n",
       "      <td>Комфорт класс</td>\n",
       "      <td>1.008311e+07</td>\n",
       "    </tr>\n",
       "    <tr>\n",
       "      <th>17</th>\n",
       "      <td>Сдан</td>\n",
       "      <td>Бизнес класс</td>\n",
       "      <td>1.556170e+07</td>\n",
       "    </tr>\n",
       "    <tr>\n",
       "      <th>18</th>\n",
       "      <td>Сдан</td>\n",
       "      <td>Комфорт класс</td>\n",
       "      <td>7.677025e+06</td>\n",
       "    </tr>\n",
       "    <tr>\n",
       "      <th>19</th>\n",
       "      <td>Сдан</td>\n",
       "      <td>Эконом класс</td>\n",
       "      <td>8.259169e+06</td>\n",
       "    </tr>\n",
       "    <tr>\n",
       "      <th>20</th>\n",
       "      <td>Сдан</td>\n",
       "      <td>Элит класс</td>\n",
       "      <td>6.165063e+07</td>\n",
       "    </tr>\n",
       "  </tbody>\n",
       "</table>\n",
       "</div>"
      ],
      "text/plain": [
       "   Этап строительства    Класс жилья  Очищенная цена\n",
       "0           В проекте   Бизнес класс    1.785475e+07\n",
       "1           В проекте  Комфорт класс    5.876690e+06\n",
       "2           В проекте     Элит класс    7.300000e+06\n",
       "3     Возведение стен   Бизнес класс    1.483284e+07\n",
       "4     Возведение стен  Комфорт класс    5.993096e+06\n",
       "5     Возведение стен   Эконом класс    6.564340e+06\n",
       "6     Возведение стен     Элит класс    3.039045e+07\n",
       "7          Заморожено   Бизнес класс    8.750000e+06\n",
       "8          Заморожено   Эконом класс    8.799500e+06\n",
       "9            Котлован   Бизнес класс    6.100000e+06\n",
       "10           Котлован  Комфорт класс    8.611092e+06\n",
       "11           Котлован   Эконом класс    7.300000e+06\n",
       "12            Отделка   Бизнес класс    1.480065e+07\n",
       "13            Отделка  Комфорт класс    6.862173e+06\n",
       "14            Отделка     Элит класс    3.138341e+07\n",
       "15           Площадка   Бизнес класс    1.103328e+07\n",
       "16           Площадка  Комфорт класс    1.008311e+07\n",
       "17               Сдан   Бизнес класс    1.556170e+07\n",
       "18               Сдан  Комфорт класс    7.677025e+06\n",
       "19               Сдан   Эконом класс    8.259169e+06\n",
       "20               Сдан     Элит класс    6.165063e+07"
      ]
     },
     "execution_count": 29,
     "metadata": {},
     "output_type": "execute_result"
    }
   ],
   "source": [
    "# задаём False для использования группировочных значений как индексов, индексы выставляются отдельной колонкой\n",
    "groups_mean_price = dataset.groupby(['Этап строительства', 'Класс жилья'], as_index = False)['Очищенная цена'].mean()\n",
    "groups_mean_price"
   ]
  },
  {
   "cell_type": "code",
   "execution_count": 30,
   "id": "2f7e83cd",
   "metadata": {},
   "outputs": [
    {
     "data": {
      "text/html": [
       "<div>\n",
       "<style scoped>\n",
       "    .dataframe tbody tr th:only-of-type {\n",
       "        vertical-align: middle;\n",
       "    }\n",
       "\n",
       "    .dataframe tbody tr th {\n",
       "        vertical-align: top;\n",
       "    }\n",
       "\n",
       "    .dataframe thead th {\n",
       "        text-align: right;\n",
       "    }\n",
       "</style>\n",
       "<table border=\"1\" class=\"dataframe\">\n",
       "  <thead>\n",
       "    <tr style=\"text-align: right;\">\n",
       "      <th></th>\n",
       "      <th>Этап строительства</th>\n",
       "      <th>Класс жилья</th>\n",
       "      <th>Очищенная цена</th>\n",
       "    </tr>\n",
       "  </thead>\n",
       "  <tbody>\n",
       "    <tr>\n",
       "      <th>0</th>\n",
       "      <td>В проекте</td>\n",
       "      <td>Бизнес класс</td>\n",
       "      <td>17854750</td>\n",
       "    </tr>\n",
       "    <tr>\n",
       "      <th>1</th>\n",
       "      <td>В проекте</td>\n",
       "      <td>Комфорт класс</td>\n",
       "      <td>5876689</td>\n",
       "    </tr>\n",
       "    <tr>\n",
       "      <th>2</th>\n",
       "      <td>В проекте</td>\n",
       "      <td>Элит класс</td>\n",
       "      <td>7300000</td>\n",
       "    </tr>\n",
       "    <tr>\n",
       "      <th>3</th>\n",
       "      <td>Возведение стен</td>\n",
       "      <td>Бизнес класс</td>\n",
       "      <td>14832840</td>\n",
       "    </tr>\n",
       "    <tr>\n",
       "      <th>4</th>\n",
       "      <td>Возведение стен</td>\n",
       "      <td>Комфорт класс</td>\n",
       "      <td>5993095</td>\n",
       "    </tr>\n",
       "    <tr>\n",
       "      <th>5</th>\n",
       "      <td>Возведение стен</td>\n",
       "      <td>Эконом класс</td>\n",
       "      <td>6564340</td>\n",
       "    </tr>\n",
       "    <tr>\n",
       "      <th>6</th>\n",
       "      <td>Возведение стен</td>\n",
       "      <td>Элит класс</td>\n",
       "      <td>30390451</td>\n",
       "    </tr>\n",
       "    <tr>\n",
       "      <th>7</th>\n",
       "      <td>Заморожено</td>\n",
       "      <td>Бизнес класс</td>\n",
       "      <td>8750000</td>\n",
       "    </tr>\n",
       "    <tr>\n",
       "      <th>8</th>\n",
       "      <td>Заморожено</td>\n",
       "      <td>Эконом класс</td>\n",
       "      <td>8799500</td>\n",
       "    </tr>\n",
       "    <tr>\n",
       "      <th>9</th>\n",
       "      <td>Котлован</td>\n",
       "      <td>Бизнес класс</td>\n",
       "      <td>6100000</td>\n",
       "    </tr>\n",
       "    <tr>\n",
       "      <th>10</th>\n",
       "      <td>Котлован</td>\n",
       "      <td>Комфорт класс</td>\n",
       "      <td>8611092</td>\n",
       "    </tr>\n",
       "    <tr>\n",
       "      <th>11</th>\n",
       "      <td>Котлован</td>\n",
       "      <td>Эконом класс</td>\n",
       "      <td>7300000</td>\n",
       "    </tr>\n",
       "    <tr>\n",
       "      <th>12</th>\n",
       "      <td>Отделка</td>\n",
       "      <td>Бизнес класс</td>\n",
       "      <td>14800645</td>\n",
       "    </tr>\n",
       "    <tr>\n",
       "      <th>13</th>\n",
       "      <td>Отделка</td>\n",
       "      <td>Комфорт класс</td>\n",
       "      <td>6862173</td>\n",
       "    </tr>\n",
       "    <tr>\n",
       "      <th>14</th>\n",
       "      <td>Отделка</td>\n",
       "      <td>Элит класс</td>\n",
       "      <td>31383414</td>\n",
       "    </tr>\n",
       "    <tr>\n",
       "      <th>15</th>\n",
       "      <td>Площадка</td>\n",
       "      <td>Бизнес класс</td>\n",
       "      <td>11033281</td>\n",
       "    </tr>\n",
       "    <tr>\n",
       "      <th>16</th>\n",
       "      <td>Площадка</td>\n",
       "      <td>Комфорт класс</td>\n",
       "      <td>10083113</td>\n",
       "    </tr>\n",
       "    <tr>\n",
       "      <th>17</th>\n",
       "      <td>Сдан</td>\n",
       "      <td>Бизнес класс</td>\n",
       "      <td>15561696</td>\n",
       "    </tr>\n",
       "    <tr>\n",
       "      <th>18</th>\n",
       "      <td>Сдан</td>\n",
       "      <td>Комфорт класс</td>\n",
       "      <td>7677024</td>\n",
       "    </tr>\n",
       "    <tr>\n",
       "      <th>19</th>\n",
       "      <td>Сдан</td>\n",
       "      <td>Эконом класс</td>\n",
       "      <td>8259168</td>\n",
       "    </tr>\n",
       "    <tr>\n",
       "      <th>20</th>\n",
       "      <td>Сдан</td>\n",
       "      <td>Элит класс</td>\n",
       "      <td>61650630</td>\n",
       "    </tr>\n",
       "  </tbody>\n",
       "</table>\n",
       "</div>"
      ],
      "text/plain": [
       "   Этап строительства    Класс жилья  Очищенная цена\n",
       "0           В проекте   Бизнес класс        17854750\n",
       "1           В проекте  Комфорт класс         5876689\n",
       "2           В проекте     Элит класс         7300000\n",
       "3     Возведение стен   Бизнес класс        14832840\n",
       "4     Возведение стен  Комфорт класс         5993095\n",
       "5     Возведение стен   Эконом класс         6564340\n",
       "6     Возведение стен     Элит класс        30390451\n",
       "7          Заморожено   Бизнес класс         8750000\n",
       "8          Заморожено   Эконом класс         8799500\n",
       "9            Котлован   Бизнес класс         6100000\n",
       "10           Котлован  Комфорт класс         8611092\n",
       "11           Котлован   Эконом класс         7300000\n",
       "12            Отделка   Бизнес класс        14800645\n",
       "13            Отделка  Комфорт класс         6862173\n",
       "14            Отделка     Элит класс        31383414\n",
       "15           Площадка   Бизнес класс        11033281\n",
       "16           Площадка  Комфорт класс        10083113\n",
       "17               Сдан   Бизнес класс        15561696\n",
       "18               Сдан  Комфорт класс         7677024\n",
       "19               Сдан   Эконом класс         8259168\n",
       "20               Сдан     Элит класс        61650630"
      ]
     },
     "execution_count": 30,
     "metadata": {},
     "output_type": "execute_result"
    }
   ],
   "source": [
    "# переводим колонку с ценой в инт тип данных\n",
    "groups_mean_price['Очищенная цена'] = groups_mean_price['Очищенная цена'].astype(int)\n",
    "groups_mean_price"
   ]
  },
  {
   "cell_type": "code",
   "execution_count": null,
   "id": "7feb7751",
   "metadata": {},
   "outputs": [],
   "source": [
    "# Шаблон взятия среднего значения цены квартир сгруппированных по значениям Этапа строительства  \n",
    "groups_mean_price = dataset.groupby('Этап строительства')['Очищенная цена'].mean()"
   ]
  },
  {
   "cell_type": "code",
   "execution_count": null,
   "id": "c094a417",
   "metadata": {},
   "outputs": [],
   "source": [
    "# Шаблон взятия среднего значения цены квартир сгруппированных по значениям колонок Этапа строительства и Класса жилья\n",
    "groups_mean_price = dataset.groupby(['Этап строительства', 'Класс жилья'], as_index=False)['Очищенная цена'].mean()\n",
    "groups_mean_price['Очищенная цена'] = groups_mean_price['Очищенная цена'].astype(int)"
   ]
  },
  {
   "cell_type": "code",
   "execution_count": 31,
   "id": "34239cee",
   "metadata": {},
   "outputs": [
    {
     "data": {
      "text/plain": [
       "Этап строительства\n",
       "В проекте          2021.0\n",
       "Возведение стен    2021.0\n",
       "Заморожено         2018.0\n",
       "Котлован           1977.0\n",
       "Отделка            2020.0\n",
       "Площадка           2021.0\n",
       "Сдан               2021.0\n",
       "Name: Год постройки, dtype: float64"
      ]
     },
     "execution_count": 31,
     "metadata": {},
     "output_type": "execute_result"
    }
   ],
   "source": [
    "# задание из теста\n",
    "groups_max_year = dataset.groupby('Этап строительства')['Год постройки'].max()\n",
    "groups_max_year"
   ]
  },
  {
   "cell_type": "code",
   "execution_count": 35,
   "id": "08a6ac50",
   "metadata": {},
   "outputs": [
    {
     "data": {
      "text/plain": [
       "Этап строительства  Тип здания         \n",
       "В проекте           Кирпичное              10050000.0\n",
       "                    Монолитное              5656425.0\n",
       "Возведение стен     Блочное                 6050000.0\n",
       "                    Кирпичное              11828050.0\n",
       "                    Монолитно-кирпичное    15585614.0\n",
       "                    Монолитное              8632154.0\n",
       "                    Панельное               6883870.0\n",
       "Заморожено          Кирпичное               8750000.0\n",
       "                    Монолитное              9600000.0\n",
       "                    Панельное               7999000.0\n",
       "Котлован            Блочное                 6700000.0\n",
       "                    Монолитное              8737015.0\n",
       "                    Панельное               6651120.0\n",
       "Отделка             Блочное                 9050000.0\n",
       "                    Кирпичное               8571250.0\n",
       "                    Монолитно-кирпичное     6002112.0\n",
       "                    Монолитно-кирпичный    22297600.0\n",
       "                    Монолитное             13168400.0\n",
       "                    Монолитный              5108000.0\n",
       "                    Панельное               7250000.0\n",
       "Площадка            Блочное                10650000.0\n",
       "                    Монолитное             10405200.0\n",
       "                    Панельное               5248880.0\n",
       "Сдан                Блочное                 7500000.0\n",
       "                    Кирпичное               8700000.0\n",
       "                    Монолитно-кирпичное    28639317.0\n",
       "                    Монолитно-кирпичный    28500000.0\n",
       "                    Монолитное             10360000.0\n",
       "                    Монолитный             13826930.0\n",
       "                    Панельное               7200000.0\n",
       "                    Панельный              13950000.0\n",
       "Name: Очищенная цена, dtype: float64"
      ]
     },
     "execution_count": 35,
     "metadata": {},
     "output_type": "execute_result"
    }
   ],
   "source": [
    "# задание из теста\n",
    "groups_max_year = dataset.groupby(['Этап строительства', 'Тип здания'])['Очищенная цена'].median()\n",
    "groups_max_year"
   ]
  },
  {
   "cell_type": "code",
   "execution_count": 36,
   "id": "c79a00ed",
   "metadata": {},
   "outputs": [
    {
     "data": {
      "text/plain": [
       "Тип здания\n",
       "Блочное                 3450000\n",
       "Кирпичное               2000000\n",
       "Монолитно-кирпичное     1750000\n",
       "Монолитно-кирпичный     6400000\n",
       "Монолитное               612000\n",
       "Монолитный              4385000\n",
       "Панельно-кирпичное      6950000\n",
       "Панельное               1800000\n",
       "Панельный              11700000\n",
       "Сталинское              9150000\n",
       "Name: Очищенная цена, dtype: int64"
      ]
     },
     "execution_count": 36,
     "metadata": {},
     "output_type": "execute_result"
    }
   ],
   "source": [
    "# задание из теста\n",
    "groups_type_price = dataset.groupby('Тип здания')['Очищенная цена'].min()\n",
    "groups_type_price"
   ]
  },
  {
   "cell_type": "code",
   "execution_count": 3,
   "id": "f86c1dcb",
   "metadata": {},
   "outputs": [],
   "source": [
    "# импортим матплот и \n",
    "import matplotlib.pyplot as plt\n",
    "# подсчитываем количество какждого типа зданий и присваиваем в переменную\n",
    "type_counts = dataset['Тип здания'].value_counts()\n",
    "# делим таблицу на кол-во типов числом до 500 и выше 500, присваиваем переменным\n",
    "other_types = type_counts[type_counts<500]\n",
    "type_counts = type_counts[type_counts>500]\n",
    "# создаём в таблице колонку 'другое', суммируем туда все значения каждого типа кол-вом меньше 500\n",
    "type_counts['Другое'] = other_types.sum()"
   ]
  },
  {
   "cell_type": "code",
   "execution_count": 4,
   "id": "e455c691",
   "metadata": {},
   "outputs": [],
   "source": [
    "# выбираем стиль графика\n",
    "plt.style.use('seaborn')"
   ]
  },
  {
   "cell_type": "code",
   "execution_count": 6,
   "id": "3e828795",
   "metadata": {},
   "outputs": [],
   "source": [
    "# изменяем шрифты в plt\n",
    "params = {\n",
    "          'axes.titlesize': 15,   # Размер шрифта главной подписи\n",
    "          'xtick.labelsize': 12,  # Размер шрифта подписей тикетов оси X\n",
    "          'axes.labelsize': 14    # Размер шрифта подписей осей\n",
    "          }\n",
    "plt.rcParams.update(params)"
   ]
  },
  {
   "cell_type": "code",
   "execution_count": 9,
   "id": "16b94736",
   "metadata": {},
   "outputs": [
    {
     "data": {
      "image/png": "[encoded data removed]",
      "text/plain": [
       "<Figure size 432x288 with 1 Axes>"
      ]
     },
     "metadata": {
      "needs_background": "light"
     },
     "output_type": "display_data"
    }
   ],
   "source": [
    "# подписываем ось Y\n",
    "plt.ylabel('Количество квартир')\n",
    "# подписываем заголовок графика\n",
    "plt.title('Диаграмма распределения типов здания')\n",
    "# меняем угол расположения подписей по Х, 30 градусов и выравнивание по правому краю\n",
    "plt.xticks(rotation=30, ha = 'right')\n",
    "# рисуем столбчатую диаграмму, добавляя индексы и значения\n",
    "plt.bar(type_counts.index, type_counts.values)\n",
    "plt.show()"
   ]
  },
  {
   "cell_type": "code",
   "execution_count": 10,
   "id": "7308d43f",
   "metadata": {},
   "outputs": [
    {
     "data": {
      "image/png": "[encoded data removed]",
      "text/plain": [
       "<Figure size 432x288 with 1 Axes>"
      ]
     },
     "metadata": {
      "needs_background": "light"
     },
     "output_type": "display_data"
    }
   ],
   "source": [
    "# задача из теста\n",
    "class_counts = dataset['Класс жилья'].value_counts()\n",
    "plt.ylabel('Количество квартир')\n",
    "plt.title('Диаграмма распределения классво жилья')\n",
    "plt.xticks(rotation=30, ha = 'right')\n",
    "plt.bar(class_counts.index, class_counts.values)\n",
    "plt.show()"
   ]
  },
  {
   "cell_type": "code",
   "execution_count": null,
   "id": "28055e5a",
   "metadata": {},
   "outputs": [],
   "source": []
  }
 ],
 "metadata": {
  "kernelspec": {
   "display_name": "Python 3 (ipykernel)",
   "language": "python",
   "name": "python3"
  },
  "language_info": {
   "codemirror_mode": {
    "name": "ipython",
    "version": 3
   },
   "file_extension": ".py",
   "mimetype": "text/x-python",
   "name": "python",
   "nbconvert_exporter": "python",
   "pygments_lexer": "ipython3",
   "version": "3.10.4"
  }
 },
 "nbformat": 4,
 "nbformat_minor": 5
}
