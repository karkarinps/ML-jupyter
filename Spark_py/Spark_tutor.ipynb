{
 "cells": [
  {
   "cell_type": "code",
   "execution_count": 39,
   "id": "1408d453",
   "metadata": {},
   "outputs": [
    {
     "name": "stdout",
     "output_type": "stream",
     "text": [
      "Collecting pyarrowNote: you may need to restart the kernel to use updated packages.\n",
      "\n",
      "  Downloading pyarrow-11.0.0-cp311-cp311-win_amd64.whl (20.5 MB)\n",
      "     ---------------------------------------- 20.5/20.5 MB 7.4 MB/s eta 0:00:00\n",
      "Requirement already satisfied: numpy>=1.16.6 in c:\\users\\uldum\\appdata\\local\\programs\\python\\python311\\lib\\site-packages (from pyarrow) (1.24.1)\n",
      "Installing collected packages: pyarrow\n",
      "Successfully installed pyarrow-11.0.0\n"
     ]
    },
    {
     "name": "stderr",
     "output_type": "stream",
     "text": [
      "\n",
      "[notice] A new release of pip available: 22.3.1 -> 23.0.1\n",
      "[notice] To update, run: python.exe -m pip install --upgrade pip\n"
     ]
    }
   ],
   "source": [
    "pip install pyarrow"
   ]
  },
  {
   "cell_type": "code",
   "execution_count": 46,
   "id": "cb56d3f8",
   "metadata": {},
   "outputs": [],
   "source": [
    "from pyspark.ml.feature import StringIndexer, OneHotEncoder\n",
    "from pyspark.sql import SparkSession\n",
    "import pyspark.sql.functions as F\n",
    "import pyspark.sql.types as t"
   ]
  },
  {
   "cell_type": "code",
   "execution_count": 2,
   "id": "d99aed08",
   "metadata": {},
   "outputs": [],
   "source": [
    "# инициализируем спарк-сессию\n",
    "spark = SparkSession.builder.getOrCreate()"
   ]
  },
  {
   "cell_type": "code",
   "execution_count": 3,
   "id": "4e479d9b",
   "metadata": {},
   "outputs": [
    {
     "data": {
      "text/html": [
       "\n",
       "            <div>\n",
       "                <p><b>SparkSession - in-memory</b></p>\n",
       "                \n",
       "        <div>\n",
       "            <p><b>SparkContext</b></p>\n",
       "\n",
       "            <p><a href=\"http://DESKTOP-JTBMDQG:4040\">Spark UI</a></p>\n",
       "\n",
       "            <dl>\n",
       "              <dt>Version</dt>\n",
       "                <dd><code>v3.3.2</code></dd>\n",
       "              <dt>Master</dt>\n",
       "                <dd><code>local[*]</code></dd>\n",
       "              <dt>AppName</dt>\n",
       "                <dd><code>pyspark-shell</code></dd>\n",
       "            </dl>\n",
       "        </div>\n",
       "        \n",
       "            </div>\n",
       "        "
      ],
      "text/plain": [
       "<pyspark.sql.session.SparkSession at 0x16edc1a2550>"
      ]
     },
     "execution_count": 3,
     "metadata": {},
     "output_type": "execute_result"
    }
   ],
   "source": [
    "spark"
   ]
  },
  {
   "cell_type": "code",
   "execution_count": 3,
   "id": "8e906fbf",
   "metadata": {},
   "outputs": [],
   "source": [
    "# читаем файл со схемой для правильной загрузки типов данных\n",
    "df = spark.read.format('csv').option('header', 'true').load('C://Users/Uldum/Downloads/clustering_test_work.csv', inferSchema =True)"
   ]
  },
  {
   "cell_type": "code",
   "execution_count": 11,
   "id": "1c1b8b85",
   "metadata": {},
   "outputs": [
    {
     "name": "stdout",
     "output_type": "stream",
     "text": [
      "-RECORD 0----------------------------------\n",
      " _c0                 | 0                   \n",
      " actual_id           | 12013601421         \n",
      " period_end          | 2021-02-19 00:00:00 \n",
      " num                 | 2                   \n",
      " revenue_lastyear    | 17920.0             \n",
      " quantity_lastyear   | 4                   \n",
      " orders_lastyear     | 1                   \n",
      " orders_refund       | 0                   \n",
      " ratio_not_dh        | 1.0                 \n",
      " ratio_online        | 1.0                 \n",
      " ratio_refund        | 0.0                 \n",
      " avg_ratio_purchase  | 0.8                 \n",
      " quantity_1st_period | 4.0                 \n",
      " unigenders          | 1                   \n",
      " recency             | 123                 \n",
      " aov                 | 17920.0             \n",
      "-RECORD 1----------------------------------\n",
      " _c0                 | 1                   \n",
      " actual_id           | 12013601421         \n",
      " period_end          | 2021-04-19 00:00:00 \n",
      " num                 | 3                   \n",
      " revenue_lastyear    | 17920.0             \n",
      " quantity_lastyear   | 4                   \n",
      " orders_lastyear     | 1                   \n",
      " orders_refund       | 0                   \n",
      " ratio_not_dh        | 1.0                 \n",
      " ratio_online        | 1.0                 \n",
      " ratio_refund        | 0.0                 \n",
      " avg_ratio_purchase  | 0.8                 \n",
      " quantity_1st_period | 4.0                 \n",
      " unigenders          | 1                   \n",
      " recency             | 182                 \n",
      " aov                 | 17920.0             \n",
      "only showing top 2 rows\n",
      "\n"
     ]
    }
   ],
   "source": [
    "df.show(2, vertical=True)"
   ]
  },
  {
   "cell_type": "code",
   "execution_count": 19,
   "id": "108d1bd6",
   "metadata": {},
   "outputs": [
    {
     "name": "stdout",
     "output_type": "stream",
     "text": [
      "+-----------+----------+\n",
      "|  actual_id|period_end|\n",
      "+-----------+----------+\n",
      "|12013601421|2021-02-19|\n",
      "|12013601421|2021-04-19|\n",
      "|12013601421|2021-06-19|\n",
      "|12013601421|2021-08-19|\n",
      "|12013601421|2021-10-19|\n",
      "+-----------+----------+\n",
      "only showing top 5 rows\n",
      "\n"
     ]
    }
   ],
   "source": [
    "df.select(F.col('actual_id'), F.col('period_end')).show(5)"
   ]
  },
  {
   "cell_type": "code",
   "execution_count": 6,
   "id": "11843334",
   "metadata": {},
   "outputs": [
    {
     "name": "stdout",
     "output_type": "stream",
     "text": [
      "+-----------+----------+-------+\n",
      "|  actual_id|period_end|    aov|\n",
      "+-----------+----------+-------+\n",
      "|12013960666|2022-12-07|27960.0|\n",
      "|12063704219|2022-12-07|10960.0|\n",
      "|12068234221|2022-12-07| 7480.0|\n",
      "|12069928477|2022-12-07|24960.0|\n",
      "|12124564545|2022-12-07|15980.0|\n",
      "+-----------+----------+-------+\n",
      "only showing top 5 rows\n",
      "\n"
     ]
    }
   ],
   "source": [
    "# подзапрос с фильтрацией\n",
    "param = 0\n",
    "\n",
    "subq = df.select(F.col('actual_id'), F.col('period_end'), F.col('aov')).filter(F.col('period_end') == \"2022-12-07\")\\\n",
    ".filter(F.col('aov') > param)\n",
    "subq.show(5)"
   ]
  },
  {
   "cell_type": "code",
   "execution_count": 34,
   "id": "96ade3df",
   "metadata": {},
   "outputs": [
    {
     "data": {
      "text/plain": [
       "2247574"
      ]
     },
     "execution_count": 34,
     "metadata": {},
     "output_type": "execute_result"
    }
   ],
   "source": [
    "# подсчёт строк в датафрейме\n",
    "df.count()"
   ]
  },
  {
   "cell_type": "code",
   "execution_count": 41,
   "id": "74649ce1",
   "metadata": {},
   "outputs": [
    {
     "data": {
      "text/plain": [
       "690"
      ]
     },
     "execution_count": 41,
     "metadata": {},
     "output_type": "execute_result"
    }
   ],
   "source": [
    "# подсчёт различных значений в столбце\n",
    "df.select(F.col('period_end')).distinct().count()"
   ]
  },
  {
   "cell_type": "code",
   "execution_count": 19,
   "id": "d989d118",
   "metadata": {},
   "outputs": [
    {
     "name": "stdout",
     "output_type": "stream",
     "text": [
      "+-----------+-----+\n",
      "|  actual_id|count|\n",
      "+-----------+-----+\n",
      "|77017111445|   13|\n",
      "|79029403830|   13|\n",
      "+-----------+-----+\n",
      "only showing top 2 rows\n",
      "\n"
     ]
    }
   ],
   "source": [
    "# группировка по значению в столбце с подсчётом вхождений каждого значения\n",
    "df.groupby('actual_id').count().orderBy(F.col('count').desc()).show(2)"
   ]
  },
  {
   "cell_type": "code",
   "execution_count": 49,
   "id": "b1fbf35d",
   "metadata": {},
   "outputs": [
    {
     "name": "stdout",
     "output_type": "stream",
     "text": [
      "+------+\n",
      "|row_id|\n",
      "+------+\n",
      "|     0|\n",
      "|     1|\n",
      "|     2|\n",
      "|     3|\n",
      "+------+\n",
      "only showing top 4 rows\n",
      "\n"
     ]
    }
   ],
   "source": [
    "# переименование колонки\n",
    "df.withColumnRenamed('_c0', 'row_id').select('row_id').show(4)"
   ]
  },
  {
   "cell_type": "code",
   "execution_count": 51,
   "id": "ae9b6ee4",
   "metadata": {},
   "outputs": [
    {
     "name": "stdout",
     "output_type": "stream",
     "text": [
      "+---+------+\n",
      "|_c0|row_id|\n",
      "+---+------+\n",
      "|  0|   1.0|\n",
      "|  1|   2.0|\n",
      "|  2|   3.0|\n",
      "|  3|   4.0|\n",
      "|  4|   5.0|\n",
      "+---+------+\n",
      "only showing top 5 rows\n",
      "\n"
     ]
    }
   ],
   "source": [
    "# создание новой колонки по старой\n",
    "df.withColumn('row_id', F.col('_c0')+1).select('_c0', 'row_id').show(5)"
   ]
  },
  {
   "cell_type": "code",
   "execution_count": 8,
   "id": "7e818fcc",
   "metadata": {},
   "outputs": [
    {
     "name": "stdout",
     "output_type": "stream",
     "text": [
      "root\n",
      " |-- _c0: integer (nullable = true)\n",
      " |-- actual_id: long (nullable = true)\n",
      " |-- period_end: timestamp (nullable = true)\n",
      " |-- num: integer (nullable = true)\n",
      " |-- revenue_lastyear: double (nullable = true)\n",
      " |-- quantity_lastyear: integer (nullable = true)\n",
      " |-- orders_lastyear: integer (nullable = true)\n",
      " |-- orders_refund: integer (nullable = true)\n",
      " |-- ratio_not_dh: double (nullable = true)\n",
      " |-- ratio_online: double (nullable = true)\n",
      " |-- ratio_refund: double (nullable = true)\n",
      " |-- avg_ratio_purchase: double (nullable = true)\n",
      " |-- quantity_1st_period: double (nullable = true)\n",
      " |-- unigenders: integer (nullable = true)\n",
      " |-- recency: integer (nullable = true)\n",
      " |-- aov: double (nullable = true)\n",
      "\n"
     ]
    }
   ],
   "source": [
    "# схема дф\n",
    "df.printSchema()"
   ]
  },
  {
   "cell_type": "code",
   "execution_count": 7,
   "id": "64a92fc2",
   "metadata": {},
   "outputs": [
    {
     "name": "stdout",
     "output_type": "stream",
     "text": [
      "+-------+--------------------+----------+------------------+\n",
      "|summary|           actual_id|period_end|               aov|\n",
      "+-------+--------------------+----------+------------------+\n",
      "|  count|              182745|    182745|            182745|\n",
      "|   mean|3.476121477177607...|      null|15283.717338808337|\n",
      "| stddev|7.082808410889412E13|      null|13092.503945192891|\n",
      "|    min|         12013960666|2022-12-07|            1000.0|\n",
      "|    max|        998998908989|2022-12-07| 9999.833333333334|\n",
      "+-------+--------------------+----------+------------------+\n",
      "\n"
     ]
    }
   ],
   "source": [
    "# основные показатели колонок\n",
    "subq.describe().show()"
   ]
  },
  {
   "cell_type": "code",
   "execution_count": 54,
   "id": "623804c4",
   "metadata": {},
   "outputs": [],
   "source": [
    "# остановка спарк-сессии\n",
    "spark.stop()"
   ]
  },
  {
   "cell_type": "code",
   "execution_count": 50,
   "id": "2737b6ef",
   "metadata": {},
   "outputs": [
    {
     "name": "stdout",
     "output_type": "stream",
     "text": [
      "25156\n",
      "+----------+-----+-------+---------+------+\n",
      "|unigenders|Count|    Avg|      Sum|   Max|\n",
      "+----------+-----+-------+---------+------+\n",
      "|         1|24394|13071.0|318856956|228640|\n",
      "|         2|  762|17975.0| 13697243|235660|\n",
      "+----------+-----+-------+---------+------+\n",
      "\n",
      "None\n"
     ]
    }
   ],
   "source": [
    "# небольшая функия-пайплайн с записью файла\n",
    "def main():\n",
    "    SparkSession.builder.getOrCreate()\n",
    "    df = spark.read.format('csv').option('header', 'true').load('C://Users/Uldum/Downloads/clustering_test_work.csv')\n",
    "    prechurn = (\n",
    "        df.filter(F.col('period_end') == '2022-12-07')\n",
    "        .filter(F.col('recency') <= 365)\n",
    "        .filter(F.col('recency') > 300)\n",
    "    )\n",
    "    \n",
    "    out = (\n",
    "        prechurn\n",
    "        .groupBy('unigenders')\n",
    "        .agg(\n",
    "            F.count('actual_id').alias('Count'),\n",
    "            F.round(F.avg(F.col('aov').cast(t.IntegerType()))).alias('Avg'),\n",
    "            F.round(F.sum(F.col('aov').cast(t.IntegerType()))).alias('Sum'),\n",
    "            F.max(F.col('aov').cast(t.IntegerType())).alias('Max')\n",
    "        )\n",
    "            \n",
    "    )\n",
    "\n",
    "    print(prechurn.select(F.col('actual_id')).distinct().count())\n",
    "    print(out.show(5))\n",
    "    prechurn.coalesce(1).write.format('csv').save('mycsv.csv')\n",
    "    \n",
    "main()"
   ]
  },
  {
   "cell_type": "code",
   "execution_count": 4,
   "id": "d1ed59f9",
   "metadata": {},
   "outputs": [
    {
     "name": "stdout",
     "output_type": "stream",
     "text": [
      "-RECORD 0----------------------------------\n",
      " _c0                 | 2671                \n",
      " actual_id           | 2978903284907       \n",
      " period_end          | 2022-12-07 00:00:00 \n",
      " num                 | 9                   \n",
      " revenue_lastyear    | 0.0                 \n",
      " quantity_lastyear   | 0                   \n",
      " orders_lastyear     | 0                   \n",
      " orders_refund       | 0                   \n",
      " ratio_not_dh        | 0.0                 \n",
      " ratio_online        | 0.0                 \n",
      " ratio_refund        | 0.0                 \n",
      " avg_ratio_purchase  | 1.0                 \n",
      " quantity_1st_period | 2.0                 \n",
      " unigenders          | 1                   \n",
      " recency             | 524                 \n",
      " aov                 | 0.0                 \n",
      "-RECORD 1----------------------------------\n",
      " _c0                 | 2677                \n",
      " actual_id           | 2978903311588       \n",
      " period_end          | 2022-12-07 00:00:00 \n",
      " num                 | 7                   \n",
      " revenue_lastyear    | 0.0                 \n",
      " quantity_lastyear   | 0                   \n",
      " orders_lastyear     | 0                   \n",
      " orders_refund       | 0                   \n",
      " ratio_not_dh        | 0.0                 \n",
      " ratio_online        | 0.0                 \n",
      " ratio_refund        | 0.0                 \n",
      " avg_ratio_purchase  | 1.0                 \n",
      " quantity_1st_period | 1.0                 \n",
      " unigenders          | 1                   \n",
      " recency             | 388                 \n",
      " aov                 | 0.0                 \n",
      "only showing top 2 rows\n",
      "\n"
     ]
    }
   ],
   "source": [
    "# фильтрация по значению в колонке, сброс дубликатов строк\n",
    "df_1 = df.filter(F.col('period_end') == '2022-12-07')\n",
    "df_1 = df_1.dropDuplicates()\n",
    "df_1.show(2, vertical=True)"
   ]
  },
  {
   "cell_type": "code",
   "execution_count": 5,
   "id": "f40d0a38",
   "metadata": {},
   "outputs": [
    {
     "name": "stdout",
     "output_type": "stream",
     "text": [
      "-RECORD 0------------------\n",
      " _c0                 | 0   \n",
      " actual_id           | 0   \n",
      " period_end          | 0   \n",
      " num                 | 0   \n",
      " revenue_lastyear    | 0   \n",
      " quantity_lastyear   | 0   \n",
      " orders_lastyear     | 0   \n",
      " orders_refund       | 0   \n",
      " ratio_not_dh        | 0   \n",
      " ratio_online        | 0   \n",
      " ratio_refund        | 0   \n",
      " avg_ratio_purchase  | 0   \n",
      " quantity_1st_period | 0   \n",
      " unigenders          | 0   \n",
      " recency             | 0   \n",
      " aov                 | 0   \n",
      "\n"
     ]
    }
   ],
   "source": [
    "#!!!! ПРОВЕРКА НА НАЛИЧИЕ ПРОПУЩЕННЫХ И НУЛЕВЫХ ЗНАЧЕНИЙ В ДАТАФРЕЙМЕ!!!!\n",
    "df_1.select(*[\n",
    "    (\n",
    "        F.count(F.when((F.isnan(c) | F.col(c).isNull()), c)) if t not in (\"timestamp\", \"date\")\n",
    "        else F.count(F.when(F.col(c).isNull(), c))\n",
    "    ).alias(c)\n",
    "    for c, t in df.dtypes if c in df_1.columns\n",
    "]).show(vertical=True)"
   ]
  },
  {
   "cell_type": "code",
   "execution_count": 7,
   "id": "dc8e9de5",
   "metadata": {},
   "outputs": [],
   "source": [
    "# создание новой колонки (целевой) по другой колонке с заполнением значений по условию\n",
    "df_1 = df_1.withColumn(\"target\", \\\n",
    "              F.when(df_1[\"recency\"] >= 365, 1).otherwise(0))"
   ]
  },
  {
   "cell_type": "code",
   "execution_count": 8,
   "id": "a755ec58",
   "metadata": {},
   "outputs": [
    {
     "name": "stdout",
     "output_type": "stream",
     "text": [
      "-RECORD 0----------------------------------\n",
      " _c0                 | 11                  \n",
      " actual_id           | 12013601421         \n",
      " period_end          | 2022-12-07 00:00:00 \n",
      " num                 | 13                  \n",
      " revenue_lastyear    | 0.0                 \n",
      " quantity_lastyear   | 0                   \n",
      " orders_lastyear     | 0                   \n",
      " orders_refund       | 0                   \n",
      " ratio_not_dh        | 0.0                 \n",
      " ratio_online        | 0.0                 \n",
      " ratio_refund        | 0.0                 \n",
      " avg_ratio_purchase  | 1.0                 \n",
      " quantity_1st_period | 4.0                 \n",
      " unigenders          | 1                   \n",
      " recency             | 779                 \n",
      " aov                 | 0.0                 \n",
      " target              | 1                   \n",
      "-RECORD 1----------------------------------\n",
      " _c0                 | 16                  \n",
      " actual_id           | 12013960666         \n",
      " period_end          | 2022-12-07 00:00:00 \n",
      " num                 | 6                   \n",
      " revenue_lastyear    | 27960.0             \n",
      " quantity_lastyear   | 2                   \n",
      " orders_lastyear     | 1                   \n",
      " orders_refund       | 0                   \n",
      " ratio_not_dh        | 1.0                 \n",
      " ratio_online        | 0.0                 \n",
      " ratio_refund        | 0.0                 \n",
      " avg_ratio_purchase  | 1.0                 \n",
      " quantity_1st_period | 2.0                 \n",
      " unigenders          | 1                   \n",
      " recency             | 339                 \n",
      " aov                 | 27960.0             \n",
      " target              | 0                   \n",
      "only showing top 2 rows\n",
      "\n"
     ]
    }
   ],
   "source": [
    "df_1.show(2, vertical=True)"
   ]
  },
  {
   "cell_type": "code",
   "execution_count": 11,
   "id": "c4ec46ea",
   "metadata": {},
   "outputs": [
    {
     "name": "stdout",
     "output_type": "stream",
     "text": [
      "-RECORD 0----------------------\n",
      " num                 | 13      \n",
      " revenue_lastyear    | 0.0     \n",
      " quantity_lastyear   | 0       \n",
      " orders_lastyear     | 0       \n",
      " orders_refund       | 0       \n",
      " ratio_not_dh        | 0.0     \n",
      " ratio_online        | 0.0     \n",
      " ratio_refund        | 0.0     \n",
      " avg_ratio_purchase  | 1.0     \n",
      " quantity_1st_period | 4.0     \n",
      " unigenders          | 1       \n",
      " aov                 | 0.0     \n",
      " target              | 1       \n",
      "-RECORD 1----------------------\n",
      " num                 | 6       \n",
      " revenue_lastyear    | 27960.0 \n",
      " quantity_lastyear   | 2       \n",
      " orders_lastyear     | 1       \n",
      " orders_refund       | 0       \n",
      " ratio_not_dh        | 1.0     \n",
      " ratio_online        | 0.0     \n",
      " ratio_refund        | 0.0     \n",
      " avg_ratio_purchase  | 1.0     \n",
      " quantity_1st_period | 2.0     \n",
      " unigenders          | 1       \n",
      " aov                 | 27960.0 \n",
      " target              | 0       \n",
      "only showing top 2 rows\n",
      "\n"
     ]
    }
   ],
   "source": [
    "# сброс ненужных колонок\n",
    "df_1 = df_1.drop('_c0', 'actual_id', 'period_end', 'recency')\n",
    "df_1.show(2, vertical=True)"
   ]
  },
  {
   "cell_type": "code",
   "execution_count": 48,
   "id": "3dec9ab4",
   "metadata": {},
   "outputs": [
    {
     "name": "stdout",
     "output_type": "stream",
     "text": [
      "-RECORD 0----------------------\n",
      " num                 | 13      \n",
      " revenue_lastyear    | 0.0     \n",
      " quantity_lastyear   | 0       \n",
      " orders_lastyear     | 0       \n",
      " orders_refund       | 0       \n",
      " ratio_not_dh        | 0.0     \n",
      " ratio_online        | 0.0     \n",
      " ratio_refund        | 0.0     \n",
      " avg_ratio_purchase  | 1.0     \n",
      " quantity_1st_period | 4.0     \n",
      " unigenders          | 1       \n",
      " aov                 | 0.0     \n",
      " target              | 1       \n",
      " unigenders_dum      | 0.0     \n",
      "-RECORD 1----------------------\n",
      " num                 | 6       \n",
      " revenue_lastyear    | 27960.0 \n",
      " quantity_lastyear   | 2       \n",
      " orders_lastyear     | 1       \n",
      " orders_refund       | 0       \n",
      " ratio_not_dh        | 1.0     \n",
      " ratio_online        | 0.0     \n",
      " ratio_refund        | 0.0     \n",
      " avg_ratio_purchase  | 1.0     \n",
      " quantity_1st_period | 2.0     \n",
      " unigenders          | 1       \n",
      " aov                 | 27960.0 \n",
      " target              | 0       \n",
      " unigenders_dum      | 0.0     \n",
      "only showing top 2 rows\n",
      "\n"
     ]
    }
   ],
   "source": [
    "# !!!! ПРЕОРАЗВАНИЕ КАТЕГОРИАЛЬНОЙ КОЛОНКИ С 2мя КАТЕГОРИЯМИ В КОЛОНКУ С 1 И 0 !!!!!\n",
    "indexer = StringIndexer(inputCol='unigenders', \n",
    "                        outputCol='unigenders_dum').fit(df_1)\n",
    "df_2 = indexer.transform(df_1)\n",
    "df_2.show(2, vertical=True)"
   ]
  },
  {
   "cell_type": "code",
   "execution_count": 49,
   "id": "3eace814",
   "metadata": {},
   "outputs": [
    {
     "name": "stdout",
     "output_type": "stream",
     "text": [
      "+--------------+------+\n",
      "|unigenders_dum| count|\n",
      "+--------------+------+\n",
      "|           0.0|287498|\n",
      "|           1.0| 14621|\n",
      "+--------------+------+\n",
      "\n"
     ]
    }
   ],
   "source": [
    "# чек того, что преобразование прошло без потери данных\n",
    "df_2.groupby('unigenders_dum').count().orderBy(F.col('count').desc()).show(5)"
   ]
  },
  {
   "cell_type": "code",
   "execution_count": 50,
   "id": "3e77d155",
   "metadata": {},
   "outputs": [
    {
     "name": "stdout",
     "output_type": "stream",
     "text": [
      "+----------+------+\n",
      "|unigenders| count|\n",
      "+----------+------+\n",
      "|         1|287498|\n",
      "|         2| 14621|\n",
      "+----------+------+\n",
      "\n"
     ]
    }
   ],
   "source": [
    "# чек того, что преобразование прошло без потери данных\n",
    "df_1.groupby('unigenders').count().orderBy(F.col('count').desc()).show(5)"
   ]
  },
  {
   "cell_type": "code",
   "execution_count": 51,
   "id": "60a58142",
   "metadata": {},
   "outputs": [
    {
     "name": "stdout",
     "output_type": "stream",
     "text": [
      "-RECORD 0------------------\n",
      " num                 | 13  \n",
      " revenue_lastyear    | 0.0 \n",
      " quantity_lastyear   | 0   \n",
      " orders_lastyear     | 0   \n",
      " orders_refund       | 0   \n",
      " ratio_not_dh        | 0.0 \n",
      " ratio_online        | 0.0 \n",
      " ratio_refund        | 0.0 \n",
      " avg_ratio_purchase  | 1.0 \n",
      " quantity_1st_period | 4.0 \n",
      " aov                 | 0.0 \n",
      " target              | 1   \n",
      " unigenders_dum      | 0.0 \n",
      "only showing top 1 row\n",
      "\n"
     ]
    }
   ],
   "source": [
    "df_2 = df_2.drop('unigenders')\n",
    "df_2.show(1, vertical=True)"
   ]
  },
  {
   "cell_type": "code",
   "execution_count": 52,
   "id": "f650eb94",
   "metadata": {},
   "outputs": [
    {
     "name": "stdout",
     "output_type": "stream",
     "text": [
      "-RECORD 0------------------\n",
      " num                 | 13  \n",
      " revenue_lastyear    | 0.0 \n",
      " quantity_lastyear   | 0   \n",
      " orders_lastyear     | 0   \n",
      " orders_refund       | 0   \n",
      " ratio_not_dh        | 0.0 \n",
      " ratio_online        | 0.0 \n",
      " ratio_refund        | 0.0 \n",
      " avg_ratio_purchase  | 1.0 \n",
      " quantity_1st_period | 4.0 \n",
      " unigenders          | 1   \n",
      " aov                 | 0.0 \n",
      " target              | 1   \n",
      " feature2_numeric    | 0.0 \n",
      "only showing top 1 row\n",
      "\n"
     ]
    }
   ],
   "source": [
    "# !!!! ПРЕОБРАЗОВАНИЕ КАТ. КОЛОНКИ С 2+ КАТЕГОРИЯМИ!!!! СНАЧАЛА ИНДЕКСИРУЕМ КАТ. КОЛОНКУ ПО КАТЕГОРИЯМ\n",
    "indexed_2 = StringIndexer(inputCol='unigenders',\n",
    "                          outputCol='feature2_numeric').fit(df_1)\n",
    "df_2 = indexed_2.transform(df_1)\n",
    "df_2.show(1, vertical=True)"
   ]
  },
  {
   "cell_type": "code",
   "execution_count": 53,
   "id": "bc2a18fa",
   "metadata": {},
   "outputs": [],
   "source": [
    "# !!!! ПОСЛЕ ИНДЕКСАЦИИ ПРЕОБРАЗУЕМ ЕЁ В МАССИВЫ-ВЕКТОРЫ, КОТОРЫЕ БУДУТ ОПРЕДЕЛЯТЬ КАЖДУЮ КАТЕГОРИЮ!!!!\n",
    "encoder = OneHotEncoder(inputCol='feature2_numeric',\n",
    "                        outputCol=\"unigenders_vector\").fit(df_2)\n",
    "df_3 = encoder.transform(df_2)"
   ]
  },
  {
   "cell_type": "code",
   "execution_count": 55,
   "id": "9ab38370",
   "metadata": {},
   "outputs": [
    {
     "name": "stdout",
     "output_type": "stream",
     "text": [
      "-RECORD 0----------------------------\n",
      " num                 | 13            \n",
      " revenue_lastyear    | 0.0           \n",
      " quantity_lastyear   | 0             \n",
      " orders_lastyear     | 0             \n",
      " orders_refund       | 0             \n",
      " ratio_not_dh        | 0.0           \n",
      " ratio_online        | 0.0           \n",
      " ratio_refund        | 0.0           \n",
      " avg_ratio_purchase  | 1.0           \n",
      " quantity_1st_period | 4.0           \n",
      " aov                 | 0.0           \n",
      " target              | 1             \n",
      " unigenders_vector   | (1,[0],[1.0]) \n",
      "only showing top 1 row\n",
      "\n"
     ]
    }
   ],
   "source": [
    "# дроп уже ненужных колонок\n",
    "df_3 = df_3.drop('unigenders', 'feature2_numeric')\n",
    "df_3.show(1, vertical=True)"
   ]
  },
  {
   "cell_type": "code",
   "execution_count": null,
   "id": "f056aa4d",
   "metadata": {},
   "outputs": [],
   "source": [
    "## ОЧИСТКА ОТ ВЫБРОСОВ, СТАНДАРТИЗАЦИЯ, МАСШТАБИРОВАНИЕ, КАРТА КОРРЕЛЯЦИЙ, РАЗБИВКА, ОБУЧЕНИЕ ML, ОЦЕНКА, FEATURE_IMP"
   ]
  }
 ],
 "metadata": {
  "kernelspec": {
   "display_name": "Python 3 (ipykernel)",
   "language": "python",
   "name": "python3"
  },
  "language_info": {
   "codemirror_mode": {
    "name": "ipython",
    "version": 3
   },
   "file_extension": ".py",
   "mimetype": "text/x-python",
   "name": "python",
   "nbconvert_exporter": "python",
   "pygments_lexer": "ipython3",
   "version": "3.11.1"
  }
 },
 "nbformat": 4,
 "nbformat_minor": 5
}
