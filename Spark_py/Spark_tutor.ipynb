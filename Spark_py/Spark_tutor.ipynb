{
 "cells": [
  {
   "cell_type": "code",
   "execution_count": 8,
   "id": "1408d453",
   "metadata": {},
   "outputs": [],
   "source": [
    "from pyspark.sql import SparkSession\n",
    "import pyspark.sql.functions as F\n",
    "import pyspark.sql.types as t"
   ]
  },
  {
   "cell_type": "code",
   "execution_count": 2,
   "id": "d99aed08",
   "metadata": {},
   "outputs": [],
   "source": [
    "spark = SparkSession.builder.getOrCreate()"
   ]
  },
  {
   "cell_type": "code",
   "execution_count": 3,
   "id": "4e479d9b",
   "metadata": {},
   "outputs": [
    {
     "data": {
      "text/html": [
       "\n",
       "            <div>\n",
       "                <p><b>SparkSession - in-memory</b></p>\n",
       "                \n",
       "        <div>\n",
       "            <p><b>SparkContext</b></p>\n",
       "\n",
       "            <p><a href=\"http://DESKTOP-JTBMDQG:4040\">Spark UI</a></p>\n",
       "\n",
       "            <dl>\n",
       "              <dt>Version</dt>\n",
       "                <dd><code>v3.3.2</code></dd>\n",
       "              <dt>Master</dt>\n",
       "                <dd><code>local[*]</code></dd>\n",
       "              <dt>AppName</dt>\n",
       "                <dd><code>pyspark-shell</code></dd>\n",
       "            </dl>\n",
       "        </div>\n",
       "        \n",
       "            </div>\n",
       "        "
      ],
      "text/plain": [
       "<pyspark.sql.session.SparkSession at 0x16edc1a2550>"
      ]
     },
     "execution_count": 3,
     "metadata": {},
     "output_type": "execute_result"
    }
   ],
   "source": [
    "spark"
   ]
  },
  {
   "cell_type": "code",
   "execution_count": 49,
   "id": "8e906fbf",
   "metadata": {},
   "outputs": [],
   "source": [
    "df = spark.read.format('csv').option('header', 'true').load('C://Users/Uldum/Downloads/clustering_test_work.csv')"
   ]
  },
  {
   "cell_type": "code",
   "execution_count": 9,
   "id": "1c1b8b85",
   "metadata": {},
   "outputs": [
    {
     "name": "stdout",
     "output_type": "stream",
     "text": [
      "-RECORD 0--------------------------\n",
      " _c0                 | 0           \n",
      " actual_id           | 12013601421 \n",
      " period_end          | 2021-02-19  \n",
      " num                 | 2           \n",
      " revenue_lastyear    | 17920.0     \n",
      " quantity_lastyear   | 4           \n",
      " orders_lastyear     | 1           \n",
      " orders_refund       | 0           \n",
      " ratio_not_dh        | 1.0         \n",
      " ratio_online        | 1.0         \n",
      " ratio_refund        | 0.0         \n",
      " avg_ratio_purchase  | 0.8         \n",
      " quantity_1st_period | 4.0         \n",
      " unigenders          | 1           \n",
      " recency             | 123         \n",
      " aov                 | 17920.0     \n",
      "-RECORD 1--------------------------\n",
      " _c0                 | 1           \n",
      " actual_id           | 12013601421 \n",
      " period_end          | 2021-04-19  \n",
      " num                 | 3           \n",
      " revenue_lastyear    | 17920.0     \n",
      " quantity_lastyear   | 4           \n",
      " orders_lastyear     | 1           \n",
      " orders_refund       | 0           \n",
      " ratio_not_dh        | 1.0         \n",
      " ratio_online        | 1.0         \n",
      " ratio_refund        | 0.0         \n",
      " avg_ratio_purchase  | 0.8         \n",
      " quantity_1st_period | 4.0         \n",
      " unigenders          | 1           \n",
      " recency             | 182         \n",
      " aov                 | 17920.0     \n",
      "-RECORD 2--------------------------\n",
      " _c0                 | 2           \n",
      " actual_id           | 12013601421 \n",
      " period_end          | 2021-06-19  \n",
      " num                 | 4           \n",
      " revenue_lastyear    | 17920.0     \n",
      " quantity_lastyear   | 4           \n",
      " orders_lastyear     | 1           \n",
      " orders_refund       | 0           \n",
      " ratio_not_dh        | 1.0         \n",
      " ratio_online        | 1.0         \n",
      " ratio_refund        | 0.0         \n",
      " avg_ratio_purchase  | 0.8         \n",
      " quantity_1st_period | 4.0         \n",
      " unigenders          | 1           \n",
      " recency             | 243         \n",
      " aov                 | 17920.0     \n",
      "-RECORD 3--------------------------\n",
      " _c0                 | 3           \n",
      " actual_id           | 12013601421 \n",
      " period_end          | 2021-08-19  \n",
      " num                 | 5           \n",
      " revenue_lastyear    | 17920.0     \n",
      " quantity_lastyear   | 4           \n",
      " orders_lastyear     | 1           \n",
      " orders_refund       | 0           \n",
      " ratio_not_dh        | 1.0         \n",
      " ratio_online        | 1.0         \n",
      " ratio_refund        | 0.0         \n",
      " avg_ratio_purchase  | 0.8         \n",
      " quantity_1st_period | 4.0         \n",
      " unigenders          | 1           \n",
      " recency             | 304         \n",
      " aov                 | 17920.0     \n",
      "-RECORD 4--------------------------\n",
      " _c0                 | 4           \n",
      " actual_id           | 12013601421 \n",
      " period_end          | 2021-10-19  \n",
      " num                 | 6           \n",
      " revenue_lastyear    | 17920.0     \n",
      " quantity_lastyear   | 4           \n",
      " orders_lastyear     | 1           \n",
      " orders_refund       | 0           \n",
      " ratio_not_dh        | 1.0         \n",
      " ratio_online        | 1.0         \n",
      " ratio_refund        | 0.0         \n",
      " avg_ratio_purchase  | 0.8         \n",
      " quantity_1st_period | 4.0         \n",
      " unigenders          | 1           \n",
      " recency             | 365         \n",
      " aov                 | 17920.0     \n",
      "-RECORD 5--------------------------\n",
      " _c0                 | 5           \n",
      " actual_id           | 12013601421 \n",
      " period_end          | 2021-12-19  \n",
      " num                 | 7           \n",
      " revenue_lastyear    | 0.0         \n",
      " quantity_lastyear   | 0           \n",
      " orders_lastyear     | 0           \n",
      " orders_refund       | 0           \n",
      " ratio_not_dh        | 0.0         \n",
      " ratio_online        | 0.0         \n",
      " ratio_refund        | 0.0         \n",
      " avg_ratio_purchase  | 1.0         \n",
      " quantity_1st_period | 4.0         \n",
      " unigenders          | 1           \n",
      " recency             | 426         \n",
      " aov                 | 0.0         \n",
      "-RECORD 6--------------------------\n",
      " _c0                 | 6           \n",
      " actual_id           | 12013601421 \n",
      " period_end          | 2022-02-19  \n",
      " num                 | 8           \n",
      " revenue_lastyear    | 0.0         \n",
      " quantity_lastyear   | 0           \n",
      " orders_lastyear     | 0           \n",
      " orders_refund       | 0           \n",
      " ratio_not_dh        | 0.0         \n",
      " ratio_online        | 0.0         \n",
      " ratio_refund        | 0.0         \n",
      " avg_ratio_purchase  | 1.0         \n",
      " quantity_1st_period | 4.0         \n",
      " unigenders          | 1           \n",
      " recency             | 488         \n",
      " aov                 | 0.0         \n",
      "-RECORD 7--------------------------\n",
      " _c0                 | 7           \n",
      " actual_id           | 12013601421 \n",
      " period_end          | 2022-04-19  \n",
      " num                 | 9           \n",
      " revenue_lastyear    | 0.0         \n",
      " quantity_lastyear   | 0           \n",
      " orders_lastyear     | 0           \n",
      " orders_refund       | 0           \n",
      " ratio_not_dh        | 0.0         \n",
      " ratio_online        | 0.0         \n",
      " ratio_refund        | 0.0         \n",
      " avg_ratio_purchase  | 1.0         \n",
      " quantity_1st_period | 4.0         \n",
      " unigenders          | 1           \n",
      " recency             | 547         \n",
      " aov                 | 0.0         \n",
      "-RECORD 8--------------------------\n",
      " _c0                 | 8           \n",
      " actual_id           | 12013601421 \n",
      " period_end          | 2022-06-19  \n",
      " num                 | 10          \n",
      " revenue_lastyear    | 0.0         \n",
      " quantity_lastyear   | 0           \n",
      " orders_lastyear     | 0           \n",
      " orders_refund       | 0           \n",
      " ratio_not_dh        | 0.0         \n",
      " ratio_online        | 0.0         \n",
      " ratio_refund        | 0.0         \n",
      " avg_ratio_purchase  | 1.0         \n",
      " quantity_1st_period | 4.0         \n",
      " unigenders          | 1           \n",
      " recency             | 608         \n",
      " aov                 | 0.0         \n",
      "-RECORD 9--------------------------\n",
      " _c0                 | 9           \n",
      " actual_id           | 12013601421 \n",
      " period_end          | 2022-08-19  \n",
      " num                 | 11          \n",
      " revenue_lastyear    | 0.0         \n",
      " quantity_lastyear   | 0           \n",
      " orders_lastyear     | 0           \n",
      " orders_refund       | 0           \n",
      " ratio_not_dh        | 0.0         \n",
      " ratio_online        | 0.0         \n",
      " ratio_refund        | 0.0         \n",
      " avg_ratio_purchase  | 1.0         \n",
      " quantity_1st_period | 4.0         \n",
      " unigenders          | 1           \n",
      " recency             | 669         \n",
      " aov                 | 0.0         \n",
      "-RECORD 10-------------------------\n",
      " _c0                 | 10          \n",
      " actual_id           | 12013601421 \n",
      " period_end          | 2022-10-19  \n",
      " num                 | 12          \n",
      " revenue_lastyear    | 0.0         \n",
      " quantity_lastyear   | 0           \n",
      " orders_lastyear     | 0           \n",
      " orders_refund       | 0           \n",
      " ratio_not_dh        | 0.0         \n",
      " ratio_online        | 0.0         \n",
      " ratio_refund        | 0.0         \n",
      " avg_ratio_purchase  | 1.0         \n",
      " quantity_1st_period | 4.0         \n",
      " unigenders          | 1           \n",
      " recency             | 730         \n",
      " aov                 | 0.0         \n",
      "-RECORD 11-------------------------\n",
      " _c0                 | 11          \n",
      " actual_id           | 12013601421 \n",
      " period_end          | 2022-12-07  \n",
      " num                 | 13          \n",
      " revenue_lastyear    | 0.0         \n",
      " quantity_lastyear   | 0           \n",
      " orders_lastyear     | 0           \n",
      " orders_refund       | 0           \n",
      " ratio_not_dh        | 0.0         \n",
      " ratio_online        | 0.0         \n",
      " ratio_refund        | 0.0         \n",
      " avg_ratio_purchase  | 1.0         \n",
      " quantity_1st_period | 4.0         \n",
      " unigenders          | 1           \n",
      " recency             | 779         \n",
      " aov                 | 0.0         \n",
      "-RECORD 12-------------------------\n",
      " _c0                 | 12          \n",
      " actual_id           | 12013960666 \n",
      " period_end          | 2022-05-02  \n",
      " num                 | 2           \n",
      " revenue_lastyear    | 27960.0     \n",
      " quantity_lastyear   | 2           \n",
      " orders_lastyear     | 1           \n",
      " orders_refund       | 0           \n",
      " ratio_not_dh        | 1.0         \n",
      " ratio_online        | 0.0         \n",
      " ratio_refund        | 0.0         \n",
      " avg_ratio_purchase  | 1.0         \n",
      " quantity_1st_period | 2.0         \n",
      " unigenders          | 1           \n",
      " recency             | 120         \n",
      " aov                 | 27960.0     \n",
      "-RECORD 13-------------------------\n",
      " _c0                 | 13          \n",
      " actual_id           | 12013960666 \n",
      " period_end          | 2022-07-02  \n",
      " num                 | 3           \n",
      " revenue_lastyear    | 27960.0     \n",
      " quantity_lastyear   | 2           \n",
      " orders_lastyear     | 1           \n",
      " orders_refund       | 0           \n",
      " ratio_not_dh        | 1.0         \n",
      " ratio_online        | 0.0         \n",
      " ratio_refund        | 0.0         \n",
      " avg_ratio_purchase  | 1.0         \n",
      " quantity_1st_period | 2.0         \n",
      " unigenders          | 1           \n",
      " recency             | 181         \n",
      " aov                 | 27960.0     \n",
      "-RECORD 14-------------------------\n",
      " _c0                 | 14          \n",
      " actual_id           | 12013960666 \n",
      " period_end          | 2022-09-02  \n",
      " num                 | 4           \n",
      " revenue_lastyear    | 27960.0     \n",
      " quantity_lastyear   | 2           \n",
      " orders_lastyear     | 1           \n",
      " orders_refund       | 0           \n",
      " ratio_not_dh        | 1.0         \n",
      " ratio_online        | 0.0         \n",
      " ratio_refund        | 0.0         \n",
      " avg_ratio_purchase  | 1.0         \n",
      " quantity_1st_period | 2.0         \n",
      " unigenders          | 1           \n",
      " recency             | 243         \n",
      " aov                 | 27960.0     \n",
      "-RECORD 15-------------------------\n",
      " _c0                 | 15          \n",
      " actual_id           | 12013960666 \n",
      " period_end          | 2022-11-02  \n",
      " num                 | 5           \n",
      " revenue_lastyear    | 27960.0     \n",
      " quantity_lastyear   | 2           \n",
      " orders_lastyear     | 1           \n",
      " orders_refund       | 0           \n",
      " ratio_not_dh        | 1.0         \n",
      " ratio_online        | 0.0         \n",
      " ratio_refund        | 0.0         \n",
      " avg_ratio_purchase  | 1.0         \n",
      " quantity_1st_period | 2.0         \n",
      " unigenders          | 1           \n",
      " recency             | 304         \n",
      " aov                 | 27960.0     \n",
      "-RECORD 16-------------------------\n",
      " _c0                 | 16          \n",
      " actual_id           | 12013960666 \n",
      " period_end          | 2022-12-07  \n",
      " num                 | 6           \n",
      " revenue_lastyear    | 27960.0     \n",
      " quantity_lastyear   | 2           \n",
      " orders_lastyear     | 1           \n",
      " orders_refund       | 0           \n",
      " ratio_not_dh        | 1.0         \n",
      " ratio_online        | 0.0         \n",
      " ratio_refund        | 0.0         \n",
      " avg_ratio_purchase  | 1.0         \n",
      " quantity_1st_period | 2.0         \n",
      " unigenders          | 1           \n",
      " recency             | 339         \n",
      " aov                 | 27960.0     \n",
      "-RECORD 17-------------------------\n",
      " _c0                 | 17          \n",
      " actual_id           | 12019257700 \n",
      " period_end          | 2022-03-19  \n",
      " num                 | 2           \n",
      " revenue_lastyear    | 27900.0     \n",
      " quantity_lastyear   | 5           \n",
      " orders_lastyear     | 1           \n",
      " orders_refund       | 0           \n",
      " ratio_not_dh        | 1.0         \n",
      " ratio_online        | 0.0         \n",
      " ratio_refund        | 0.0         \n",
      " avg_ratio_purchase  | 1.0         \n",
      " quantity_1st_period | 5.0         \n",
      " unigenders          | 1           \n",
      " recency             | 120         \n",
      " aov                 | 27900.0     \n",
      "-RECORD 18-------------------------\n",
      " _c0                 | 18          \n",
      " actual_id           | 12019257700 \n",
      " period_end          | 2022-05-19  \n",
      " num                 | 3           \n",
      " revenue_lastyear    | 27900.0     \n",
      " quantity_lastyear   | 5           \n",
      " orders_lastyear     | 1           \n",
      " orders_refund       | 0           \n",
      " ratio_not_dh        | 1.0         \n",
      " ratio_online        | 0.0         \n",
      " ratio_refund        | 0.0         \n",
      " avg_ratio_purchase  | 1.0         \n",
      " quantity_1st_period | 5.0         \n",
      " unigenders          | 1           \n",
      " recency             | 181         \n",
      " aov                 | 27900.0     \n",
      "-RECORD 19-------------------------\n",
      " _c0                 | 19          \n",
      " actual_id           | 12019257700 \n",
      " period_end          | 2022-07-19  \n",
      " num                 | 4           \n",
      " revenue_lastyear    | 27900.0     \n",
      " quantity_lastyear   | 5           \n",
      " orders_lastyear     | 1           \n",
      " orders_refund       | 0           \n",
      " ratio_not_dh        | 1.0         \n",
      " ratio_online        | 0.0         \n",
      " ratio_refund        | 0.0         \n",
      " avg_ratio_purchase  | 1.0         \n",
      " quantity_1st_period | 5.0         \n",
      " unigenders          | 1           \n",
      " recency             | 242         \n",
      " aov                 | 27900.0     \n",
      "only showing top 20 rows\n",
      "\n"
     ]
    }
   ],
   "source": [
    "df.show(vertical=True)"
   ]
  },
  {
   "cell_type": "code",
   "execution_count": 18,
   "id": "5d5745a3",
   "metadata": {},
   "outputs": [
    {
     "name": "stdout",
     "output_type": "stream",
     "text": [
      "+-----------+----------+\n",
      "|  actual_id|period_end|\n",
      "+-----------+----------+\n",
      "|12013601421|2021-02-19|\n",
      "|12013601421|2021-04-19|\n",
      "|12013601421|2021-06-19|\n",
      "|12013601421|2021-08-19|\n",
      "|12013601421|2021-10-19|\n",
      "+-----------+----------+\n",
      "only showing top 5 rows\n",
      "\n"
     ]
    }
   ],
   "source": [
    "df.select(df['actual_id'], df['period_end']).show(5)"
   ]
  },
  {
   "cell_type": "code",
   "execution_count": 19,
   "id": "108d1bd6",
   "metadata": {},
   "outputs": [
    {
     "name": "stdout",
     "output_type": "stream",
     "text": [
      "+-----------+----------+\n",
      "|  actual_id|period_end|\n",
      "+-----------+----------+\n",
      "|12013601421|2021-02-19|\n",
      "|12013601421|2021-04-19|\n",
      "|12013601421|2021-06-19|\n",
      "|12013601421|2021-08-19|\n",
      "|12013601421|2021-10-19|\n",
      "+-----------+----------+\n",
      "only showing top 5 rows\n",
      "\n"
     ]
    }
   ],
   "source": [
    "df.select(F.col('actual_id'), F.col('period_end')).show(5)"
   ]
  },
  {
   "cell_type": "code",
   "execution_count": 6,
   "id": "11843334",
   "metadata": {},
   "outputs": [
    {
     "name": "stdout",
     "output_type": "stream",
     "text": [
      "+-----------+----------+-------+\n",
      "|  actual_id|period_end|    aov|\n",
      "+-----------+----------+-------+\n",
      "|12013960666|2022-12-07|27960.0|\n",
      "|12063704219|2022-12-07|10960.0|\n",
      "|12068234221|2022-12-07| 7480.0|\n",
      "|12069928477|2022-12-07|24960.0|\n",
      "|12124564545|2022-12-07|15980.0|\n",
      "+-----------+----------+-------+\n",
      "only showing top 5 rows\n",
      "\n"
     ]
    }
   ],
   "source": [
    "param = 0\n",
    "\n",
    "subq = df.select(F.col('actual_id'), F.col('period_end'), F.col('aov')).filter(F.col('period_end') == \"2022-12-07\")\\\n",
    ".filter(F.col('aov') > param)\n",
    "subq.show(5)"
   ]
  },
  {
   "cell_type": "code",
   "execution_count": 34,
   "id": "96ade3df",
   "metadata": {},
   "outputs": [
    {
     "data": {
      "text/plain": [
       "2247574"
      ]
     },
     "execution_count": 34,
     "metadata": {},
     "output_type": "execute_result"
    }
   ],
   "source": [
    "df.count()"
   ]
  },
  {
   "cell_type": "code",
   "execution_count": 41,
   "id": "74649ce1",
   "metadata": {},
   "outputs": [
    {
     "data": {
      "text/plain": [
       "690"
      ]
     },
     "execution_count": 41,
     "metadata": {},
     "output_type": "execute_result"
    }
   ],
   "source": [
    "df.select(F.col('period_end')).distinct().count()"
   ]
  },
  {
   "cell_type": "code",
   "execution_count": 48,
   "id": "d989d118",
   "metadata": {},
   "outputs": [
    {
     "name": "stdout",
     "output_type": "stream",
     "text": [
      "+-----------+-----+\n",
      "|  actual_id|count|\n",
      "+-----------+-----+\n",
      "|77017121940|   13|\n",
      "|77077711717|   13|\n",
      "+-----------+-----+\n",
      "only showing top 2 rows\n",
      "\n"
     ]
    }
   ],
   "source": [
    "df.groupby('actual_id').count().orderBy(F.col('count').desc()).show(2)"
   ]
  },
  {
   "cell_type": "code",
   "execution_count": 49,
   "id": "b1fbf35d",
   "metadata": {},
   "outputs": [
    {
     "name": "stdout",
     "output_type": "stream",
     "text": [
      "+------+\n",
      "|row_id|\n",
      "+------+\n",
      "|     0|\n",
      "|     1|\n",
      "|     2|\n",
      "|     3|\n",
      "+------+\n",
      "only showing top 4 rows\n",
      "\n"
     ]
    }
   ],
   "source": [
    "df.withColumnRenamed('_c0', 'row_id').select('row_id').show(4)"
   ]
  },
  {
   "cell_type": "code",
   "execution_count": 51,
   "id": "ae9b6ee4",
   "metadata": {},
   "outputs": [
    {
     "name": "stdout",
     "output_type": "stream",
     "text": [
      "+---+------+\n",
      "|_c0|row_id|\n",
      "+---+------+\n",
      "|  0|   1.0|\n",
      "|  1|   2.0|\n",
      "|  2|   3.0|\n",
      "|  3|   4.0|\n",
      "|  4|   5.0|\n",
      "+---+------+\n",
      "only showing top 5 rows\n",
      "\n"
     ]
    }
   ],
   "source": [
    "df.withColumn('row_id', F.col('_c0')+1).select('_c0', 'row_id').show(5)"
   ]
  },
  {
   "cell_type": "code",
   "execution_count": 52,
   "id": "7e818fcc",
   "metadata": {},
   "outputs": [
    {
     "name": "stdout",
     "output_type": "stream",
     "text": [
      "root\n",
      " |-- _c0: string (nullable = true)\n",
      " |-- actual_id: string (nullable = true)\n",
      " |-- period_end: string (nullable = true)\n",
      " |-- num: string (nullable = true)\n",
      " |-- revenue_lastyear: string (nullable = true)\n",
      " |-- quantity_lastyear: string (nullable = true)\n",
      " |-- orders_lastyear: string (nullable = true)\n",
      " |-- orders_refund: string (nullable = true)\n",
      " |-- ratio_not_dh: string (nullable = true)\n",
      " |-- ratio_online: string (nullable = true)\n",
      " |-- ratio_refund: string (nullable = true)\n",
      " |-- avg_ratio_purchase: string (nullable = true)\n",
      " |-- quantity_1st_period: string (nullable = true)\n",
      " |-- unigenders: string (nullable = true)\n",
      " |-- recency: string (nullable = true)\n",
      " |-- aov: string (nullable = true)\n",
      "\n"
     ]
    }
   ],
   "source": [
    "df.printSchema()"
   ]
  },
  {
   "cell_type": "code",
   "execution_count": 7,
   "id": "64a92fc2",
   "metadata": {},
   "outputs": [
    {
     "name": "stdout",
     "output_type": "stream",
     "text": [
      "+-------+--------------------+----------+------------------+\n",
      "|summary|           actual_id|period_end|               aov|\n",
      "+-------+--------------------+----------+------------------+\n",
      "|  count|              182745|    182745|            182745|\n",
      "|   mean|3.476121477177607...|      null|15283.717338808337|\n",
      "| stddev|7.082808410889412E13|      null|13092.503945192891|\n",
      "|    min|         12013960666|2022-12-07|            1000.0|\n",
      "|    max|        998998908989|2022-12-07| 9999.833333333334|\n",
      "+-------+--------------------+----------+------------------+\n",
      "\n"
     ]
    }
   ],
   "source": [
    "subq.describe().show()"
   ]
  },
  {
   "cell_type": "code",
   "execution_count": 54,
   "id": "623804c4",
   "metadata": {},
   "outputs": [],
   "source": [
    "spark.stop()"
   ]
  },
  {
   "cell_type": "code",
   "execution_count": 50,
   "id": "2737b6ef",
   "metadata": {},
   "outputs": [
    {
     "name": "stdout",
     "output_type": "stream",
     "text": [
      "25156\n",
      "+----------+-----+-------+---------+------+\n",
      "|unigenders|Count|    Avg|      Sum|   Max|\n",
      "+----------+-----+-------+---------+------+\n",
      "|         1|24394|13071.0|318856956|228640|\n",
      "|         2|  762|17975.0| 13697243|235660|\n",
      "+----------+-----+-------+---------+------+\n",
      "\n",
      "None\n"
     ]
    }
   ],
   "source": [
    "def main():\n",
    "    SparkSession.builder.getOrCreate()\n",
    "    df = spark.read.format('csv').option('header', 'true').load('C://Users/Uldum/Downloads/clustering_test_work.csv')\n",
    "    prechurn = (\n",
    "        df.filter(F.col('period_end') == '2022-12-07')\n",
    "        .filter(F.col('recency') <= 365)\n",
    "        .filter(F.col('recency') > 300)\n",
    "    )\n",
    "    \n",
    "    out = (\n",
    "        prechurn\n",
    "        .groupBy('unigenders')\n",
    "        .agg(\n",
    "            F.count('actual_id').alias('Count'),\n",
    "            F.round(F.avg(F.col('aov').cast(t.IntegerType()))).alias('Avg'),\n",
    "            F.round(F.sum(F.col('aov').cast(t.IntegerType()))).alias('Sum'),\n",
    "            F.max(F.col('aov').cast(t.IntegerType())).alias('Max')\n",
    "        )\n",
    "            \n",
    "    )\n",
    "\n",
    "    print(prechurn.select(F.col('actual_id')).distinct().count())\n",
    "    print(out.show(5))\n",
    "    prechurn.coalesce(1).write.format('csv').save('mycsv.csv')\n",
    "    \n",
    "main()"
   ]
  },
  {
   "cell_type": "code",
   "execution_count": null,
   "id": "d1ed59f9",
   "metadata": {},
   "outputs": [],
   "source": []
  }
 ],
 "metadata": {
  "kernelspec": {
   "display_name": "Python 3 (ipykernel)",
   "language": "python",
   "name": "python3"
  },
  "language_info": {
   "codemirror_mode": {
    "name": "ipython",
    "version": 3
   },
   "file_extension": ".py",
   "mimetype": "text/x-python",
   "name": "python",
   "nbconvert_exporter": "python",
   "pygments_lexer": "ipython3",
   "version": "3.11.1"
  }
 },
 "nbformat": 4,
 "nbformat_minor": 5
}
