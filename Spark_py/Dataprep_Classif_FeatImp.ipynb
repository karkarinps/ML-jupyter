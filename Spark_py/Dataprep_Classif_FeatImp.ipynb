{
 "cells": [
  {
   "cell_type": "code",
   "execution_count": 2,
   "id": "cb56d3f8",
   "metadata": {},
   "outputs": [],
   "source": [
    "import seaborn as sns\n",
    "from pyspark.ml.feature import StringIndexer, OneHotEncoder\n",
    "from pyspark.sql import SparkSession\n",
    "import pyspark.sql.functions as F\n",
    "import pyspark.sql.types as t\n",
    "from pyspark.ml.stat import Correlation\n",
    "from pyspark.ml.feature import VectorAssembler\n",
    "import matplotlib.pyplot as plt\n",
    "from sklearn.preprocessing import StandardScaler, normalize\n",
    "from pyspark.ml.linalg import Vectors\n",
    "from pyspark.ml.feature import VectorAssembler\n",
    "from pyspark.ml.feature import StandardScaler\n",
    "from pyspark.ml.feature import StringIndexer, VectorIndexer\n",
    "from pyspark.ml.classification import GBTClassifier\n",
    "from pyspark.ml import Pipeline\n",
    "from pyspark.ml.evaluation import MulticlassClassificationEvaluator\n",
    "from pyspark.ml.evaluation import BinaryClassificationEvaluator"
   ]
  },
  {
   "cell_type": "code",
   "execution_count": 3,
   "id": "d99aed08",
   "metadata": {},
   "outputs": [],
   "source": [
    "# инициализируем спарк-сессию\n",
    "spark = SparkSession.builder.getOrCreate()"
   ]
  },
  {
   "cell_type": "code",
   "execution_count": 3,
   "id": "4e479d9b",
   "metadata": {},
   "outputs": [
    {
     "data": {
      "text/html": [
       "\n",
       "            <div>\n",
       "                <p><b>SparkSession - in-memory</b></p>\n",
       "                \n",
       "        <div>\n",
       "            <p><b>SparkContext</b></p>\n",
       "\n",
       "            <p><a href=\"http://DESKTOP-JTBMDQG:4040\">Spark UI</a></p>\n",
       "\n",
       "            <dl>\n",
       "              <dt>Version</dt>\n",
       "                <dd><code>v3.3.2</code></dd>\n",
       "              <dt>Master</dt>\n",
       "                <dd><code>local[*]</code></dd>\n",
       "              <dt>AppName</dt>\n",
       "                <dd><code>pyspark-shell</code></dd>\n",
       "            </dl>\n",
       "        </div>\n",
       "        \n",
       "            </div>\n",
       "        "
      ],
      "text/plain": [
       "<pyspark.sql.session.SparkSession at 0x17b5d773dd0>"
      ]
     },
     "execution_count": 3,
     "metadata": {},
     "output_type": "execute_result"
    }
   ],
   "source": [
    "spark"
   ]
  },
  {
   "cell_type": "code",
   "execution_count": 3,
   "id": "8e906fbf",
   "metadata": {},
   "outputs": [],
   "source": [
    "# читаем файл со схемой для правильной загрузки типов данных\n",
    "df = spark.read.format('csv').option('header', 'true').load('C://Users/Uldum/Downloads/clustering_test_work.csv', inferSchema =True)"
   ]
  },
  {
   "cell_type": "code",
   "execution_count": 11,
   "id": "1c1b8b85",
   "metadata": {},
   "outputs": [
    {
     "name": "stdout",
     "output_type": "stream",
     "text": [
      "-RECORD 0----------------------------------\n",
      " _c0                 | 0                   \n",
      " actual_id           | 12013601421         \n",
      " period_end          | 2021-02-19 00:00:00 \n",
      " num                 | 2                   \n",
      " revenue_lastyear    | 17920.0             \n",
      " quantity_lastyear   | 4                   \n",
      " orders_lastyear     | 1                   \n",
      " orders_refund       | 0                   \n",
      " ratio_not_dh        | 1.0                 \n",
      " ratio_online        | 1.0                 \n",
      " ratio_refund        | 0.0                 \n",
      " avg_ratio_purchase  | 0.8                 \n",
      " quantity_1st_period | 4.0                 \n",
      " unigenders          | 1                   \n",
      " recency             | 123                 \n",
      " aov                 | 17920.0             \n",
      "-RECORD 1----------------------------------\n",
      " _c0                 | 1                   \n",
      " actual_id           | 12013601421         \n",
      " period_end          | 2021-04-19 00:00:00 \n",
      " num                 | 3                   \n",
      " revenue_lastyear    | 17920.0             \n",
      " quantity_lastyear   | 4                   \n",
      " orders_lastyear     | 1                   \n",
      " orders_refund       | 0                   \n",
      " ratio_not_dh        | 1.0                 \n",
      " ratio_online        | 1.0                 \n",
      " ratio_refund        | 0.0                 \n",
      " avg_ratio_purchase  | 0.8                 \n",
      " quantity_1st_period | 4.0                 \n",
      " unigenders          | 1                   \n",
      " recency             | 182                 \n",
      " aov                 | 17920.0             \n",
      "only showing top 2 rows\n",
      "\n"
     ]
    }
   ],
   "source": [
    "df.show(2, vertical=True)"
   ]
  },
  {
   "cell_type": "code",
   "execution_count": 19,
   "id": "108d1bd6",
   "metadata": {},
   "outputs": [
    {
     "name": "stdout",
     "output_type": "stream",
     "text": [
      "+-----------+----------+\n",
      "|  actual_id|period_end|\n",
      "+-----------+----------+\n",
      "|12013601421|2021-02-19|\n",
      "|12013601421|2021-04-19|\n",
      "|12013601421|2021-06-19|\n",
      "|12013601421|2021-08-19|\n",
      "|12013601421|2021-10-19|\n",
      "+-----------+----------+\n",
      "only showing top 5 rows\n",
      "\n"
     ]
    }
   ],
   "source": [
    "df.select(F.col('actual_id'), F.col('period_end')).show(5)"
   ]
  },
  {
   "cell_type": "code",
   "execution_count": 6,
   "id": "11843334",
   "metadata": {},
   "outputs": [
    {
     "name": "stdout",
     "output_type": "stream",
     "text": [
      "+-----------+----------+-------+\n",
      "|  actual_id|period_end|    aov|\n",
      "+-----------+----------+-------+\n",
      "|12013960666|2022-12-07|27960.0|\n",
      "|12063704219|2022-12-07|10960.0|\n",
      "|12068234221|2022-12-07| 7480.0|\n",
      "|12069928477|2022-12-07|24960.0|\n",
      "|12124564545|2022-12-07|15980.0|\n",
      "+-----------+----------+-------+\n",
      "only showing top 5 rows\n",
      "\n"
     ]
    }
   ],
   "source": [
    "# подзапрос с фильтрацией\n",
    "param = 0\n",
    "\n",
    "subq = df.select(F.col('actual_id'), F.col('period_end'), F.col('aov')).filter(F.col('period_end') == \"2022-12-07\")\\\n",
    ".filter(F.col('aov') > param)\n",
    "subq.show(5)"
   ]
  },
  {
   "cell_type": "code",
   "execution_count": 34,
   "id": "96ade3df",
   "metadata": {},
   "outputs": [
    {
     "data": {
      "text/plain": [
       "2247574"
      ]
     },
     "execution_count": 34,
     "metadata": {},
     "output_type": "execute_result"
    }
   ],
   "source": [
    "# подсчёт строк в датафрейме\n",
    "df.count()"
   ]
  },
  {
   "cell_type": "code",
   "execution_count": 41,
   "id": "74649ce1",
   "metadata": {},
   "outputs": [
    {
     "data": {
      "text/plain": [
       "690"
      ]
     },
     "execution_count": 41,
     "metadata": {},
     "output_type": "execute_result"
    }
   ],
   "source": [
    "# подсчёт различных значений в столбце\n",
    "df.select(F.col('period_end')).distinct().count()"
   ]
  },
  {
   "cell_type": "code",
   "execution_count": 19,
   "id": "d989d118",
   "metadata": {},
   "outputs": [
    {
     "name": "stdout",
     "output_type": "stream",
     "text": [
      "+-----------+-----+\n",
      "|  actual_id|count|\n",
      "+-----------+-----+\n",
      "|77017111445|   13|\n",
      "|79029403830|   13|\n",
      "+-----------+-----+\n",
      "only showing top 2 rows\n",
      "\n"
     ]
    }
   ],
   "source": [
    "# группировка по значению в столбце с подсчётом вхождений каждого значения\n",
    "df.groupby('actual_id').count().orderBy(F.col('count').desc()).show(2)"
   ]
  },
  {
   "cell_type": "code",
   "execution_count": 49,
   "id": "b1fbf35d",
   "metadata": {},
   "outputs": [
    {
     "name": "stdout",
     "output_type": "stream",
     "text": [
      "+------+\n",
      "|row_id|\n",
      "+------+\n",
      "|     0|\n",
      "|     1|\n",
      "|     2|\n",
      "|     3|\n",
      "+------+\n",
      "only showing top 4 rows\n",
      "\n"
     ]
    }
   ],
   "source": [
    "# переименование колонки\n",
    "df.withColumnRenamed('_c0', 'row_id').select('row_id').show(4)"
   ]
  },
  {
   "cell_type": "code",
   "execution_count": 51,
   "id": "ae9b6ee4",
   "metadata": {},
   "outputs": [
    {
     "name": "stdout",
     "output_type": "stream",
     "text": [
      "+---+------+\n",
      "|_c0|row_id|\n",
      "+---+------+\n",
      "|  0|   1.0|\n",
      "|  1|   2.0|\n",
      "|  2|   3.0|\n",
      "|  3|   4.0|\n",
      "|  4|   5.0|\n",
      "+---+------+\n",
      "only showing top 5 rows\n",
      "\n"
     ]
    }
   ],
   "source": [
    "# создание новой колонки по старой\n",
    "df.withColumn('row_id', F.col('_c0')+1).select('_c0', 'row_id').show(5)"
   ]
  },
  {
   "cell_type": "code",
   "execution_count": 8,
   "id": "7e818fcc",
   "metadata": {},
   "outputs": [
    {
     "name": "stdout",
     "output_type": "stream",
     "text": [
      "root\n",
      " |-- _c0: integer (nullable = true)\n",
      " |-- actual_id: long (nullable = true)\n",
      " |-- period_end: timestamp (nullable = true)\n",
      " |-- num: integer (nullable = true)\n",
      " |-- revenue_lastyear: double (nullable = true)\n",
      " |-- quantity_lastyear: integer (nullable = true)\n",
      " |-- orders_lastyear: integer (nullable = true)\n",
      " |-- orders_refund: integer (nullable = true)\n",
      " |-- ratio_not_dh: double (nullable = true)\n",
      " |-- ratio_online: double (nullable = true)\n",
      " |-- ratio_refund: double (nullable = true)\n",
      " |-- avg_ratio_purchase: double (nullable = true)\n",
      " |-- quantity_1st_period: double (nullable = true)\n",
      " |-- unigenders: integer (nullable = true)\n",
      " |-- recency: integer (nullable = true)\n",
      " |-- aov: double (nullable = true)\n",
      "\n"
     ]
    }
   ],
   "source": [
    "# схема дф\n",
    "df.printSchema()"
   ]
  },
  {
   "cell_type": "code",
   "execution_count": 7,
   "id": "64a92fc2",
   "metadata": {},
   "outputs": [
    {
     "name": "stdout",
     "output_type": "stream",
     "text": [
      "+-------+--------------------+----------+------------------+\n",
      "|summary|           actual_id|period_end|               aov|\n",
      "+-------+--------------------+----------+------------------+\n",
      "|  count|              182745|    182745|            182745|\n",
      "|   mean|3.476121477177607...|      null|15283.717338808337|\n",
      "| stddev|7.082808410889412E13|      null|13092.503945192891|\n",
      "|    min|         12013960666|2022-12-07|            1000.0|\n",
      "|    max|        998998908989|2022-12-07| 9999.833333333334|\n",
      "+-------+--------------------+----------+------------------+\n",
      "\n"
     ]
    }
   ],
   "source": [
    "# основные показатели колонок\n",
    "subq.describe().show()"
   ]
  },
  {
   "cell_type": "code",
   "execution_count": 54,
   "id": "623804c4",
   "metadata": {},
   "outputs": [],
   "source": [
    "# остановка спарк-сессии\n",
    "spark.stop()"
   ]
  },
  {
   "cell_type": "code",
   "execution_count": 50,
   "id": "2737b6ef",
   "metadata": {},
   "outputs": [
    {
     "name": "stdout",
     "output_type": "stream",
     "text": [
      "25156\n",
      "+----------+-----+-------+---------+------+\n",
      "|unigenders|Count|    Avg|      Sum|   Max|\n",
      "+----------+-----+-------+---------+------+\n",
      "|         1|24394|13071.0|318856956|228640|\n",
      "|         2|  762|17975.0| 13697243|235660|\n",
      "+----------+-----+-------+---------+------+\n",
      "\n",
      "None\n"
     ]
    }
   ],
   "source": [
    "# небольшая функия-пайплайн с записью файла\n",
    "def main():\n",
    "    SparkSession.builder.getOrCreate()\n",
    "    df = spark.read.format('csv').option('header', 'true').load('C://Users/Uldum/Downloads/clustering_test_work.csv')\n",
    "    prechurn = (\n",
    "        df.filter(F.col('period_end') == '2022-12-07')\n",
    "        .filter(F.col('recency') <= 365)\n",
    "        .filter(F.col('recency') > 300)\n",
    "    )\n",
    "    \n",
    "    out = (\n",
    "        prechurn\n",
    "        .groupBy('unigenders')\n",
    "        .agg(\n",
    "            F.count('actual_id').alias('Count'),\n",
    "            F.round(F.avg(F.col('aov').cast(t.IntegerType()))).alias('Avg'),\n",
    "            F.round(F.sum(F.col('aov').cast(t.IntegerType()))).alias('Sum'),\n",
    "            F.max(F.col('aov').cast(t.IntegerType())).alias('Max')\n",
    "        )\n",
    "            \n",
    "    )\n",
    "\n",
    "    print(prechurn.select(F.col('actual_id')).distinct().count())\n",
    "    print(out.show(5))\n",
    "    prechurn.coalesce(1).write.format('csv').save('mycsv.csv')\n",
    "    \n",
    "main()"
   ]
  },
  {
   "cell_type": "code",
   "execution_count": 4,
   "id": "d1ed59f9",
   "metadata": {},
   "outputs": [
    {
     "name": "stdout",
     "output_type": "stream",
     "text": [
      "-RECORD 0----------------------------------\n",
      " _c0                 | 2671                \n",
      " actual_id           | 2978903284907       \n",
      " period_end          | 2022-12-07 00:00:00 \n",
      " num                 | 9                   \n",
      " revenue_lastyear    | 0.0                 \n",
      " quantity_lastyear   | 0                   \n",
      " orders_lastyear     | 0                   \n",
      " orders_refund       | 0                   \n",
      " ratio_not_dh        | 0.0                 \n",
      " ratio_online        | 0.0                 \n",
      " ratio_refund        | 0.0                 \n",
      " avg_ratio_purchase  | 1.0                 \n",
      " quantity_1st_period | 2.0                 \n",
      " unigenders          | 1                   \n",
      " recency             | 524                 \n",
      " aov                 | 0.0                 \n",
      "-RECORD 1----------------------------------\n",
      " _c0                 | 2677                \n",
      " actual_id           | 2978903311588       \n",
      " period_end          | 2022-12-07 00:00:00 \n",
      " num                 | 7                   \n",
      " revenue_lastyear    | 0.0                 \n",
      " quantity_lastyear   | 0                   \n",
      " orders_lastyear     | 0                   \n",
      " orders_refund       | 0                   \n",
      " ratio_not_dh        | 0.0                 \n",
      " ratio_online        | 0.0                 \n",
      " ratio_refund        | 0.0                 \n",
      " avg_ratio_purchase  | 1.0                 \n",
      " quantity_1st_period | 1.0                 \n",
      " unigenders          | 1                   \n",
      " recency             | 388                 \n",
      " aov                 | 0.0                 \n",
      "only showing top 2 rows\n",
      "\n"
     ]
    }
   ],
   "source": [
    "# фильтрация по значению в колонке, сброс дубликатов строк\n",
    "df_1 = df.filter(F.col('period_end') == '2022-12-07')\n",
    "df_1 = df_1.dropDuplicates()\n",
    "df_1.show(2, vertical=True)"
   ]
  },
  {
   "cell_type": "code",
   "execution_count": 5,
   "id": "f40d0a38",
   "metadata": {},
   "outputs": [
    {
     "name": "stdout",
     "output_type": "stream",
     "text": [
      "-RECORD 0------------------\n",
      " _c0                 | 0   \n",
      " actual_id           | 0   \n",
      " period_end          | 0   \n",
      " num                 | 0   \n",
      " revenue_lastyear    | 0   \n",
      " quantity_lastyear   | 0   \n",
      " orders_lastyear     | 0   \n",
      " orders_refund       | 0   \n",
      " ratio_not_dh        | 0   \n",
      " ratio_online        | 0   \n",
      " ratio_refund        | 0   \n",
      " avg_ratio_purchase  | 0   \n",
      " quantity_1st_period | 0   \n",
      " unigenders          | 0   \n",
      " recency             | 0   \n",
      " aov                 | 0   \n",
      "\n"
     ]
    }
   ],
   "source": [
    "#!!!! ПРОВЕРКА НА НАЛИЧИЕ ПРОПУЩЕННЫХ И НУЛЕВЫХ ЗНАЧЕНИЙ В ДАТАФРЕЙМЕ!!!!\n",
    "df_1.select(*[\n",
    "    (\n",
    "        F.count(F.when((F.isnan(c) | F.col(c).isNull()), c)) if t not in (\"timestamp\", \"date\")\n",
    "        else F.count(F.when(F.col(c).isNull(), c))\n",
    "    ).alias(c)\n",
    "    for c, t in df.dtypes if c in df_1.columns\n",
    "]).show(vertical=True)"
   ]
  },
  {
   "cell_type": "code",
   "execution_count": 5,
   "id": "dc8e9de5",
   "metadata": {},
   "outputs": [],
   "source": [
    "# создание новой колонки (целевой) по другой колонке с заполнением значений по условию\n",
    "df_1 = df_1.withColumn(\"target\", \\\n",
    "              F.when(df_1[\"recency\"] >= 365, 1).otherwise(0))"
   ]
  },
  {
   "cell_type": "code",
   "execution_count": 6,
   "id": "a755ec58",
   "metadata": {},
   "outputs": [
    {
     "name": "stdout",
     "output_type": "stream",
     "text": [
      "-RECORD 0----------------------------------\n",
      " _c0                 | 2671                \n",
      " actual_id           | 2978903284907       \n",
      " period_end          | 2022-12-07 00:00:00 \n",
      " num                 | 9                   \n",
      " revenue_lastyear    | 0.0                 \n",
      " quantity_lastyear   | 0                   \n",
      " orders_lastyear     | 0                   \n",
      " orders_refund       | 0                   \n",
      " ratio_not_dh        | 0.0                 \n",
      " ratio_online        | 0.0                 \n",
      " ratio_refund        | 0.0                 \n",
      " avg_ratio_purchase  | 1.0                 \n",
      " quantity_1st_period | 2.0                 \n",
      " unigenders          | 1                   \n",
      " recency             | 524                 \n",
      " aov                 | 0.0                 \n",
      " target              | 1                   \n",
      "-RECORD 1----------------------------------\n",
      " _c0                 | 2677                \n",
      " actual_id           | 2978903311588       \n",
      " period_end          | 2022-12-07 00:00:00 \n",
      " num                 | 7                   \n",
      " revenue_lastyear    | 0.0                 \n",
      " quantity_lastyear   | 0                   \n",
      " orders_lastyear     | 0                   \n",
      " orders_refund       | 0                   \n",
      " ratio_not_dh        | 0.0                 \n",
      " ratio_online        | 0.0                 \n",
      " ratio_refund        | 0.0                 \n",
      " avg_ratio_purchase  | 1.0                 \n",
      " quantity_1st_period | 1.0                 \n",
      " unigenders          | 1                   \n",
      " recency             | 388                 \n",
      " aov                 | 0.0                 \n",
      " target              | 1                   \n",
      "only showing top 2 rows\n",
      "\n"
     ]
    }
   ],
   "source": [
    "df_1.show(2, vertical=True)"
   ]
  },
  {
   "cell_type": "code",
   "execution_count": 7,
   "id": "c4ec46ea",
   "metadata": {},
   "outputs": [
    {
     "name": "stdout",
     "output_type": "stream",
     "text": [
      "-RECORD 0------------------\n",
      " num                 | 9   \n",
      " revenue_lastyear    | 0.0 \n",
      " quantity_lastyear   | 0   \n",
      " orders_lastyear     | 0   \n",
      " orders_refund       | 0   \n",
      " ratio_not_dh        | 0.0 \n",
      " ratio_online        | 0.0 \n",
      " ratio_refund        | 0.0 \n",
      " avg_ratio_purchase  | 1.0 \n",
      " quantity_1st_period | 2.0 \n",
      " unigenders          | 1   \n",
      " aov                 | 0.0 \n",
      " target              | 1   \n",
      "-RECORD 1------------------\n",
      " num                 | 7   \n",
      " revenue_lastyear    | 0.0 \n",
      " quantity_lastyear   | 0   \n",
      " orders_lastyear     | 0   \n",
      " orders_refund       | 0   \n",
      " ratio_not_dh        | 0.0 \n",
      " ratio_online        | 0.0 \n",
      " ratio_refund        | 0.0 \n",
      " avg_ratio_purchase  | 1.0 \n",
      " quantity_1st_period | 1.0 \n",
      " unigenders          | 1   \n",
      " aov                 | 0.0 \n",
      " target              | 1   \n",
      "only showing top 2 rows\n",
      "\n"
     ]
    }
   ],
   "source": [
    "# сброс ненужных колонок\n",
    "df_1 = df_1.drop('_c0', 'actual_id', 'period_end', 'recency')\n",
    "df_1.show(2, vertical=True)"
   ]
  },
  {
   "cell_type": "code",
   "execution_count": 8,
   "id": "3dec9ab4",
   "metadata": {},
   "outputs": [
    {
     "name": "stdout",
     "output_type": "stream",
     "text": [
      "-RECORD 0------------------\n",
      " num                 | 9   \n",
      " revenue_lastyear    | 0.0 \n",
      " quantity_lastyear   | 0   \n",
      " orders_lastyear     | 0   \n",
      " orders_refund       | 0   \n",
      " ratio_not_dh        | 0.0 \n",
      " ratio_online        | 0.0 \n",
      " ratio_refund        | 0.0 \n",
      " avg_ratio_purchase  | 1.0 \n",
      " quantity_1st_period | 2.0 \n",
      " unigenders          | 1   \n",
      " aov                 | 0.0 \n",
      " target              | 1   \n",
      " unigenders_dum      | 0.0 \n",
      "-RECORD 1------------------\n",
      " num                 | 7   \n",
      " revenue_lastyear    | 0.0 \n",
      " quantity_lastyear   | 0   \n",
      " orders_lastyear     | 0   \n",
      " orders_refund       | 0   \n",
      " ratio_not_dh        | 0.0 \n",
      " ratio_online        | 0.0 \n",
      " ratio_refund        | 0.0 \n",
      " avg_ratio_purchase  | 1.0 \n",
      " quantity_1st_period | 1.0 \n",
      " unigenders          | 1   \n",
      " aov                 | 0.0 \n",
      " target              | 1   \n",
      " unigenders_dum      | 0.0 \n",
      "only showing top 2 rows\n",
      "\n"
     ]
    }
   ],
   "source": [
    "# !!!! ПРЕОРАЗВАНИЕ КАТЕГОРИАЛЬНОЙ КОЛОНКИ С 2мя КАТЕГОРИЯМИ В КОЛОНКУ С 1 И 0 !!!!!\n",
    "indexer = StringIndexer(inputCol='unigenders', \n",
    "                        outputCol='unigenders_dum').fit(df_1)\n",
    "df_2 = indexer.transform(df_1)\n",
    "df_2.show(2, vertical=True)"
   ]
  },
  {
   "cell_type": "code",
   "execution_count": 49,
   "id": "3eace814",
   "metadata": {},
   "outputs": [
    {
     "name": "stdout",
     "output_type": "stream",
     "text": [
      "+--------------+------+\n",
      "|unigenders_dum| count|\n",
      "+--------------+------+\n",
      "|           0.0|287498|\n",
      "|           1.0| 14621|\n",
      "+--------------+------+\n",
      "\n"
     ]
    }
   ],
   "source": [
    "# чек того, что преобразование прошло без потери данных\n",
    "df_2.groupby('unigenders_dum').count().orderBy(F.col('count').desc()).show(5)"
   ]
  },
  {
   "cell_type": "code",
   "execution_count": 50,
   "id": "3e77d155",
   "metadata": {},
   "outputs": [
    {
     "name": "stdout",
     "output_type": "stream",
     "text": [
      "+----------+------+\n",
      "|unigenders| count|\n",
      "+----------+------+\n",
      "|         1|287498|\n",
      "|         2| 14621|\n",
      "+----------+------+\n",
      "\n"
     ]
    }
   ],
   "source": [
    "# чек того, что преобразование прошло без потери данных\n",
    "df_1.groupby('unigenders').count().orderBy(F.col('count').desc()).show(5)"
   ]
  },
  {
   "cell_type": "code",
   "execution_count": 9,
   "id": "60a58142",
   "metadata": {},
   "outputs": [
    {
     "name": "stdout",
     "output_type": "stream",
     "text": [
      "-RECORD 0------------------\n",
      " num                 | 9   \n",
      " revenue_lastyear    | 0.0 \n",
      " quantity_lastyear   | 0   \n",
      " orders_lastyear     | 0   \n",
      " orders_refund       | 0   \n",
      " ratio_not_dh        | 0.0 \n",
      " ratio_online        | 0.0 \n",
      " ratio_refund        | 0.0 \n",
      " avg_ratio_purchase  | 1.0 \n",
      " quantity_1st_period | 2.0 \n",
      " aov                 | 0.0 \n",
      " target              | 1   \n",
      " unigenders_dum      | 0.0 \n",
      "only showing top 1 row\n",
      "\n"
     ]
    }
   ],
   "source": [
    "df_2 = df_2.drop('unigenders')\n",
    "df_2.show(1, vertical=True)"
   ]
  },
  {
   "cell_type": "code",
   "execution_count": 52,
   "id": "f650eb94",
   "metadata": {},
   "outputs": [
    {
     "name": "stdout",
     "output_type": "stream",
     "text": [
      "-RECORD 0------------------\n",
      " num                 | 13  \n",
      " revenue_lastyear    | 0.0 \n",
      " quantity_lastyear   | 0   \n",
      " orders_lastyear     | 0   \n",
      " orders_refund       | 0   \n",
      " ratio_not_dh        | 0.0 \n",
      " ratio_online        | 0.0 \n",
      " ratio_refund        | 0.0 \n",
      " avg_ratio_purchase  | 1.0 \n",
      " quantity_1st_period | 4.0 \n",
      " unigenders          | 1   \n",
      " aov                 | 0.0 \n",
      " target              | 1   \n",
      " feature2_numeric    | 0.0 \n",
      "only showing top 1 row\n",
      "\n"
     ]
    }
   ],
   "source": [
    "# !!!! ПРЕОБРАЗОВАНИЕ КАТ. КОЛОНКИ С 2+ КАТЕГОРИЯМИ!!!! СНАЧАЛА ИНДЕКСИРУЕМ КАТ. КОЛОНКУ ПО КАТЕГОРИЯМ\n",
    "indexed_2 = StringIndexer(inputCol='unigenders',\n",
    "                          outputCol='feature2_numeric').fit(df_1)\n",
    "df_2 = indexed_2.transform(df_1)\n",
    "df_2.show(1, vertical=True)"
   ]
  },
  {
   "cell_type": "code",
   "execution_count": 53,
   "id": "bc2a18fa",
   "metadata": {},
   "outputs": [],
   "source": [
    "# !!!! ПОСЛЕ ИНДЕКСАЦИИ ПРЕОБРАЗУЕМ ЕЁ В МАССИВЫ-ВЕКТОРЫ, КОТОРЫЕ БУДУТ ОПРЕДЕЛЯТЬ КАЖДУЮ КАТЕГОРИЮ!!!!\n",
    "encoder = OneHotEncoder(inputCol='feature2_numeric',\n",
    "                        outputCol=\"unigenders_vector\").fit(df_2)\n",
    "df_3 = encoder.transform(df_2)"
   ]
  },
  {
   "cell_type": "code",
   "execution_count": 55,
   "id": "9ab38370",
   "metadata": {},
   "outputs": [
    {
     "name": "stdout",
     "output_type": "stream",
     "text": [
      "-RECORD 0----------------------------\n",
      " num                 | 13            \n",
      " revenue_lastyear    | 0.0           \n",
      " quantity_lastyear   | 0             \n",
      " orders_lastyear     | 0             \n",
      " orders_refund       | 0             \n",
      " ratio_not_dh        | 0.0           \n",
      " ratio_online        | 0.0           \n",
      " ratio_refund        | 0.0           \n",
      " avg_ratio_purchase  | 1.0           \n",
      " quantity_1st_period | 4.0           \n",
      " aov                 | 0.0           \n",
      " target              | 1             \n",
      " unigenders_vector   | (1,[0],[1.0]) \n",
      "only showing top 1 row\n",
      "\n"
     ]
    }
   ],
   "source": [
    "# дроп уже ненужных колонок\n",
    "df_3 = df_3.drop('unigenders', 'feature2_numeric')\n",
    "df_3.show(1, vertical=True)"
   ]
  },
  {
   "cell_type": "code",
   "execution_count": 10,
   "id": "785aa64c",
   "metadata": {},
   "outputs": [
    {
     "data": {
      "text/plain": [
       "array([ 1.        ,  0.04050728,  0.04037934,  0.0336036 ,  0.03675439,\n",
       "       -0.39241061, -0.07248572, -0.03420347, -0.01422307,  0.05507109,\n",
       "       -0.20774995,  0.39473319,  0.09987931,  0.04050728,  1.        ,\n",
       "        0.93474268,  0.85111019,  0.53783724,  0.31176575,  0.19987659,\n",
       "        0.12006016, -0.12008002,  0.38153914,  0.47380551, -0.30848312,\n",
       "        0.28252044,  0.04037934,  0.93474268,  1.        ,  0.91469401,\n",
       "        0.54337799,  0.35766542,  0.21827952,  0.12237576, -0.13203362,\n",
       "        0.413069  ,  0.39922296, -0.36063775,  0.3215265 ,  0.0336036 ,\n",
       "        0.85111019,  0.91469401,  1.        ,  0.55611642,  0.40444922,\n",
       "        0.26850052,  0.13645573, -0.16298511,  0.32643414,  0.28810663,\n",
       "       -0.41005439,  0.30585121,  0.03675439,  0.53783724,  0.54337799,\n",
       "        0.55611642,  1.        ,  0.10194867,  0.22264701,  0.44272722,\n",
       "       -0.06208425,  0.17589451,  0.0951611 , -0.11078416,  0.12541009,\n",
       "       -0.39241061,  0.31176575,  0.35766542,  0.40444922,  0.10194867,\n",
       "        1.        ,  0.32562108,  0.13789739, -0.12305585,  0.12787055,\n",
       "        0.60066445, -0.98329648,  0.1363107 , -0.07248572,  0.19987659,\n",
       "        0.21827952,  0.26850052,  0.22264701,  0.32562108,  1.        ,\n",
       "        0.36362515, -0.36336299,  0.08705192,  0.20299918, -0.37401182,\n",
       "        0.11986057, -0.03420347,  0.12006016,  0.12237576,  0.13645573,\n",
       "        0.44272722,  0.13789739,  0.36362515,  1.        , -0.04594738,\n",
       "        0.05304742,  0.12060147, -0.16039777,  0.04265646, -0.01422307,\n",
       "       -0.12008002, -0.13203362, -0.16298511, -0.06208425, -0.12305585,\n",
       "       -0.36336299, -0.04594738,  1.        , -0.06532958, -0.07904004,\n",
       "        0.1346471 , -0.08572163,  0.05507109,  0.38153914,  0.413069  ,\n",
       "        0.32643414,  0.17589451,  0.12787055,  0.08705192,  0.05304742,\n",
       "       -0.06532958,  1.        ,  0.26516222, -0.12696888,  0.19553612,\n",
       "       -0.20774995,  0.47380551,  0.39922296,  0.28810663,  0.0951611 ,\n",
       "        0.60066445,  0.20299918,  0.12060147, -0.07904004,  0.26516222,\n",
       "        1.        , -0.5895535 ,  0.1377367 ,  0.39473319, -0.30848312,\n",
       "       -0.36063775, -0.41005439, -0.11078416, -0.98329648, -0.37401182,\n",
       "       -0.16039777,  0.1346471 , -0.12696888, -0.5895535 ,  1.        ,\n",
       "       -0.13649578,  0.09987931,  0.28252044,  0.3215265 ,  0.30585121,\n",
       "        0.12541009,  0.1363107 ,  0.11986057,  0.04265646, -0.08572163,\n",
       "        0.19553612,  0.1377367 , -0.13649578,  1.        ])"
      ]
     },
     "execution_count": 10,
     "metadata": {},
     "output_type": "execute_result"
    }
   ],
   "source": [
    "# !!!! HeatMap !!! Проводим векторизацию, получаем 1-мерный массив\n",
    "vector_col = \"corr_features\"\n",
    "assembler = VectorAssembler(inputCols=df_2.columns, outputCol=vector_col)\n",
    "df_vector = assembler.transform(df_2).select(vector_col)\n",
    "\n",
    "matrix = Correlation.corr(df_vector, vector_col)\n",
    "\n",
    "corr = matrix.collect()[0][\"pearson({})\".format(vector_col)].values\n",
    "corr"
   ]
  },
  {
   "cell_type": "code",
   "execution_count": 11,
   "id": "781f30b5",
   "metadata": {},
   "outputs": [],
   "source": [
    "# Делаем из 1-мерного массива квадратную матрицу\n",
    "corr_1 = corr.reshape(int(len(corr)**0.5), int(len(corr)**0.5))"
   ]
  },
  {
   "cell_type": "code",
   "execution_count": 12,
   "id": "8f4b09c7",
   "metadata": {},
   "outputs": [
    {
     "data": {
      "text/plain": [
       "<AxesSubplot: >"
      ]
     },
     "execution_count": 12,
     "metadata": {},
     "output_type": "execute_result"
    },
    {
     "data": {
      "image/png": "[encoded data removed]",
      "text/plain": [
       "<Figure size 640x480 with 2 Axes>"
      ]
     },
     "metadata": {},
     "output_type": "display_data"
    }
   ],
   "source": [
    "# отрисовываем квадратную матрицу с лейблами на осях\n",
    "sns.heatmap(corr_1, square = True, xticklabels = df_2.columns, yticklabels = df_2.columns)"
   ]
  },
  {
   "cell_type": "code",
   "execution_count": 13,
   "id": "2fed5849",
   "metadata": {},
   "outputs": [
    {
     "data": {
      "text/plain": [
       "{'num': {'q1': 2.0, 'q3': 14.0},\n",
       " 'revenue_lastyear': {'q1': 0.0, 'q3': 187515.0},\n",
       " 'quantity_lastyear': {'q1': 0.0, 'q3': 17.0},\n",
       " 'orders_lastyear': {'q1': 0.0, 'q3': 9.0},\n",
       " 'orders_refund': {'q1': 0.0, 'q3': 1.0},\n",
       " 'ratio_not_dh': {'q1': 0.0, 'q3': 1.0},\n",
       " 'ratio_online': {'q1': 0.0, 'q3': 1.0},\n",
       " 'ratio_refund': {'q1': 0.0, 'q3': 0.5},\n",
       " 'avg_ratio_purchase': {'q1': 0.44444444444444436, 'q3': 1.0},\n",
       " 'quantity_1st_period': {'q1': 1.0, 'q3': 9.0},\n",
       " 'aov': {'q1': 0.0, 'q3': 43786.5},\n",
       " 'target': {'q1': 0.0, 'q3': 1.0},\n",
       " 'unigenders_dum': {'q1': 0.0, 'q3': 1.0}}"
      ]
     },
     "execution_count": 13,
     "metadata": {},
     "output_type": "execute_result"
    }
   ],
   "source": [
    "# найдём значения колонок для 2% и 98% квантиля (примем их как границы выборки)  \n",
    "bounds = {\n",
    "    c: dict(\n",
    "        zip([\"q1\", \"q3\"], df_2.approxQuantile(c, [0.02, 0.98], 0))\n",
    "    )\n",
    "    for c in df_2.columns\n",
    "}\n",
    "bounds"
   ]
  },
  {
   "cell_type": "code",
   "execution_count": 14,
   "id": "40b3ee2e",
   "metadata": {},
   "outputs": [
    {
     "data": {
      "text/plain": [
       "{'num': {'q1': 2.0, 'q3': 14.0, 'lower': -16.0, 'upper': 32.0},\n",
       " 'revenue_lastyear': {'q1': 0.0,\n",
       "  'q3': 187515.0,\n",
       "  'lower': -281272.5,\n",
       "  'upper': 468787.5},\n",
       " 'quantity_lastyear': {'q1': 0.0, 'q3': 17.0, 'lower': -25.5, 'upper': 42.5},\n",
       " 'orders_lastyear': {'q1': 0.0, 'q3': 9.0, 'lower': -13.5, 'upper': 22.5},\n",
       " 'orders_refund': {'q1': 0.0, 'q3': 1.0, 'lower': -1.5, 'upper': 2.5},\n",
       " 'ratio_not_dh': {'q1': 0.0, 'q3': 1.0, 'lower': -1.5, 'upper': 2.5},\n",
       " 'ratio_online': {'q1': 0.0, 'q3': 1.0, 'lower': -1.5, 'upper': 2.5},\n",
       " 'ratio_refund': {'q1': 0.0, 'q3': 0.5, 'lower': -0.75, 'upper': 1.25},\n",
       " 'avg_ratio_purchase': {'q1': 0.44444444444444436,\n",
       "  'q3': 1.0,\n",
       "  'lower': -0.388888888888889,\n",
       "  'upper': 1.8333333333333335},\n",
       " 'quantity_1st_period': {'q1': 1.0, 'q3': 9.0, 'lower': -11.0, 'upper': 21.0},\n",
       " 'aov': {'q1': 0.0, 'q3': 43786.5, 'lower': -65679.75, 'upper': 109466.25},\n",
       " 'target': {'q1': 0.0, 'q3': 1.0, 'lower': -1.5, 'upper': 2.5},\n",
       " 'unigenders_dum': {'q1': 0.0, 'q3': 1.0, 'lower': -1.5, 'upper': 2.5}}"
      ]
     },
     "execution_count": 14,
     "metadata": {},
     "output_type": "execute_result"
    }
   ],
   "source": [
    "# граничные значения выборки для столбцов с учётом iqr\n",
    "for c in bounds:\n",
    "    iqr = bounds[c]['q3'] - bounds[c]['q1']\n",
    "    bounds[c]['lower'] = bounds[c]['q1'] - (iqr * 1.5)\n",
    "    bounds[c]['upper'] = bounds[c]['q3'] + (iqr * 1.5)\n",
    "bounds"
   ]
  },
  {
   "cell_type": "code",
   "execution_count": 15,
   "id": "90834751",
   "metadata": {},
   "outputs": [
    {
     "name": "stdout",
     "output_type": "stream",
     "text": [
      "num\n",
      "revenue_lastyear\n",
      "quantity_lastyear\n",
      "orders_lastyear\n",
      "orders_refund\n",
      "ratio_not_dh\n",
      "ratio_online\n",
      "ratio_refund\n",
      "avg_ratio_purchase\n",
      "quantity_1st_period\n",
      "aov\n",
      "target\n",
      "unigenders_dum\n"
     ]
    }
   ],
   "source": [
    "# убираем значения в колонках, ниже нижней и выше верхней границ\n",
    "df_new = df_2\n",
    "for col in df_2.columns: \n",
    "    df_new = (df_new.filter(F.col(col) > bounds[col]['lower'])\n",
    "             .filter(F.col(col) < bounds[col]['upper']))\n",
    "    print(col)"
   ]
  },
  {
   "cell_type": "code",
   "execution_count": 52,
   "id": "8a8d1074",
   "metadata": {},
   "outputs": [],
   "source": [
    "df_new.toPandas().to_csv('mycsv.csv')"
   ]
  },
  {
   "cell_type": "code",
   "execution_count": 4,
   "id": "e03de36f",
   "metadata": {},
   "outputs": [],
   "source": [
    "df_new = spark.read.format('csv').option('header', 'true').load('D://ML-jupyter-main/mycsv.csv', inferSchema =True)"
   ]
  },
  {
   "cell_type": "code",
   "execution_count": 9,
   "id": "56ba2e22",
   "metadata": {},
   "outputs": [
    {
     "data": {
      "text/plain": [
       "<AxesSubplot: >"
      ]
     },
     "execution_count": 9,
     "metadata": {},
     "output_type": "execute_result"
    },
    {
     "data": {
      "image/png": "[encoded data removed]",
      "text/plain": [
       "<Figure size 640x480 with 2 Axes>"
      ]
     },
     "metadata": {},
     "output_type": "display_data"
    }
   ],
   "source": [
    "vector_col = \"corr_features\"\n",
    "assembler = VectorAssembler(inputCols=df_reg.columns, outputCol=vector_col)\n",
    "df_vector = assembler.transform(df_reg).select(vector_col)\n",
    "\n",
    "matrix = Correlation.corr(df_vector, vector_col)\n",
    "\n",
    "corr = matrix.collect()[0][\"pearson({})\".format(vector_col)].values\n",
    "corr_1 = corr.reshape(int(len(corr)**0.5), int(len(corr)**0.5))\n",
    "sns.heatmap(corr_1, square = True, xticklabels = df_reg.columns, yticklabels = df_reg.columns)"
   ]
  },
  {
   "cell_type": "code",
   "execution_count": 8,
   "id": "a2c6f5d6",
   "metadata": {},
   "outputs": [],
   "source": [
    "df_reg = df_new.drop('ratio_not_dh')"
   ]
  },
  {
   "cell_type": "code",
   "execution_count": 10,
   "id": "92b74004",
   "metadata": {},
   "outputs": [
    {
     "name": "stdout",
     "output_type": "stream",
     "text": [
      "-RECORD 0------------------------------------------------------\n",
      " _c0                 | 0                                       \n",
      " num                 | 9                                       \n",
      " revenue_lastyear    | 0.0                                     \n",
      " quantity_lastyear   | 0                                       \n",
      " orders_lastyear     | 0                                       \n",
      " orders_refund       | 0                                       \n",
      " ratio_online        | 0.0                                     \n",
      " ratio_refund        | 0.0                                     \n",
      " avg_ratio_purchase  | 1.0                                     \n",
      " quantity_1st_period | 2.0                                     \n",
      " aov                 | 0.0                                     \n",
      " target              | 1                                       \n",
      " unigenders_dum      | 0.0                                     \n",
      " features            | (13,[1,8,9,11],[9.0,1.0,2.0,1.0])       \n",
      "-RECORD 1------------------------------------------------------\n",
      " _c0                 | 1                                       \n",
      " num                 | 7                                       \n",
      " revenue_lastyear    | 0.0                                     \n",
      " quantity_lastyear   | 0                                       \n",
      " orders_lastyear     | 0                                       \n",
      " orders_refund       | 0                                       \n",
      " ratio_online        | 0.0                                     \n",
      " ratio_refund        | 0.0                                     \n",
      " avg_ratio_purchase  | 1.0                                     \n",
      " quantity_1st_period | 1.0                                     \n",
      " aov                 | 0.0                                     \n",
      " target              | 1                                       \n",
      " unigenders_dum      | 0.0                                     \n",
      " features            | (13,[0,1,8,9,11],[1.0,7.0,1.0,1.0,1.0]) \n",
      "only showing top 2 rows\n",
      "\n"
     ]
    }
   ],
   "source": [
    "# подготовка фичей в вектор\n",
    "assembler = VectorAssembler(inputCols = df_reg.columns, outputCol = 'features')\n",
    "output = assembler.transform(df_reg)\n",
    "output.show(2, vertical=True, truncate=False)"
   ]
  },
  {
   "cell_type": "code",
   "execution_count": 11,
   "id": "31629498",
   "metadata": {},
   "outputs": [
    {
     "name": "stdout",
     "output_type": "stream",
     "text": [
      "-RECORD 0------------------------------------------------------------------------------------------------------------------------------------------------------------------------------------------------------------------------------------------------------------------------------------\n",
      " _c0                 | 0                                                                                                                                                                                                                                                                     \n",
      " num                 | 9                                                                                                                                                                                                                                                                     \n",
      " revenue_lastyear    | 0.0                                                                                                                                                                                                                                                                   \n",
      " quantity_lastyear   | 0                                                                                                                                                                                                                                                                     \n",
      " orders_lastyear     | 0                                                                                                                                                                                                                                                                     \n",
      " orders_refund       | 0                                                                                                                                                                                                                                                                     \n",
      " ratio_online        | 0.0                                                                                                                                                                                                                                                                   \n",
      " ratio_refund        | 0.0                                                                                                                                                                                                                                                                   \n",
      " avg_ratio_purchase  | 1.0                                                                                                                                                                                                                                                                   \n",
      " quantity_1st_period | 2.0                                                                                                                                                                                                                                                                   \n",
      " aov                 | 0.0                                                                                                                                                                                                                                                                   \n",
      " target              | 1                                                                                                                                                                                                                                                                     \n",
      " unigenders_dum      | 0.0                                                                                                                                                                                                                                                                   \n",
      " features            | (13,[1,8,9,11],[9.0,1.0,2.0,1.0])                                                                                                                                                                                                                                     \n",
      " scaledFeatures      | [-1.732042113424582,0.16143704967509478,-0.5219059767038604,-0.5793495286269017,-0.6484783479664572,-0.21831216511061377,-0.5224816193892204,-0.18622890618535456,0.2196308663856279,-0.07922875909742796,-0.7717812359237602,1.2228237749951851,-0.2173984676136886] \n",
      "-RECORD 1------------------------------------------------------------------------------------------------------------------------------------------------------------------------------------------------------------------------------------------------------------------------------------\n",
      " _c0                 | 1                                                                                                                                                                                                                                                                     \n",
      " num                 | 7                                                                                                                                                                                                                                                                     \n",
      " revenue_lastyear    | 0.0                                                                                                                                                                                                                                                                   \n",
      " quantity_lastyear   | 0                                                                                                                                                                                                                                                                     \n",
      " orders_lastyear     | 0                                                                                                                                                                                                                                                                     \n",
      " orders_refund       | 0                                                                                                                                                                                                                                                                     \n",
      " ratio_online        | 0.0                                                                                                                                                                                                                                                                   \n",
      " ratio_refund        | 0.0                                                                                                                                                                                                                                                                   \n",
      " avg_ratio_purchase  | 1.0                                                                                                                                                                                                                                                                   \n",
      " quantity_1st_period | 1.0                                                                                                                                                                                                                                                                   \n",
      " aov                 | 0.0                                                                                                                                                                                                                                                                   \n",
      " target              | 1                                                                                                                                                                                                                                                                     \n",
      " unigenders_dum      | 0.0                                                                                                                                                                                                                                                                   \n",
      " features            | (13,[0,1,8,9,11],[1.0,7.0,1.0,1.0,1.0])                                                                                                                                                                                                                               \n",
      " scaledFeatures      | [-1.7320305212289555,-0.3955393636784048,-0.5219059767038604,-0.5793495286269017,-0.6484783479664572,-0.21831216511061377,-0.5224816193892204,-0.18622890618535456,0.2196308663856279,-0.5905658521190065,-0.7717812359237602,1.2228237749951851,-0.2173984676136886] \n",
      "only showing top 2 rows\n",
      "\n"
     ]
    }
   ],
   "source": [
    "# скалирование\n",
    "scaler = StandardScaler(inputCol='features', outputCol=\"scaledFeatures\",\n",
    "                                withStd=True, withMean=True)\n",
    "scalerModel = scaler.fit(output)\n",
    "scaledData = scalerModel.transform(output)\n",
    "scaledData.show(2, vertical = True, truncate=False)"
   ]
  },
  {
   "cell_type": "code",
   "execution_count": 32,
   "id": "36ba7daf",
   "metadata": {},
   "outputs": [
    {
     "name": "stdout",
     "output_type": "stream",
     "text": [
      "-RECORD 0------------------------------------------------------------------------------------------------------------------------------------------------------------------------------------------------------------------------------------------------------------------------------------\n",
      " _c0                 | 0                                                                                                                                                                                                                                                                     \n",
      " num                 | 9                                                                                                                                                                                                                                                                     \n",
      " revenue_lastyear    | 0.0                                                                                                                                                                                                                                                                   \n",
      " quantity_lastyear   | 0                                                                                                                                                                                                                                                                     \n",
      " orders_lastyear     | 0                                                                                                                                                                                                                                                                     \n",
      " orders_refund       | 0                                                                                                                                                                                                                                                                     \n",
      " ratio_online        | 0.0                                                                                                                                                                                                                                                                   \n",
      " ratio_refund        | 0.0                                                                                                                                                                                                                                                                   \n",
      " avg_ratio_purchase  | 1.0                                                                                                                                                                                                                                                                   \n",
      " quantity_1st_period | 2.0                                                                                                                                                                                                                                                                   \n",
      " aov                 | 0.0                                                                                                                                                                                                                                                                   \n",
      " target              | 1                                                                                                                                                                                                                                                                     \n",
      " unigenders_dum      | 0.0                                                                                                                                                                                                                                                                   \n",
      " features            | (13,[1,8,9,11],[9.0,1.0,2.0,1.0])                                                                                                                                                                                                                                     \n",
      " scaledFeatures      | [-1.732042113424582,0.16143704967509478,-0.5219059767038604,-0.5793495286269017,-0.6484783479664572,-0.21831216511061377,-0.5224816193892204,-0.18622890618535456,0.2196308663856279,-0.07922875909742796,-0.7717812359237602,1.2228237749951851,-0.2173984676136886] \n",
      " normFeatures        | (13,[1,8,9,11],[0.6923076923076923,0.07692307692307693,0.15384615384615385,0.07692307692307693])                                                                                                                                                                      \n",
      "only showing top 1 row\n",
      "\n"
     ]
    }
   ],
   "source": [
    "# нормализация\n",
    "from pyspark.ml.feature import Normalizer\n",
    "normalizer = Normalizer(inputCol=\"features\", outputCol=\"normFeatures\", p=1.0)\n",
    "l1NormData = normalizer.transform(scaledData)\n",
    "l1NormData.show(1, vertical = True, truncate=False)"
   ]
  },
  {
   "cell_type": "code",
   "execution_count": 33,
   "id": "7aabbae5",
   "metadata": {},
   "outputs": [
    {
     "name": "stdout",
     "output_type": "stream",
     "text": [
      "-RECORD 0-------------------------------------------------------------------------------------------------------------------------------------------------------------------------------------------------------------------------------------------------------------------------------------\n",
      " _c0                  | 0                                                                                                                                                                                                                                                                     \n",
      " num                  | 9                                                                                                                                                                                                                                                                     \n",
      " revenue_lastyear     | 0.0                                                                                                                                                                                                                                                                   \n",
      " quantity_lastyear    | 0                                                                                                                                                                                                                                                                     \n",
      " orders_lastyear      | 0                                                                                                                                                                                                                                                                     \n",
      " orders_refund        | 0                                                                                                                                                                                                                                                                     \n",
      " ratio_online         | 0.0                                                                                                                                                                                                                                                                   \n",
      " ratio_refund         | 0.0                                                                                                                                                                                                                                                                   \n",
      " avg_ratio_purchase   | 1.0                                                                                                                                                                                                                                                                   \n",
      " quantity_1st_period  | 2.0                                                                                                                                                                                                                                                                   \n",
      " aov                  | 0.0                                                                                                                                                                                                                                                                   \n",
      " target               | 1                                                                                                                                                                                                                                                                     \n",
      " unigenders_dum       | 0.0                                                                                                                                                                                                                                                                   \n",
      " features             | (13,[1,8,9,11],[9.0,1.0,2.0,1.0])                                                                                                                                                                                                                                     \n",
      " scaledFeatures       | [-1.732042113424582,0.16143704967509478,-0.5219059767038604,-0.5793495286269017,-0.6484783479664572,-0.21831216511061377,-0.5224816193892204,-0.18622890618535456,0.2196308663856279,-0.07922875909742796,-0.7717812359237602,1.2228237749951851,-0.2173984676136886] \n",
      " normFeatures         | (13,[1,8,9,11],[0.6923076923076923,0.07692307692307693,0.15384615384615385,0.07692307692307693])                                                                                                                                                                      \n",
      " scaledMinMaxFeatures | (13,[1,8,9,11],[0.5833333333333333,1.0,0.05263157894736842,1.0])                                                                                                                                                                                                      \n",
      "only showing top 1 row\n",
      "\n"
     ]
    }
   ],
   "source": [
    "# масштабирование 0-1\n",
    "from pyspark.ml.feature import MinMaxScaler\n",
    "scaler = MinMaxScaler(inputCol=\"features\", outputCol=\"scaledMinMaxFeatures\")\n",
    "scalerModel = scaler.fit(l1NormData)\n",
    "scaledData = scalerModel.transform(l1NormData)\n",
    "scaledData.show(1, vertical = True, truncate=False)"
   ]
  },
  {
   "cell_type": "code",
   "execution_count": 34,
   "id": "198daa19",
   "metadata": {},
   "outputs": [
    {
     "name": "stdout",
     "output_type": "stream",
     "text": [
      "-RECORD 0-------------------------------------------------------------------------------------------------------------------------------------------------------------------------------------------------------------------------------------------------------------------------------------\n",
      " _c0                  | 0                                                                                                                                                                                                                                                                     \n",
      " num                  | 9                                                                                                                                                                                                                                                                     \n",
      " revenue_lastyear     | 0.0                                                                                                                                                                                                                                                                   \n",
      " quantity_lastyear    | 0                                                                                                                                                                                                                                                                     \n",
      " orders_lastyear      | 0                                                                                                                                                                                                                                                                     \n",
      " orders_refund        | 0                                                                                                                                                                                                                                                                     \n",
      " ratio_online         | 0.0                                                                                                                                                                                                                                                                   \n",
      " ratio_refund         | 0.0                                                                                                                                                                                                                                                                   \n",
      " avg_ratio_purchase   | 1.0                                                                                                                                                                                                                                                                   \n",
      " quantity_1st_period  | 2.0                                                                                                                                                                                                                                                                   \n",
      " aov                  | 0.0                                                                                                                                                                                                                                                                   \n",
      " target               | 1                                                                                                                                                                                                                                                                     \n",
      " unigenders_dum       | 0.0                                                                                                                                                                                                                                                                   \n",
      " features             | (13,[1,8,9,11],[9.0,1.0,2.0,1.0])                                                                                                                                                                                                                                     \n",
      " scaledFeatures       | [-1.732042113424582,0.16143704967509478,-0.5219059767038604,-0.5793495286269017,-0.6484783479664572,-0.21831216511061377,-0.5224816193892204,-0.18622890618535456,0.2196308663856279,-0.07922875909742796,-0.7717812359237602,1.2228237749951851,-0.2173984676136886] \n",
      " normFeatures         | (13,[1,8,9,11],[0.6923076923076923,0.07692307692307693,0.15384615384615385,0.07692307692307693])                                                                                                                                                                      \n",
      " scaledMinMaxFeatures | (13,[1,8,9,11],[0.5833333333333333,1.0,0.05263157894736842,1.0])                                                                                                                                                                                                      \n",
      " scaledAbsFeatures    | (13,[1,8,9,11],[0.6428571428571428,1.0,0.1,1.0])                                                                                                                                                                                                                      \n",
      "-RECORD 1-------------------------------------------------------------------------------------------------------------------------------------------------------------------------------------------------------------------------------------------------------------------------------------\n",
      " _c0                  | 1                                                                                                                                                                                                                                                                     \n",
      " num                  | 7                                                                                                                                                                                                                                                                     \n",
      " revenue_lastyear     | 0.0                                                                                                                                                                                                                                                                   \n",
      " quantity_lastyear    | 0                                                                                                                                                                                                                                                                     \n",
      " orders_lastyear      | 0                                                                                                                                                                                                                                                                     \n",
      " orders_refund        | 0                                                                                                                                                                                                                                                                     \n",
      " ratio_online         | 0.0                                                                                                                                                                                                                                                                   \n",
      " ratio_refund         | 0.0                                                                                                                                                                                                                                                                   \n",
      " avg_ratio_purchase   | 1.0                                                                                                                                                                                                                                                                   \n",
      " quantity_1st_period  | 1.0                                                                                                                                                                                                                                                                   \n",
      " aov                  | 0.0                                                                                                                                                                                                                                                                   \n",
      " target               | 1                                                                                                                                                                                                                                                                     \n",
      " unigenders_dum       | 0.0                                                                                                                                                                                                                                                                   \n",
      " features             | (13,[0,1,8,9,11],[1.0,7.0,1.0,1.0,1.0])                                                                                                                                                                                                                               \n",
      " scaledFeatures       | [-1.7320305212289555,-0.3955393636784048,-0.5219059767038604,-0.5793495286269017,-0.6484783479664572,-0.21831216511061377,-0.5224816193892204,-0.18622890618535456,0.2196308663856279,-0.5905658521190065,-0.7717812359237602,1.2228237749951851,-0.2173984676136886] \n",
      " normFeatures         | (13,[0,1,8,9,11],[0.09090909090909091,0.6363636363636364,0.09090909090909091,0.09090909090909091,0.09090909090909091])                                                                                                                                                \n",
      " scaledMinMaxFeatures | (13,[0,1,8,11],[3.3463954301624008E-6,0.41666666666666663,1.0,1.0])                                                                                                                                                                                                   \n",
      " scaledAbsFeatures    | (13,[0,1,8,9,11],[3.3463954301624008E-6,0.5,1.0,0.05,1.0])                                                                                                                                                                                                            \n",
      "only showing top 2 rows\n",
      "\n"
     ]
    }
   ],
   "source": [
    "# масштабирование -1-1\n",
    "from pyspark.ml.feature import MaxAbsScaler\n",
    "scaler = MaxAbsScaler(inputCol=\"features\", outputCol=\"scaledAbsFeatures\")\n",
    "scalerModel = scaler.fit(scaledData)\n",
    "scaledData = scalerModel.transform(scaledData)\n",
    "scaledData.show(2, vertical = True, truncate=False)"
   ]
  },
  {
   "cell_type": "code",
   "execution_count": 35,
   "id": "f218f113",
   "metadata": {},
   "outputs": [],
   "source": [
    "scaledData.toPandas().to_csv('scaledData.csv')"
   ]
  },
  {
   "cell_type": "code",
   "execution_count": null,
   "id": "4f681980",
   "metadata": {},
   "outputs": [],
   "source": [
    "## КЛАССИФИКАЦИЯ"
   ]
  },
  {
   "cell_type": "code",
   "execution_count": 5,
   "id": "a9342eb3",
   "metadata": {},
   "outputs": [
    {
     "name": "stdout",
     "output_type": "stream",
     "text": [
      "-RECORD 0------------------\n",
      " _c0                 | 0   \n",
      " num                 | 9   \n",
      " revenue_lastyear    | 0.0 \n",
      " quantity_lastyear   | 0   \n",
      " orders_lastyear     | 0   \n",
      " orders_refund       | 0   \n",
      " ratio_not_dh        | 0.0 \n",
      " ratio_online        | 0.0 \n",
      " ratio_refund        | 0.0 \n",
      " avg_ratio_purchase  | 1.0 \n",
      " quantity_1st_period | 2.0 \n",
      " aov                 | 0.0 \n",
      " target              | 1   \n",
      " unigenders_dum      | 0.0 \n",
      "only showing top 1 row\n",
      "\n"
     ]
    }
   ],
   "source": [
    "# какие-то данные, посмотрим\n",
    "df_new.show(1, vertical = True)"
   ]
  },
  {
   "cell_type": "code",
   "execution_count": 6,
   "id": "b57f2b75",
   "metadata": {},
   "outputs": [],
   "source": [
    "# индексируем целевую колонку, вход - название целевой колонки, выход - индексы по датафрейму\n",
    "labelIndexer = StringIndexer(inputCol=\"target\", outputCol=\"indexedLabel\").fit(df_new)"
   ]
  },
  {
   "cell_type": "code",
   "execution_count": 7,
   "id": "a507bbcb",
   "metadata": {},
   "outputs": [
    {
     "name": "stdout",
     "output_type": "stream",
     "text": [
      "-RECORD 0-----------------------------------------\n",
      " _c0                 | 0                          \n",
      " num                 | 9                          \n",
      " revenue_lastyear    | 0.0                        \n",
      " quantity_lastyear   | 0                          \n",
      " orders_lastyear     | 0                          \n",
      " orders_refund       | 0                          \n",
      " ratio_not_dh        | 0.0                        \n",
      " ratio_online        | 0.0                        \n",
      " ratio_refund        | 0.0                        \n",
      " avg_ratio_purchase  | 1.0                        \n",
      " quantity_1st_period | 2.0                        \n",
      " aov                 | 0.0                        \n",
      " target              | 1                          \n",
      " unigenders_dum      | 0.0                        \n",
      " features            | (11,[0,7,8],[9.0,1.0,2.0]) \n",
      "-RECORD 1-----------------------------------------\n",
      " _c0                 | 1                          \n",
      " num                 | 7                          \n",
      " revenue_lastyear    | 0.0                        \n",
      " quantity_lastyear   | 0                          \n",
      " orders_lastyear     | 0                          \n",
      " orders_refund       | 0                          \n",
      " ratio_not_dh        | 0.0                        \n",
      " ratio_online        | 0.0                        \n",
      " ratio_refund        | 0.0                        \n",
      " avg_ratio_purchase  | 1.0                        \n",
      " quantity_1st_period | 1.0                        \n",
      " aov                 | 0.0                        \n",
      " target              | 1                          \n",
      " unigenders_dum      | 0.0                        \n",
      " features            | (11,[0,7,8],[7.0,1.0,1.0]) \n",
      "only showing top 2 rows\n",
      "\n"
     ]
    }
   ],
   "source": [
    "# векторизуем фичи, для этого выберем и подадим нужные колонки на вход\n",
    "assembler = VectorAssembler(inputCols = df_new.drop('target', 'ratio_not_dh', '_c0').columns, outputCol = 'features')\n",
    "output = assembler.transform(df_new)\n",
    "output.show(2, vertical=True, truncate=False)"
   ]
  },
  {
   "cell_type": "code",
   "execution_count": 8,
   "id": "45bc4e8b",
   "metadata": {},
   "outputs": [],
   "source": [
    "# индексируем все фичи. Колонки, в которых кол-во различных значений <=3 считаются категориальными и разносятся\n",
    "featureIndexer =\\\n",
    "    VectorIndexer(inputCol=\"features\", outputCol=\"indexedFeatures\", maxCategories=3).fit(output)"
   ]
  },
  {
   "cell_type": "code",
   "execution_count": 9,
   "id": "bb57644b",
   "metadata": {},
   "outputs": [
    {
     "name": "stdout",
     "output_type": "stream",
     "text": [
      "-RECORD 0------------------------------\n",
      " target   | 1                          \n",
      " features | (11,[0,7,8],[9.0,1.0,2.0]) \n",
      "only showing top 1 row\n",
      "\n"
     ]
    }
   ],
   "source": [
    "# оставим только 2 нужные колонки - с векторами фичей и целевую \n",
    "data = output.select(F.col('target'), F.col('features'))\n",
    "data.show(1, vertical=True, truncate=False)"
   ]
  },
  {
   "cell_type": "code",
   "execution_count": 10,
   "id": "574512ab",
   "metadata": {},
   "outputs": [],
   "source": [
    "# сплитим данные на тестовые и тренировочные 20 и 80% соотв\n",
    "(trainingData, testData) = data.randomSplit([0.8, 0.2])"
   ]
  },
  {
   "cell_type": "code",
   "execution_count": 42,
   "id": "13dd0f58",
   "metadata": {},
   "outputs": [],
   "source": [
    "# инициализируем классификатор градиентного бустинга, задаём число итераций обучения\n",
    "gbt = GBTClassifier(labelCol=\"indexedLabel\", featuresCol=\"indexedFeatures\", maxIter=5)"
   ]
  },
  {
   "cell_type": "code",
   "execution_count": 12,
   "id": "d9fb1141",
   "metadata": {},
   "outputs": [],
   "source": [
    "# пайплайн из индексеров и классификатора. По мне бесполезная строка кода, но без неё никак\n",
    "pipeline = Pipeline(stages=[labelIndexer, featureIndexer, gbt])"
   ]
  },
  {
   "cell_type": "code",
   "execution_count": 13,
   "id": "378335c0",
   "metadata": {},
   "outputs": [],
   "source": [
    "# фитим данные в пайплайн - обучаем\n",
    "model = pipeline.fit(trainingData)"
   ]
  },
  {
   "cell_type": "code",
   "execution_count": 14,
   "id": "05d55ce0",
   "metadata": {},
   "outputs": [],
   "source": [
    "# предсказываем тестовый датафрейм, добавляя колонку предсказаний\n",
    "predictions = model.transform(testData)"
   ]
  },
  {
   "cell_type": "code",
   "execution_count": 18,
   "id": "af318f51",
   "metadata": {},
   "outputs": [
    {
     "name": "stdout",
     "output_type": "stream",
     "text": [
      "+------+--------------------+------------+--------------------+--------------------+--------------------+----------+\n",
      "|target|            features|indexedLabel|     indexedFeatures|       rawPrediction|         probability|prediction|\n",
      "+------+--------------------+------------+--------------------+--------------------+--------------------+----------+\n",
      "|     0|[2.0,600.0,1.0,1....|         0.0|[2.0,600.0,1.0,1....|[1.16967390812512...|[0.91208380260475...|       0.0|\n",
      "|     0|[2.0,600.0,1.0,1....|         0.0|[2.0,600.0,1.0,1....|[1.16967390812512...|[0.91208380260475...|       0.0|\n",
      "|     0|[2.0,1200.0,2.0,1...|         0.0|[2.0,1200.0,2.0,1...|[1.16967390812512...|[0.91208380260475...|       0.0|\n",
      "|     0|[2.0,1980.0,1.0,1...|         0.0|[2.0,1980.0,1.0,1...|[1.16967390812512...|[0.91208380260475...|       0.0|\n",
      "|     0|[2.0,1980.0,1.0,1...|         0.0|[2.0,1980.0,1.0,1...|[1.16967390812512...|[0.91208380260475...|       0.0|\n",
      "+------+--------------------+------------+--------------------+--------------------+--------------------+----------+\n",
      "only showing top 5 rows\n",
      "\n"
     ]
    }
   ],
   "source": [
    "# смотрим что содержат данне\n",
    "predictions.show(5)"
   ]
  },
  {
   "cell_type": "code",
   "execution_count": 19,
   "id": "dfd0d884",
   "metadata": {},
   "outputs": [
    {
     "name": "stdout",
     "output_type": "stream",
     "text": [
      "+----------+-----+\n",
      "|prediction|count|\n",
      "+----------+-----+\n",
      "|       0.0|35465|\n",
      "|       1.0|23829|\n",
      "+----------+-----+\n",
      "\n"
     ]
    }
   ],
   "source": [
    "# проверка на наличие обоих классов в предсказаниях\n",
    "predictions.groupby('prediction').count().show(2)"
   ]
  },
  {
   "cell_type": "code",
   "execution_count": 20,
   "id": "c9d20971",
   "metadata": {},
   "outputs": [
    {
     "name": "stdout",
     "output_type": "stream",
     "text": [
      "Test Error = 0.00148413\n"
     ]
    }
   ],
   "source": [
    "# определяем оценщик, куда прописываем истинные лейблы и предсказанные, выбираем метрику - точность\n",
    "evaluator = MulticlassClassificationEvaluator(\n",
    "    labelCol=\"indexedLabel\", predictionCol=\"prediction\", metricName=\"accuracy\")\n",
    "accuracy = evaluator.evaluate(predictions)\n",
    "print(\"Test Error = %g\" % (1.0 - accuracy))"
   ]
  },
  {
   "cell_type": "code",
   "execution_count": 21,
   "id": "826d50aa",
   "metadata": {},
   "outputs": [
    {
     "name": "stdout",
     "output_type": "stream",
     "text": [
      "GBTClassificationModel: uid = GBTClassifier_a578c4087333, numTrees=5, numClasses=2, numFeatures=11\n"
     ]
    }
   ],
   "source": [
    "# посмотрим на структуру классификатора\n",
    "gbtModel = model.stages[2]\n",
    "print(gbtModel)"
   ]
  },
  {
   "cell_type": "code",
   "execution_count": 22,
   "id": "70e316de",
   "metadata": {},
   "outputs": [
    {
     "name": "stdout",
     "output_type": "stream",
     "text": [
      "0.9985154241751845\n"
     ]
    }
   ],
   "source": [
    "# тоже оцнщик, только метрика f1\n",
    "evaluator = MulticlassClassificationEvaluator(\n",
    "    labelCol=\"indexedLabel\", predictionCol=\"prediction\", metricName=\"f1\")\n",
    "f1 = evaluator.evaluate(predictions)\n",
    "print(f1)"
   ]
  },
  {
   "cell_type": "code",
   "execution_count": 23,
   "id": "b3c4023c",
   "metadata": {},
   "outputs": [],
   "source": [
    "# оценщик по аук метрике\n",
    "eval_auc = BinaryClassificationEvaluator(labelCol=\"indexedLabel\", rawPredictionCol=\"prediction\")"
   ]
  },
  {
   "cell_type": "code",
   "execution_count": 24,
   "id": "9ae78c96",
   "metadata": {},
   "outputs": [
    {
     "name": "stdout",
     "output_type": "stream",
     "text": [
      "0.9981603043860016\n"
     ]
    }
   ],
   "source": [
    "# значение аук метрики\n",
    "auc = eval_auc.evaluate(predictions)\n",
    "print(auc)"
   ]
  },
  {
   "cell_type": "code",
   "execution_count": null,
   "id": "a61678b2",
   "metadata": {},
   "outputs": [],
   "source": [
    "# ФИЧ ЭКСТРАКТИНГ. Метод не может быть применён к пайплайну, так что придётся переобучить модель напрямую"
   ]
  },
  {
   "cell_type": "code",
   "execution_count": 45,
   "id": "0df5e891",
   "metadata": {},
   "outputs": [],
   "source": [
    "# инициализируем классификатор, указываем колонки с лэйблами и фичами\n",
    "gbt = GBTClassifier(labelCol=\"target\", featuresCol=\"features\", maxIter=5)"
   ]
  },
  {
   "cell_type": "code",
   "execution_count": null,
   "id": "1af62746",
   "metadata": {},
   "outputs": [],
   "source": [
    "# обучаем напрямую\n",
    "model = gbt.fit(trainingData)"
   ]
  },
  {
   "cell_type": "code",
   "execution_count": 44,
   "id": "405dc98e",
   "metadata": {},
   "outputs": [
    {
     "data": {
      "text/plain": [
       "SparseVector(11, {0: 0.0002, 1: 0.5812, 2: 0.0818, 3: 0.3367, 4: 0.0, 5: 0.0, 8: 0.0, 9: 0.0001, 10: 0.0})"
      ]
     },
     "execution_count": 44,
     "metadata": {},
     "output_type": "execute_result"
    }
   ],
   "source": [
    "# применяем метод для определения веса фичей в модели. Больше вес - большее влияние фича оказала на снижение неопределённости\n",
    "# при обучении классификатора\n",
    "model.featureImportances"
   ]
  },
  {
   "cell_type": "code",
   "execution_count": null,
   "id": "113d7919",
   "metadata": {},
   "outputs": [],
   "source": [
    "# revenue_lastyear - оказала большее влияние на снижение неопределённости при классификации объектов"
   ]
  }
 ],
 "metadata": {
  "kernelspec": {
   "display_name": "Python 3 (ipykernel)",
   "language": "python",
   "name": "python3"
  },
  "language_info": {
   "codemirror_mode": {
    "name": "ipython",
    "version": 3
   },
   "file_extension": ".py",
   "mimetype": "text/x-python",
   "name": "python",
   "nbconvert_exporter": "python",
   "pygments_lexer": "ipython3",
   "version": "3.11.1"
  }
 },
 "nbformat": 4,
 "nbformat_minor": 5
}
