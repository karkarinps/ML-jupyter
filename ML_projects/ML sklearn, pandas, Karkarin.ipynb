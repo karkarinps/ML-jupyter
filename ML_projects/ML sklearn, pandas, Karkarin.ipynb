{
 "cells": [
  {
   "cell_type": "code",
   "execution_count": 17,
   "id": "c523a463",
   "metadata": {},
   "outputs": [],
   "source": [
    "# подгрузка библиотек/классов для обработки данных и machine learning\n",
    "import pandas as pd  \n",
    "import numpy as np\n",
    "from sklearn.tree import DecisionTreeClassifier\n",
    "from sklearn.model_selection import RandomizedSearchCV\n",
    "from sklearn.model_selection import train_test_split\n",
    "from sklearn.model_selection import GridSearchCV"
   ]
  },
  {
   "cell_type": "code",
   "execution_count": 3,
   "id": "3086164b",
   "metadata": {},
   "outputs": [],
   "source": [
    "# подгрузка бибиотек визуализации\n",
    "%matplotlib inline\n",
    "import matplotlib.pyplot as plt\n",
    "import seaborn as sns\n",
    "from sklearn import tree"
   ]
  },
  {
   "cell_type": "code",
   "execution_count": 27,
   "id": "a0ed59de",
   "metadata": {},
   "outputs": [],
   "source": [
    "# подгрузка метрик\n",
    "from sklearn.metrics import confusion_matrix"
   ]
  },
  {
   "cell_type": "code",
   "execution_count": 6,
   "id": "31a725e2",
   "metadata": {},
   "outputs": [],
   "source": [
    "# загружаем данные через pandas-метод 'read_формат'\n",
    "my_stat = pd.read_csv('C:\\\\Users\\\\Uldum\\\\Downloads\\\\train_data_tree.csv')\n",
    "# test_dat = pd.read_json('C:\\\\Users\\\\Uldum\\\\Downloads\\\\dataset_209691_15.txt')"
   ]
  },
  {
   "cell_type": "code",
   "execution_count": 26,
   "id": "acc505eb",
   "metadata": {
    "scrolled": true
   },
   "outputs": [
    {
     "data": {
      "text/plain": [
       "sex      0\n",
       "exang    0\n",
       "num      0\n",
       "dtype: int64"
      ]
     },
     "execution_count": 26,
     "metadata": {},
     "output_type": "execute_result"
    }
   ],
   "source": [
    "# проверяем отсутствие незаполненных ячеек и работаем с ними\n",
    "my_stat.isnull().values.any()\n",
    "# test_dat.isnull().values.any()\n",
    "# проверяем отсутствие незаполненных данных по колонкам\n",
    "my_stat.isna().any()\n",
    "# находит число несполненных ячеек по столбцам\n",
    "my_stat.isna().sum()\n",
    "# заполняем нужные колонки датафрейма значением value с помощью метода fillna\n",
    "# my_stat[['sex', 'exang']] = my_stat[['sex','exang']].fillna(value=0)"
   ]
  },
  {
   "cell_type": "code",
   "execution_count": 8,
   "id": "4c952a7c",
   "metadata": {},
   "outputs": [
    {
     "data": {
      "text/html": [
       "<div>\n",
       "<style scoped>\n",
       "    .dataframe tbody tr th:only-of-type {\n",
       "        vertical-align: middle;\n",
       "    }\n",
       "\n",
       "    .dataframe tbody tr th {\n",
       "        vertical-align: top;\n",
       "    }\n",
       "\n",
       "    .dataframe thead th {\n",
       "        text-align: right;\n",
       "    }\n",
       "</style>\n",
       "<table border=\"1\" class=\"dataframe\">\n",
       "  <thead>\n",
       "    <tr style=\"text-align: right;\">\n",
       "      <th></th>\n",
       "      <th>sex</th>\n",
       "      <th>exang</th>\n",
       "      <th>num</th>\n",
       "    </tr>\n",
       "  </thead>\n",
       "  <tbody>\n",
       "    <tr>\n",
       "      <th>0</th>\n",
       "      <td>1</td>\n",
       "      <td>1</td>\n",
       "      <td>1</td>\n",
       "    </tr>\n",
       "    <tr>\n",
       "      <th>1</th>\n",
       "      <td>1</td>\n",
       "      <td>1</td>\n",
       "      <td>1</td>\n",
       "    </tr>\n",
       "    <tr>\n",
       "      <th>2</th>\n",
       "      <td>1</td>\n",
       "      <td>0</td>\n",
       "      <td>1</td>\n",
       "    </tr>\n",
       "    <tr>\n",
       "      <th>3</th>\n",
       "      <td>1</td>\n",
       "      <td>0</td>\n",
       "      <td>0</td>\n",
       "    </tr>\n",
       "    <tr>\n",
       "      <th>4</th>\n",
       "      <td>1</td>\n",
       "      <td>0</td>\n",
       "      <td>1</td>\n",
       "    </tr>\n",
       "  </tbody>\n",
       "</table>\n",
       "</div>"
      ],
      "text/plain": [
       "   sex  exang  num\n",
       "0    1      1    1\n",
       "1    1      1    1\n",
       "2    1      0    1\n",
       "3    1      0    0\n",
       "4    1      0    1"
      ]
     },
     "execution_count": 8,
     "metadata": {},
     "output_type": "execute_result"
    }
   ],
   "source": [
    "# выводим данные, для первичной оценки\n",
    "my_stat.head(5)"
   ]
  },
  {
   "cell_type": "code",
   "execution_count": 9,
   "id": "eb377f4f",
   "metadata": {},
   "outputs": [],
   "source": [
    "# сплитим данные pfndas/python методами на X - все признаки, независимые переменне и y - зависимая переменная, которую предсказываем\n",
    "X = my_stat.drop(columns = 'num')\n",
    "y = my_stat['num']\n",
    "# X_test = test_dat.drop(columns = 'species')\n",
    "# y_test = test_dat.species"
   ]
  },
  {
   "cell_type": "code",
   "execution_count": 10,
   "id": "9ac911c5",
   "metadata": {},
   "outputs": [
    {
     "data": {
      "text/html": [
       "<div>\n",
       "<style scoped>\n",
       "    .dataframe tbody tr th:only-of-type {\n",
       "        vertical-align: middle;\n",
       "    }\n",
       "\n",
       "    .dataframe tbody tr th {\n",
       "        vertical-align: top;\n",
       "    }\n",
       "\n",
       "    .dataframe thead th {\n",
       "        text-align: right;\n",
       "    }\n",
       "</style>\n",
       "<table border=\"1\" class=\"dataframe\">\n",
       "  <thead>\n",
       "    <tr style=\"text-align: right;\">\n",
       "      <th></th>\n",
       "      <th>sex</th>\n",
       "      <th>exang</th>\n",
       "    </tr>\n",
       "  </thead>\n",
       "  <tbody>\n",
       "    <tr>\n",
       "      <th>0</th>\n",
       "      <td>1</td>\n",
       "      <td>1</td>\n",
       "    </tr>\n",
       "    <tr>\n",
       "      <th>1</th>\n",
       "      <td>1</td>\n",
       "      <td>1</td>\n",
       "    </tr>\n",
       "    <tr>\n",
       "      <th>2</th>\n",
       "      <td>1</td>\n",
       "      <td>0</td>\n",
       "    </tr>\n",
       "    <tr>\n",
       "      <th>3</th>\n",
       "      <td>1</td>\n",
       "      <td>0</td>\n",
       "    </tr>\n",
       "    <tr>\n",
       "      <th>4</th>\n",
       "      <td>1</td>\n",
       "      <td>0</td>\n",
       "    </tr>\n",
       "  </tbody>\n",
       "</table>\n",
       "</div>"
      ],
      "text/plain": [
       "   sex  exang\n",
       "0    1      1\n",
       "1    1      1\n",
       "2    1      0\n",
       "3    1      0\n",
       "4    1      0"
      ]
     },
     "execution_count": 10,
     "metadata": {},
     "output_type": "execute_result"
    }
   ],
   "source": [
    "# проверяем, что данные разсплитились как нам нужно, выводя X и/или y\n",
    "X.head(5)"
   ]
  },
  {
   "cell_type": "code",
   "execution_count": null,
   "id": "198dcb54",
   "metadata": {},
   "outputs": [],
   "source": [
    "# создание вспомогательного дата-фрэйма, если нужно сохранять промежуточые результаты валидации\n",
    "# scores = pd.DataFrame()\n",
    "# scores"
   ]
  },
  {
   "cell_type": "code",
   "execution_count": 14,
   "id": "06cad949",
   "metadata": {},
   "outputs": [
    {
     "data": {
      "text/plain": [
       "{'max_depth': 1, 'min_samples_leaf': 1, 'min_samples_split': 2}"
      ]
     },
     "execution_count": 14,
     "metadata": {},
     "output_type": "execute_result"
    }
   ],
   "source": [
    "# ветка с использованием GridSearchCV кросвалидаци по лучшим параметрам\n",
    "# Инициализация Дерева\n",
    "dt = DecisionTreeClassifier()\n",
    "# Словарь параметров для Дерева и их диапазоном значений\n",
    "dt_params = {'max_depth': [1, 10], 'min_samples_split': [2, 10], 'min_samples_leaf': [1, 10]}\n",
    "# Обучение Дерева с перебором значений параметров\n",
    "search = GridSearchCV(dt, param_grid=dt_params, cv=5)\n",
    "search.fit(X, y)\n",
    "# Дерево с лучшим сочетаением параметров\n",
    "best_tree = search.best_estimator_\n",
    "# вывод лучшиего дерева\n",
    "search.best_estimator_\n",
    "# вывод лучших параметров для дерева\n",
    "search.best_params_\n",
    "# предсказания с лучшим сочетанием параметров через метод predict() на тестовых данных-признаках testX\n",
    "# predictions = best_tree.predict(testX)\n",
    "# постройка confusion-matrix на основе истинных значений (использованных в обучении) и предсказанных (использованных в predict)\n",
    "# conf_matrix = confusion_matrix(y, predictions)"
   ]
  },
  {
   "cell_type": "code",
   "execution_count": 21,
   "id": "cd1444ef",
   "metadata": {},
   "outputs": [
    {
     "data": {
      "text/plain": [
       "{'min_samples_split': 2, 'min_samples_leaf': 1, 'max_depth': 1}"
      ]
     },
     "execution_count": 21,
     "metadata": {},
     "output_type": "execute_result"
    }
   ],
   "source": [
    "# ветка с использованием рандомного подбора параметров RandomizedSearchCV (снижение времени обучения)\n",
    "dt = DecisionTreeClassifier()\n",
    "dt_params = {'max_depth': [1, 10], 'min_samples_split': [2, 10], 'min_samples_leaf': [1, 10]}\n",
    "search = RandomizedSearchCV(dt, dt_params, n_iter = 8)\n",
    "search.fit(X, y)\n",
    "best_tree = search.best_estimator_\n",
    "search.best_params_"
   ]
  },
  {
   "cell_type": "code",
   "execution_count": 12,
   "id": "51fd5f52",
   "metadata": {},
   "outputs": [],
   "source": [
    "# классом sk.learn сплитим данные X, y на обучающие (обучаем на них дерево) и проверочные (проверяем на них точность предсказания обученного дерева) \n",
    "X_train, X_test, y_train, y_test = train_test_split(X, y, test_size=0.33, random_state=42)"
   ]
  },
  {
   "cell_type": "code",
   "execution_count": 28,
   "id": "21fcaa2d",
   "metadata": {},
   "outputs": [
    {
     "data": {
      "text/html": [
       "<style>#sk-container-id-7 {color: black;background-color: white;}#sk-container-id-7 pre{padding: 0;}#sk-container-id-7 div.sk-toggleable {background-color: white;}#sk-container-id-7 label.sk-toggleable__label {cursor: pointer;display: block;width: 100%;margin-bottom: 0;padding: 0.3em;box-sizing: border-box;text-align: center;}#sk-container-id-7 label.sk-toggleable__label-arrow:before {content: \"▸\";float: left;margin-right: 0.25em;color: #696969;}#sk-container-id-7 label.sk-toggleable__label-arrow:hover:before {color: black;}#sk-container-id-7 div.sk-estimator:hover label.sk-toggleable__label-arrow:before {color: black;}#sk-container-id-7 div.sk-toggleable__content {max-height: 0;max-width: 0;overflow: hidden;text-align: left;background-color: #f0f8ff;}#sk-container-id-7 div.sk-toggleable__content pre {margin: 0.2em;color: black;border-radius: 0.25em;background-color: #f0f8ff;}#sk-container-id-7 input.sk-toggleable__control:checked~div.sk-toggleable__content {max-height: 200px;max-width: 100%;overflow: auto;}#sk-container-id-7 input.sk-toggleable__control:checked~label.sk-toggleable__label-arrow:before {content: \"▾\";}#sk-container-id-7 div.sk-estimator input.sk-toggleable__control:checked~label.sk-toggleable__label {background-color: #d4ebff;}#sk-container-id-7 div.sk-label input.sk-toggleable__control:checked~label.sk-toggleable__label {background-color: #d4ebff;}#sk-container-id-7 input.sk-hidden--visually {border: 0;clip: rect(1px 1px 1px 1px);clip: rect(1px, 1px, 1px, 1px);height: 1px;margin: -1px;overflow: hidden;padding: 0;position: absolute;width: 1px;}#sk-container-id-7 div.sk-estimator {font-family: monospace;background-color: #f0f8ff;border: 1px dotted black;border-radius: 0.25em;box-sizing: border-box;margin-bottom: 0.5em;}#sk-container-id-7 div.sk-estimator:hover {background-color: #d4ebff;}#sk-container-id-7 div.sk-parallel-item::after {content: \"\";width: 100%;border-bottom: 1px solid gray;flex-grow: 1;}#sk-container-id-7 div.sk-label:hover label.sk-toggleable__label {background-color: #d4ebff;}#sk-container-id-7 div.sk-serial::before {content: \"\";position: absolute;border-left: 1px solid gray;box-sizing: border-box;top: 0;bottom: 0;left: 50%;z-index: 0;}#sk-container-id-7 div.sk-serial {display: flex;flex-direction: column;align-items: center;background-color: white;padding-right: 0.2em;padding-left: 0.2em;position: relative;}#sk-container-id-7 div.sk-item {position: relative;z-index: 1;}#sk-container-id-7 div.sk-parallel {display: flex;align-items: stretch;justify-content: center;background-color: white;position: relative;}#sk-container-id-7 div.sk-item::before, #sk-container-id-7 div.sk-parallel-item::before {content: \"\";position: absolute;border-left: 1px solid gray;box-sizing: border-box;top: 0;bottom: 0;left: 50%;z-index: -1;}#sk-container-id-7 div.sk-parallel-item {display: flex;flex-direction: column;z-index: 1;position: relative;background-color: white;}#sk-container-id-7 div.sk-parallel-item:first-child::after {align-self: flex-end;width: 50%;}#sk-container-id-7 div.sk-parallel-item:last-child::after {align-self: flex-start;width: 50%;}#sk-container-id-7 div.sk-parallel-item:only-child::after {width: 0;}#sk-container-id-7 div.sk-dashed-wrapped {border: 1px dashed gray;margin: 0 0.4em 0.5em 0.4em;box-sizing: border-box;padding-bottom: 0.4em;background-color: white;}#sk-container-id-7 div.sk-label label {font-family: monospace;font-weight: bold;display: inline-block;line-height: 1.2em;}#sk-container-id-7 div.sk-label-container {text-align: center;}#sk-container-id-7 div.sk-container {/* jupyter's `normalize.less` sets `[hidden] { display: none; }` but bootstrap.min.css set `[hidden] { display: none !important; }` so we also need the `!important` here to be able to override the default hidden behavior on the sphinx rendered scikit-learn.org. See: https://github.com/scikit-learn/scikit-learn/issues/21755 */display: inline-block !important;position: relative;}#sk-container-id-7 div.sk-text-repr-fallback {display: none;}</style><div id=\"sk-container-id-7\" class=\"sk-top-container\"><div class=\"sk-text-repr-fallback\"><pre>DecisionTreeClassifier(criterion=&#x27;entropy&#x27;, max_depth=3)</pre><b>In a Jupyter environment, please rerun this cell to show the HTML representation or trust the notebook. <br />On GitHub, the HTML representation is unable to render, please try loading this page with nbviewer.org.</b></div><div class=\"sk-container\" hidden><div class=\"sk-item\"><div class=\"sk-estimator sk-toggleable\"><input class=\"sk-toggleable__control sk-hidden--visually\" id=\"sk-estimator-id-7\" type=\"checkbox\" checked><label for=\"sk-estimator-id-7\" class=\"sk-toggleable__label sk-toggleable__label-arrow\">DecisionTreeClassifier</label><div class=\"sk-toggleable__content\"><pre>DecisionTreeClassifier(criterion=&#x27;entropy&#x27;, max_depth=3)</pre></div></div></div></div></div>"
      ],
      "text/plain": [
       "DecisionTreeClassifier(criterion='entropy', max_depth=3)"
      ]
     },
     "execution_count": 28,
     "metadata": {},
     "output_type": "execute_result"
    }
   ],
   "source": [
    "# создаём экземпляр класса дерева и фитим его тренировочными данными, задав параметры. Результат - обученное дерево.\n",
    "clf = DecisionTreeClassifier(criterion = 'entropy', max_depth = 3)\n",
    "clf.fit(X, y)"
   ]
  },
  {
   "cell_type": "code",
   "execution_count": 29,
   "id": "81cc7096",
   "metadata": {},
   "outputs": [
    {
     "data": {
      "text/plain": [
       "0.759493670886076"
      ]
     },
     "execution_count": 29,
     "metadata": {},
     "output_type": "execute_result"
    }
   ],
   "source": [
    "# проверяем точность предсказания дерева на тестовых данных с помощью метода\n",
    "clf.score(X_test, y_test)"
   ]
  },
  {
   "cell_type": "code",
   "execution_count": 32,
   "id": "c8c002c7",
   "metadata": {},
   "outputs": [
    {
     "data": {
      "text/plain": [
       "array([1, 1, 0, 0, 0, 1, 0, 0, 0, 0, 1, 1, 0, 0, 0, 1, 1, 0, 0, 1, 1, 0,\n",
       "       1, 0, 0, 0, 1, 0, 0, 0, 0, 0, 0, 0, 0, 0, 1, 1, 0, 0, 0, 0, 1, 0,\n",
       "       0, 1, 0, 1, 0, 0, 1, 0, 1, 0, 0, 0, 0, 0, 0, 0, 1, 0, 0, 0, 0, 0,\n",
       "       0, 0, 0, 0, 1, 0, 1, 0, 0, 1, 0, 1, 1], dtype=int64)"
      ]
     },
     "execution_count": 32,
     "metadata": {},
     "output_type": "execute_result"
    }
   ],
   "source": [
    "# предсказываем (если требуется) на основе тестовых данных признаков целевую переменную.\n",
    "clf.predict(X_test)"
   ]
  },
  {
   "cell_type": "code",
   "execution_count": 22,
   "id": "935dc05f",
   "metadata": {},
   "outputs": [
    {
     "data": {
      "text/plain": [
       "[Text(0.5, 0.75, 'X[1] <= 0.5\\ngini = 0.497\\nsamples = 238\\nvalue = [128, 110]'),\n",
       " Text(0.25, 0.25, 'gini = 0.434\\nsamples = 157\\nvalue = [107, 50]'),\n",
       " Text(0.75, 0.25, 'gini = 0.384\\nsamples = 81\\nvalue = [21, 60]')]"
      ]
     },
     "execution_count": 22,
     "metadata": {},
     "output_type": "execute_result"
    },
    {
     "data": {
      "image/png": "[encoded data removed]",
      "text/plain": [
       "<Figure size 432x288 with 1 Axes>"
      ]
     },
     "metadata": {
      "needs_background": "light"
     },
     "output_type": "display_data"
    }
   ],
   "source": [
    "# рисуем дерево методом\n",
    "tree.plot_tree(best_tree)"
   ]
  },
  {
   "cell_type": "code",
   "execution_count": 31,
   "id": "1b9d6480",
   "metadata": {},
   "outputs": [
    {
     "data": {
      "text/plain": [
       "0.11920588235294105"
      ]
     },
     "execution_count": 31,
     "metadata": {},
     "output_type": "execute_result"
    }
   ],
   "source": [
    "# считаем information gain для переменной в корне дерева (IG = E - (n0*E0 + n1*E1)/N). Чем больше - тем переменная больше коррелирует.\n",
    "# E - энтропия в корне дерева, n0 - чило сэмплов слева, n1 - число сэмплов справа, E0 - энтропия слева, Е1 - энтропия справа. N = n0+n1)\n",
    "inf_gain = 0.996 - (0.903*157 + 0.826*81)/(157 + 81)\n",
    "inf_gain"
   ]
  },
  {
   "cell_type": "code",
   "execution_count": 161,
   "id": "84213955",
   "metadata": {},
   "outputs": [
    {
     "name": "stdout",
     "output_type": "stream",
     "text": [
      "55\n"
     ]
    }
   ],
   "source": [
    "# автоподсчёт собачек в предсказанном массиве из какого-то задания\n",
    "dogs = [*clf.predict(test_dat)].count('собачка')\n",
    "print(dogs)"
   ]
  },
  {
   "cell_type": "code",
   "execution_count": 105,
   "id": "29a3f754",
   "metadata": {},
   "outputs": [],
   "source": [
    "# rs = np.random.seed(0)"
   ]
  },
  {
   "cell_type": "code",
   "execution_count": 106,
   "id": "8ac52bf7",
   "metadata": {},
   "outputs": [],
   "source": [
    "# for i in range(1, 100):\n",
    "#     my_awesome_tree = RandomForestClassifier(criterion = 'entropy', max_depth=i, random_state=rs)\n",
    "#     my_awesome_tree.fit(X, y)\n",
    "#     train_score = my_awesome_tree.score(X, y)\n",
    "#     test_score = my_awesome_tree.score(X_test, y_test)\n",
    "\n",
    "#     temp_scores = pd.DataFrame({\n",
    "#         'max_depth': [i],\n",
    "#         'train_score': [train_score],\n",
    "#         'test_score': [test_score]})\n",
    "#     scores = pd.concat([scores, temp_scores])"
   ]
  },
  {
   "cell_type": "code",
   "execution_count": 126,
   "id": "a3168165",
   "metadata": {},
   "outputs": [],
   "source": [
    "# scores"
   ]
  },
  {
   "cell_type": "code",
   "execution_count": 128,
   "id": "8811627e",
   "metadata": {},
   "outputs": [],
   "source": [
    "# score_data_long=pd.melt(scores, id_vars=['max_depth'], value_vars=['train_score','test_score'],\n",
    "#                         var_name='set_type', value_name='score' )\n",
    "\n",
    "# plt.figure(figsize=(30, 10)) #просто размер нормальный делаем \n",
    "# sns.lineplot(x='max_depth',y='score', hue='set_type', data=score_data_long)"
   ]
  },
  {
   "cell_type": "code",
   "execution_count": null,
   "id": "73def2fa",
   "metadata": {},
   "outputs": [],
   "source": []
  },
  {
   "cell_type": "code",
   "execution_count": null,
   "id": "9ea33842",
   "metadata": {},
   "outputs": [],
   "source": []
  },
  {
   "cell_type": "code",
   "execution_count": null,
   "id": "a611acfd",
   "metadata": {},
   "outputs": [],
   "source": []
  },
  {
   "cell_type": "code",
   "execution_count": null,
   "id": "4d653d12",
   "metadata": {},
   "outputs": [],
   "source": []
  },
  {
   "cell_type": "code",
   "execution_count": null,
   "id": "d38729fd",
   "metadata": {},
   "outputs": [],
   "source": []
  },
  {
   "cell_type": "code",
   "execution_count": null,
   "id": "7c60e183",
   "metadata": {},
   "outputs": [],
   "source": []
  }
 ],
 "metadata": {
  "kernelspec": {
   "display_name": "Python 3 (ipykernel)",
   "language": "python",
   "name": "python3"
  },
  "language_info": {
   "codemirror_mode": {
    "name": "ipython",
    "version": 3
   },
   "file_extension": ".py",
   "mimetype": "text/x-python",
   "name": "python",
   "nbconvert_exporter": "python",
   "pygments_lexer": "ipython3",
   "version": "3.10.4"
  }
 },
 "nbformat": 4,
 "nbformat_minor": 5
}
