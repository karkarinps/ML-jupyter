{
 "cells": [
  {
   "cell_type": "code",
   "execution_count": 1,
   "id": "a8648fd6",
   "metadata": {},
   "outputs": [],
   "source": [
    "# грузим пандас, грузим датафрейм\n",
    "import pandas as pd\n",
    "dataframe = pd.read_excel('C://Users/Uldum/Downloads/result_roles.xlsx')"
   ]
  },
  {
   "cell_type": "code",
   "execution_count": 2,
   "id": "3fa15e75",
   "metadata": {
    "scrolled": true
   },
   "outputs": [
    {
     "name": "stdout",
     "output_type": "stream",
     "text": [
      "<class 'pandas.core.frame.DataFrame'>\n",
      "RangeIndex: 76382 entries, 0 to 76381\n",
      "Data columns (total 51 columns):\n",
      " #   Column                    Non-Null Count  Dtype \n",
      "---  ------                    --------------  ----- \n",
      " 0   Unnamed: 0                76382 non-null  int64 \n",
      " 1   id                        76382 non-null  int64 \n",
      " 2   premium                   76382 non-null  bool  \n",
      " 3   name                      76382 non-null  object\n",
      " 4   department                4902 non-null   object\n",
      " 5   has_test                  76380 non-null  object\n",
      " 6   response_letter_required  76382 non-null  object\n",
      " 7   area                      76381 non-null  object\n",
      " 8   salary                    40874 non-null  object\n",
      " 9   type                      76379 non-null  object\n",
      " 10  published_at              76380 non-null  object\n",
      " 11  created_at                76381 non-null  object\n",
      " 12  archived                  76380 non-null  object\n",
      " 13  insider_interview         570 non-null    object\n",
      " 14  url                       76380 non-null  object\n",
      " 15  alternate_url             76382 non-null  object\n",
      " 16  relations                 76381 non-null  object\n",
      " 17  employer                  76382 non-null  object\n",
      " 18  snippet                   76381 non-null  object\n",
      " 19  schedule                  76381 non-null  object\n",
      " 20  working_days              76381 non-null  object\n",
      " 21  working_time_intervals    76382 non-null  object\n",
      " 22  working_time_modes        76382 non-null  object\n",
      " 23  accept_temporary          76381 non-null  object\n",
      " 24  description               76382 non-null  object\n",
      " 25  experience                76382 non-null  object\n",
      " 26  key_skills                76381 non-null  object\n",
      " 27  specializations           76382 non-null  object\n",
      " 28  region                    76382 non-null  object\n",
      " 29  Unnamed: 29               354 non-null    object\n",
      " 30  Unnamed: 30               335 non-null    object\n",
      " 31  Unnamed: 31               261 non-null    object\n",
      " 32  Unnamed: 32               235 non-null    object\n",
      " 33  Unnamed: 33               216 non-null    object\n",
      " 34  Unnamed: 34               177 non-null    object\n",
      " 35  Unnamed: 35               157 non-null    object\n",
      " 36  Unnamed: 36               134 non-null    object\n",
      " 37  Unnamed: 37               113 non-null    object\n",
      " 38  Unnamed: 38               83 non-null     object\n",
      " 39  Unnamed: 39               63 non-null     object\n",
      " 40  Unnamed: 40               52 non-null     object\n",
      " 41  Unnamed: 41               37 non-null     object\n",
      " 42  Unnamed: 42               28 non-null     object\n",
      " 43  Unnamed: 43               21 non-null     object\n",
      " 44  Unnamed: 44               15 non-null     object\n",
      " 45  Unnamed: 45               9 non-null      object\n",
      " 46  Unnamed: 46               6 non-null      object\n",
      " 47  Unnamed: 47               2 non-null      object\n",
      " 48  Unnamed: 48               1 non-null      object\n",
      " 49  Unnamed: 49               1 non-null      object\n",
      " 50  Unnamed: 50               1 non-null      object\n",
      "dtypes: bool(1), int64(2), object(48)\n",
      "memory usage: 29.2+ MB\n"
     ]
    }
   ],
   "source": [
    "# оценим датафрейм, выведем общую информацию\n",
    "dataframe.info()"
   ]
  },
  {
   "cell_type": "code",
   "execution_count": 3,
   "id": "5dc1340e",
   "metadata": {},
   "outputs": [
    {
     "data": {
      "text/plain": [
       "\"[{'name': 'SQL'}, {'name': 'Linux'}, {'name': 'Информационная безопасность'}, {'name': 'Работа с базами данных'}, {'name': 'Базы данных'}]\""
      ]
     },
     "execution_count": 3,
     "metadata": {},
     "output_type": "execute_result"
    }
   ],
   "source": [
    "# изменяем колонку ключевых навыков на более читаемую\n",
    "# выводим посмотреть структуру записи строки в изначальном формате\n",
    "dataframe['key_skills'][1]"
   ]
  },
  {
   "cell_type": "code",
   "execution_count": 4,
   "id": "239b80d8",
   "metadata": {},
   "outputs": [],
   "source": [
    "# грузим json и пытаемся перевести в формат списка словарей одну строку для пробы, убрав лишние символы\n",
    "import json\n",
    "alp = json.loads(dataframe['key_skills'][1].replace(\"'\", '\"'))"
   ]
  },
  {
   "cell_type": "code",
   "execution_count": 5,
   "id": "28abfd47",
   "metadata": {},
   "outputs": [
    {
     "data": {
      "text/plain": [
       "['SQL',\n",
       " 'Linux',\n",
       " 'Информационная безопасность',\n",
       " 'Работа с базами данных',\n",
       " 'Базы данных']"
      ]
     },
     "execution_count": 5,
     "metadata": {},
     "output_type": "execute_result"
    }
   ],
   "source": [
    "# пробуем на одной строке вывести список навыков в нужном формате, выдергивая их из списка словарей\n",
    "skills_list = [alp[i]['name'] for i in range(len(alp))]\n",
    "skills_list"
   ]
  },
  {
   "cell_type": "code",
   "execution_count": 6,
   "id": "869cf5f3",
   "metadata": {},
   "outputs": [
    {
     "data": {
      "text/plain": [
       "0                                                       []\n",
       "1        [{'name': 'SQL'}, {'name': 'Linux'}, {'name': ...\n",
       "2                                                       []\n",
       "3                                                       []\n",
       "4        [{'name': 'Git'}, {'name': 'SQL'}, {'name': 'Т...\n",
       "                               ...                        \n",
       "76377    [{'name': 'Подбор персонала'}, {'name': 'Массо...\n",
       "76378    [{'name': 'Подбор персонала'}, {'name': 'Орган...\n",
       "76379    [{'name': 'Подбор персонала'}, {'name': 'Управ...\n",
       "76380                                                   []\n",
       "76381                                                   []\n",
       "Name: key_skills, Length: 76382, dtype: object"
      ]
     },
     "execution_count": 6,
     "metadata": {},
     "output_type": "execute_result"
    }
   ],
   "source": [
    "# заполняем пустые значения колонки 'ключевые навыки' пустыми списками\n",
    "dataframe['key_skills'] = dataframe['key_skills'].fillna('[]')\n",
    "dataframe['key_skills']"
   ]
  },
  {
   "cell_type": "code",
   "execution_count": 7,
   "id": "09da1fd0",
   "metadata": {},
   "outputs": [],
   "source": [
    "# создаём и применяем функцию для перевода строк в словарный формат\n",
    "def text_to_json(text):\n",
    "  try:\n",
    "#     грузим каждую строку в виде json, попутно убирая лишние символы\n",
    "    return json.loads(text.replace('\"', '').replace(\"'\", '\"'))\n",
    "  except:\n",
    "    return []\n",
    "dataframe['key_skills_json'] = dataframe['key_skills'].apply(text_to_json)"
   ]
  },
  {
   "cell_type": "code",
   "execution_count": 8,
   "id": "9708e85e",
   "metadata": {},
   "outputs": [
    {
     "data": {
      "text/plain": [
       "[{'name': 'SQL'},\n",
       " {'name': 'Linux'},\n",
       " {'name': 'Информационная безопасность'},\n",
       " {'name': 'Работа с базами данных'},\n",
       " {'name': 'Базы данных'}]"
      ]
     },
     "execution_count": 8,
     "metadata": {},
     "output_type": "execute_result"
    }
   ],
   "source": [
    "# выводим посмотреть что получилось после перевода в формат словарей\n",
    "appl = dataframe['key_skills_json'][1]\n",
    "appl"
   ]
  },
  {
   "cell_type": "code",
   "execution_count": 9,
   "id": "c08886f8",
   "metadata": {},
   "outputs": [
    {
     "data": {
      "text/plain": [
       "['SQL',\n",
       " 'Linux',\n",
       " 'Информационная безопасность',\n",
       " 'Работа с базами данных',\n",
       " 'Базы данных']"
      ]
     },
     "execution_count": 9,
     "metadata": {},
     "output_type": "execute_result"
    }
   ],
   "source": [
    "# пробуем написать выражение для вывода из списка словарей навыков - списка навыков\n",
    "[appl[i]['name'] for i in range(len(appl))]"
   ]
  },
  {
   "cell_type": "code",
   "execution_count": 10,
   "id": "f2bfd9d7",
   "metadata": {},
   "outputs": [],
   "source": [
    "# создаём и применяем функцию к колонке навыков\n",
    "def skills(text):\n",
    "    try:\n",
    "#         возвращает i элемент последовательности из списка словарей, выводит значение по ключу name\n",
    "        return [text[i]['name'] for i in range(len(text))]\n",
    "    except: \n",
    "        return []\n",
    "dataframe['key_skills_json'] = dataframe['key_skills_json'].apply(skills)"
   ]
  },
  {
   "cell_type": "code",
   "execution_count": 11,
   "id": "4ef3540b",
   "metadata": {},
   "outputs": [
    {
     "data": {
      "text/plain": [
       "0                                                       []\n",
       "1        [SQL, Linux, Информационная безопасность, Рабо...\n",
       "2                                                       []\n",
       "3                                                       []\n",
       "4                        [Git, SQL, Тестирование, C#, API]\n",
       "                               ...                        \n",
       "76377    [Подбор персонала, Массовый подбор персонала, ...\n",
       "76378    [Подбор персонала, Организация стажировок, Сос...\n",
       "76379    [Подбор персонала, Управление персоналом, 1С: ...\n",
       "76380                                                   []\n",
       "76381                                                   []\n",
       "Name: key_skills_json, Length: 76382, dtype: object"
      ]
     },
     "execution_count": 11,
     "metadata": {},
     "output_type": "execute_result"
    }
   ],
   "source": [
    "# выводим колонку со скилами посмотреть\n",
    "dataframe['key_skills_json']"
   ]
  },
  {
   "cell_type": "code",
   "execution_count": 12,
   "id": "613e10d1",
   "metadata": {},
   "outputs": [
    {
     "data": {
      "text/plain": [
       "region                                                                                                                                                                                            \n",
       "Москва                                                                                                                                                                                                21793\n",
       "Санкт-Петербург                                                                                                                                                                                        8938\n",
       "Краснодарский край                                                                                                                                                                                     3468\n",
       "Свердловская область                                                                                                                                                                                   2953\n",
       "Республика Татарстан                                                                                                                                                                                   2700\n",
       "                                                                                                                                                                                                      ...  \n",
       "</li> <li>обеспечение работы структурированной кабельной системы.</li> </ul> <p>Требования:</p> <ul> <li>среднее профессиональное либо высшее образование                                                 1\n",
       "</li> <li>нацеленность на результат</li> </ul> <strong>Условия:</strong> <ul> <li>График работы 5/2</li> <li>Официальное оформление в соответствии с ТК РФ.</li> <li>командировки в другие регионы        1\n",
       "</li> <li>координация деятельности подчиненных подразделений                                                                                                                                              1\n",
       "</li> <li>интегрировать решения на платформе 1С с другими ПП                                                                                                                                              1\n",
       "</p> <p>√ Обучение за счет ресурсов компании                                                                                                                                                              1\n",
       "Length: 348, dtype: int64"
      ]
     },
     "execution_count": 12,
     "metadata": {},
     "output_type": "execute_result"
    }
   ],
   "source": [
    "# дроп дубликатов строк\n",
    "# просматриваем колонки для оценки целесообразности включения в список дропа дубликатов\n",
    "dataframe[['region']].value_counts()"
   ]
  },
  {
   "cell_type": "code",
   "execution_count": 13,
   "id": "93e99544",
   "metadata": {
    "scrolled": true
   },
   "outputs": [
    {
     "data": {
      "text/html": [
       "<div>\n",
       "<style scoped>\n",
       "    .dataframe tbody tr th:only-of-type {\n",
       "        vertical-align: middle;\n",
       "    }\n",
       "\n",
       "    .dataframe tbody tr th {\n",
       "        vertical-align: top;\n",
       "    }\n",
       "\n",
       "    .dataframe thead th {\n",
       "        text-align: right;\n",
       "    }\n",
       "</style>\n",
       "<table border=\"1\" class=\"dataframe\">\n",
       "  <thead>\n",
       "    <tr style=\"text-align: right;\">\n",
       "      <th></th>\n",
       "      <th>Unnamed: 0</th>\n",
       "      <th>id</th>\n",
       "      <th>premium</th>\n",
       "      <th>name</th>\n",
       "      <th>department</th>\n",
       "      <th>has_test</th>\n",
       "      <th>response_letter_required</th>\n",
       "      <th>area</th>\n",
       "      <th>salary</th>\n",
       "      <th>type</th>\n",
       "      <th>...</th>\n",
       "      <th>Unnamed: 42</th>\n",
       "      <th>Unnamed: 43</th>\n",
       "      <th>Unnamed: 44</th>\n",
       "      <th>Unnamed: 45</th>\n",
       "      <th>Unnamed: 46</th>\n",
       "      <th>Unnamed: 47</th>\n",
       "      <th>Unnamed: 48</th>\n",
       "      <th>Unnamed: 49</th>\n",
       "      <th>Unnamed: 50</th>\n",
       "      <th>key_skills_json</th>\n",
       "    </tr>\n",
       "  </thead>\n",
       "  <tbody>\n",
       "    <tr>\n",
       "      <th>0</th>\n",
       "      <td>0</td>\n",
       "      <td>49059633</td>\n",
       "      <td>False</td>\n",
       "      <td>Младший специалист ручного тестирования</td>\n",
       "      <td>NaN</td>\n",
       "      <td>False</td>\n",
       "      <td>False</td>\n",
       "      <td>{'id': '15', 'name': 'Астрахань', 'url': 'http...</td>\n",
       "      <td>NaN</td>\n",
       "      <td>{'id': 'open', 'name': 'Открытая'}</td>\n",
       "      <td>...</td>\n",
       "      <td>NaN</td>\n",
       "      <td>NaN</td>\n",
       "      <td>NaN</td>\n",
       "      <td>NaN</td>\n",
       "      <td>NaN</td>\n",
       "      <td>NaN</td>\n",
       "      <td>NaN</td>\n",
       "      <td>NaN</td>\n",
       "      <td>NaN</td>\n",
       "      <td>[]</td>\n",
       "    </tr>\n",
       "    <tr>\n",
       "      <th>1</th>\n",
       "      <td>1</td>\n",
       "      <td>54252278</td>\n",
       "      <td>False</td>\n",
       "      <td>Пентестер</td>\n",
       "      <td>NaN</td>\n",
       "      <td>False</td>\n",
       "      <td>False</td>\n",
       "      <td>{'id': '15', 'name': 'Астрахань', 'url': 'http...</td>\n",
       "      <td>NaN</td>\n",
       "      <td>{'id': 'open', 'name': 'Открытая'}</td>\n",
       "      <td>...</td>\n",
       "      <td>NaN</td>\n",
       "      <td>NaN</td>\n",
       "      <td>NaN</td>\n",
       "      <td>NaN</td>\n",
       "      <td>NaN</td>\n",
       "      <td>NaN</td>\n",
       "      <td>NaN</td>\n",
       "      <td>NaN</td>\n",
       "      <td>NaN</td>\n",
       "      <td>[SQL, Linux, Информационная безопасность, Рабо...</td>\n",
       "    </tr>\n",
       "    <tr>\n",
       "      <th>2</th>\n",
       "      <td>2</td>\n",
       "      <td>54428119</td>\n",
       "      <td>False</td>\n",
       "      <td>Асессор-тестировщик</td>\n",
       "      <td>NaN</td>\n",
       "      <td>False</td>\n",
       "      <td>False</td>\n",
       "      <td>{'id': '15', 'name': 'Астрахань', 'url': 'http...</td>\n",
       "      <td>NaN</td>\n",
       "      <td>{'id': 'open', 'name': 'Открытая'}</td>\n",
       "      <td>...</td>\n",
       "      <td>NaN</td>\n",
       "      <td>NaN</td>\n",
       "      <td>NaN</td>\n",
       "      <td>NaN</td>\n",
       "      <td>NaN</td>\n",
       "      <td>NaN</td>\n",
       "      <td>NaN</td>\n",
       "      <td>NaN</td>\n",
       "      <td>NaN</td>\n",
       "      <td>[]</td>\n",
       "    </tr>\n",
       "    <tr>\n",
       "      <th>3</th>\n",
       "      <td>3</td>\n",
       "      <td>54429041</td>\n",
       "      <td>False</td>\n",
       "      <td>Тестировщик (асессор)</td>\n",
       "      <td>NaN</td>\n",
       "      <td>False</td>\n",
       "      <td>False</td>\n",
       "      <td>{'id': '15', 'name': 'Астрахань', 'url': 'http...</td>\n",
       "      <td>NaN</td>\n",
       "      <td>{'id': 'open', 'name': 'Открытая'}</td>\n",
       "      <td>...</td>\n",
       "      <td>NaN</td>\n",
       "      <td>NaN</td>\n",
       "      <td>NaN</td>\n",
       "      <td>NaN</td>\n",
       "      <td>NaN</td>\n",
       "      <td>NaN</td>\n",
       "      <td>NaN</td>\n",
       "      <td>NaN</td>\n",
       "      <td>NaN</td>\n",
       "      <td>[]</td>\n",
       "    </tr>\n",
       "    <tr>\n",
       "      <th>4</th>\n",
       "      <td>4</td>\n",
       "      <td>54653519</td>\n",
       "      <td>False</td>\n",
       "      <td>Тестировщик.Net</td>\n",
       "      <td>NaN</td>\n",
       "      <td>False</td>\n",
       "      <td>False</td>\n",
       "      <td>{'id': '15', 'name': 'Астрахань', 'url': 'http...</td>\n",
       "      <td>{'from': 25000, 'to': 50000, 'currency': 'RUR'...</td>\n",
       "      <td>{'id': 'open', 'name': 'Открытая'}</td>\n",
       "      <td>...</td>\n",
       "      <td>NaN</td>\n",
       "      <td>NaN</td>\n",
       "      <td>NaN</td>\n",
       "      <td>NaN</td>\n",
       "      <td>NaN</td>\n",
       "      <td>NaN</td>\n",
       "      <td>NaN</td>\n",
       "      <td>NaN</td>\n",
       "      <td>NaN</td>\n",
       "      <td>[Git, SQL, Тестирование, C#, API]</td>\n",
       "    </tr>\n",
       "    <tr>\n",
       "      <th>...</th>\n",
       "      <td>...</td>\n",
       "      <td>...</td>\n",
       "      <td>...</td>\n",
       "      <td>...</td>\n",
       "      <td>...</td>\n",
       "      <td>...</td>\n",
       "      <td>...</td>\n",
       "      <td>...</td>\n",
       "      <td>...</td>\n",
       "      <td>...</td>\n",
       "      <td>...</td>\n",
       "      <td>...</td>\n",
       "      <td>...</td>\n",
       "      <td>...</td>\n",
       "      <td>...</td>\n",
       "      <td>...</td>\n",
       "      <td>...</td>\n",
       "      <td>...</td>\n",
       "      <td>...</td>\n",
       "      <td>...</td>\n",
       "      <td>...</td>\n",
       "    </tr>\n",
       "    <tr>\n",
       "      <th>76374</th>\n",
       "      <td>521</td>\n",
       "      <td>54451352</td>\n",
       "      <td>False</td>\n",
       "      <td>Ведущий менеджер по подбору персонала</td>\n",
       "      <td>NaN</td>\n",
       "      <td>False</td>\n",
       "      <td>False</td>\n",
       "      <td>{'id': '92', 'name': 'Тула', 'url': 'https://a...</td>\n",
       "      <td>{'from': 60000, 'to': 80000, 'currency': 'RUR'...</td>\n",
       "      <td>{'id': 'open', 'name': 'Открытая'}</td>\n",
       "      <td>...</td>\n",
       "      <td>NaN</td>\n",
       "      <td>NaN</td>\n",
       "      <td>NaN</td>\n",
       "      <td>NaN</td>\n",
       "      <td>NaN</td>\n",
       "      <td>NaN</td>\n",
       "      <td>NaN</td>\n",
       "      <td>NaN</td>\n",
       "      <td>NaN</td>\n",
       "      <td>[Подбор персонала, проведение групповых интерв...</td>\n",
       "    </tr>\n",
       "    <tr>\n",
       "      <th>76376</th>\n",
       "      <td>523</td>\n",
       "      <td>54515848</td>\n",
       "      <td>False</td>\n",
       "      <td>Менеджер по подбору персонала/HR менеджер</td>\n",
       "      <td>NaN</td>\n",
       "      <td>False</td>\n",
       "      <td>False</td>\n",
       "      <td>{'id': '92', 'name': 'Тула', 'url': 'https://a...</td>\n",
       "      <td>NaN</td>\n",
       "      <td>{'id': 'open', 'name': 'Открытая'}</td>\n",
       "      <td>...</td>\n",
       "      <td>NaN</td>\n",
       "      <td>NaN</td>\n",
       "      <td>NaN</td>\n",
       "      <td>NaN</td>\n",
       "      <td>NaN</td>\n",
       "      <td>NaN</td>\n",
       "      <td>NaN</td>\n",
       "      <td>NaN</td>\n",
       "      <td>NaN</td>\n",
       "      <td>[Подбор персонала, Оценка кандидатов]</td>\n",
       "    </tr>\n",
       "    <tr>\n",
       "      <th>76378</th>\n",
       "      <td>525</td>\n",
       "      <td>54579116</td>\n",
       "      <td>False</td>\n",
       "      <td>Специалист по подбору персонала</td>\n",
       "      <td>NaN</td>\n",
       "      <td>False</td>\n",
       "      <td>False</td>\n",
       "      <td>{'id': '1919', 'name': 'Донской', 'url': 'http...</td>\n",
       "      <td>{'from': 40000, 'to': None, 'currency': 'RUR',...</td>\n",
       "      <td>{'id': 'open', 'name': 'Открытая'}</td>\n",
       "      <td>...</td>\n",
       "      <td>NaN</td>\n",
       "      <td>NaN</td>\n",
       "      <td>NaN</td>\n",
       "      <td>NaN</td>\n",
       "      <td>NaN</td>\n",
       "      <td>NaN</td>\n",
       "      <td>NaN</td>\n",
       "      <td>NaN</td>\n",
       "      <td>NaN</td>\n",
       "      <td>[Подбор персонала, Организация стажировок, Сос...</td>\n",
       "    </tr>\n",
       "    <tr>\n",
       "      <th>76379</th>\n",
       "      <td>526</td>\n",
       "      <td>54619616</td>\n",
       "      <td>False</td>\n",
       "      <td>Начальник бюро подбора персонала</td>\n",
       "      <td>NaN</td>\n",
       "      <td>False</td>\n",
       "      <td>False</td>\n",
       "      <td>{'id': '92', 'name': 'Тула', 'url': 'https://a...</td>\n",
       "      <td>NaN</td>\n",
       "      <td>{'id': 'open', 'name': 'Открытая'}</td>\n",
       "      <td>...</td>\n",
       "      <td>NaN</td>\n",
       "      <td>NaN</td>\n",
       "      <td>NaN</td>\n",
       "      <td>NaN</td>\n",
       "      <td>NaN</td>\n",
       "      <td>NaN</td>\n",
       "      <td>NaN</td>\n",
       "      <td>NaN</td>\n",
       "      <td>NaN</td>\n",
       "      <td>[Подбор персонала, Управление персоналом, 1С: ...</td>\n",
       "    </tr>\n",
       "    <tr>\n",
       "      <th>76381</th>\n",
       "      <td>528</td>\n",
       "      <td>54739250</td>\n",
       "      <td>False</td>\n",
       "      <td>Менеджер по подбору</td>\n",
       "      <td>NaN</td>\n",
       "      <td>False</td>\n",
       "      <td>False</td>\n",
       "      <td>{'id': '92', 'name': 'Тула', 'url': 'https://a...</td>\n",
       "      <td>{'from': None, 'to': 40300, 'currency': 'RUR',...</td>\n",
       "      <td>{'id': 'open', 'name': 'Открытая'}</td>\n",
       "      <td>...</td>\n",
       "      <td>NaN</td>\n",
       "      <td>NaN</td>\n",
       "      <td>NaN</td>\n",
       "      <td>NaN</td>\n",
       "      <td>NaN</td>\n",
       "      <td>NaN</td>\n",
       "      <td>NaN</td>\n",
       "      <td>NaN</td>\n",
       "      <td>NaN</td>\n",
       "      <td>[]</td>\n",
       "    </tr>\n",
       "  </tbody>\n",
       "</table>\n",
       "<p>58697 rows × 52 columns</p>\n",
       "</div>"
      ],
      "text/plain": [
       "       Unnamed: 0        id  premium  \\\n",
       "0               0  49059633    False   \n",
       "1               1  54252278    False   \n",
       "2               2  54428119    False   \n",
       "3               3  54429041    False   \n",
       "4               4  54653519    False   \n",
       "...           ...       ...      ...   \n",
       "76374         521  54451352    False   \n",
       "76376         523  54515848    False   \n",
       "76378         525  54579116    False   \n",
       "76379         526  54619616    False   \n",
       "76381         528  54739250    False   \n",
       "\n",
       "                                            name department has_test  \\\n",
       "0        Младший специалист ручного тестирования        NaN    False   \n",
       "1                                      Пентестер        NaN    False   \n",
       "2                            Асессор-тестировщик        NaN    False   \n",
       "3                          Тестировщик (асессор)        NaN    False   \n",
       "4                                Тестировщик.Net        NaN    False   \n",
       "...                                          ...        ...      ...   \n",
       "76374      Ведущий менеджер по подбору персонала        NaN    False   \n",
       "76376  Менеджер по подбору персонала/HR менеджер        NaN    False   \n",
       "76378            Специалист по подбору персонала        NaN    False   \n",
       "76379           Начальник бюро подбора персонала        NaN    False   \n",
       "76381                        Менеджер по подбору        NaN    False   \n",
       "\n",
       "      response_letter_required  \\\n",
       "0                        False   \n",
       "1                        False   \n",
       "2                        False   \n",
       "3                        False   \n",
       "4                        False   \n",
       "...                        ...   \n",
       "76374                    False   \n",
       "76376                    False   \n",
       "76378                    False   \n",
       "76379                    False   \n",
       "76381                    False   \n",
       "\n",
       "                                                    area  \\\n",
       "0      {'id': '15', 'name': 'Астрахань', 'url': 'http...   \n",
       "1      {'id': '15', 'name': 'Астрахань', 'url': 'http...   \n",
       "2      {'id': '15', 'name': 'Астрахань', 'url': 'http...   \n",
       "3      {'id': '15', 'name': 'Астрахань', 'url': 'http...   \n",
       "4      {'id': '15', 'name': 'Астрахань', 'url': 'http...   \n",
       "...                                                  ...   \n",
       "76374  {'id': '92', 'name': 'Тула', 'url': 'https://a...   \n",
       "76376  {'id': '92', 'name': 'Тула', 'url': 'https://a...   \n",
       "76378  {'id': '1919', 'name': 'Донской', 'url': 'http...   \n",
       "76379  {'id': '92', 'name': 'Тула', 'url': 'https://a...   \n",
       "76381  {'id': '92', 'name': 'Тула', 'url': 'https://a...   \n",
       "\n",
       "                                                  salary  \\\n",
       "0                                                    NaN   \n",
       "1                                                    NaN   \n",
       "2                                                    NaN   \n",
       "3                                                    NaN   \n",
       "4      {'from': 25000, 'to': 50000, 'currency': 'RUR'...   \n",
       "...                                                  ...   \n",
       "76374  {'from': 60000, 'to': 80000, 'currency': 'RUR'...   \n",
       "76376                                                NaN   \n",
       "76378  {'from': 40000, 'to': None, 'currency': 'RUR',...   \n",
       "76379                                                NaN   \n",
       "76381  {'from': None, 'to': 40300, 'currency': 'RUR',...   \n",
       "\n",
       "                                     type  ... Unnamed: 42 Unnamed: 43  \\\n",
       "0      {'id': 'open', 'name': 'Открытая'}  ...         NaN         NaN   \n",
       "1      {'id': 'open', 'name': 'Открытая'}  ...         NaN         NaN   \n",
       "2      {'id': 'open', 'name': 'Открытая'}  ...         NaN         NaN   \n",
       "3      {'id': 'open', 'name': 'Открытая'}  ...         NaN         NaN   \n",
       "4      {'id': 'open', 'name': 'Открытая'}  ...         NaN         NaN   \n",
       "...                                   ...  ...         ...         ...   \n",
       "76374  {'id': 'open', 'name': 'Открытая'}  ...         NaN         NaN   \n",
       "76376  {'id': 'open', 'name': 'Открытая'}  ...         NaN         NaN   \n",
       "76378  {'id': 'open', 'name': 'Открытая'}  ...         NaN         NaN   \n",
       "76379  {'id': 'open', 'name': 'Открытая'}  ...         NaN         NaN   \n",
       "76381  {'id': 'open', 'name': 'Открытая'}  ...         NaN         NaN   \n",
       "\n",
       "      Unnamed: 44 Unnamed: 45 Unnamed: 46 Unnamed: 47 Unnamed: 48 Unnamed: 49  \\\n",
       "0             NaN         NaN         NaN         NaN         NaN         NaN   \n",
       "1             NaN         NaN         NaN         NaN         NaN         NaN   \n",
       "2             NaN         NaN         NaN         NaN         NaN         NaN   \n",
       "3             NaN         NaN         NaN         NaN         NaN         NaN   \n",
       "4             NaN         NaN         NaN         NaN         NaN         NaN   \n",
       "...           ...         ...         ...         ...         ...         ...   \n",
       "76374         NaN         NaN         NaN         NaN         NaN         NaN   \n",
       "76376         NaN         NaN         NaN         NaN         NaN         NaN   \n",
       "76378         NaN         NaN         NaN         NaN         NaN         NaN   \n",
       "76379         NaN         NaN         NaN         NaN         NaN         NaN   \n",
       "76381         NaN         NaN         NaN         NaN         NaN         NaN   \n",
       "\n",
       "      Unnamed: 50                                    key_skills_json  \n",
       "0             NaN                                                 []  \n",
       "1             NaN  [SQL, Linux, Информационная безопасность, Рабо...  \n",
       "2             NaN                                                 []  \n",
       "3             NaN                                                 []  \n",
       "4             NaN                  [Git, SQL, Тестирование, C#, API]  \n",
       "...           ...                                                ...  \n",
       "76374         NaN  [Подбор персонала, проведение групповых интерв...  \n",
       "76376         NaN              [Подбор персонала, Оценка кандидатов]  \n",
       "76378         NaN  [Подбор персонала, Организация стажировок, Сос...  \n",
       "76379         NaN  [Подбор персонала, Управление персоналом, 1С: ...  \n",
       "76381         NaN                                                 []  \n",
       "\n",
       "[58697 rows x 52 columns]"
      ]
     },
     "execution_count": 13,
     "metadata": {},
     "output_type": "execute_result"
    }
   ],
   "source": [
    "# дропаем дубликаты по общим колонкам: названию вакансии, компании, городе \n",
    "dataframe.drop_duplicates(subset=['name', 'department', 'area'])"
   ]
  },
  {
   "cell_type": "code",
   "execution_count": 14,
   "id": "b496d7ed",
   "metadata": {},
   "outputs": [
    {
     "data": {
      "text/plain": [
       "\"{'from': 25000, 'to': 50000, 'currency': 'RUR', 'gross': True}\""
      ]
     },
     "execution_count": 14,
     "metadata": {},
     "output_type": "execute_result"
    }
   ],
   "source": [
    "# делаем колонку зарплат более читаемой\n",
    "# заполняем пустые значения пустыми списками и выводим посмотреть структуру строки колонки в 4 элементе\n",
    "dataframe['salary'] = dataframe['salary'].fillna('[]')\n",
    "dataframe['salary'][4]"
   ]
  },
  {
   "cell_type": "code",
   "execution_count": 15,
   "id": "a453fd9e",
   "metadata": {},
   "outputs": [
    {
     "data": {
      "text/plain": [
       "\"'RUR',\""
      ]
     },
     "execution_count": 15,
     "metadata": {},
     "output_type": "execute_result"
    }
   ],
   "source": [
    "# просто смотрим, пытаемся вывести нужные элементы строки зарплат\n",
    "appli = dataframe['salary'][4].split()\n",
    "appli[5]"
   ]
  },
  {
   "cell_type": "code",
   "execution_count": 16,
   "id": "3c8cb1ee",
   "metadata": {},
   "outputs": [
    {
     "data": {
      "text/plain": [
       "[]          58310\n",
       "50000.0       652\n",
       "100000.0      538\n",
       "60000.0       532\n",
       "70000.0       505\n",
       "            ...  \n",
       "175125.0        1\n",
       "145.0           1\n",
       "412500.0        1\n",
       "700000.0        1\n",
       "40268.0         1\n",
       "Name: salary_json, Length: 995, dtype: int64"
      ]
     },
     "execution_count": 16,
     "metadata": {},
     "output_type": "execute_result"
    }
   ],
   "source": [
    "# пишем функцию для преобразования строки зарплат из записи json в среднюю зарплату и применяем функцию\n",
    "def txt_to_json(text):\n",
    "#     пытаемся вернуть измененную строку по условию, если валюта RUR, то зарплата в рублях, если другая, то условно\n",
    "# умножаем на курс 60 рублей. Если редко попадётся другая валюта (напр. казахская), то пренебрежём этим фактом\n",
    "  try:  \n",
    "    if text.split()[5]==\"'RUR',\":\n",
    "#         сплитим каждую строку в список, вызываем нужные элементы списка, убираем запятую, меняем тип данных на инт, складываем,\n",
    "# делим на 2\n",
    "        return (int(text.split()[1].replace (\",\", \"\"))+int(text.split()[3].replace (\",\", \"\")))/2\n",
    "    else:\n",
    "#        здесь то же, что и выше, только умножаем на условный средний курс USD/EUR в 60 рублей за УЕ\n",
    "        return (int(text.split()[1].replace (\",\", \"\"))+int(text.split()[3].replace (\",\", \"\")))*60/2\n",
    "# если что-то пошло не так, возвращаем пустой список\n",
    "  except:\n",
    "    return []\n",
    "# применяем функцию ко всей колонке\n",
    "dataframe['salary_json'] = dataframe['salary'].apply(txt_to_json)\n",
    "# выводим количество значений средних зарплат\n",
    "dataframe['salary_json'].value_counts()"
   ]
  },
  {
   "cell_type": "code",
   "execution_count": 17,
   "id": "dc50a9d8",
   "metadata": {},
   "outputs": [
    {
     "data": {
      "text/plain": [
       "0        {'id': 'remote', 'name': 'Удаленная работа'}\n",
       "1            {'id': 'fullDay', 'name': 'Полный день'}\n",
       "2        {'id': 'remote', 'name': 'Удаленная работа'}\n",
       "3        {'id': 'remote', 'name': 'Удаленная работа'}\n",
       "4            {'id': 'fullDay', 'name': 'Полный день'}\n",
       "                             ...                     \n",
       "76377        {'id': 'fullDay', 'name': 'Полный день'}\n",
       "76378        {'id': 'fullDay', 'name': 'Полный день'}\n",
       "76379        {'id': 'fullDay', 'name': 'Полный день'}\n",
       "76380        {'id': 'fullDay', 'name': 'Полный день'}\n",
       "76381        {'id': 'fullDay', 'name': 'Полный день'}\n",
       "Name: schedule, Length: 76382, dtype: object"
      ]
     },
     "execution_count": 17,
     "metadata": {},
     "output_type": "execute_result"
    }
   ],
   "source": [
    "# оценим колонку 'schedule', попробуем привести её в нормальный вид.\n",
    "dataframe['schedule']"
   ]
  },
  {
   "cell_type": "code",
   "execution_count": 18,
   "id": "022681a1",
   "metadata": {},
   "outputs": [
    {
     "data": {
      "text/plain": [
       "False    76382\n",
       "Name: schedule, dtype: int64"
      ]
     },
     "execution_count": 18,
     "metadata": {},
     "output_type": "execute_result"
    }
   ],
   "source": [
    "# заполняем пустые ячейки в колонке\n",
    "dataframe['schedule'] = dataframe['schedule'].fillna('[]')\n",
    "dataframe['schedule'].isna().value_counts()"
   ]
  },
  {
   "cell_type": "code",
   "execution_count": 19,
   "id": "9f25932c",
   "metadata": {},
   "outputs": [
    {
     "data": {
      "text/plain": [
       "\"{'id': 'fullDay', 'name': 'Полный день'}\""
      ]
     },
     "execution_count": 19,
     "metadata": {},
     "output_type": "execute_result"
    }
   ],
   "source": [
    "# посмотрим на структуру строки \n",
    "dataframe['schedule'][4]"
   ]
  },
  {
   "cell_type": "code",
   "execution_count": 20,
   "id": "25a49ee4",
   "metadata": {},
   "outputs": [
    {
     "data": {
      "text/plain": [
       "[\"{'id':\", \"'fullDay',\", \"'name':\", \"'Полный\", \"день'}\"]"
      ]
     },
     "execution_count": 20,
     "metadata": {},
     "output_type": "execute_result"
    }
   ],
   "source": [
    "# сплитим строку в список\n",
    "dataframe['schedule'][4].split()"
   ]
  },
  {
   "cell_type": "code",
   "execution_count": 21,
   "id": "1b6dd507",
   "metadata": {},
   "outputs": [
    {
     "data": {
      "text/plain": [
       "'fullDay'"
      ]
     },
     "execution_count": 21,
     "metadata": {},
     "output_type": "execute_result"
    }
   ],
   "source": [
    "# выводим первый эелемент, убираем лишние символы\n",
    "dataframe['schedule'][4].split()[1].replace(\"'\", \"\").replace(\",\", \"\")"
   ]
  },
  {
   "cell_type": "code",
   "execution_count": 22,
   "id": "baace35e",
   "metadata": {},
   "outputs": [
    {
     "data": {
      "text/plain": [
       "fullDay        57876\n",
       "remote         12405\n",
       "flexible        4403\n",
       "shift           1405\n",
       "flyInFlyOut      288\n",
       "[]                 2\n",
       "опыт               1\n",
       "Соловьева          1\n",
       "228268             1\n",
       "Name: schedule_json, dtype: int64"
      ]
     },
     "execution_count": 22,
     "metadata": {},
     "output_type": "execute_result"
    }
   ],
   "source": [
    "# пишем функцию для подобного преобразования ко всему столбцу 'schedule' и применяем \n",
    "def dict_to_json(text):\n",
    "  try:  \n",
    "    return text.split()[1].replace(\"'\", \"\").replace(\",\", \"\")\n",
    "  except:\n",
    "    return []\n",
    "\n",
    "dataframe['schedule_json'] = dataframe['schedule'].apply(dict_to_json)\n",
    "# выводим посмотреть какие типы графика работ остались и сколько их\n",
    "dataframe['schedule_json'].value_counts()"
   ]
  },
  {
   "cell_type": "code",
   "execution_count": 23,
   "id": "b346d30e",
   "metadata": {},
   "outputs": [],
   "source": [
    "# +по имеющимся данным можно провести анализ требований работодателей к IT-специалистам по наиболее (топ-10) востребованным специальностям,\n",
    "# +также выделить регионы с наибольшим числом вакансий и зарплат (топ-10 регионв и зарплат)\n",
    "# +привести колонку schedule в читаемый вид и проанализировать кол-во IT вакансий (топ-5) на предмет штатного расписания\n",
    "# +провести анализ зарплат (медианная) по топ-10 вакансиям"
   ]
  },
  {
   "cell_type": "code",
   "execution_count": 24,
   "id": "78aca93b",
   "metadata": {},
   "outputs": [
    {
     "name": "stdout",
     "output_type": "stream",
     "text": [
      "<class 'pandas.core.frame.DataFrame'>\n",
      "RangeIndex: 76382 entries, 0 to 76381\n",
      "Data columns (total 54 columns):\n",
      " #   Column                    Non-Null Count  Dtype \n",
      "---  ------                    --------------  ----- \n",
      " 0   Unnamed: 0                76382 non-null  int64 \n",
      " 1   id                        76382 non-null  int64 \n",
      " 2   premium                   76382 non-null  bool  \n",
      " 3   name                      76382 non-null  object\n",
      " 4   department                4902 non-null   object\n",
      " 5   has_test                  76380 non-null  object\n",
      " 6   response_letter_required  76382 non-null  object\n",
      " 7   area                      76381 non-null  object\n",
      " 8   salary                    76382 non-null  object\n",
      " 9   type                      76379 non-null  object\n",
      " 10  published_at              76380 non-null  object\n",
      " 11  created_at                76381 non-null  object\n",
      " 12  archived                  76380 non-null  object\n",
      " 13  insider_interview         570 non-null    object\n",
      " 14  url                       76380 non-null  object\n",
      " 15  alternate_url             76382 non-null  object\n",
      " 16  relations                 76381 non-null  object\n",
      " 17  employer                  76382 non-null  object\n",
      " 18  snippet                   76381 non-null  object\n",
      " 19  schedule                  76382 non-null  object\n",
      " 20  working_days              76381 non-null  object\n",
      " 21  working_time_intervals    76382 non-null  object\n",
      " 22  working_time_modes        76382 non-null  object\n",
      " 23  accept_temporary          76381 non-null  object\n",
      " 24  description               76382 non-null  object\n",
      " 25  experience                76382 non-null  object\n",
      " 26  key_skills                76382 non-null  object\n",
      " 27  specializations           76382 non-null  object\n",
      " 28  region                    76382 non-null  object\n",
      " 29  Unnamed: 29               354 non-null    object\n",
      " 30  Unnamed: 30               335 non-null    object\n",
      " 31  Unnamed: 31               261 non-null    object\n",
      " 32  Unnamed: 32               235 non-null    object\n",
      " 33  Unnamed: 33               216 non-null    object\n",
      " 34  Unnamed: 34               177 non-null    object\n",
      " 35  Unnamed: 35               157 non-null    object\n",
      " 36  Unnamed: 36               134 non-null    object\n",
      " 37  Unnamed: 37               113 non-null    object\n",
      " 38  Unnamed: 38               83 non-null     object\n",
      " 39  Unnamed: 39               63 non-null     object\n",
      " 40  Unnamed: 40               52 non-null     object\n",
      " 41  Unnamed: 41               37 non-null     object\n",
      " 42  Unnamed: 42               28 non-null     object\n",
      " 43  Unnamed: 43               21 non-null     object\n",
      " 44  Unnamed: 44               15 non-null     object\n",
      " 45  Unnamed: 45               9 non-null      object\n",
      " 46  Unnamed: 46               6 non-null      object\n",
      " 47  Unnamed: 47               2 non-null      object\n",
      " 48  Unnamed: 48               1 non-null      object\n",
      " 49  Unnamed: 49               1 non-null      object\n",
      " 50  Unnamed: 50               1 non-null      object\n",
      " 51  key_skills_json           76382 non-null  object\n",
      " 52  salary_json               76382 non-null  object\n",
      " 53  schedule_json             76382 non-null  object\n",
      "dtypes: bool(1), int64(2), object(51)\n",
      "memory usage: 31.0+ MB\n"
     ]
    }
   ],
   "source": [
    "# смотрим на обновленный датафрейм, пробуем выделить требования на топ-10 вакансий.\n",
    "dataframe.info()"
   ]
  },
  {
   "cell_type": "code",
   "execution_count": 86,
   "id": "02352b07",
   "metadata": {},
   "outputs": [
    {
     "data": {
      "text/plain": [
       "Index(['Системный администратор', 'Программист 1С', 'Менеджер по персоналу',\n",
       "       'Системный аналитик', 'Менеджер по подбору персонала',\n",
       "       'Специалист по кадрам', 'Специалист технической поддержки',\n",
       "       'Агент по недвижимости', 'Аналитик', 'Инженер-программист'],\n",
       "      dtype='object')"
      ]
     },
     "execution_count": 86,
     "metadata": {},
     "output_type": "execute_result"
    }
   ],
   "source": [
    "# создаём список наиболее часто свтречающихся вакансий\n",
    "top_prof_list1 = dataframe['name'].value_counts().head(10).index \n",
    "top_prof_list1"
   ]
  },
  {
   "cell_type": "code",
   "execution_count": 108,
   "id": "f593cc6a",
   "metadata": {
    "scrolled": true
   },
   "outputs": [
    {
     "data": {
      "text/html": [
       "<div>\n",
       "<style scoped>\n",
       "    .dataframe tbody tr th:only-of-type {\n",
       "        vertical-align: middle;\n",
       "    }\n",
       "\n",
       "    .dataframe tbody tr th {\n",
       "        vertical-align: top;\n",
       "    }\n",
       "\n",
       "    .dataframe thead th {\n",
       "        text-align: right;\n",
       "    }\n",
       "</style>\n",
       "<table border=\"1\" class=\"dataframe\">\n",
       "  <thead>\n",
       "    <tr style=\"text-align: right;\">\n",
       "      <th></th>\n",
       "      <th>Unnamed: 0</th>\n",
       "      <th>id</th>\n",
       "      <th>premium</th>\n",
       "      <th>name</th>\n",
       "      <th>department</th>\n",
       "      <th>has_test</th>\n",
       "      <th>response_letter_required</th>\n",
       "      <th>area</th>\n",
       "      <th>salary</th>\n",
       "      <th>type</th>\n",
       "      <th>...</th>\n",
       "      <th>Unnamed: 44</th>\n",
       "      <th>Unnamed: 45</th>\n",
       "      <th>Unnamed: 46</th>\n",
       "      <th>Unnamed: 47</th>\n",
       "      <th>Unnamed: 48</th>\n",
       "      <th>Unnamed: 49</th>\n",
       "      <th>Unnamed: 50</th>\n",
       "      <th>key_skills_json</th>\n",
       "      <th>salary_json</th>\n",
       "      <th>schedule_json</th>\n",
       "    </tr>\n",
       "  </thead>\n",
       "  <tbody>\n",
       "    <tr>\n",
       "      <th>47</th>\n",
       "      <td>47</td>\n",
       "      <td>53887231</td>\n",
       "      <td>False</td>\n",
       "      <td>Системный администратор</td>\n",
       "      <td>NaN</td>\n",
       "      <td>False</td>\n",
       "      <td>False</td>\n",
       "      <td>{'id': '15', 'name': 'Астрахань', 'url': 'http...</td>\n",
       "      <td>{'from': None, 'to': 39000, 'currency': 'RUR',...</td>\n",
       "      <td>{'id': 'open', 'name': 'Открытая'}</td>\n",
       "      <td>...</td>\n",
       "      <td>NaN</td>\n",
       "      <td>NaN</td>\n",
       "      <td>NaN</td>\n",
       "      <td>NaN</td>\n",
       "      <td>NaN</td>\n",
       "      <td>NaN</td>\n",
       "      <td>NaN</td>\n",
       "      <td>[Настройка сетевых подключений, Администрирова...</td>\n",
       "      <td>0</td>\n",
       "      <td>shift</td>\n",
       "    </tr>\n",
       "    <tr>\n",
       "      <th>48</th>\n",
       "      <td>48</td>\n",
       "      <td>54766296</td>\n",
       "      <td>False</td>\n",
       "      <td>Системный администратор</td>\n",
       "      <td>NaN</td>\n",
       "      <td>False</td>\n",
       "      <td>False</td>\n",
       "      <td>{'id': '15', 'name': 'Астрахань', 'url': 'http...</td>\n",
       "      <td>{'from': 35000, 'to': 60000, 'currency': 'RUR'...</td>\n",
       "      <td>{'id': 'open', 'name': 'Открытая'}</td>\n",
       "      <td>...</td>\n",
       "      <td>NaN</td>\n",
       "      <td>NaN</td>\n",
       "      <td>NaN</td>\n",
       "      <td>NaN</td>\n",
       "      <td>NaN</td>\n",
       "      <td>NaN</td>\n",
       "      <td>NaN</td>\n",
       "      <td>[Опытный пользователь ПК, Работа с оргтехникой...</td>\n",
       "      <td>47500</td>\n",
       "      <td>fullDay</td>\n",
       "    </tr>\n",
       "    <tr>\n",
       "      <th>51</th>\n",
       "      <td>51</td>\n",
       "      <td>54620505</td>\n",
       "      <td>False</td>\n",
       "      <td>Системный администратор</td>\n",
       "      <td>NaN</td>\n",
       "      <td>False</td>\n",
       "      <td>False</td>\n",
       "      <td>{'id': '15', 'name': 'Астрахань', 'url': 'http...</td>\n",
       "      <td>{'from': 30000, 'to': None, 'currency': 'RUR',...</td>\n",
       "      <td>{'id': 'open', 'name': 'Открытая'}</td>\n",
       "      <td>...</td>\n",
       "      <td>NaN</td>\n",
       "      <td>NaN</td>\n",
       "      <td>NaN</td>\n",
       "      <td>NaN</td>\n",
       "      <td>NaN</td>\n",
       "      <td>NaN</td>\n",
       "      <td>NaN</td>\n",
       "      <td>[]</td>\n",
       "      <td>0</td>\n",
       "      <td>fullDay</td>\n",
       "    </tr>\n",
       "    <tr>\n",
       "      <th>52</th>\n",
       "      <td>52</td>\n",
       "      <td>53287987</td>\n",
       "      <td>False</td>\n",
       "      <td>Системный администратор</td>\n",
       "      <td>NaN</td>\n",
       "      <td>False</td>\n",
       "      <td>False</td>\n",
       "      <td>{'id': '15', 'name': 'Астрахань', 'url': 'http...</td>\n",
       "      <td>{'from': 22000, 'to': None, 'currency': 'RUR',...</td>\n",
       "      <td>{'id': 'open', 'name': 'Открытая'}</td>\n",
       "      <td>...</td>\n",
       "      <td>NaN</td>\n",
       "      <td>NaN</td>\n",
       "      <td>NaN</td>\n",
       "      <td>NaN</td>\n",
       "      <td>NaN</td>\n",
       "      <td>NaN</td>\n",
       "      <td>NaN</td>\n",
       "      <td>[ПАК КриптоПро УЦ, Контроль доступа, Продвинут...</td>\n",
       "      <td>0</td>\n",
       "      <td>fullDay</td>\n",
       "    </tr>\n",
       "    <tr>\n",
       "      <th>53</th>\n",
       "      <td>53</td>\n",
       "      <td>54158591</td>\n",
       "      <td>False</td>\n",
       "      <td>Системный администратор</td>\n",
       "      <td>NaN</td>\n",
       "      <td>False</td>\n",
       "      <td>False</td>\n",
       "      <td>{'id': '15', 'name': 'Астрахань', 'url': 'http...</td>\n",
       "      <td>{'from': 30000, 'to': 40000, 'currency': 'RUR'...</td>\n",
       "      <td>{'id': 'open', 'name': 'Открытая'}</td>\n",
       "      <td>...</td>\n",
       "      <td>NaN</td>\n",
       "      <td>NaN</td>\n",
       "      <td>NaN</td>\n",
       "      <td>NaN</td>\n",
       "      <td>NaN</td>\n",
       "      <td>NaN</td>\n",
       "      <td>NaN</td>\n",
       "      <td>[Настройка сетевых подключений, Настройка ПО, ...</td>\n",
       "      <td>35000</td>\n",
       "      <td>fullDay</td>\n",
       "    </tr>\n",
       "    <tr>\n",
       "      <th>55</th>\n",
       "      <td>55</td>\n",
       "      <td>53925441</td>\n",
       "      <td>False</td>\n",
       "      <td>Системный администратор</td>\n",
       "      <td>NaN</td>\n",
       "      <td>False</td>\n",
       "      <td>False</td>\n",
       "      <td>{'id': '15', 'name': 'Астрахань', 'url': 'http...</td>\n",
       "      <td>{'from': None, 'to': 34500, 'currency': 'RUR',...</td>\n",
       "      <td>{'id': 'open', 'name': 'Открытая'}</td>\n",
       "      <td>...</td>\n",
       "      <td>NaN</td>\n",
       "      <td>NaN</td>\n",
       "      <td>NaN</td>\n",
       "      <td>NaN</td>\n",
       "      <td>NaN</td>\n",
       "      <td>NaN</td>\n",
       "      <td>NaN</td>\n",
       "      <td>[Системы видеонаблюдения, Администрирование се...</td>\n",
       "      <td>0</td>\n",
       "      <td>fullDay</td>\n",
       "    </tr>\n",
       "    <tr>\n",
       "      <th>56</th>\n",
       "      <td>56</td>\n",
       "      <td>54191795</td>\n",
       "      <td>False</td>\n",
       "      <td>Системный администратор</td>\n",
       "      <td>NaN</td>\n",
       "      <td>False</td>\n",
       "      <td>False</td>\n",
       "      <td>{'id': '15', 'name': 'Астрахань', 'url': 'http...</td>\n",
       "      <td>[]</td>\n",
       "      <td>{'id': 'open', 'name': 'Открытая'}</td>\n",
       "      <td>...</td>\n",
       "      <td>NaN</td>\n",
       "      <td>NaN</td>\n",
       "      <td>NaN</td>\n",
       "      <td>NaN</td>\n",
       "      <td>NaN</td>\n",
       "      <td>NaN</td>\n",
       "      <td>NaN</td>\n",
       "      <td>[Работа с оргтехникой, Информационные технолог...</td>\n",
       "      <td>0</td>\n",
       "      <td>fullDay</td>\n",
       "    </tr>\n",
       "    <tr>\n",
       "      <th>99</th>\n",
       "      <td>99</td>\n",
       "      <td>54496531</td>\n",
       "      <td>False</td>\n",
       "      <td>Специалист технической поддержки</td>\n",
       "      <td>NaN</td>\n",
       "      <td>False</td>\n",
       "      <td>False</td>\n",
       "      <td>{'id': '15', 'name': 'Астрахань', 'url': 'http...</td>\n",
       "      <td>{'from': 33000, 'to': 40000, 'currency': 'RUR'...</td>\n",
       "      <td>{'id': 'open', 'name': 'Открытая'}</td>\n",
       "      <td>...</td>\n",
       "      <td>NaN</td>\n",
       "      <td>NaN</td>\n",
       "      <td>NaN</td>\n",
       "      <td>NaN</td>\n",
       "      <td>NaN</td>\n",
       "      <td>NaN</td>\n",
       "      <td>NaN</td>\n",
       "      <td>[Деловая переписка, Деловое общение]</td>\n",
       "      <td>36500</td>\n",
       "      <td>fullDay</td>\n",
       "    </tr>\n",
       "    <tr>\n",
       "      <th>104</th>\n",
       "      <td>104</td>\n",
       "      <td>54767306</td>\n",
       "      <td>False</td>\n",
       "      <td>Инженер-программист</td>\n",
       "      <td>NaN</td>\n",
       "      <td>False</td>\n",
       "      <td>False</td>\n",
       "      <td>{'id': '15', 'name': 'Астрахань', 'url': 'http...</td>\n",
       "      <td>[]</td>\n",
       "      <td>{'id': 'open', 'name': 'Открытая'}</td>\n",
       "      <td>...</td>\n",
       "      <td>NaN</td>\n",
       "      <td>NaN</td>\n",
       "      <td>NaN</td>\n",
       "      <td>NaN</td>\n",
       "      <td>NaN</td>\n",
       "      <td>NaN</td>\n",
       "      <td>NaN</td>\n",
       "      <td>[ABAP, SAP ERP, MS SQL, С#, С++, Работа в кома...</td>\n",
       "      <td>0</td>\n",
       "      <td>fullDay</td>\n",
       "    </tr>\n",
       "    <tr>\n",
       "      <th>115</th>\n",
       "      <td>115</td>\n",
       "      <td>48764059</td>\n",
       "      <td>False</td>\n",
       "      <td>Инженер-программист</td>\n",
       "      <td>NaN</td>\n",
       "      <td>False</td>\n",
       "      <td>False</td>\n",
       "      <td>{'id': '15', 'name': 'Астрахань', 'url': 'http...</td>\n",
       "      <td>[]</td>\n",
       "      <td>{'id': 'open', 'name': 'Открытая'}</td>\n",
       "      <td>...</td>\n",
       "      <td>NaN</td>\n",
       "      <td>NaN</td>\n",
       "      <td>NaN</td>\n",
       "      <td>NaN</td>\n",
       "      <td>NaN</td>\n",
       "      <td>NaN</td>\n",
       "      <td>NaN</td>\n",
       "      <td>[C#, JavaScript, ASP.NET, Java, CSS]</td>\n",
       "      <td>0</td>\n",
       "      <td>remote</td>\n",
       "    </tr>\n",
       "  </tbody>\n",
       "</table>\n",
       "<p>10 rows × 54 columns</p>\n",
       "</div>"
      ],
      "text/plain": [
       "     Unnamed: 0        id  premium                              name  \\\n",
       "47           47  53887231    False           Системный администратор   \n",
       "48           48  54766296    False           Системный администратор   \n",
       "51           51  54620505    False           Системный администратор   \n",
       "52           52  53287987    False           Системный администратор   \n",
       "53           53  54158591    False           Системный администратор   \n",
       "55           55  53925441    False           Системный администратор   \n",
       "56           56  54191795    False           Системный администратор   \n",
       "99           99  54496531    False  Специалист технической поддержки   \n",
       "104         104  54767306    False               Инженер-программист   \n",
       "115         115  48764059    False               Инженер-программист   \n",
       "\n",
       "    department has_test response_letter_required  \\\n",
       "47         NaN    False                    False   \n",
       "48         NaN    False                    False   \n",
       "51         NaN    False                    False   \n",
       "52         NaN    False                    False   \n",
       "53         NaN    False                    False   \n",
       "55         NaN    False                    False   \n",
       "56         NaN    False                    False   \n",
       "99         NaN    False                    False   \n",
       "104        NaN    False                    False   \n",
       "115        NaN    False                    False   \n",
       "\n",
       "                                                  area  \\\n",
       "47   {'id': '15', 'name': 'Астрахань', 'url': 'http...   \n",
       "48   {'id': '15', 'name': 'Астрахань', 'url': 'http...   \n",
       "51   {'id': '15', 'name': 'Астрахань', 'url': 'http...   \n",
       "52   {'id': '15', 'name': 'Астрахань', 'url': 'http...   \n",
       "53   {'id': '15', 'name': 'Астрахань', 'url': 'http...   \n",
       "55   {'id': '15', 'name': 'Астрахань', 'url': 'http...   \n",
       "56   {'id': '15', 'name': 'Астрахань', 'url': 'http...   \n",
       "99   {'id': '15', 'name': 'Астрахань', 'url': 'http...   \n",
       "104  {'id': '15', 'name': 'Астрахань', 'url': 'http...   \n",
       "115  {'id': '15', 'name': 'Астрахань', 'url': 'http...   \n",
       "\n",
       "                                                salary  \\\n",
       "47   {'from': None, 'to': 39000, 'currency': 'RUR',...   \n",
       "48   {'from': 35000, 'to': 60000, 'currency': 'RUR'...   \n",
       "51   {'from': 30000, 'to': None, 'currency': 'RUR',...   \n",
       "52   {'from': 22000, 'to': None, 'currency': 'RUR',...   \n",
       "53   {'from': 30000, 'to': 40000, 'currency': 'RUR'...   \n",
       "55   {'from': None, 'to': 34500, 'currency': 'RUR',...   \n",
       "56                                                  []   \n",
       "99   {'from': 33000, 'to': 40000, 'currency': 'RUR'...   \n",
       "104                                                 []   \n",
       "115                                                 []   \n",
       "\n",
       "                                   type  ... Unnamed: 44 Unnamed: 45  \\\n",
       "47   {'id': 'open', 'name': 'Открытая'}  ...         NaN         NaN   \n",
       "48   {'id': 'open', 'name': 'Открытая'}  ...         NaN         NaN   \n",
       "51   {'id': 'open', 'name': 'Открытая'}  ...         NaN         NaN   \n",
       "52   {'id': 'open', 'name': 'Открытая'}  ...         NaN         NaN   \n",
       "53   {'id': 'open', 'name': 'Открытая'}  ...         NaN         NaN   \n",
       "55   {'id': 'open', 'name': 'Открытая'}  ...         NaN         NaN   \n",
       "56   {'id': 'open', 'name': 'Открытая'}  ...         NaN         NaN   \n",
       "99   {'id': 'open', 'name': 'Открытая'}  ...         NaN         NaN   \n",
       "104  {'id': 'open', 'name': 'Открытая'}  ...         NaN         NaN   \n",
       "115  {'id': 'open', 'name': 'Открытая'}  ...         NaN         NaN   \n",
       "\n",
       "    Unnamed: 46 Unnamed: 47 Unnamed: 48 Unnamed: 49 Unnamed: 50  \\\n",
       "47          NaN         NaN         NaN         NaN         NaN   \n",
       "48          NaN         NaN         NaN         NaN         NaN   \n",
       "51          NaN         NaN         NaN         NaN         NaN   \n",
       "52          NaN         NaN         NaN         NaN         NaN   \n",
       "53          NaN         NaN         NaN         NaN         NaN   \n",
       "55          NaN         NaN         NaN         NaN         NaN   \n",
       "56          NaN         NaN         NaN         NaN         NaN   \n",
       "99          NaN         NaN         NaN         NaN         NaN   \n",
       "104         NaN         NaN         NaN         NaN         NaN   \n",
       "115         NaN         NaN         NaN         NaN         NaN   \n",
       "\n",
       "                                       key_skills_json salary_json  \\\n",
       "47   [Настройка сетевых подключений, Администрирова...           0   \n",
       "48   [Опытный пользователь ПК, Работа с оргтехникой...       47500   \n",
       "51                                                  []           0   \n",
       "52   [ПАК КриптоПро УЦ, Контроль доступа, Продвинут...           0   \n",
       "53   [Настройка сетевых подключений, Настройка ПО, ...       35000   \n",
       "55   [Системы видеонаблюдения, Администрирование се...           0   \n",
       "56   [Работа с оргтехникой, Информационные технолог...           0   \n",
       "99                [Деловая переписка, Деловое общение]       36500   \n",
       "104  [ABAP, SAP ERP, MS SQL, С#, С++, Работа в кома...           0   \n",
       "115               [C#, JavaScript, ASP.NET, Java, CSS]           0   \n",
       "\n",
       "    schedule_json  \n",
       "47          shift  \n",
       "48        fullDay  \n",
       "51        fullDay  \n",
       "52        fullDay  \n",
       "53        fullDay  \n",
       "55        fullDay  \n",
       "56        fullDay  \n",
       "99        fullDay  \n",
       "104       fullDay  \n",
       "115        remote  \n",
       "\n",
       "[10 rows x 54 columns]"
      ]
     },
     "execution_count": 108,
     "metadata": {},
     "output_type": "execute_result"
    }
   ],
   "source": [
    "# исключим из  списка профессии не относящиеся к IT, составим новый список\n",
    "top_prof_list = ['Системный администратор',\n",
    " 'Программист 1С',\n",
    " 'Системный аналитик',\n",
    " 'Специалист технической поддержки',\n",
    " 'Аналитик',\n",
    " 'Инженер-программист']\n",
    "# оставим в датафрейме только строки с вакансиями из списка и выведем датафрейм\n",
    "it_df = dataframe[dataframe['name'].isin(top_prof_list)]\n",
    "it_df.head(10)"
   ]
  },
  {
   "cell_type": "code",
   "execution_count": 90,
   "id": "11eea042",
   "metadata": {},
   "outputs": [],
   "source": [
    "# Предварительный вывод:\n",
    "#     Наиболее востребованны Системные администраторы, Программисты 1С, Системный аналитик, Инженер-программист. \n",
    "#     Курсы по этим специальностям также будут широко востребованны."
   ]
  },
  {
   "cell_type": "code",
   "execution_count": 91,
   "id": "d6dde842",
   "metadata": {},
   "outputs": [
    {
     "data": {
      "text/plain": [
       "Index([                                                                                                                                                                                                          [],\n",
       "                                                                                                                        ['Ремонт ПК', 'Настройка ПК', 'Настройка сетевых подключений', 'Настройка ПО', 'Windows 7'],\n",
       "                 ['Настройка ПК', 'Сборка ПК', 'Ремонт ПК', 'Настройка ПО', 'Настройка сетевых подключений', 'Техническое обслуживание', 'Системы видеонаблюдения', 'Информационные технологии', 'Офисная техника'],\n",
       "                                                                                                                                           ['Ответственность', 'Работа с оргтехникой', 'Умение работать в команде'],\n",
       "                                                                 ['Администрирование серверов Windows', 'Администрирование сетевого оборудования', 'Настройка сетевых подключений', 'Монтаж оборудования', 'Linux'],\n",
       "       ['DHCP', 'Active Directory', 'Windows Server 2003', 'Настройка DNS', 'Hyper-V', 'DNS', 'Windows Xp', 'Администрирование серверов', 'Администрирование сетевого оборудования', 'Системное администрирование'],\n",
       "                                                                                                                                                                        ['Администрирование сетевого оборудования'],\n",
       "                                                                                                  ['1С-Битрикс', 'Active Directory', 'Английский язык', 'Администрирование сетевого оборудования', 'Настройка DNS'],\n",
       "                                                                                                                                ['Zabbix', 'VMware', 'Hyper-V', 'Linux', 'Администрирование сетевого оборудования'],\n",
       "                                                                                                                        ['Работа с оргтехникой', 'Деловая коммуникация', 'MS Access', 'MS Dos', 'Microsoft Access']],\n",
       "      dtype='object')"
      ]
     },
     "execution_count": 91,
     "metadata": {},
     "output_type": "execute_result"
    }
   ],
   "source": [
    "# выводим посмотреть список топ-10 наиболее часто встречающихся списков требований на одну из вакансий\n",
    "skill_list = dataframe[dataframe['name'] == 'Системный администратор']['key_skills_json'].value_counts().head(10).index\n",
    "skill_list"
   ]
  },
  {
   "cell_type": "code",
   "execution_count": 92,
   "id": "74911ec0",
   "metadata": {
    "scrolled": false
   },
   "outputs": [
    {
     "data": {
      "text/plain": [
       "Index([                                                                                                                                                                                                                                    [],\n",
       "                                                                                                                                                                                              ['Ответственность', 'Клиентоориентированность'],\n",
       "                                                                                                                                                                                                                      ['1С программирование'],\n",
       "                                                                                                                                                                                                 ['1С программирование', '1С: Предприятие 8'],\n",
       "                                                                                   ['1С программирование', '1С: Предприятие 8', '1С: Управление Производственным Предприятием', '1С: Зарплата и управление персоналом', 'Бухгалтерский учет'],\n",
       "                                                                                                                ['1С программирование', '1С: Документооборот', 'ERP-системы на базе 1С', 'MS Access', 'профессионализм', '1С: Предприятие 8'],\n",
       "                                                                                                                                                           ['1С: Предприятие', 'Управляемые формы', 'СКД', 'Запросы', 'Оптимизация запросов'],\n",
       "                                                                                                                                             ['1С: Розница', '1С: Бухгалтерия', 'XML', '1С: Комплексная автоматизация', 'Бухгалтерский учет'],\n",
       "                                                                                                      ['1С: Предприятие 8', '1С: Управление Производственным Предприятием', '1С программирование', '1С: Документооборот', 'Работа в команде'],\n",
       "       ['1С программирование', '1С: Управление Производственным Предприятием', 'Обновление конфигурации 1С', '1С: Документооборот', 'Пользователь ПК', 'Работа с оргтехникой', 'Работа с большим объемом информации', 'Управление проектами']],\n",
       "      dtype='object')"
      ]
     },
     "execution_count": 92,
     "metadata": {},
     "output_type": "execute_result"
    }
   ],
   "source": [
    "# находим с помощью списочного выражения топ-10 списков требований под КАЖДУЮ из самых востребованных вакансий\n",
    "# получаем трехмерный список\n",
    "skill_list = [dataframe[dataframe['name'] == i]['key_skills_json'].value_counts().head(10).index for i in top_prof_list]\n",
    "skill_list[1]"
   ]
  },
  {
   "cell_type": "code",
   "execution_count": 93,
   "id": "b010c3dd",
   "metadata": {},
   "outputs": [
    {
     "data": {
      "text/plain": [
       "315"
      ]
     },
     "execution_count": 93,
     "metadata": {},
     "output_type": "execute_result"
    }
   ],
   "source": [
    "# попробуем распаковать трехмерный список в одномерный, применив тройное списочное выражение\n",
    "skill_list_one = []\n",
    "[[[skill_list_one.append(i) for i in j] for j in k] for k in skill_list]\n",
    "# выведем длину получившегося списка-топа требований работодателей\n",
    "len(skill_list_one)"
   ]
  },
  {
   "cell_type": "code",
   "execution_count": 94,
   "id": "b9cb166c",
   "metadata": {},
   "outputs": [
    {
     "data": {
      "text/plain": [
       "[('SQL', 10),\n",
       " ('1С программирование', 8),\n",
       " ('UML', 7),\n",
       " ('BPMN', 7),\n",
       " ('Системный анализ', 7),\n",
       " ('Администрирование сетевого оборудования', 6),\n",
       " ('1С: Предприятие 8', 6),\n",
       " ('Бизнес-анализ', 6),\n",
       " ('Английский язык', 5),\n",
       " ('MS Access', 5),\n",
       " ('1С: Управление Производственным Предприятием', 5),\n",
       " ('Системное мышление', 5),\n",
       " ('Настройка сетевых подключений', 4),\n",
       " ('Работа в команде', 4),\n",
       " ('Работа с большим объемом информации', 4),\n",
       " ('Аналитика', 4),\n",
       " ('Разработка технических заданий', 4),\n",
       " ('MS PowerPoint', 4),\n",
       " ('Настройка ПК', 3),\n",
       " ('Настройка ПО', 3)]"
      ]
     },
     "execution_count": 94,
     "metadata": {},
     "output_type": "execute_result"
    }
   ],
   "source": [
    "# сократим этот список до топ-20 требований работодателей по самым востребованным вакансиям, найдя из предыдущего списка\n",
    "# наиболее часто встречающиеся с помощью модуля 'collections' и счётчика 'counter'\n",
    "import collections\n",
    "key_skills = collections.Counter(skill_list_one).most_common(20)\n",
    "key_skills"
   ]
  },
  {
   "cell_type": "code",
   "execution_count": 33,
   "id": "150f9d41",
   "metadata": {},
   "outputs": [],
   "source": [
    "# Предварительный вывод:\n",
    "#     SQL, 1C, UML, BPMN, Системный анализ, Администрирование сетевого оборудования, MS Access должны быть включены в \n",
    "#     перечень материалов для изучения."
   ]
  },
  {
   "cell_type": "code",
   "execution_count": 109,
   "id": "68469482",
   "metadata": {},
   "outputs": [
    {
     "data": {
      "text/plain": [
       "<BarContainer object of 10 artists>"
      ]
     },
     "execution_count": 109,
     "metadata": {},
     "output_type": "execute_result"
    },
    {
     "data": {
      "image/png": "[encoded data removed]",
      "text/plain": [
       "<Figure size 1130.4x523.44 with 1 Axes>"
      ]
     },
     "metadata": {},
     "output_type": "display_data"
    }
   ],
   "source": [
    "# попробуем выделить регионы с наибольшим числом вакансий и зарплат (топ-10 регионв и зарплат)\n",
    "# регионы с наибольшим числом вакансий\n",
    "import matplotlib.pyplot as plt\n",
    "plt.xlabel('number of vacancies')\n",
    "plt.title('number of vacancies through regions')\n",
    "plt.barh(it_df['region'].value_counts().head(10).index, it_df['region'].value_counts().head(10))"
   ]
  },
  {
   "cell_type": "code",
   "execution_count": null,
   "id": "02ddb1c6",
   "metadata": {},
   "outputs": [],
   "source": [
    "# Предварительный вывод: \n",
    "#     Реклама курсов должна быть в большей степени направлена на жителей указанных регионов. Сами обучающие центры могут быть\n",
    "#     размещены в регионах и вести обучение в дистанционном формате, ввиду меньших затрат по сравнению с Москвой, СПБ."
   ]
  },
  {
   "cell_type": "code",
   "execution_count": 96,
   "id": "00a0db9b",
   "metadata": {},
   "outputs": [
    {
     "data": {
      "text/plain": [
       "4         37500\n",
       "5         45000\n",
       "11       105000\n",
       "13       100000\n",
       "15        60000\n",
       "          ...  \n",
       "76368     52500\n",
       "76369     38500\n",
       "76371     30000\n",
       "76372     55000\n",
       "76374     70000\n",
       "Name: salary_json, Length: 18072, dtype: int64"
      ]
     },
     "execution_count": 96,
     "metadata": {},
     "output_type": "execute_result"
    }
   ],
   "source": [
    "# переводим колонку зарплат в тип данных инт, пустые строки заменяем на ноль\n",
    "dataframe['salary_json'] = dataframe['salary_json'].apply(lambda x: int(x) if x != [] else 0)\n",
    "# отсеиваем из этой колонки нулевые значения и выводим посмотреть\n",
    "dataframe_sal_notna = dataframe[dataframe['salary_json']>0]\n",
    "dataframe_sal_notna['salary_json']"
   ]
  },
  {
   "cell_type": "code",
   "execution_count": 97,
   "id": "88fa2dfc",
   "metadata": {},
   "outputs": [
    {
     "data": {
      "text/plain": [
       "['Москва',\n",
       " 'Санкт-Петербург',\n",
       " 'Краснодарский край',\n",
       " 'Свердловская область',\n",
       " 'Республика Татарстан',\n",
       " 'Новосибирская область',\n",
       " 'Московская область',\n",
       " 'Нижегородская область',\n",
       " 'Ростовская область',\n",
       " 'Самарская область']"
      ]
     },
     "execution_count": 97,
     "metadata": {},
     "output_type": "execute_result"
    }
   ],
   "source": [
    "# составляем список регионов топ-10 по кол-ву вакансий\n",
    "list_reg = list(dataframe['region'].value_counts().head(10).index)\n",
    "list_reg"
   ]
  },
  {
   "cell_type": "code",
   "execution_count": 111,
   "id": "86ff6cc3",
   "metadata": {},
   "outputs": [
    {
     "data": {
      "text/plain": [
       "region\n",
       "Москва                   87500.0\n",
       "Московская область       80000.0\n",
       "Нижегородская область    80000.0\n",
       "Санкт-Петербург          70000.0\n",
       "Свердловская область     70000.0\n",
       "Республика Татарстан     60000.0\n",
       "Ростовская область       58750.0\n",
       "Самарская область        57500.0\n",
       "Новосибирская область    55000.0\n",
       "Краснодарский край       50000.0\n",
       "Name: salary_json, dtype: float64"
      ]
     },
     "execution_count": 111,
     "metadata": {},
     "output_type": "execute_result"
    }
   ],
   "source": [
    "# оставляем в датафрейме только регионы из списка топ-10\n",
    "groups = dataframe_sal_notna[dataframe_sal_notna['region'].isin(list_reg)]\n",
    "# оставляем в датафрейме только вакансии из списка топа\n",
    "groups = groups[groups['name'].isin(top_prof_list)]\n",
    "# группируем столбцы регионов и столбец медианы зарплат\n",
    "group_reg = groups.groupby('region')['salary_json'].median()\n",
    "# сортируем по убыванию\n",
    "group_reg = group_reg.sort_values(ascending=False)\n",
    "group_reg"
   ]
  },
  {
   "cell_type": "code",
   "execution_count": 112,
   "id": "5a2a53f3",
   "metadata": {},
   "outputs": [
    {
     "data": {
      "text/plain": [
       "<BarContainer object of 10 artists>"
      ]
     },
     "execution_count": 112,
     "metadata": {},
     "output_type": "execute_result"
    },
    {
     "data": {
      "image/png": "[encoded data removed]",
      "text/plain": [
       "<Figure size 1130.4x523.44 with 1 Axes>"
      ]
     },
     "metadata": {},
     "output_type": "display_data"
    }
   ],
   "source": [
    "# отрисовываем зарплаты по топ-10 регионам на бар-даиграмме\n",
    "plt.xlabel('median salary')\n",
    "plt.title('median salary through region')\n",
    "plt.barh(group_reg.index, group_reg)"
   ]
  },
  {
   "cell_type": "code",
   "execution_count": null,
   "id": "48a30a22",
   "metadata": {},
   "outputs": [],
   "source": [
    "# Предварительный вывод:\n",
    "#     В регионах с бОльшим спросом - выше зарплаты. Возможно введение системы постоплаты (оплата в % от полученной зарплаты после курсов)\n",
    "#     в регионах с более высокой зарплатой, либо с условием переезда в эти регионы."
   ]
  },
  {
   "cell_type": "code",
   "execution_count": 100,
   "id": "0b4784be",
   "metadata": {},
   "outputs": [
    {
     "data": {
      "text/plain": [
       "['Системный администратор',\n",
       " 'Программист 1С',\n",
       " 'Системный аналитик',\n",
       " 'Специалист технической поддержки',\n",
       " 'Аналитик',\n",
       " 'Инженер-программист']"
      ]
     },
     "execution_count": 100,
     "metadata": {},
     "output_type": "execute_result"
    }
   ],
   "source": [
    "# выводим ещё раз список самых распространённых вакансий\n",
    "top_prof_list"
   ]
  },
  {
   "cell_type": "code",
   "execution_count": 101,
   "id": "2a150d3d",
   "metadata": {
    "scrolled": true
   },
   "outputs": [
    {
     "data": {
      "text/plain": [
       "fullDay        1769\n",
       "flexible         40\n",
       "shift            36\n",
       "remote           32\n",
       "flyInFlyOut      10\n",
       "Name: schedule_json, dtype: int64"
      ]
     },
     "execution_count": 101,
     "metadata": {},
     "output_type": "execute_result"
    }
   ],
   "source": [
    "# формируем новые датафрймы по спискам штатного расписания (топ-5), топа вакансий (топ-10) и выводим посмотреть получившуюся\n",
    "# колонку с расписанием одной из вакансий\n",
    "dataframe_sch = dataframe[dataframe['schedule_json'].isin(list(dataframe['schedule_json'].value_counts().head(5).index))]\n",
    "df_name_com = dataframe_sch[dataframe_sch['name'].isin(list(top_prof_list))]\n",
    "df_name_com_prof = df_name_com[df_name_com['name'] == 'Системный администратор']\n",
    "df_name_com_prof['schedule_json'].value_counts()"
   ]
  },
  {
   "cell_type": "code",
   "execution_count": 102,
   "id": "a7a8567d",
   "metadata": {},
   "outputs": [
    {
     "data": {
      "text/plain": [
       "{'shift': (0.12156862745098039, 0.4666666666666667, 0.7058823529411765),\n",
       " 'fullDay': (0.6823529411764706, 0.7803921568627451, 0.9098039215686274),\n",
       " 'remote': (1.0, 0.4980392156862745, 0.054901960784313725),\n",
       " 'flexible': (1.0, 0.7333333333333333, 0.47058823529411764),\n",
       " 'flyInFlyOut': (0.17254901960784313, 0.6274509803921569, 0.17254901960784313)}"
      ]
     },
     "execution_count": 102,
     "metadata": {},
     "output_type": "execute_result"
    }
   ],
   "source": [
    "# здесь просто задаём цвета для разных типов шттного расписания\n",
    "labels = df_name_com_prof['schedule_json'].unique()\n",
    "colors = dict(zip(labels, plt.cm.tab20.colors[:len(labels)]))\n",
    "colors"
   ]
  },
  {
   "cell_type": "code",
   "execution_count": 103,
   "id": "eb0f60ac",
   "metadata": {},
   "outputs": [
    {
     "data": {
      "image/png": "[encoded data removed]",
      "text/plain": [
       "<Figure size 1130.4x523.44 with 1 Axes>"
      ]
     },
     "metadata": {},
     "output_type": "display_data"
    },
    {
     "data": {
      "image/png": "[encoded data removed]",
      "text/plain": [
       "<Figure size 1130.4x523.44 with 1 Axes>"
      ]
     },
     "metadata": {},
     "output_type": "display_data"
    },
    {
     "data": {
      "image/png": "[encoded data removed]",
      "text/plain": [
       "<Figure size 1130.4x523.44 with 1 Axes>"
      ]
     },
     "metadata": {},
     "output_type": "display_data"
    },
    {
     "data": {
      "image/png": "[encoded data removed]",
      "text/plain": [
       "<Figure size 1130.4x523.44 with 1 Axes>"
      ]
     },
     "metadata": {},
     "output_type": "display_data"
    },
    {
     "data": {
      "image/png": "[encoded data removed]",
      "text/plain": [
       "<Figure size 1130.4x523.44 with 1 Axes>"
      ]
     },
     "metadata": {},
     "output_type": "display_data"
    },
    {
     "data": {
      "image/png": "[encoded data removed]",
      "text/plain": [
       "<Figure size 1130.4x523.44 with 1 Axes>"
      ]
     },
     "metadata": {},
     "output_type": "display_data"
    }
   ],
   "source": [
    "# перебираем созданный выше список топ-10 профессий\n",
    "for i in list(top_prof_list):\n",
    "#     создаём новый датафрейм, добавляем в него все сведения по каждому значению из иттерируемого списка\n",
    "  df_name_com_prof = df_name_com[df_name_com['name'] == i]\n",
    "# присваиваем переменной число каждого значения в колонке Тип здания\n",
    "  class_counts = df_name_com_prof['schedule_json'].value_counts()\n",
    "#     присваиваем переменной индексы (названия всех значений) из переменной выше\n",
    "  labels = class_counts.index\n",
    "# отрисовываем круговые диаграммы колонок из списка top_prof_list\n",
    "  plt.title(i)\n",
    "#    указываем тип диаграммы, передаём в неё параметры (значения колонки schedule_json, лэйблы-ключи и цвета к ним из словаря) \n",
    "  patches, texts = plt.pie(\n",
    "      class_counts.values, \n",
    "      labels = labels, \n",
    "      colors = [colors[key] for key in labels],\n",
    "      textprops=dict(color=\"w\") \n",
    "      )\n",
    "#    задаём легенду и задаём заголовок, её локацию размещения, настраиваем местоположение самой легенды\n",
    "  plt.legend(patches, labels, title=\"Schedule Types\", loc=\"upper center\", bbox_to_anchor=(1.05, 0.05, 0.5, 1)) \n",
    "# эта команда нужна, чтобы отрисовать сразу несклько графиков при переборе  \n",
    "  plt.show()"
   ]
  },
  {
   "cell_type": "code",
   "execution_count": null,
   "id": "0f71080b",
   "metadata": {},
   "outputs": [],
   "source": [
    "# Предварительный вывод:\n",
    "#     Для удалённой работы в большинстве случаев подходят специальности Аналитиков, программиста 1С и специалист тех. поддержки. \n",
    "#     Для обучения жителей регионов больше подойдут эти специальности, так как они смогут в дальнейшем работать удалённо на \n",
    "#     работодателей из СПБ и МСК."
   ]
  },
  {
   "cell_type": "code",
   "execution_count": 104,
   "id": "e77d8cee",
   "metadata": {},
   "outputs": [
    {
     "data": {
      "text/plain": [
       "48        47500\n",
       "53        35000\n",
       "99        36500\n",
       "132       31500\n",
       "134       18445\n",
       "          ...  \n",
       "76230    200000\n",
       "76232     90000\n",
       "76233     82500\n",
       "76259     30000\n",
       "76332    200000\n",
       "Name: salary_json, Length: 1340, dtype: int64"
      ]
     },
     "execution_count": 104,
     "metadata": {},
     "output_type": "execute_result"
    }
   ],
   "source": [
    "# нарисуем боксплоты для зарплат топ-10 вакансий\n",
    "# создадим датафрейм для топ-10 вакансий и ненулевых зарплат\n",
    "df_top_notna = dataframe_sal_notna[dataframe_sal_notna['name'].isin(list(top_prof_list))]\n",
    "df_top_notna['salary_json']"
   ]
  },
  {
   "cell_type": "code",
   "execution_count": 105,
   "id": "7dd79c5f",
   "metadata": {},
   "outputs": [
    {
     "data": {
      "text/plain": [
       "[Text(0.5, 0, 'Job title'),\n",
       " Text(0, 0.5, 'Salary'),\n",
       " Text(0.5, 1.0, 'Top-10 jobs salary')]"
      ]
     },
     "execution_count": 105,
     "metadata": {},
     "output_type": "execute_result"
    },
    {
     "data": {
      "image/png": "[encoded data removed]",
      "text/plain": [
       "<Figure size 1130.4x523.44 with 1 Axes>"
      ]
     },
     "metadata": {},
     "output_type": "display_data"
    }
   ],
   "source": [
    "# используем библиотеку сиборн для отрисовки, загрузим её\n",
    "import seaborn as sns\n",
    "# зададим размеры графика\n",
    "sns.set(rc={'figure.figsize':(15.7,7.27)})\n",
    "# заполним данные и тип графика, которые будут построены\n",
    "ax = sns.boxplot(x='name', y=\"salary_json\", data=df_top_notna)\n",
    "# подкорректируем размеры отображаемой области по оси Y\n",
    "plt.axis(ymin=0, ymax=650000) \n",
    "# чтобы подписи оси X не сливались - повернём их на 90 градусов\n",
    "ax.set_xticklabels(ax.get_xticklabels(),rotation=90)\n",
    "# зададим название графика и подпишем оси\n",
    "ax.set(xlabel =\"Job title\", ylabel = \"Salary\", title ='Top-10 jobs salary')"
   ]
  },
  {
   "cell_type": "code",
   "execution_count": null,
   "id": "527a59c7",
   "metadata": {},
   "outputs": [],
   "source": [
    "# Предварительный вывод:\n",
    "#     Цену на курсы стоит определеять, учитывая медианную зарплату по специальности. Также стоит принять во внимание себестоимость\n",
    "#      организации курсов и цены конкурентов. Графики медианных зарплат представлены выше для топа вакансий."
   ]
  }
 ],
 "metadata": {
  "kernelspec": {
   "display_name": "Python 3 (ipykernel)",
   "language": "python",
   "name": "python3"
  },
  "language_info": {
   "codemirror_mode": {
    "name": "ipython",
    "version": 3
   },
   "file_extension": ".py",
   "mimetype": "text/x-python",
   "name": "python",
   "nbconvert_exporter": "python",
   "pygments_lexer": "ipython3",
   "version": "3.10.4"
  }
 },
 "nbformat": 4,
 "nbformat_minor": 5
}
