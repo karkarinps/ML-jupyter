{
  "nbformat": 4,
  "nbformat_minor": 0,
  "metadata": {
    "colab": {
      "provenance": []
    },
    "kernelspec": {
      "name": "python3",
      "display_name": "Python 3"
    },
    "language_info": {
      "name": "python"
    },
    "accelerator": "GPU",
    "gpuClass": "standard"
  },
  "cells": [
    {
      "cell_type": "markdown",
      "source": [
        "Счётчик бактерий в чашке Петри.\n",
        "\n",
        "1) При подготовке датасета думал как решить проблему большого разрешения и мелких объектов при детекции. Прочитал статью https://blog.roboflow.com/detect-small-objects/\n",
        "\n",
        "Оттуда понял, как можно эту проблему решить. \n",
        "\n",
        "Также в статье есть советы по улучшению качества модели:\n",
        "\n",
        "    Increasing your image capture resolution\n",
        "    Increasing your model's input resolution\n",
        "    Tiling your images\n",
        "    Generating more data via augmentation\n",
        "    Auto learning model anchors\n",
        "    Filtering out extraneous classes \n",
        "\n",
        "Это помимо очевидных: попробовать другие архитектуры сетей, дольше обучать и т.д.\n",
        "\n",
        "2) На робофлоу порезал изображения и аннотации на куски: 5 частей по одной оси, 10 по другой. В итоге получилось больше почти квадратных имеджей меньшего разрешения (1040х911) и аннотации к ним. Изображения без аннотированных объектов убрал, чтобы не засорять датасет. Аугментацию не проводил, чтобы датасет не разроссься и не увеличил время обучения сети.\n",
        "\n",
        "3) Дальше просто шёл по коду. Причина выбора такой архитектуры в комментарии перед созданием экземпляра сети.\n",
        "\n",
        "4) Дорофее придётся нарезать снимки, прежде чем отправлять их на инференс.\n",
        "\n",
        "5) Уверенность у модели низкая, по причинам, указанным выше (не все советы по улучшению были применены), поэтому о точности также говорить не приходится.\n",
        "\n",
        "\n",
        "\n"
      ],
      "metadata": {
        "id": "PlsXY46ONA26"
      }
    },
    {
      "cell_type": "markdown",
      "source": [
        "Монтируем drive"
      ],
      "metadata": {
        "id": "nSmY5exlGfpB"
      }
    },
    {
      "cell_type": "code",
      "execution_count": null,
      "metadata": {
        "colab": {
          "base_uri": "https://localhost:8080/"
        },
        "id": "o92a6-sKWQdf",
        "outputId": "0e5f73a1-168c-4f33-8dff-93f5a3319f04"
      },
      "outputs": [
        {
          "output_type": "stream",
          "name": "stdout",
          "text": [
            "Mounted at /content/drive\n"
          ]
        }
      ],
      "source": [
        "from google.colab import drive\n",
        "drive.mount('/content/drive')"
      ]
    },
    {
      "cell_type": "markdown",
      "source": [
        "Установка зависимостей, импорт библиотек. Ошибки, warning-и - ничего страшного."
      ],
      "metadata": {
        "id": "FWY2U-EWGz3x"
      }
    },
    {
      "cell_type": "code",
      "source": [
        "!apt -y install libportaudio2"
      ],
      "metadata": {
        "colab": {
          "base_uri": "https://localhost:8080/"
        },
        "id": "rVZn6V51WYQ2",
        "outputId": "4d4fb162-e259-447c-f2cf-94074855170a"
      },
      "execution_count": null,
      "outputs": [
        {
          "output_type": "stream",
          "name": "stdout",
          "text": [
            "Reading package lists... Done\n",
            "Building dependency tree       \n",
            "Reading state information... Done\n",
            "The following NEW packages will be installed:\n",
            "  libportaudio2\n",
            "0 upgraded, 1 newly installed, 0 to remove and 24 not upgraded.\n",
            "Need to get 65.4 kB of archives.\n",
            "After this operation, 223 kB of additional disk space will be used.\n",
            "Get:1 http://archive.ubuntu.com/ubuntu focal/universe amd64 libportaudio2 amd64 19.6.0-1build1 [65.4 kB]\n",
            "Fetched 65.4 kB in 1s (66.8 kB/s)\n",
            "Selecting previously unselected package libportaudio2:amd64.\n",
            "(Reading database ... 122352 files and directories currently installed.)\n",
            "Preparing to unpack .../libportaudio2_19.6.0-1build1_amd64.deb ...\n",
            "Unpacking libportaudio2:amd64 (19.6.0-1build1) ...\n",
            "Setting up libportaudio2:amd64 (19.6.0-1build1) ...\n",
            "Processing triggers for libc-bin (2.31-0ubuntu9.9) ...\n"
          ]
        }
      ]
    },
    {
      "cell_type": "code",
      "source": [
        "pip install tflite-support"
      ],
      "metadata": {
        "colab": {
          "base_uri": "https://localhost:8080/"
        },
        "id": "J0UL6Y262ywp",
        "outputId": "b29e27d4-f3c5-48fb-d4fb-cc05940d0904"
      },
      "execution_count": null,
      "outputs": [
        {
          "output_type": "stream",
          "name": "stdout",
          "text": [
            "Looking in indexes: https://pypi.org/simple, https://us-python.pkg.dev/colab-wheels/public/simple/\n",
            "Requirement already satisfied: tflite-support in /usr/local/lib/python3.9/dist-packages (0.4.3)\n",
            "Requirement already satisfied: flatbuffers>=2.0 in /usr/local/lib/python3.9/dist-packages (from tflite-support) (23.3.3)\n",
            "Requirement already satisfied: pybind11>=2.6.0 in /usr/local/lib/python3.9/dist-packages (from tflite-support) (2.10.4)\n",
            "Requirement already satisfied: numpy>=1.20.0 in /usr/local/lib/python3.9/dist-packages (from tflite-support) (1.22.4)\n",
            "Requirement already satisfied: absl-py>=0.7.0 in /usr/local/lib/python3.9/dist-packages (from tflite-support) (1.4.0)\n",
            "Requirement already satisfied: protobuf<4,>=3.18.0 in /usr/local/lib/python3.9/dist-packages (from tflite-support) (3.20.3)\n",
            "Requirement already satisfied: sounddevice>=0.4.4 in /usr/local/lib/python3.9/dist-packages (from tflite-support) (0.4.6)\n",
            "Requirement already satisfied: CFFI>=1.0 in /usr/local/lib/python3.9/dist-packages (from sounddevice>=0.4.4->tflite-support) (1.15.1)\n",
            "Requirement already satisfied: pycparser in /usr/local/lib/python3.9/dist-packages (from CFFI>=1.0->sounddevice>=0.4.4->tflite-support) (2.21)\n"
          ]
        }
      ]
    },
    {
      "cell_type": "code",
      "source": [
        "!pip install -q --use-deprecated=legacy-resolver tflite-model-maker"
      ],
      "metadata": {
        "colab": {
          "base_uri": "https://localhost:8080/"
        },
        "id": "M_VlE-iYWYVw",
        "outputId": "46f13e79-8308-4b89-badd-a8865acb3b70"
      },
      "execution_count": null,
      "outputs": [
        {
          "output_type": "stream",
          "name": "stdout",
          "text": [
            "\u001b[2K     \u001b[90m━━━━━━━━━━━━━━━━━━━━━━━━━━━━━━━━━━━━━━━\u001b[0m \u001b[32m577.3/577.3 kB\u001b[0m \u001b[31m8.3 MB/s\u001b[0m eta \u001b[36m0:00:00\u001b[0m\n",
            "\u001b[2K     \u001b[90m━━━━━━━━━━━━━━━━━━━━━━━━━━━━━━━━━━━━━━━━\u001b[0m \u001b[32m60.9/60.9 MB\u001b[0m \u001b[31m8.0 MB/s\u001b[0m eta \u001b[36m0:00:00\u001b[0m\n",
            "\u001b[2K     \u001b[90m━━━━━━━━━━━━━━━━━━━━━━━━━━━━━━━━━━━━━━━━\u001b[0m \u001b[32m10.9/10.9 MB\u001b[0m \u001b[31m83.1 MB/s\u001b[0m eta \u001b[36m0:00:00\u001b[0m\n",
            "\u001b[2K     \u001b[90m━━━━━━━━━━━━━━━━━━━━━━━━━━━━━━━━━━━━━━━━\u001b[0m \u001b[32m10.3/10.3 MB\u001b[0m \u001b[31m74.2 MB/s\u001b[0m eta \u001b[36m0:00:00\u001b[0m\n",
            "\u001b[2K     \u001b[90m━━━━━━━━━━━━━━━━━━━━━━━━━━━━━━━━━━━━━━\u001b[0m \u001b[32m240.6/240.6 kB\u001b[0m \u001b[31m22.6 MB/s\u001b[0m eta \u001b[36m0:00:00\u001b[0m\n",
            "\u001b[2K     \u001b[90m━━━━━━━━━━━━━━━━━━━━━━━━━━━━━━━━━━━━━━\u001b[0m \u001b[32m128.6/128.6 kB\u001b[0m \u001b[31m14.1 MB/s\u001b[0m eta \u001b[36m0:00:00\u001b[0m\n",
            "\u001b[2K     \u001b[90m━━━━━━━━━━━━━━━━━━━━━━━━━━━━━━━━━━━━━━\u001b[0m \u001b[32m108.8/108.8 kB\u001b[0m \u001b[31m10.9 MB/s\u001b[0m eta \u001b[36m0:00:00\u001b[0m\n",
            "\u001b[2K     \u001b[90m━━━━━━━━━━━━━━━━━━━━━━━━━━━━━━━━━━━━━━\u001b[0m \u001b[32m840.9/840.9 kB\u001b[0m \u001b[31m53.3 MB/s\u001b[0m eta \u001b[36m0:00:00\u001b[0m\n",
            "\u001b[2K     \u001b[90m━━━━━━━━━━━━━━━━━━━━━━━━━━━━━━━━━━━━━━━━\u001b[0m \u001b[32m3.4/3.4 MB\u001b[0m \u001b[31m51.0 MB/s\u001b[0m eta \u001b[36m0:00:00\u001b[0m\n",
            "\u001b[2K     \u001b[90m━━━━━━━━━━━━━━━━━━━━━━━━━━━━━━━━━━━━━━\u001b[0m \u001b[32m128.0/128.0 kB\u001b[0m \u001b[31m12.7 MB/s\u001b[0m eta \u001b[36m0:00:00\u001b[0m\n",
            "\u001b[2K     \u001b[90m━━━━━━━━━━━━━━━━━━━━━━━━━━━━━━━━━━━━━━━━\u001b[0m \u001b[32m88.3/88.3 kB\u001b[0m \u001b[31m9.1 MB/s\u001b[0m eta \u001b[36m0:00:00\u001b[0m\n",
            "\u001b[?25h  Preparing metadata (setup.py) ... \u001b[?25l\u001b[?25hdone\n",
            "\u001b[2K     \u001b[90m━━━━━━━━━━━━━━━━━━━━━━━━━━━━━━━━━━━━━━\u001b[0m \u001b[32m591.0/591.0 kB\u001b[0m \u001b[31m34.6 MB/s\u001b[0m eta \u001b[36m0:00:00\u001b[0m\n",
            "\u001b[2K     \u001b[90m━━━━━━━━━━━━━━━━━━━━━━━━━━━━━━━━━━━━━━\u001b[0m \u001b[32m203.8/203.8 kB\u001b[0m \u001b[31m16.8 MB/s\u001b[0m eta \u001b[36m0:00:00\u001b[0m\n",
            "\u001b[2K     \u001b[90m━━━━━━━━━━━━━━━━━━━━━━━━━━━━━━━━━━━━━━━━\u001b[0m \u001b[32m77.5/77.5 kB\u001b[0m \u001b[31m7.3 MB/s\u001b[0m eta \u001b[36m0:00:00\u001b[0m\n",
            "\u001b[2K     \u001b[90m━━━━━━━━━━━━━━━━━━━━━━━━━━━━━━━━━━━━━━━━\u001b[0m \u001b[32m1.3/1.3 MB\u001b[0m \u001b[31m42.3 MB/s\u001b[0m eta \u001b[36m0:00:00\u001b[0m\n",
            "\u001b[2K     \u001b[90m━━━━━━━━━━━━━━━━━━━━━━━━━━━━━━━━━━━━━━\u001b[0m \u001b[32m222.3/222.3 kB\u001b[0m \u001b[31m18.2 MB/s\u001b[0m eta \u001b[36m0:00:00\u001b[0m\n",
            "\u001b[2K     \u001b[90m━━━━━━━━━━━━━━━━━━━━━━━━━━━━━━━━━━━━━━━━\u001b[0m \u001b[32m25.3/25.3 MB\u001b[0m \u001b[31m34.4 MB/s\u001b[0m eta \u001b[36m0:00:00\u001b[0m\n",
            "\u001b[2K     \u001b[90m━━━━━━━━━━━━━━━━━━━━━━━━━━━━━━━━━━━━━━━━\u001b[0m \u001b[32m3.1/3.1 MB\u001b[0m \u001b[31m67.4 MB/s\u001b[0m eta \u001b[36m0:00:00\u001b[0m\n",
            "\u001b[?25h  Building wheel for fire (setup.py) ... \u001b[?25l\u001b[?25hdone\n",
            "\u001b[31mERROR: pip's legacy dependency resolver does not consider dependency conflicts when selecting packages. This behaviour is the source of the following dependency conflicts.\n",
            "plotnine 0.10.1 requires matplotlib>=3.5.0, but you'll have matplotlib 3.4.3 which is incompatible.\n",
            "mizani 0.8.1 requires matplotlib>=3.5.0, but you'll have matplotlib 3.4.3 which is incompatible.\n",
            "scann 1.2.6 requires tensorflow~=2.8.0, but you'll have tensorflow 2.12.0 which is incompatible.\n",
            "tensorflow-model-optimization 0.7.4 requires numpy~=1.23, but you'll have numpy 1.22.4 which is incompatible.\n",
            "tensorflowjs 3.18.0 requires packaging~=20.9, but you'll have packaging 23.1 which is incompatible.\u001b[0m\u001b[31m\n",
            "\u001b[0m"
          ]
        }
      ]
    },
    {
      "cell_type": "code",
      "source": [
        "!pip install -q pycocotools\n",
        "!pip install -q opencv-python-headless==4.1.2.30\n",
        "!pip uninstall -y tensorflow && pip install -q tensorflow==2.8.0"
      ],
      "metadata": {
        "colab": {
          "base_uri": "https://localhost:8080/"
        },
        "id": "dRr2pMVTWYZp",
        "outputId": "a2fb7307-c987-4bd0-9b77-52f73751fd8e"
      },
      "execution_count": null,
      "outputs": [
        {
          "output_type": "stream",
          "name": "stdout",
          "text": [
            "\u001b[31mERROR: Could not find a version that satisfies the requirement opencv-python-headless==4.1.2.30 (from versions: 3.4.10.37, 3.4.11.39, 3.4.11.41, 3.4.11.43, 3.4.11.45, 3.4.13.47, 3.4.14.51, 3.4.14.53, 3.4.15.55, 3.4.16.59, 3.4.17.61, 3.4.17.63, 3.4.18.65, 4.3.0.38, 4.4.0.40, 4.4.0.42, 4.4.0.44, 4.4.0.46, 4.5.1.48, 4.5.2.52, 4.5.2.54, 4.5.3.56, 4.5.4.58, 4.5.4.60, 4.5.5.62, 4.5.5.64, 4.6.0.66, 4.7.0.68, 4.7.0.72)\u001b[0m\u001b[31m\n",
            "\u001b[0m\u001b[31mERROR: No matching distribution found for opencv-python-headless==4.1.2.30\u001b[0m\u001b[31m\n",
            "\u001b[0mFound existing installation: tensorflow 2.12.0\n",
            "Uninstalling tensorflow-2.12.0:\n",
            "  Successfully uninstalled tensorflow-2.12.0\n",
            "\u001b[2K     \u001b[90m━━━━━━━━━━━━━━━━━━━━━━━━━━━━━━━━━━━━━━━\u001b[0m \u001b[32m497.6/497.6 MB\u001b[0m \u001b[31m3.0 MB/s\u001b[0m eta \u001b[36m0:00:00\u001b[0m\n",
            "\u001b[2K     \u001b[90m━━━━━━━━━━━━━━━━━━━━━━━━━━━━━━━━━━━━━━━━\u001b[0m \u001b[32m42.6/42.6 kB\u001b[0m \u001b[31m3.9 MB/s\u001b[0m eta \u001b[36m0:00:00\u001b[0m\n",
            "\u001b[2K     \u001b[90m━━━━━━━━━━━━━━━━━━━━━━━━━━━━━━━━━━━━━━━━\u001b[0m \u001b[32m1.4/1.4 MB\u001b[0m \u001b[31m50.0 MB/s\u001b[0m eta \u001b[36m0:00:00\u001b[0m\n",
            "\u001b[2K     \u001b[90m━━━━━━━━━━━━━━━━━━━━━━━━━━━━━━━━━━━━━━━━\u001b[0m \u001b[32m5.8/5.8 MB\u001b[0m \u001b[31m66.2 MB/s\u001b[0m eta \u001b[36m0:00:00\u001b[0m\n",
            "\u001b[2K     \u001b[90m━━━━━━━━━━━━━━━━━━━━━━━━━━━━━━━━━━━━━━\u001b[0m \u001b[32m462.5/462.5 kB\u001b[0m \u001b[31m27.9 MB/s\u001b[0m eta \u001b[36m0:00:00\u001b[0m\n",
            "\u001b[2K     \u001b[90m━━━━━━━━━━━━━━━━━━━━━━━━━━━━━━━━━━━━━━━━\u001b[0m \u001b[32m4.9/4.9 MB\u001b[0m \u001b[31m55.9 MB/s\u001b[0m eta \u001b[36m0:00:00\u001b[0m\n",
            "\u001b[?25h\u001b[31mERROR: pip's dependency resolver does not currently take into account all the packages that are installed. This behaviour is the source of the following dependency conflicts.\n",
            "tensorflowjs 3.18.0 requires packaging~=20.9, but you have packaging 23.1 which is incompatible.\u001b[0m\u001b[31m\n",
            "\u001b[0m"
          ]
        }
      ]
    },
    {
      "cell_type": "code",
      "source": [
        "import numpy as np\n",
        "import os\n",
        "\n",
        "from tflite_model_maker.config import QuantizationConfig\n",
        "from tflite_model_maker.config import ExportFormat\n",
        "from tflite_model_maker import model_spec\n",
        "from tflite_model_maker import object_detector\n",
        "\n",
        "import tensorflow as tf\n",
        "assert tf.__version__.startswith('2')\n",
        "\n",
        "tf.get_logger().setLevel('ERROR')\n",
        "from absl import logging\n",
        "logging.set_verbosity(logging.ERROR)\n"
      ],
      "metadata": {
        "colab": {
          "base_uri": "https://localhost:8080/"
        },
        "id": "iTKxWRe7WYpU",
        "outputId": "42230be8-51b4-452c-fd36-2e7ae52ea2bd"
      },
      "execution_count": null,
      "outputs": [
        {
          "output_type": "stream",
          "name": "stderr",
          "text": [
            "/usr/local/lib/python3.9/dist-packages/tensorflow_addons/utils/tfa_eol_msg.py:23: UserWarning: \n",
            "\n",
            "TensorFlow Addons (TFA) has ended development and introduction of new features.\n",
            "TFA has entered a minimal maintenance and release mode until a planned end of life in May 2024.\n",
            "Please modify downstream libraries to take dependencies from other repositories in our TensorFlow community (e.g. Keras, Keras-CV, and Keras-NLP). \n",
            "\n",
            "For more information see: https://github.com/tensorflow/addons/issues/2807 \n",
            "\n",
            "  warnings.warn(\n",
            "/usr/local/lib/python3.9/dist-packages/tensorflow_addons/utils/ensure_tf_install.py:53: UserWarning: Tensorflow Addons supports using Python ops for all Tensorflow versions above or equal to 2.10.0 and strictly below 2.13.0 (nightly versions are not supported). \n",
            " The versions of TensorFlow you are currently using is 2.8.0 and is not supported. \n",
            "Some things might work, some things might not.\n",
            "If you were to encounter a bug, do not file an issue.\n",
            "If you want to make sure you're using a tested and supported configuration, either change the TensorFlow version or the TensorFlow Addons's version. \n",
            "You can find the compatibility matrix in TensorFlow Addon's readme:\n",
            "https://github.com/tensorflow/addons\n",
            "  warnings.warn(\n"
          ]
        }
      ]
    },
    {
      "cell_type": "markdown",
      "source": [
        "Выбрал эту сетку (efficientdet_lite4), потому что впервые наткнулся на неё. Она лёгкая, быстро обучается. \n",
        "По уму тут нужно выбирать архитектуру, которая показывает более высокую уверенность классификации. И не смотреть на время инференса - оно не важно, как по мне, для задачи подсчёта бактерий в чашке.\n"
      ],
      "metadata": {
        "id": "9shMS-h0HEmD"
      }
    },
    {
      "cell_type": "code",
      "source": [
        "spec = model_spec.get('efficientdet_lite4')"
      ],
      "metadata": {
        "id": "WQzqIcozWYst"
      },
      "execution_count": null,
      "outputs": []
    },
    {
      "cell_type": "markdown",
      "source": [
        "Распаковка архива, залитого на гугл-драйв.\n",
        "В архиве нарезанные изображения + xml-аннотации."
      ],
      "metadata": {
        "id": "nH389N6oL2oG"
      }
    },
    {
      "cell_type": "code",
      "source": [
        "!unzip -q /content/drive/MyDrive/Some_folder/test_2.zip"
      ],
      "metadata": {
        "id": "AdtaPU8UXjvc"
      },
      "execution_count": null,
      "outputs": []
    },
    {
      "cell_type": "markdown",
      "source": [
        "Подготовка данных перед обучением"
      ],
      "metadata": {
        "id": "ICtXP-S2MDzh"
      }
    },
    {
      "cell_type": "code",
      "source": [
        "train_data = object_detector.DataLoader.from_pascal_voc(\n",
        "    '/content/train',\n",
        "    '/content/train',\n",
        "    ['Dense', 'Diffuse', 'Mixed']\n",
        ")\n",
        "\n",
        "val_data = object_detector.DataLoader.from_pascal_voc(\n",
        "    '/content/valid',\n",
        "    '/content/valid',\n",
        "    ['Dense', 'Diffuse', 'Mixed']\n",
        ")"
      ],
      "metadata": {
        "id": "_dbi1qhKWYxF"
      },
      "execution_count": null,
      "outputs": []
    },
    {
      "cell_type": "markdown",
      "source": [
        "Обучение"
      ],
      "metadata": {
        "id": "g49vOYGLMKtE"
      }
    },
    {
      "cell_type": "code",
      "source": [
        "model = object_detector.create(train_data, model_spec=spec, batch_size=3, train_whole_model=True, epochs=14, validation_data=val_data)"
      ],
      "metadata": {
        "colab": {
          "base_uri": "https://localhost:8080/"
        },
        "id": "wJ5ZpDfbWY1A",
        "outputId": "c7f3f838-9392-463b-b414-f8b94c27e9d1"
      },
      "execution_count": null,
      "outputs": [
        {
          "output_type": "stream",
          "name": "stdout",
          "text": [
            "Epoch 1/14\n",
            "183/183 [==============================] - 214s 781ms/step - det_loss: 1.2712 - cls_loss: 0.8210 - box_loss: 0.0090 - reg_l2_loss: 0.1080 - loss: 1.3792 - learning_rate: 0.0059 - gradient_norm: 4.4651 - val_det_loss: 0.9982 - val_cls_loss: 0.6002 - val_box_loss: 0.0080 - val_reg_l2_loss: 0.1082 - val_loss: 1.1064\n",
            "Epoch 2/14\n",
            "183/183 [==============================] - 133s 727ms/step - det_loss: 0.8664 - cls_loss: 0.5351 - box_loss: 0.0066 - reg_l2_loss: 0.1082 - loss: 0.9746 - learning_rate: 0.0036 - gradient_norm: 4.8735 - val_det_loss: 0.8185 - val_cls_loss: 0.4760 - val_box_loss: 0.0068 - val_reg_l2_loss: 0.1082 - val_loss: 0.9267\n",
            "Epoch 3/14\n",
            "183/183 [==============================] - 133s 725ms/step - det_loss: 0.8085 - cls_loss: 0.4988 - box_loss: 0.0062 - reg_l2_loss: 0.1083 - loss: 0.9168 - learning_rate: 0.0034 - gradient_norm: 4.7444 - val_det_loss: 0.8873 - val_cls_loss: 0.4910 - val_box_loss: 0.0079 - val_reg_l2_loss: 0.1083 - val_loss: 0.9956\n",
            "Epoch 4/14\n",
            "183/183 [==============================] - 133s 727ms/step - det_loss: 0.7452 - cls_loss: 0.4571 - box_loss: 0.0058 - reg_l2_loss: 0.1083 - loss: 0.8535 - learning_rate: 0.0031 - gradient_norm: 4.2233 - val_det_loss: 0.8648 - val_cls_loss: 0.4481 - val_box_loss: 0.0083 - val_reg_l2_loss: 0.1083 - val_loss: 0.9731\n",
            "Epoch 5/14\n",
            "183/183 [==============================] - 149s 815ms/step - det_loss: 0.7181 - cls_loss: 0.4346 - box_loss: 0.0057 - reg_l2_loss: 0.1083 - loss: 0.8265 - learning_rate: 0.0027 - gradient_norm: 4.2450 - val_det_loss: 0.7247 - val_cls_loss: 0.4321 - val_box_loss: 0.0059 - val_reg_l2_loss: 0.1084 - val_loss: 0.8330\n",
            "Epoch 6/14\n",
            "183/183 [==============================] - 137s 750ms/step - det_loss: 0.6923 - cls_loss: 0.4204 - box_loss: 0.0054 - reg_l2_loss: 0.1084 - loss: 0.8006 - learning_rate: 0.0023 - gradient_norm: 4.2605 - val_det_loss: 0.6969 - val_cls_loss: 0.3847 - val_box_loss: 0.0062 - val_reg_l2_loss: 0.1084 - val_loss: 0.8052\n",
            "Epoch 7/14\n",
            "183/183 [==============================] - 136s 744ms/step - det_loss: 0.6775 - cls_loss: 0.4132 - box_loss: 0.0053 - reg_l2_loss: 0.1084 - loss: 0.7859 - learning_rate: 0.0019 - gradient_norm: 4.0618 - val_det_loss: 0.7824 - val_cls_loss: 0.4347 - val_box_loss: 0.0070 - val_reg_l2_loss: 0.1084 - val_loss: 0.8907\n",
            "Epoch 8/14\n",
            "183/183 [==============================] - 134s 734ms/step - det_loss: 0.6822 - cls_loss: 0.4127 - box_loss: 0.0054 - reg_l2_loss: 0.1084 - loss: 0.7906 - learning_rate: 0.0014 - gradient_norm: 4.0266 - val_det_loss: 0.7540 - val_cls_loss: 0.4105 - val_box_loss: 0.0069 - val_reg_l2_loss: 0.1084 - val_loss: 0.8624\n",
            "Epoch 9/14\n",
            "183/183 [==============================] - 139s 760ms/step - det_loss: 0.6500 - cls_loss: 0.3961 - box_loss: 0.0051 - reg_l2_loss: 0.1084 - loss: 0.7584 - learning_rate: 0.0010 - gradient_norm: 4.2259 - val_det_loss: 0.6924 - val_cls_loss: 0.3879 - val_box_loss: 0.0061 - val_reg_l2_loss: 0.1084 - val_loss: 0.8007\n",
            "Epoch 10/14\n",
            "183/183 [==============================] - 141s 773ms/step - det_loss: 0.6489 - cls_loss: 0.3999 - box_loss: 0.0050 - reg_l2_loss: 0.1084 - loss: 0.7572 - learning_rate: 6.3471e-04 - gradient_norm: 4.2955 - val_det_loss: 0.6924 - val_cls_loss: 0.3774 - val_box_loss: 0.0063 - val_reg_l2_loss: 0.1083 - val_loss: 0.8007\n",
            "Epoch 11/14\n",
            "183/183 [==============================] - 133s 726ms/step - det_loss: 0.6968 - cls_loss: 0.4439 - box_loss: 0.0051 - reg_l2_loss: 0.1083 - loss: 0.8052 - learning_rate: 3.3570e-04 - gradient_norm: 4.3210 - val_det_loss: 0.6811 - val_cls_loss: 0.3837 - val_box_loss: 0.0059 - val_reg_l2_loss: 0.1083 - val_loss: 0.7895\n",
            "Epoch 12/14\n",
            "183/183 [==============================] - 131s 714ms/step - det_loss: 0.6471 - cls_loss: 0.3952 - box_loss: 0.0050 - reg_l2_loss: 0.1083 - loss: 0.7554 - learning_rate: 1.2616e-04 - gradient_norm: 4.3007 - val_det_loss: 0.6738 - val_cls_loss: 0.3720 - val_box_loss: 0.0060 - val_reg_l2_loss: 0.1083 - val_loss: 0.7821\n",
            "Epoch 13/14\n",
            "183/183 [==============================] - 134s 730ms/step - det_loss: 0.6234 - cls_loss: 0.3802 - box_loss: 0.0049 - reg_l2_loss: 0.1083 - loss: 0.7317 - learning_rate: 1.8246e-05 - gradient_norm: 4.1411 - val_det_loss: 0.6924 - val_cls_loss: 0.3813 - val_box_loss: 0.0062 - val_reg_l2_loss: 0.1083 - val_loss: 0.8008\n",
            "Epoch 14/14\n",
            "183/183 [==============================] - 138s 754ms/step - det_loss: 0.6215 - cls_loss: 0.3815 - box_loss: 0.0048 - reg_l2_loss: 0.1083 - loss: 0.7299 - learning_rate: 1.8243e-05 - gradient_norm: 4.0597 - val_det_loss: 0.6714 - val_cls_loss: 0.3723 - val_box_loss: 0.0060 - val_reg_l2_loss: 0.1083 - val_loss: 0.7797\n"
          ]
        }
      ]
    },
    {
      "cell_type": "markdown",
      "source": [
        "Экспорт модели."
      ],
      "metadata": {
        "id": "UVSVwiFlMOx7"
      }
    },
    {
      "cell_type": "code",
      "source": [
        "model.export(export_dir='/content/drive/MyDrive/Some_folder', tflite_filename='petry.tflite')"
      ],
      "metadata": {
        "id": "skPl044-cFku"
      },
      "execution_count": null,
      "outputs": []
    },
    {
      "cell_type": "markdown",
      "source": [
        "Код и импорты для инференса."
      ],
      "metadata": {
        "id": "1V-i1mfxMX7u"
      }
    },
    {
      "cell_type": "code",
      "source": [
        "from tflite_support.task import vision\n",
        "from tflite_support.task import core\n",
        "from tflite_support.task import processor"
      ],
      "metadata": {
        "id": "epgneOHBhJtR"
      },
      "execution_count": null,
      "outputs": []
    },
    {
      "cell_type": "code",
      "source": [
        "model_path=\"/content/drive/MyDrive/Some_folder/petry.tflite\"\n",
        "detector = vision.ObjectDetector.create_from_file(model_path)"
      ],
      "metadata": {
        "id": "vN3z1r_n3T4s"
      },
      "execution_count": null,
      "outputs": []
    },
    {
      "cell_type": "code",
      "source": [
        "img_path = \"/content/train/-10_jpg.rf.105d5667d8746dda75ac670aa422c3de.jpg\"\n",
        "image = vision.TensorImage.create_from_file(img_path)\n",
        "detection_result = detector.detect(image)"
      ],
      "metadata": {
        "id": "IzcSEXLD3cPo"
      },
      "execution_count": null,
      "outputs": []
    },
    {
      "cell_type": "markdown",
      "source": [
        "Просто счётчик всех классов по отдельности и вместе."
      ],
      "metadata": {
        "id": "l-JQB9GRMe6g"
      }
    },
    {
      "cell_type": "code",
      "source": [
        "import re\n",
        "\n",
        "flora_sum = 0\n",
        "for i in ['Dense', 'Diffuse', 'Mixed']:\n",
        "  counter = len(re.findall(f\"{i}\", str(detection_result)))\n",
        "  print(i, counter)\n",
        "  flora_sum += counter\n",
        "\n",
        "print(f'Total: {flora_sum}')"
      ],
      "metadata": {
        "colab": {
          "base_uri": "https://localhost:8080/"
        },
        "id": "efZDrG9340wc",
        "outputId": "f4a4fee6-254c-4402-b76e-e08a2b34d2b4"
      },
      "execution_count": null,
      "outputs": [
        {
          "output_type": "stream",
          "name": "stdout",
          "text": [
            "Dense 11\n",
            "Diffuse 0\n",
            "Mixed 14\n",
            "Total: 25\n"
          ]
        }
      ]
    },
    {
      "cell_type": "markdown",
      "source": [
        "END"
      ],
      "metadata": {
        "id": "aQIsPGVHSBxT"
      }
    }
  ]
}