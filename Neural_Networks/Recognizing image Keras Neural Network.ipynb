{
 "cells": [
  {
   "cell_type": "code",
   "execution_count": 38,
   "id": "22b03c4b",
   "metadata": {},
   "outputs": [],
   "source": [
    "import numpy as np\n",
    "import matplotlib.pyplot as plt\n",
    "from tensorflow import keras\n",
    "from keras.models import Sequential\n",
    "# пришлось подгрузить батч-нормализатор (нормализация данных от 0 до 1), так как оптимизатор Адам плохо кушал \n",
    "# ненормализованные данные\n",
    "from tensorflow.keras.layers import BatchNormalization\n",
    "from tensorflow.keras.layers import Dense, Flatten   # импорт слоёв... flatten - слой-предобработка входящих данных"
   ]
  },
  {
   "cell_type": "code",
   "execution_count": 6,
   "id": "ae32f67c",
   "metadata": {},
   "outputs": [],
   "source": [
    "# качаем тестовые данные изображений, сразу разбиваем их на 2 кортежа (в каждом сплитнутые x - изображения и y - ответы)\n",
    "(x_train, y_train), (x_test, y_test) = keras.datasets.mnist.load_data()"
   ]
  },
  {
   "cell_type": "code",
   "execution_count": 18,
   "id": "cf131103",
   "metadata": {},
   "outputs": [
    {
     "data": {
      "text/plain": [
       "5"
      ]
     },
     "execution_count": 18,
     "metadata": {},
     "output_type": "execute_result"
    }
   ],
   "source": [
    "# assert'ом утверждаемся, что по форме данных всё как надо 60к картинок 28х28 пикселей в трэйне, 60к ответов и тестовые данные\n",
    "assert x_train.shape == (60000, 28, 28)\n",
    "assert x_test.shape == (10000, 28, 28)\n",
    "assert y_train.shape == (60000,)\n",
    "assert y_test.shape == (10000,)\n",
    "# выведем ответ из массива y, [0] элемент\n",
    "y_train[0]"
   ]
  },
  {
   "cell_type": "code",
   "execution_count": 10,
   "id": "7473e0ae",
   "metadata": {},
   "outputs": [
    {
     "data": {
      "text/plain": [
       "array([[  0,   0,   0,   0,   0,   0,   0,   0,   0,   0,   0,   0,   0,\n",
       "          0,   0,   0,   0,   0,   0,   0,   0,   0,   0,   0,   0,   0,\n",
       "          0,   0],\n",
       "       [  0,   0,   0,   0,   0,   0,   0,   0,   0,   0,   0,   0,   0,\n",
       "          0,   0,   0,   0,   0,   0,   0,   0,   0,   0,   0,   0,   0,\n",
       "          0,   0],\n",
       "       [  0,   0,   0,   0,   0,   0,   0,   0,   0,   0,   0,   0,   0,\n",
       "          0,   0,   0,   0,   0,   0,   0,   0,   0,   0,   0,   0,   0,\n",
       "          0,   0],\n",
       "       [  0,   0,   0,   0,   0,   0,   0,   0,   0,   0,   0,   0,   0,\n",
       "          0,   0,   0,   0,   0,   0,   0,   0,   0,   0,   0,   0,   0,\n",
       "          0,   0],\n",
       "       [  0,   0,   0,   0,   0,   0,   0,   0,   0,   0,   0,   0,   0,\n",
       "          0,   0,   0,   0,   0,   0,   0,   0,   0,   0,   0,   0,   0,\n",
       "          0,   0],\n",
       "       [  0,   0,   0,   0,   0,   0,   0,   0,   0,   0,   0,   0,   3,\n",
       "         18,  18,  18, 126, 136, 175,  26, 166, 255, 247, 127,   0,   0,\n",
       "          0,   0],\n",
       "       [  0,   0,   0,   0,   0,   0,   0,   0,  30,  36,  94, 154, 170,\n",
       "        253, 253, 253, 253, 253, 225, 172, 253, 242, 195,  64,   0,   0,\n",
       "          0,   0],\n",
       "       [  0,   0,   0,   0,   0,   0,   0,  49, 238, 253, 253, 253, 253,\n",
       "        253, 253, 253, 253, 251,  93,  82,  82,  56,  39,   0,   0,   0,\n",
       "          0,   0],\n",
       "       [  0,   0,   0,   0,   0,   0,   0,  18, 219, 253, 253, 253, 253,\n",
       "        253, 198, 182, 247, 241,   0,   0,   0,   0,   0,   0,   0,   0,\n",
       "          0,   0],\n",
       "       [  0,   0,   0,   0,   0,   0,   0,   0,  80, 156, 107, 253, 253,\n",
       "        205,  11,   0,  43, 154,   0,   0,   0,   0,   0,   0,   0,   0,\n",
       "          0,   0],\n",
       "       [  0,   0,   0,   0,   0,   0,   0,   0,   0,  14,   1, 154, 253,\n",
       "         90,   0,   0,   0,   0,   0,   0,   0,   0,   0,   0,   0,   0,\n",
       "          0,   0],\n",
       "       [  0,   0,   0,   0,   0,   0,   0,   0,   0,   0,   0, 139, 253,\n",
       "        190,   2,   0,   0,   0,   0,   0,   0,   0,   0,   0,   0,   0,\n",
       "          0,   0],\n",
       "       [  0,   0,   0,   0,   0,   0,   0,   0,   0,   0,   0,  11, 190,\n",
       "        253,  70,   0,   0,   0,   0,   0,   0,   0,   0,   0,   0,   0,\n",
       "          0,   0],\n",
       "       [  0,   0,   0,   0,   0,   0,   0,   0,   0,   0,   0,   0,  35,\n",
       "        241, 225, 160, 108,   1,   0,   0,   0,   0,   0,   0,   0,   0,\n",
       "          0,   0],\n",
       "       [  0,   0,   0,   0,   0,   0,   0,   0,   0,   0,   0,   0,   0,\n",
       "         81, 240, 253, 253, 119,  25,   0,   0,   0,   0,   0,   0,   0,\n",
       "          0,   0],\n",
       "       [  0,   0,   0,   0,   0,   0,   0,   0,   0,   0,   0,   0,   0,\n",
       "          0,  45, 186, 253, 253, 150,  27,   0,   0,   0,   0,   0,   0,\n",
       "          0,   0],\n",
       "       [  0,   0,   0,   0,   0,   0,   0,   0,   0,   0,   0,   0,   0,\n",
       "          0,   0,  16,  93, 252, 253, 187,   0,   0,   0,   0,   0,   0,\n",
       "          0,   0],\n",
       "       [  0,   0,   0,   0,   0,   0,   0,   0,   0,   0,   0,   0,   0,\n",
       "          0,   0,   0,   0, 249, 253, 249,  64,   0,   0,   0,   0,   0,\n",
       "          0,   0],\n",
       "       [  0,   0,   0,   0,   0,   0,   0,   0,   0,   0,   0,   0,   0,\n",
       "          0,  46, 130, 183, 253, 253, 207,   2,   0,   0,   0,   0,   0,\n",
       "          0,   0],\n",
       "       [  0,   0,   0,   0,   0,   0,   0,   0,   0,   0,   0,   0,  39,\n",
       "        148, 229, 253, 253, 253, 250, 182,   0,   0,   0,   0,   0,   0,\n",
       "          0,   0],\n",
       "       [  0,   0,   0,   0,   0,   0,   0,   0,   0,   0,  24, 114, 221,\n",
       "        253, 253, 253, 253, 201,  78,   0,   0,   0,   0,   0,   0,   0,\n",
       "          0,   0],\n",
       "       [  0,   0,   0,   0,   0,   0,   0,   0,  23,  66, 213, 253, 253,\n",
       "        253, 253, 198,  81,   2,   0,   0,   0,   0,   0,   0,   0,   0,\n",
       "          0,   0],\n",
       "       [  0,   0,   0,   0,   0,   0,  18, 171, 219, 253, 253, 253, 253,\n",
       "        195,  80,   9,   0,   0,   0,   0,   0,   0,   0,   0,   0,   0,\n",
       "          0,   0],\n",
       "       [  0,   0,   0,   0,  55, 172, 226, 253, 253, 253, 253, 244, 133,\n",
       "         11,   0,   0,   0,   0,   0,   0,   0,   0,   0,   0,   0,   0,\n",
       "          0,   0],\n",
       "       [  0,   0,   0,   0, 136, 253, 253, 253, 212, 135, 132,  16,   0,\n",
       "          0,   0,   0,   0,   0,   0,   0,   0,   0,   0,   0,   0,   0,\n",
       "          0,   0],\n",
       "       [  0,   0,   0,   0,   0,   0,   0,   0,   0,   0,   0,   0,   0,\n",
       "          0,   0,   0,   0,   0,   0,   0,   0,   0,   0,   0,   0,   0,\n",
       "          0,   0],\n",
       "       [  0,   0,   0,   0,   0,   0,   0,   0,   0,   0,   0,   0,   0,\n",
       "          0,   0,   0,   0,   0,   0,   0,   0,   0,   0,   0,   0,   0,\n",
       "          0,   0],\n",
       "       [  0,   0,   0,   0,   0,   0,   0,   0,   0,   0,   0,   0,   0,\n",
       "          0,   0,   0,   0,   0,   0,   0,   0,   0,   0,   0,   0,   0,\n",
       "          0,   0]], dtype=uint8)"
      ]
     },
     "execution_count": 10,
     "metadata": {},
     "output_type": "execute_result"
    }
   ],
   "source": [
    "# вытащим одну картинку в виде массива из 'x' тренировочных данных, чтобы увидеть что мы будем скармливать нашему оптимизатору \n",
    "# в качестве данных\n",
    "img0 = x_train[0]\n",
    "x_train[0]"
   ]
  },
  {
   "cell_type": "code",
   "execution_count": 11,
   "id": "ba09d075",
   "metadata": {},
   "outputs": [
    {
     "data": {
      "text/plain": [
       "<matplotlib.image.AxesImage at 0x1f548b27ca0>"
      ]
     },
     "execution_count": 11,
     "metadata": {},
     "output_type": "execute_result"
    },
    {
     "data": {
      "image/png": "[encoded data removed]",
      "text/plain": [
       "<Figure size 432x288 with 1 Axes>"
      ]
     },
     "metadata": {
      "needs_background": "light"
     },
     "output_type": "display_data"
    }
   ],
   "source": [
    "# НУЖНО НОРМАЛИЗОВАТЬ! чтобы значения были в районе 0 или от 0 до 1 в зависимости от типа нормализации для лучших результатов\n",
    "# как видим, это массив от 0 до 255 - каждый пиксель это числовое значение цвета. Всего пикселей в одном изображении 28х28\n",
    "# мы будем кормить этим нейросеть, а на выходе показывать правильный ответ, соответственно по ходу обучения будут подбираться\n",
    "# правильные веса, чтобы подобное же изображение с некоторой вероятностью можно было классифицировать как ответ\n",
    "# теперь выведем рисунком этот массив\n",
    "plt.imshow(img0, interpolation='nearest')"
   ]
  },
  {
   "cell_type": "code",
   "execution_count": 31,
   "id": "68119e29",
   "metadata": {},
   "outputs": [
    {
     "data": {
      "text/plain": [
       "array([0., 0., 0., 0., 0., 1., 0., 0., 0., 0.], dtype=float32)"
      ]
     },
     "execution_count": 31,
     "metadata": {},
     "output_type": "execute_result"
    }
   ],
   "source": [
    "# переделаем выходные данные из числовых int в вектор с 10 элементами, иначе на этапе обучения будем получать ошибку\n",
    "# несоответствия форм выходного сигнала и ответа в датасэте 'y'\n",
    "# воспользуемся матодом преобразования числа в бинарный ветор keras.utils.to_categorical и укажем\n",
    "# целевой сет, число классов (оно же число выходных сигналов, оно же число элементов вектора) чтобы выходные сигналы\n",
    "# совпадали по форме. Выведем нашу пятёрку в виде бинарного вектора\n",
    "y_train_categ = keras.utils.to_categorical(y_train, num_classes=10, dtype=\"float32\")\n",
    "# сразу переделаем и тестовые ответы\n",
    "y_test_categ = keras.utils.to_categorical(y_test, num_classes=10, dtype=\"float32\")\n",
    "y_train_categ[0]"
   ]
  },
  {
   "cell_type": "code",
   "execution_count": 43,
   "id": "7093d039",
   "metadata": {},
   "outputs": [],
   "source": [
    "# это действительно пятёрка (шестой элемент '1' - это наша пятёрка, так как счёт начинается с нуля)\n",
    "# нормлизуме данные в массивах (сейчас они от 0 до 255 в зависимости от цвета, нам нужно от 0 до 1), разделив на 255\n",
    "input_train = x_train / 255\n",
    "# и тест сет тоже нормализуем\n",
    "input_test = x_test / 255"
   ]
  },
  {
   "cell_type": "code",
   "execution_count": 48,
   "id": "96514ce2",
   "metadata": {},
   "outputs": [
    {
     "name": "stdout",
     "output_type": "stream",
     "text": [
      "Model: \"sequential_6\"\n",
      "_________________________________________________________________\n",
      " Layer (type)                Output Shape              Param #   \n",
      "=================================================================\n",
      " flatten_6 (Flatten)         (None, 784)               0         \n",
      "                                                                 \n",
      " batch_normalization_6 (Batc  (None, 784)              3136      \n",
      " hNormalization)                                                 \n",
      "                                                                 \n",
      " dense_15 (Dense)            (None, 256)               200960    \n",
      "                                                                 \n",
      " batch_normalization_7 (Batc  (None, 256)              1024      \n",
      " hNormalization)                                                 \n",
      "                                                                 \n",
      " dense_16 (Dense)            (None, 64)                16448     \n",
      "                                                                 \n",
      " batch_normalization_8 (Batc  (None, 64)               256       \n",
      " hNormalization)                                                 \n",
      "                                                                 \n",
      " dense_17 (Dense)            (None, 10)                650       \n",
      "                                                                 \n",
      "=================================================================\n",
      "Total params: 222,474\n",
      "Trainable params: 220,266\n",
      "Non-trainable params: 2,208\n",
      "_________________________________________________________________\n"
     ]
    }
   ],
   "source": [
    "# даавйте попробуем содать модельку с параметрами сети\n",
    "# зададим класс последовательной нейронной сети\n",
    "model = Sequential()\n",
    "# используем выпрямитель наших массивов (переработаем 28 строк в 1 строку - колбасу) в меньшую размерность\n",
    "model.add(Flatten(input_shape=(28, 28, 1)))\n",
    "# далее задаём слои, указывая в параметрах количество нейронов в слое и функцию активации\n",
    "# функции активации и схема сети заданы почти наугад, вообще это отдельная большая тема \n",
    "# вставляем батч-нормализацию перед каждым слоем нейронов, хотя данные у нас и так нормализованы, но лишним, я думаю, не будет\n",
    "model.add(BatchNormalization())\n",
    "model.add(Dense(256, activation='relu'))\n",
    "model.add(BatchNormalization())\n",
    "model.add(Dense(64, activation='relu'))\n",
    "model.add(BatchNormalization())\n",
    "model.add(Dense(10, activation='softmax'))\n",
    "# выводим общие параметры модели\n",
    "model.summary()"
   ]
  },
  {
   "cell_type": "code",
   "execution_count": 49,
   "id": "e75fc160",
   "metadata": {},
   "outputs": [],
   "source": [
    "# создаём среду модели, с оптимизатором (задаём именно так, подбирая нужный learning_rate),\n",
    "# параметром по которому функция будет сравнивать модели (loss) и метрику точности (metrics)\n",
    "model.compile(optimizer=keras.optimizers.Adam(learning_rate=0.001), loss='categorical_crossentropy', metrics=['accuracy'])"
   ]
  },
  {
   "cell_type": "code",
   "execution_count": 50,
   "id": "6578536d",
   "metadata": {},
   "outputs": [
    {
     "name": "stdout",
     "output_type": "stream",
     "text": [
      "Epoch 1/7\n",
      "704/704 [==============================] - 10s 12ms/step - loss: 0.2492 - accuracy: 0.9272 - val_loss: 0.1314 - val_accuracy: 0.9613\n",
      "Epoch 2/7\n",
      "704/704 [==============================] - 8s 11ms/step - loss: 0.1014 - accuracy: 0.9693 - val_loss: 0.1167 - val_accuracy: 0.9647\n",
      "Epoch 3/7\n",
      "704/704 [==============================] - 7s 11ms/step - loss: 0.0707 - accuracy: 0.9782 - val_loss: 0.1047 - val_accuracy: 0.9706\n",
      "Epoch 4/7\n",
      "704/704 [==============================] - 7s 10ms/step - loss: 0.0475 - accuracy: 0.9844 - val_loss: 0.1127 - val_accuracy: 0.9701\n",
      "Epoch 5/7\n",
      "704/704 [==============================] - 7s 10ms/step - loss: 0.0407 - accuracy: 0.9873 - val_loss: 0.1087 - val_accuracy: 0.9720\n",
      "Epoch 6/7\n",
      "704/704 [==============================] - 7s 11ms/step - loss: 0.0338 - accuracy: 0.9894 - val_loss: 0.1106 - val_accuracy: 0.9703\n",
      "Epoch 7/7\n",
      "704/704 [==============================] - 7s 10ms/step - loss: 0.0359 - accuracy: 0.9882 - val_loss: 0.1085 - val_accuracy: 0.9731\n"
     ]
    },
    {
     "data": {
      "text/plain": [
       "<keras.callbacks.History at 0x1f54ccdebf0>"
      ]
     },
     "execution_count": 50,
     "metadata": {},
     "output_type": "execute_result"
    }
   ],
   "source": [
    "# фитим модель тренировочными нормализованными Х и категорированными Y данными, задаём размер 1 порции данных - 32,\n",
    "# количество иттераций обучения - 5,\n",
    "# указываем пропорцию сплита данных на тренировочные и валидационые (как кросс-валидация в машинном обучении Склёрн) - 25%\n",
    "model.fit(input_train, y_train_categ, batch_size=64, epochs=7, validation_split=0.25)\n",
    "# запускаем, перекрестимся чтобы комп не улетел на Луну. Алюминь\n",
    "\n",
    "# в этом моменте возникла ошибка 'ValueError: Shapes (None, 1) and (None, 10) are incompatible'\n",
    "# ошибка формы, так как я пытался получить одноканальный ответ от 10-канального слоя нейронов...\n",
    "# значение 'y' у нас записано в виде числа, а надо преобразовать его в вектор-массив из 10 элементов, чтобы последний слой\n",
    "# нейронов выдавал также 10 сигналов - 9 нулей и 1 единицу, соответствующую нашему классу изображения"
   ]
  },
  {
   "cell_type": "code",
   "execution_count": 51,
   "id": "943d93df",
   "metadata": {},
   "outputs": [
    {
     "name": "stdout",
     "output_type": "stream",
     "text": [
      "313/313 [==============================] - 1s 3ms/step - loss: 0.0976 - accuracy: 0.9757\n"
     ]
    },
    {
     "data": {
      "text/plain": [
       "[0.09764309972524643, 0.9757000207901001]"
      ]
     },
     "execution_count": 51,
     "metadata": {},
     "output_type": "execute_result"
    }
   ],
   "source": [
    "# прежде чем все получилось, была проблема с оптимизатором Адам, проблема с нормализацией данных и т.п. \n",
    "# глянем на лог...7секунд обучение 1 эпохи, до нормализации был по 8+ секунд, всратые значения точности и лоса\n",
    "# ладно, глянем какие результаты нам покажут тестовые данные на этой обученной модели\n",
    "model.evaluate(input_test, y_test_categ)"
   ]
  },
  {
   "cell_type": "code",
   "execution_count": 58,
   "id": "2a199622",
   "metadata": {},
   "outputs": [
    {
     "name": "stdout",
     "output_type": "stream",
     "text": [
      "1/1 [==============================] - 0s 31ms/step\n"
     ]
    },
    {
     "data": {
      "text/plain": [
       "array([[3.9872871e-06, 8.9105917e-08, 2.6486376e-07, 9.2825786e-07,\n",
       "        9.0930419e-09, 3.6458331e-08, 2.8737759e-10, 9.9999452e-01,\n",
       "        1.1169299e-09, 1.3409462e-07]], dtype=float32)"
      ]
     },
     "execution_count": 58,
     "metadata": {},
     "output_type": "execute_result"
    }
   ],
   "source": [
    "# выведем предсказание первого изображения из тестовой нормализованной выборки, нужно добавить массиву размерность\n",
    "# делаем это с помощью метода np.expand_dims\n",
    "x = np.expand_dims(input_test[0], axis=0)\n",
    "model.predict(x)"
   ]
  },
  {
   "cell_type": "code",
   "execution_count": 60,
   "id": "5b240c35",
   "metadata": {},
   "outputs": [
    {
     "data": {
      "text/plain": [
       "<matplotlib.image.AxesImage at 0x1f50204cc10>"
      ]
     },
     "execution_count": 60,
     "metadata": {},
     "output_type": "execute_result"
    },
    {
     "data": {
      "image/png": "[encoded data removed]",
      "text/plain": [
       "<Figure size 432x288 with 1 Axes>"
      ]
     },
     "metadata": {
      "needs_background": "light"
     },
     "output_type": "display_data"
    }
   ],
   "source": [
    "# смотрим на массив вероятностей, находим большее значение 9.9999452e-0 - почти 100% вероятность, что сигнал с этого 7-го\n",
    "# нейрона указал нам правильный класс\n",
    "# нарисуем это же первое изображение из тестовой выборки\n",
    "plt.imshow(x_test[0], interpolation='nearest')"
   ]
  },
  {
   "cell_type": "code",
   "execution_count": 61,
   "id": "b048f550",
   "metadata": {},
   "outputs": [
    {
     "data": {
      "text/plain": [
       "7"
      ]
     },
     "execution_count": 61,
     "metadata": {},
     "output_type": "execute_result"
    }
   ],
   "source": [
    "# это семёрка, как и было указано машиной на 7ой нейрон с вероятностью близкой к 100%\n",
    "# на всякий случай выведем первый ответ из Y тестовой выборки\n",
    "y_test[0]"
   ]
  },
  {
   "cell_type": "code",
   "execution_count": null,
   "id": "6e805135",
   "metadata": {},
   "outputs": [],
   "source": [
    "Тоже семёрка. Закончим мучить эту модель.\n",
    "Итак, подытожим.\n",
    "-При работе с изображениями (и не только с ними, скорее при решении задачи классификации) важна нормализация данных.\n",
    "-Число каналов последнего слоя (нейронов) должно совпадать с размерностью вывода информации, формы должны соотвествовать друг другу.\n",
    "-При работе с массивами нужно снижать размерность входных данных (Flatten)\n",
    "-Батч-нормализация и послойная (layers) нормализация (её ещё не пробовал) особенно важны, если данные изначально не нормализованы делением\n",
    "-Структура сети (число нейроном, функция активации) это очень спорный вопрос, требует дальнейшего изучения\n",
    "-Для предсказания, модели нужны данные с расширенной размерностью np.expand_dims, иначе не отрисует\n",
    "-Результат предсказания (работы) модели-классификатора - это ВЕРОЯТНОСТЬ отнесения к тому или иному классу, а не нечто иное.\n",
    "'Небольшой расход'(c)"
   ]
  },
  {
   "cell_type": "code",
   "execution_count": null,
   "id": "f8b5efcb",
   "metadata": {},
   "outputs": [],
   "source": []
  }
 ],
 "metadata": {
  "kernelspec": {
   "display_name": "Python 3 (ipykernel)",
   "language": "python",
   "name": "python3"
  },
  "language_info": {
   "codemirror_mode": {
    "name": "ipython",
    "version": 3
   },
   "file_extension": ".py",
   "mimetype": "text/x-python",
   "name": "python",
   "nbconvert_exporter": "python",
   "pygments_lexer": "ipython3",
   "version": "3.10.4"
  }
 },
 "nbformat": 4,
 "nbformat_minor": 5
}
