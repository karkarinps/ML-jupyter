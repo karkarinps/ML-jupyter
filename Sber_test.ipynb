{
  "nbformat": 4,
  "nbformat_minor": 0,
  "metadata": {
    "colab": {
      "provenance": []
    },
    "kernelspec": {
      "name": "python3",
      "display_name": "Python 3"
    },
    "language_info": {
      "name": "python"
    }
  },
  "cells": [
    {
      "cell_type": "markdown",
      "source": [
        "Загружаем датасет."
      ],
      "metadata": {
        "id": "Rkx0dLseKpVs"
      }
    },
    {
      "cell_type": "code",
      "execution_count": null,
      "metadata": {
        "colab": {
          "base_uri": "https://localhost:8080/",
          "height": 74
        },
        "id": "LrFAz6O06lw0",
        "outputId": "bcd51f0e-303c-49d6-f06d-21901ee7a2fc"
      },
      "outputs": [
        {
          "output_type": "display_data",
          "data": {
            "text/plain": [
              "<IPython.core.display.HTML object>"
            ],
            "text/html": [
              "\n",
              "     <input type=\"file\" id=\"files-29be1d40-97a6-4444-81e7-b70055c5e314\" name=\"files[]\" multiple disabled\n",
              "        style=\"border:none\" />\n",
              "     <output id=\"result-29be1d40-97a6-4444-81e7-b70055c5e314\">\n",
              "      Upload widget is only available when the cell has been executed in the\n",
              "      current browser session. Please rerun this cell to enable.\n",
              "      </output>\n",
              "      <script>// Copyright 2017 Google LLC\n",
              "//\n",
              "// Licensed under the Apache License, Version 2.0 (the \"License\");\n",
              "// you may not use this file except in compliance with the License.\n",
              "// You may obtain a copy of the License at\n",
              "//\n",
              "//      http://www.apache.org/licenses/LICENSE-2.0\n",
              "//\n",
              "// Unless required by applicable law or agreed to in writing, software\n",
              "// distributed under the License is distributed on an \"AS IS\" BASIS,\n",
              "// WITHOUT WARRANTIES OR CONDITIONS OF ANY KIND, either express or implied.\n",
              "// See the License for the specific language governing permissions and\n",
              "// limitations under the License.\n",
              "\n",
              "/**\n",
              " * @fileoverview Helpers for google.colab Python module.\n",
              " */\n",
              "(function(scope) {\n",
              "function span(text, styleAttributes = {}) {\n",
              "  const element = document.createElement('span');\n",
              "  element.textContent = text;\n",
              "  for (const key of Object.keys(styleAttributes)) {\n",
              "    element.style[key] = styleAttributes[key];\n",
              "  }\n",
              "  return element;\n",
              "}\n",
              "\n",
              "// Max number of bytes which will be uploaded at a time.\n",
              "const MAX_PAYLOAD_SIZE = 100 * 1024;\n",
              "\n",
              "function _uploadFiles(inputId, outputId) {\n",
              "  const steps = uploadFilesStep(inputId, outputId);\n",
              "  const outputElement = document.getElementById(outputId);\n",
              "  // Cache steps on the outputElement to make it available for the next call\n",
              "  // to uploadFilesContinue from Python.\n",
              "  outputElement.steps = steps;\n",
              "\n",
              "  return _uploadFilesContinue(outputId);\n",
              "}\n",
              "\n",
              "// This is roughly an async generator (not supported in the browser yet),\n",
              "// where there are multiple asynchronous steps and the Python side is going\n",
              "// to poll for completion of each step.\n",
              "// This uses a Promise to block the python side on completion of each step,\n",
              "// then passes the result of the previous step as the input to the next step.\n",
              "function _uploadFilesContinue(outputId) {\n",
              "  const outputElement = document.getElementById(outputId);\n",
              "  const steps = outputElement.steps;\n",
              "\n",
              "  const next = steps.next(outputElement.lastPromiseValue);\n",
              "  return Promise.resolve(next.value.promise).then((value) => {\n",
              "    // Cache the last promise value to make it available to the next\n",
              "    // step of the generator.\n",
              "    outputElement.lastPromiseValue = value;\n",
              "    return next.value.response;\n",
              "  });\n",
              "}\n",
              "\n",
              "/**\n",
              " * Generator function which is called between each async step of the upload\n",
              " * process.\n",
              " * @param {string} inputId Element ID of the input file picker element.\n",
              " * @param {string} outputId Element ID of the output display.\n",
              " * @return {!Iterable<!Object>} Iterable of next steps.\n",
              " */\n",
              "function* uploadFilesStep(inputId, outputId) {\n",
              "  const inputElement = document.getElementById(inputId);\n",
              "  inputElement.disabled = false;\n",
              "\n",
              "  const outputElement = document.getElementById(outputId);\n",
              "  outputElement.innerHTML = '';\n",
              "\n",
              "  const pickedPromise = new Promise((resolve) => {\n",
              "    inputElement.addEventListener('change', (e) => {\n",
              "      resolve(e.target.files);\n",
              "    });\n",
              "  });\n",
              "\n",
              "  const cancel = document.createElement('button');\n",
              "  inputElement.parentElement.appendChild(cancel);\n",
              "  cancel.textContent = 'Cancel upload';\n",
              "  const cancelPromise = new Promise((resolve) => {\n",
              "    cancel.onclick = () => {\n",
              "      resolve(null);\n",
              "    };\n",
              "  });\n",
              "\n",
              "  // Wait for the user to pick the files.\n",
              "  const files = yield {\n",
              "    promise: Promise.race([pickedPromise, cancelPromise]),\n",
              "    response: {\n",
              "      action: 'starting',\n",
              "    }\n",
              "  };\n",
              "\n",
              "  cancel.remove();\n",
              "\n",
              "  // Disable the input element since further picks are not allowed.\n",
              "  inputElement.disabled = true;\n",
              "\n",
              "  if (!files) {\n",
              "    return {\n",
              "      response: {\n",
              "        action: 'complete',\n",
              "      }\n",
              "    };\n",
              "  }\n",
              "\n",
              "  for (const file of files) {\n",
              "    const li = document.createElement('li');\n",
              "    li.append(span(file.name, {fontWeight: 'bold'}));\n",
              "    li.append(span(\n",
              "        `(${file.type || 'n/a'}) - ${file.size} bytes, ` +\n",
              "        `last modified: ${\n",
              "            file.lastModifiedDate ? file.lastModifiedDate.toLocaleDateString() :\n",
              "                                    'n/a'} - `));\n",
              "    const percent = span('0% done');\n",
              "    li.appendChild(percent);\n",
              "\n",
              "    outputElement.appendChild(li);\n",
              "\n",
              "    const fileDataPromise = new Promise((resolve) => {\n",
              "      const reader = new FileReader();\n",
              "      reader.onload = (e) => {\n",
              "        resolve(e.target.result);\n",
              "      };\n",
              "      reader.readAsArrayBuffer(file);\n",
              "    });\n",
              "    // Wait for the data to be ready.\n",
              "    let fileData = yield {\n",
              "      promise: fileDataPromise,\n",
              "      response: {\n",
              "        action: 'continue',\n",
              "      }\n",
              "    };\n",
              "\n",
              "    // Use a chunked sending to avoid message size limits. See b/62115660.\n",
              "    let position = 0;\n",
              "    do {\n",
              "      const length = Math.min(fileData.byteLength - position, MAX_PAYLOAD_SIZE);\n",
              "      const chunk = new Uint8Array(fileData, position, length);\n",
              "      position += length;\n",
              "\n",
              "      const base64 = btoa(String.fromCharCode.apply(null, chunk));\n",
              "      yield {\n",
              "        response: {\n",
              "          action: 'append',\n",
              "          file: file.name,\n",
              "          data: base64,\n",
              "        },\n",
              "      };\n",
              "\n",
              "      let percentDone = fileData.byteLength === 0 ?\n",
              "          100 :\n",
              "          Math.round((position / fileData.byteLength) * 100);\n",
              "      percent.textContent = `${percentDone}% done`;\n",
              "\n",
              "    } while (position < fileData.byteLength);\n",
              "  }\n",
              "\n",
              "  // All done.\n",
              "  yield {\n",
              "    response: {\n",
              "      action: 'complete',\n",
              "    }\n",
              "  };\n",
              "}\n",
              "\n",
              "scope.google = scope.google || {};\n",
              "scope.google.colab = scope.google.colab || {};\n",
              "scope.google.colab._files = {\n",
              "  _uploadFiles,\n",
              "  _uploadFilesContinue,\n",
              "};\n",
              "})(self);\n",
              "</script> "
            ]
          },
          "metadata": {}
        },
        {
          "output_type": "stream",
          "name": "stdout",
          "text": [
            "Saving test.csv to test.csv\n"
          ]
        }
      ],
      "source": [
        "from google.colab import files\n",
        "uploaded = files.upload()"
      ]
    },
    {
      "cell_type": "markdown",
      "source": [
        "Подключаем гугл диск для удобного сохранения моделей."
      ],
      "metadata": {
        "id": "GfV0_ya4KxSi"
      }
    },
    {
      "cell_type": "code",
      "source": [
        "from google.colab import drive\n",
        "drive.mount('/content/drive')"
      ],
      "metadata": {
        "colab": {
          "base_uri": "https://localhost:8080/"
        },
        "id": "nwVSkYS4VKle",
        "outputId": "da64054f-c54b-435c-db7a-4b69716b27ef"
      },
      "execution_count": null,
      "outputs": [
        {
          "output_type": "stream",
          "name": "stdout",
          "text": [
            "Mounted at /content/drive\n"
          ]
        }
      ]
    },
    {
      "cell_type": "markdown",
      "source": [
        "Читаем датасет, выводим первые строки."
      ],
      "metadata": {
        "id": "x7oQJb1VLFZt"
      }
    },
    {
      "cell_type": "code",
      "source": [
        "import pandas as pd\n",
        "import io\n",
        "df = pd.read_csv(io.BytesIO(uploaded['test.csv']))\n",
        "df.head()"
      ],
      "metadata": {
        "colab": {
          "base_uri": "https://localhost:8080/",
          "height": 206
        },
        "id": "h1uGYhKK9Jir",
        "outputId": "01bcd069-2fd1-4ec5-e1c1-5fd662dd5d18"
      },
      "execution_count": null,
      "outputs": [
        {
          "output_type": "execute_result",
          "data": {
            "text/plain": [
              "   Unnamed: 0  feature_0  feature_1  feature_2  feature_3  feature_4  \\\n",
              "0           0     2736.0     1115.0      228.0        0.0        0.0   \n",
              "1           1     3258.0     1177.0      217.0        2.0        0.0   \n",
              "2           2     2104.0     2040.0      111.0        0.0        0.0   \n",
              "3           3     5435.0      289.0      308.0        0.0        0.0   \n",
              "4           4     6899.0     1822.0      459.0        2.0        0.0   \n",
              "\n",
              "   feature_5  feature_6  feature_7  feature_8  feature_9  feature_10  \\\n",
              "0       24.0        2.0        0.0        0.0        1.0         1.0   \n",
              "1       23.0        1.0      743.0        0.0        0.0         1.0   \n",
              "2       24.0        8.0     5793.0        2.0        1.0         0.0   \n",
              "3       21.0        1.0        0.0        1.0        0.0         0.0   \n",
              "4       25.0        2.0     3696.0        0.0        1.0         1.0   \n",
              "\n",
              "   feature_11  target  \n",
              "0      5068.0     1.0  \n",
              "1      5639.0     0.0  \n",
              "2      5707.0     1.0  \n",
              "3      4704.0     0.0  \n",
              "4      3925.0     0.0  "
            ],
            "text/html": [
              "\n",
              "  <div id=\"df-ebb3bcea-4860-473d-a134-3d354a714f40\">\n",
              "    <div class=\"colab-df-container\">\n",
              "      <div>\n",
              "<style scoped>\n",
              "    .dataframe tbody tr th:only-of-type {\n",
              "        vertical-align: middle;\n",
              "    }\n",
              "\n",
              "    .dataframe tbody tr th {\n",
              "        vertical-align: top;\n",
              "    }\n",
              "\n",
              "    .dataframe thead th {\n",
              "        text-align: right;\n",
              "    }\n",
              "</style>\n",
              "<table border=\"1\" class=\"dataframe\">\n",
              "  <thead>\n",
              "    <tr style=\"text-align: right;\">\n",
              "      <th></th>\n",
              "      <th>Unnamed: 0</th>\n",
              "      <th>feature_0</th>\n",
              "      <th>feature_1</th>\n",
              "      <th>feature_2</th>\n",
              "      <th>feature_3</th>\n",
              "      <th>feature_4</th>\n",
              "      <th>feature_5</th>\n",
              "      <th>feature_6</th>\n",
              "      <th>feature_7</th>\n",
              "      <th>feature_8</th>\n",
              "      <th>feature_9</th>\n",
              "      <th>feature_10</th>\n",
              "      <th>feature_11</th>\n",
              "      <th>target</th>\n",
              "    </tr>\n",
              "  </thead>\n",
              "  <tbody>\n",
              "    <tr>\n",
              "      <th>0</th>\n",
              "      <td>0</td>\n",
              "      <td>2736.0</td>\n",
              "      <td>1115.0</td>\n",
              "      <td>228.0</td>\n",
              "      <td>0.0</td>\n",
              "      <td>0.0</td>\n",
              "      <td>24.0</td>\n",
              "      <td>2.0</td>\n",
              "      <td>0.0</td>\n",
              "      <td>0.0</td>\n",
              "      <td>1.0</td>\n",
              "      <td>1.0</td>\n",
              "      <td>5068.0</td>\n",
              "      <td>1.0</td>\n",
              "    </tr>\n",
              "    <tr>\n",
              "      <th>1</th>\n",
              "      <td>1</td>\n",
              "      <td>3258.0</td>\n",
              "      <td>1177.0</td>\n",
              "      <td>217.0</td>\n",
              "      <td>2.0</td>\n",
              "      <td>0.0</td>\n",
              "      <td>23.0</td>\n",
              "      <td>1.0</td>\n",
              "      <td>743.0</td>\n",
              "      <td>0.0</td>\n",
              "      <td>0.0</td>\n",
              "      <td>1.0</td>\n",
              "      <td>5639.0</td>\n",
              "      <td>0.0</td>\n",
              "    </tr>\n",
              "    <tr>\n",
              "      <th>2</th>\n",
              "      <td>2</td>\n",
              "      <td>2104.0</td>\n",
              "      <td>2040.0</td>\n",
              "      <td>111.0</td>\n",
              "      <td>0.0</td>\n",
              "      <td>0.0</td>\n",
              "      <td>24.0</td>\n",
              "      <td>8.0</td>\n",
              "      <td>5793.0</td>\n",
              "      <td>2.0</td>\n",
              "      <td>1.0</td>\n",
              "      <td>0.0</td>\n",
              "      <td>5707.0</td>\n",
              "      <td>1.0</td>\n",
              "    </tr>\n",
              "    <tr>\n",
              "      <th>3</th>\n",
              "      <td>3</td>\n",
              "      <td>5435.0</td>\n",
              "      <td>289.0</td>\n",
              "      <td>308.0</td>\n",
              "      <td>0.0</td>\n",
              "      <td>0.0</td>\n",
              "      <td>21.0</td>\n",
              "      <td>1.0</td>\n",
              "      <td>0.0</td>\n",
              "      <td>1.0</td>\n",
              "      <td>0.0</td>\n",
              "      <td>0.0</td>\n",
              "      <td>4704.0</td>\n",
              "      <td>0.0</td>\n",
              "    </tr>\n",
              "    <tr>\n",
              "      <th>4</th>\n",
              "      <td>4</td>\n",
              "      <td>6899.0</td>\n",
              "      <td>1822.0</td>\n",
              "      <td>459.0</td>\n",
              "      <td>2.0</td>\n",
              "      <td>0.0</td>\n",
              "      <td>25.0</td>\n",
              "      <td>2.0</td>\n",
              "      <td>3696.0</td>\n",
              "      <td>0.0</td>\n",
              "      <td>1.0</td>\n",
              "      <td>1.0</td>\n",
              "      <td>3925.0</td>\n",
              "      <td>0.0</td>\n",
              "    </tr>\n",
              "  </tbody>\n",
              "</table>\n",
              "</div>\n",
              "      <button class=\"colab-df-convert\" onclick=\"convertToInteractive('df-ebb3bcea-4860-473d-a134-3d354a714f40')\"\n",
              "              title=\"Convert this dataframe to an interactive table.\"\n",
              "              style=\"display:none;\">\n",
              "        \n",
              "  <svg xmlns=\"http://www.w3.org/2000/svg\" height=\"24px\"viewBox=\"0 0 24 24\"\n",
              "       width=\"24px\">\n",
              "    <path d=\"M0 0h24v24H0V0z\" fill=\"none\"/>\n",
              "    <path d=\"M18.56 5.44l.94 2.06.94-2.06 2.06-.94-2.06-.94-.94-2.06-.94 2.06-2.06.94zm-11 1L8.5 8.5l.94-2.06 2.06-.94-2.06-.94L8.5 2.5l-.94 2.06-2.06.94zm10 10l.94 2.06.94-2.06 2.06-.94-2.06-.94-.94-2.06-.94 2.06-2.06.94z\"/><path d=\"M17.41 7.96l-1.37-1.37c-.4-.4-.92-.59-1.43-.59-.52 0-1.04.2-1.43.59L10.3 9.45l-7.72 7.72c-.78.78-.78 2.05 0 2.83L4 21.41c.39.39.9.59 1.41.59.51 0 1.02-.2 1.41-.59l7.78-7.78 2.81-2.81c.8-.78.8-2.07 0-2.86zM5.41 20L4 18.59l7.72-7.72 1.47 1.35L5.41 20z\"/>\n",
              "  </svg>\n",
              "      </button>\n",
              "      \n",
              "  <style>\n",
              "    .colab-df-container {\n",
              "      display:flex;\n",
              "      flex-wrap:wrap;\n",
              "      gap: 12px;\n",
              "    }\n",
              "\n",
              "    .colab-df-convert {\n",
              "      background-color: #E8F0FE;\n",
              "      border: none;\n",
              "      border-radius: 50%;\n",
              "      cursor: pointer;\n",
              "      display: none;\n",
              "      fill: #1967D2;\n",
              "      height: 32px;\n",
              "      padding: 0 0 0 0;\n",
              "      width: 32px;\n",
              "    }\n",
              "\n",
              "    .colab-df-convert:hover {\n",
              "      background-color: #E2EBFA;\n",
              "      box-shadow: 0px 1px 2px rgba(60, 64, 67, 0.3), 0px 1px 3px 1px rgba(60, 64, 67, 0.15);\n",
              "      fill: #174EA6;\n",
              "    }\n",
              "\n",
              "    [theme=dark] .colab-df-convert {\n",
              "      background-color: #3B4455;\n",
              "      fill: #D2E3FC;\n",
              "    }\n",
              "\n",
              "    [theme=dark] .colab-df-convert:hover {\n",
              "      background-color: #434B5C;\n",
              "      box-shadow: 0px 1px 3px 1px rgba(0, 0, 0, 0.15);\n",
              "      filter: drop-shadow(0px 1px 2px rgba(0, 0, 0, 0.3));\n",
              "      fill: #FFFFFF;\n",
              "    }\n",
              "  </style>\n",
              "\n",
              "      <script>\n",
              "        const buttonEl =\n",
              "          document.querySelector('#df-ebb3bcea-4860-473d-a134-3d354a714f40 button.colab-df-convert');\n",
              "        buttonEl.style.display =\n",
              "          google.colab.kernel.accessAllowed ? 'block' : 'none';\n",
              "\n",
              "        async function convertToInteractive(key) {\n",
              "          const element = document.querySelector('#df-ebb3bcea-4860-473d-a134-3d354a714f40');\n",
              "          const dataTable =\n",
              "            await google.colab.kernel.invokeFunction('convertToInteractive',\n",
              "                                                     [key], {});\n",
              "          if (!dataTable) return;\n",
              "\n",
              "          const docLinkHtml = 'Like what you see? Visit the ' +\n",
              "            '<a target=\"_blank\" href=https://colab.research.google.com/notebooks/data_table.ipynb>data table notebook</a>'\n",
              "            + ' to learn more about interactive tables.';\n",
              "          element.innerHTML = '';\n",
              "          dataTable['output_type'] = 'display_data';\n",
              "          await google.colab.output.renderOutput(dataTable, element);\n",
              "          const docLink = document.createElement('div');\n",
              "          docLink.innerHTML = docLinkHtml;\n",
              "          element.appendChild(docLink);\n",
              "        }\n",
              "      </script>\n",
              "    </div>\n",
              "  </div>\n",
              "  "
            ]
          },
          "metadata": {},
          "execution_count": 2
        }
      ]
    },
    {
      "cell_type": "markdown",
      "source": [
        "Обозрение датасета. Видим первую колонку - id. Остальные данные числовые с плавающей точкой. Нулевых/пропущенных значений нет. Целевая колонка - target. Из 1 и 0 - задача бинарной классификации.\n",
        "Выбираем метрики Accuracy и f-мера."
      ],
      "metadata": {
        "id": "Y4kVHqLx-8o5"
      }
    },
    {
      "cell_type": "code",
      "source": [
        "df.info()"
      ],
      "metadata": {
        "colab": {
          "base_uri": "https://localhost:8080/"
        },
        "id": "4VHXoCPC9JoK",
        "outputId": "401fb47d-733e-49d0-9685-bf71c47ca6fe"
      },
      "execution_count": null,
      "outputs": [
        {
          "output_type": "stream",
          "name": "stdout",
          "text": [
            "<class 'pandas.core.frame.DataFrame'>\n",
            "RangeIndex: 10000 entries, 0 to 9999\n",
            "Data columns (total 14 columns):\n",
            " #   Column      Non-Null Count  Dtype  \n",
            "---  ------      --------------  -----  \n",
            " 0   Unnamed: 0  10000 non-null  int64  \n",
            " 1   feature_0   10000 non-null  float64\n",
            " 2   feature_1   10000 non-null  float64\n",
            " 3   feature_2   10000 non-null  float64\n",
            " 4   feature_3   10000 non-null  float64\n",
            " 5   feature_4   10000 non-null  float64\n",
            " 6   feature_5   10000 non-null  float64\n",
            " 7   feature_6   10000 non-null  float64\n",
            " 8   feature_7   10000 non-null  float64\n",
            " 9   feature_8   10000 non-null  float64\n",
            " 10  feature_9   10000 non-null  float64\n",
            " 11  feature_10  10000 non-null  float64\n",
            " 12  feature_11  10000 non-null  float64\n",
            " 13  target      10000 non-null  float64\n",
            "dtypes: float64(13), int64(1)\n",
            "memory usage: 1.1 MB\n"
          ]
        }
      ]
    },
    {
      "cell_type": "markdown",
      "source": [
        "Проверяем наличие дубликатов в датафрейме."
      ],
      "metadata": {
        "id": "_2ZnlNxWBzxv"
      }
    },
    {
      "cell_type": "code",
      "source": [
        "df.duplicated().unique()"
      ],
      "metadata": {
        "colab": {
          "base_uri": "https://localhost:8080/"
        },
        "id": "9kAERPUw9Jqy",
        "outputId": "79268861-481f-4f4f-d2bf-9a77aded8eed"
      },
      "execution_count": null,
      "outputs": [
        {
          "output_type": "execute_result",
          "data": {
            "text/plain": [
              "array([False])"
            ]
          },
          "metadata": {},
          "execution_count": 4
        }
      ]
    },
    {
      "cell_type": "markdown",
      "source": [
        "Уберём колонку с индексами."
      ],
      "metadata": {
        "id": "Lh1en4DW9F0E"
      }
    },
    {
      "cell_type": "code",
      "source": [
        "df = df.drop(['Unnamed: 0'], axis=1)"
      ],
      "metadata": {
        "id": "Z_W8_LZl8zvq"
      },
      "execution_count": null,
      "outputs": []
    },
    {
      "cell_type": "markdown",
      "source": [
        "Смотрим корреляции между независимыми переменными. Корреляций не наблюдаем."
      ],
      "metadata": {
        "id": "1m8QVDBGDegH"
      }
    },
    {
      "cell_type": "code",
      "source": [
        "\n",
        "import seaborn as sns \n",
        "sns.set(rc = {'figure.figsize':(15,8)})\n",
        "corr = df.corr()\n",
        "sns.heatmap(corr, cmap = 'Wistia', annot= True)"
      ],
      "metadata": {
        "colab": {
          "base_uri": "https://localhost:8080/",
          "height": 557
        },
        "id": "2gbDQyS2Botw",
        "outputId": "052bc825-9824-46b9-d38c-d01467d0f88a"
      },
      "execution_count": null,
      "outputs": [
        {
          "output_type": "execute_result",
          "data": {
            "text/plain": [
              "<matplotlib.axes._subplots.AxesSubplot at 0x7fb75ac0fca0>"
            ]
          },
          "metadata": {},
          "execution_count": 6
        },
        {
          "output_type": "display_data",
          "data": {
            "text/plain": [
              "<Figure size 1080x576 with 2 Axes>"
            ],
            "image/png": "[encoded data removed]"
          },
          "metadata": {}
        }
      ]
    },
    {
      "cell_type": "markdown",
      "source": [
        "Проверим независмые переменные на выбросы. Для этого можно построить графики-боксплоты каждой колоник. Колонки с индексами 5 и 8 в списке колонок имеют выбросы."
      ],
      "metadata": {
        "id": "u6KOHXSqKboK"
      }
    },
    {
      "cell_type": "code",
      "source": [
        "df.boxplot(df.columns[5])"
      ],
      "metadata": {
        "colab": {
          "base_uri": "https://localhost:8080/",
          "height": 504
        },
        "id": "XyDhglCXBowQ",
        "outputId": "3501e369-b5b6-4673-ac0a-06dd86cbc572"
      },
      "execution_count": null,
      "outputs": [
        {
          "output_type": "execute_result",
          "data": {
            "text/plain": [
              "<matplotlib.axes._subplots.AxesSubplot at 0x7fb756515520>"
            ]
          },
          "metadata": {},
          "execution_count": 7
        },
        {
          "output_type": "display_data",
          "data": {
            "text/plain": [
              "<Figure size 1080x576 with 1 Axes>"
            ],
            "image/png": "[encoded data removed]"
          },
          "metadata": {}
        }
      ]
    },
    {
      "cell_type": "code",
      "source": [
        "df.boxplot(df.columns[8])"
      ],
      "metadata": {
        "colab": {
          "base_uri": "https://localhost:8080/",
          "height": 504
        },
        "id": "HNobn5YhKWeY",
        "outputId": "39237f89-ac87-4833-b5f3-1df7bdcc7731"
      },
      "execution_count": null,
      "outputs": [
        {
          "output_type": "execute_result",
          "data": {
            "text/plain": [
              "<matplotlib.axes._subplots.AxesSubplot at 0x7fb75644ce20>"
            ]
          },
          "metadata": {},
          "execution_count": 8
        },
        {
          "output_type": "display_data",
          "data": {
            "text/plain": [
              "<Figure size 1080x576 with 1 Axes>"
            ],
            "image/png": "[encoded data removed]"
          },
          "metadata": {}
        }
      ]
    },
    {
      "cell_type": "markdown",
      "source": [
        "Уберём строки из датафрейма, значения которых в колонках с индексами 6 и 9 больше 75% квантиля. Значение определим по графикам боксплот.\n",
        "Выведем форму датафреймов после удаления выбросов."
      ],
      "metadata": {
        "id": "Wc2FaPWUQgvK"
      }
    },
    {
      "cell_type": "code",
      "source": [
        "col5, col8 = df.columns[5], df.columns[8] \n",
        "df_outl = df[df[col5] < 42]\n",
        "df_outl.shape"
      ],
      "metadata": {
        "colab": {
          "base_uri": "https://localhost:8080/"
        },
        "id": "R3SRfsCLNS9F",
        "outputId": "99c74715-7de6-4ecc-c78c-1a5ee034eec0"
      },
      "execution_count": null,
      "outputs": [
        {
          "output_type": "execute_result",
          "data": {
            "text/plain": [
              "(9474, 13)"
            ]
          },
          "metadata": {},
          "execution_count": 9
        }
      ]
    },
    {
      "cell_type": "code",
      "source": [
        "df_outl2 = df_outl[df_outl[col8] < 2.5]\n",
        "df_outl2.shape"
      ],
      "metadata": {
        "colab": {
          "base_uri": "https://localhost:8080/"
        },
        "id": "T6CHmrpNNS_t",
        "outputId": "7309122d-2b23-419e-8302-51fd0cee1696"
      },
      "execution_count": null,
      "outputs": [
        {
          "output_type": "execute_result",
          "data": {
            "text/plain": [
              "(9418, 13)"
            ]
          },
          "metadata": {},
          "execution_count": 10
        }
      ]
    },
    {
      "cell_type": "markdown",
      "source": [
        "Снова построим боксплоты колонок, выбросы в которых убрали. Чтобы убедиться в их отсутствии."
      ],
      "metadata": {
        "id": "gtKo9m0HRLmY"
      }
    },
    {
      "cell_type": "code",
      "source": [
        "df_outl2.boxplot(df.columns[5])"
      ],
      "metadata": {
        "colab": {
          "base_uri": "https://localhost:8080/",
          "height": 504
        },
        "id": "dvg9f5p2NTCR",
        "outputId": "504841fb-031e-4ced-ab70-218b1fe92ff1"
      },
      "execution_count": null,
      "outputs": [
        {
          "output_type": "execute_result",
          "data": {
            "text/plain": [
              "<matplotlib.axes._subplots.AxesSubplot at 0x7fb75651b190>"
            ]
          },
          "metadata": {},
          "execution_count": 11
        },
        {
          "output_type": "display_data",
          "data": {
            "text/plain": [
              "<Figure size 1080x576 with 1 Axes>"
            ],
            "image/png": "[encoded data removed]"
          },
          "metadata": {}
        }
      ]
    },
    {
      "cell_type": "code",
      "source": [
        "df_outl2.boxplot(df.columns[8])"
      ],
      "metadata": {
        "colab": {
          "base_uri": "https://localhost:8080/",
          "height": 504
        },
        "id": "sozkbqaSNTEt",
        "outputId": "de55b577-a2e4-4db7-d015-cf98b0d49300"
      },
      "execution_count": null,
      "outputs": [
        {
          "output_type": "execute_result",
          "data": {
            "text/plain": [
              "<matplotlib.axes._subplots.AxesSubplot at 0x7fb7563d3bb0>"
            ]
          },
          "metadata": {},
          "execution_count": 12
        },
        {
          "output_type": "display_data",
          "data": {
            "text/plain": [
              "<Figure size 1080x576 with 1 Axes>"
            ],
            "image/png": "[encoded data removed]"
          },
          "metadata": {}
        }
      ]
    },
    {
      "cell_type": "markdown",
      "source": [
        "Переопределим значение датафрейма, чтобы не запутаться в версиях."
      ],
      "metadata": {
        "id": "KnoEHo1aRoJ6"
      }
    },
    {
      "cell_type": "code",
      "source": [
        "df = df_outl2"
      ],
      "metadata": {
        "id": "2rb2MjZYNTMV"
      },
      "execution_count": null,
      "outputs": []
    },
    {
      "cell_type": "code",
      "source": [
        "df.shape"
      ],
      "metadata": {
        "colab": {
          "base_uri": "https://localhost:8080/"
        },
        "id": "OaIvJh00KWhQ",
        "outputId": "b32b56ba-9808-43a0-8b7a-6f6c4e4d1416"
      },
      "execution_count": null,
      "outputs": [
        {
          "output_type": "execute_result",
          "data": {
            "text/plain": [
              "(9418, 13)"
            ]
          },
          "metadata": {},
          "execution_count": 14
        }
      ]
    },
    {
      "cell_type": "markdown",
      "source": [
        "Попробуем нормализовать данные в диапазоне от 0 до 1. Перезапишем датафрейм"
      ],
      "metadata": {
        "id": "XXyWXYdQRzEj"
      }
    },
    {
      "cell_type": "code",
      "source": [
        "normalized_df=(df-df.min())/(df.max()-df.min())"
      ],
      "metadata": {
        "id": "dB41LvZsKWkC"
      },
      "execution_count": null,
      "outputs": []
    },
    {
      "cell_type": "code",
      "source": [
        "normalized_df\n",
        "df = normalized_df"
      ],
      "metadata": {
        "id": "2V7zKqGWTCaf"
      },
      "execution_count": null,
      "outputs": []
    },
    {
      "cell_type": "markdown",
      "source": [
        "Построим графики фичей, чтобы посмотреть на нормальность распределения."
      ],
      "metadata": {
        "id": "QPUhzUfw8VVM"
      }
    },
    {
      "cell_type": "code",
      "source": [
        "df.diff().hist(color=\"k\", alpha=0.5, bins=50)"
      ],
      "metadata": {
        "colab": {
          "base_uri": "https://localhost:8080/",
          "height": 805
        },
        "id": "VHRbj_MBTCh_",
        "outputId": "cd8d11a5-f933-4f95-c873-64609bebba6b"
      },
      "execution_count": null,
      "outputs": [
        {
          "output_type": "execute_result",
          "data": {
            "text/plain": [
              "array([[<matplotlib.axes._subplots.AxesSubplot object at 0x7fb75c940850>,\n",
              "        <matplotlib.axes._subplots.AxesSubplot object at 0x7fb7563526d0>,\n",
              "        <matplotlib.axes._subplots.AxesSubplot object at 0x7fb7562fbaf0>,\n",
              "        <matplotlib.axes._subplots.AxesSubplot object at 0x7fb756327ee0>],\n",
              "       [<matplotlib.axes._subplots.AxesSubplot object at 0x7fb7562dd310>,\n",
              "        <matplotlib.axes._subplots.AxesSubplot object at 0x7fb756289640>,\n",
              "        <matplotlib.axes._subplots.AxesSubplot object at 0x7fb756289730>,\n",
              "        <matplotlib.axes._subplots.AxesSubplot object at 0x7fb7562b4b80>],\n",
              "       [<matplotlib.axes._subplots.AxesSubplot object at 0x7fb756215310>,\n",
              "        <matplotlib.axes._subplots.AxesSubplot object at 0x7fb7561c1700>,\n",
              "        <matplotlib.axes._subplots.AxesSubplot object at 0x7fb7561ebaf0>,\n",
              "        <matplotlib.axes._subplots.AxesSubplot object at 0x7fb756195ee0>],\n",
              "       [<matplotlib.axes._subplots.AxesSubplot object at 0x7fb75614d310>,\n",
              "        <matplotlib.axes._subplots.AxesSubplot object at 0x7fb756174640>,\n",
              "        <matplotlib.axes._subplots.AxesSubplot object at 0x7fb756116be0>,\n",
              "        <matplotlib.axes._subplots.AxesSubplot object at 0x7fb7560cd040>]],\n",
              "      dtype=object)"
            ]
          },
          "metadata": {},
          "execution_count": 17
        },
        {
          "output_type": "display_data",
          "data": {
            "text/plain": [
              "<Figure size 1080x576 with 16 Axes>"
            ],
            "image/png": "[encoded data removed]"
          },
          "metadata": {}
        }
      ]
    },
    {
      "cell_type": "markdown",
      "source": [
        "-------------------------------------------------------------------------------------------------------------------------------------------------------------------------------------------------------------------"
      ],
      "metadata": {
        "id": "sEeLq4QlLNuN"
      }
    },
    {
      "cell_type": "markdown",
      "source": [
        "Разделим данные на признаки и целевую колонку. Выведем целевую "
      ],
      "metadata": {
        "id": "GQoHoUXhCQX0"
      }
    },
    {
      "cell_type": "code",
      "source": [
        "from sklearn.model_selection import train_test_split\n",
        "from sklearn.metrics import mean_squared_error\n",
        "X = df.drop(['target'], axis = 1) \n",
        "y = df.target         \n",
        "y       "
      ],
      "metadata": {
        "colab": {
          "base_uri": "https://localhost:8080/"
        },
        "id": "i8M2urkC-AbU",
        "outputId": "7db0b7ed-3990-4363-8fbc-8c15a0b4af4f"
      },
      "execution_count": null,
      "outputs": [
        {
          "output_type": "execute_result",
          "data": {
            "text/plain": [
              "0       1.0\n",
              "1       0.0\n",
              "2       1.0\n",
              "3       0.0\n",
              "4       0.0\n",
              "       ... \n",
              "9995    0.0\n",
              "9996    0.0\n",
              "9997    1.0\n",
              "9998    1.0\n",
              "9999    0.0\n",
              "Name: target, Length: 9418, dtype: float64"
            ]
          },
          "metadata": {},
          "execution_count": 18
        }
      ]
    },
    {
      "cell_type": "markdown",
      "source": [
        "Разделим данные на тренировочные и тестовые. В параметрах обучения будет встроена кросс-валидация, поэтому данные для валидации не оставляем. Если нужны данные для валидации, то можно тем же методом разделить данные X, y на X_val, y_val, X_train, y_train, затем ещё раз одну из выборок на X_test, y_test"
      ],
      "metadata": {
        "id": "RWgbSIijFAhr"
      }
    },
    {
      "cell_type": "code",
      "source": [
        "X_train, X_test, y_train, y_test = train_test_split(X, y, test_size=0.25, random_state=42)"
      ],
      "metadata": {
        "id": "J27Y4AB_-Ad0"
      },
      "execution_count": null,
      "outputs": []
    },
    {
      "cell_type": "markdown",
      "source": [
        "-------------------------------------------------------------------------------"
      ],
      "metadata": {
        "id": "DqpSP-adLe_Z"
      }
    },
    {
      "cell_type": "markdown",
      "source": [
        "Задаем экземпляр класса Рандомный Лес. Задаём параметры сетки (число эстиматоров, глубину дерева, минимальное число объектов в узле для расщепления, минимальное число объектов в листьях. Критерий сходимости - кросс-энтропия."
      ],
      "metadata": {
        "id": "rAQLFiM2Gfn2"
      }
    },
    {
      "cell_type": "code",
      "source": [
        "from sklearn.model_selection import GridSearchCV\n",
        "from sklearn.ensemble import RandomForestClassifier\n",
        "clf_rf = RandomForestClassifier(random_state=34, n_jobs=-1)\n",
        "parametrs = {'n_estimators': range(10, 101, 10), 'criterion': ['entropy'], 'max_depth': range(1, 13, 2), 'min_samples_split': range(2, 10, 2), 'min_samples_leaf': range(1, 8)}"
      ],
      "metadata": {
        "id": "YksXLFLf-Av0"
      },
      "execution_count": null,
      "outputs": []
    },
    {
      "cell_type": "markdown",
      "source": [
        "Фитим данные в модель. Задаём количество фолдов кросс-валидации, включаем многопоточность."
      ],
      "metadata": {
        "id": "G9R2Y3pwclys"
      }
    },
    {
      "cell_type": "code",
      "source": [
        "gs_cv_clf = GridSearchCV(clf_rf, parametrs, cv=5, n_jobs=-1)\n",
        "gs_cv_clf.fit(X_train, y_train)"
      ],
      "metadata": {
        "colab": {
          "base_uri": "https://localhost:8080/"
        },
        "id": "v87CHSzZ-AyM",
        "outputId": "9916ae9f-5d91-4cf3-ed28-0f08f0ab67f5"
      },
      "execution_count": null,
      "outputs": [
        {
          "output_type": "execute_result",
          "data": {
            "text/plain": [
              "GridSearchCV(cv=5, estimator=RandomForestClassifier(n_jobs=-1, random_state=34),\n",
              "             n_jobs=-1,\n",
              "             param_grid={'criterion': ['entropy'], 'max_depth': range(1, 13, 2),\n",
              "                         'min_samples_leaf': range(1, 8),\n",
              "                         'min_samples_split': range(2, 10, 2),\n",
              "                         'n_estimators': range(10, 101, 10)})"
            ]
          },
          "metadata": {},
          "execution_count": 30
        }
      ]
    },
    {
      "cell_type": "markdown",
      "source": [
        "Выводим лучшие параметры из сетки подбора параметров."
      ],
      "metadata": {
        "id": "HE6xYjrCdr8M"
      }
    },
    {
      "cell_type": "code",
      "source": [
        "gs_cv_clf.best_params_"
      ],
      "metadata": {
        "colab": {
          "base_uri": "https://localhost:8080/"
        },
        "id": "fRI6CWew-A0l",
        "outputId": "5eb63896-4323-42e2-d03c-6aa12ec08b2d"
      },
      "execution_count": null,
      "outputs": [
        {
          "output_type": "execute_result",
          "data": {
            "text/plain": [
              "{'criterion': 'entropy',\n",
              " 'max_depth': 11,\n",
              " 'min_samples_leaf': 2,\n",
              " 'min_samples_split': 2,\n",
              " 'n_estimators': 20}"
            ]
          },
          "metadata": {},
          "execution_count": 31
        }
      ]
    },
    {
      "cell_type": "markdown",
      "source": [
        "Выведем график наиболее ценных фичей."
      ],
      "metadata": {
        "id": "B5GFrvHsiZty"
      }
    },
    {
      "cell_type": "code",
      "source": [
        "imp = pd.DataFrame(gs_cv_clf.best_estimator_.feature_importances_, index=X_train.columns, columns=['importance'])\n",
        "imp.sort_values('importance').plot(kind='barh', figsize=(12, 8))"
      ],
      "metadata": {
        "colab": {
          "base_uri": "https://localhost:8080/",
          "height": 503
        },
        "id": "Lx5Kt29wHPPp",
        "outputId": "ba8eff98-cc92-441a-c2eb-c8f3a411aa74"
      },
      "execution_count": null,
      "outputs": [
        {
          "output_type": "execute_result",
          "data": {
            "text/plain": [
              "<matplotlib.axes._subplots.AxesSubplot at 0x7fb6f7d4ccd0>"
            ]
          },
          "metadata": {},
          "execution_count": 32
        },
        {
          "output_type": "display_data",
          "data": {
            "text/plain": [
              "<Figure size 864x576 with 1 Axes>"
            ],
            "image/png": "[encoded data removed]"
          },
          "metadata": {}
        }
      ]
    },
    {
      "cell_type": "markdown",
      "source": [
        "Выведем вес фичей в табличном виде."
      ],
      "metadata": {
        "id": "AWtK2D0Ai36U"
      }
    },
    {
      "cell_type": "code",
      "source": [
        "best_clf = gs_cv_clf.best_estimator_\n",
        "feature_importances = best_clf.feature_importances_\n",
        "feature_importances_df = pd.DataFrame({'features': list(X_train), 'feature_importances': feature_importances})\n",
        "fi_df_sort = feature_importances_df.sort_values('feature_importances', ascending = False)\n",
        "fi_df_sort"
      ],
      "metadata": {
        "colab": {
          "base_uri": "https://localhost:8080/",
          "height": 426
        },
        "id": "EBJ2GbiZi0tL",
        "outputId": "c874f8d1-2372-408e-92ef-abf115fae5a0"
      },
      "execution_count": null,
      "outputs": [
        {
          "output_type": "execute_result",
          "data": {
            "text/plain": [
              "      features  feature_importances\n",
              "5    feature_5             0.259006\n",
              "8    feature_8             0.183943\n",
              "7    feature_7             0.099726\n",
              "11  feature_11             0.081622\n",
              "0    feature_0             0.078216\n",
              "2    feature_2             0.076147\n",
              "1    feature_1             0.073098\n",
              "6    feature_6             0.042344\n",
              "10  feature_10             0.041721\n",
              "3    feature_3             0.036190\n",
              "4    feature_4             0.017800\n",
              "9    feature_9             0.010188"
            ],
            "text/html": [
              "\n",
              "  <div id=\"df-75c1054d-6d85-47cb-a09b-18b665a8a065\">\n",
              "    <div class=\"colab-df-container\">\n",
              "      <div>\n",
              "<style scoped>\n",
              "    .dataframe tbody tr th:only-of-type {\n",
              "        vertical-align: middle;\n",
              "    }\n",
              "\n",
              "    .dataframe tbody tr th {\n",
              "        vertical-align: top;\n",
              "    }\n",
              "\n",
              "    .dataframe thead th {\n",
              "        text-align: right;\n",
              "    }\n",
              "</style>\n",
              "<table border=\"1\" class=\"dataframe\">\n",
              "  <thead>\n",
              "    <tr style=\"text-align: right;\">\n",
              "      <th></th>\n",
              "      <th>features</th>\n",
              "      <th>feature_importances</th>\n",
              "    </tr>\n",
              "  </thead>\n",
              "  <tbody>\n",
              "    <tr>\n",
              "      <th>5</th>\n",
              "      <td>feature_5</td>\n",
              "      <td>0.259006</td>\n",
              "    </tr>\n",
              "    <tr>\n",
              "      <th>8</th>\n",
              "      <td>feature_8</td>\n",
              "      <td>0.183943</td>\n",
              "    </tr>\n",
              "    <tr>\n",
              "      <th>7</th>\n",
              "      <td>feature_7</td>\n",
              "      <td>0.099726</td>\n",
              "    </tr>\n",
              "    <tr>\n",
              "      <th>11</th>\n",
              "      <td>feature_11</td>\n",
              "      <td>0.081622</td>\n",
              "    </tr>\n",
              "    <tr>\n",
              "      <th>0</th>\n",
              "      <td>feature_0</td>\n",
              "      <td>0.078216</td>\n",
              "    </tr>\n",
              "    <tr>\n",
              "      <th>2</th>\n",
              "      <td>feature_2</td>\n",
              "      <td>0.076147</td>\n",
              "    </tr>\n",
              "    <tr>\n",
              "      <th>1</th>\n",
              "      <td>feature_1</td>\n",
              "      <td>0.073098</td>\n",
              "    </tr>\n",
              "    <tr>\n",
              "      <th>6</th>\n",
              "      <td>feature_6</td>\n",
              "      <td>0.042344</td>\n",
              "    </tr>\n",
              "    <tr>\n",
              "      <th>10</th>\n",
              "      <td>feature_10</td>\n",
              "      <td>0.041721</td>\n",
              "    </tr>\n",
              "    <tr>\n",
              "      <th>3</th>\n",
              "      <td>feature_3</td>\n",
              "      <td>0.036190</td>\n",
              "    </tr>\n",
              "    <tr>\n",
              "      <th>4</th>\n",
              "      <td>feature_4</td>\n",
              "      <td>0.017800</td>\n",
              "    </tr>\n",
              "    <tr>\n",
              "      <th>9</th>\n",
              "      <td>feature_9</td>\n",
              "      <td>0.010188</td>\n",
              "    </tr>\n",
              "  </tbody>\n",
              "</table>\n",
              "</div>\n",
              "      <button class=\"colab-df-convert\" onclick=\"convertToInteractive('df-75c1054d-6d85-47cb-a09b-18b665a8a065')\"\n",
              "              title=\"Convert this dataframe to an interactive table.\"\n",
              "              style=\"display:none;\">\n",
              "        \n",
              "  <svg xmlns=\"http://www.w3.org/2000/svg\" height=\"24px\"viewBox=\"0 0 24 24\"\n",
              "       width=\"24px\">\n",
              "    <path d=\"M0 0h24v24H0V0z\" fill=\"none\"/>\n",
              "    <path d=\"M18.56 5.44l.94 2.06.94-2.06 2.06-.94-2.06-.94-.94-2.06-.94 2.06-2.06.94zm-11 1L8.5 8.5l.94-2.06 2.06-.94-2.06-.94L8.5 2.5l-.94 2.06-2.06.94zm10 10l.94 2.06.94-2.06 2.06-.94-2.06-.94-.94-2.06-.94 2.06-2.06.94z\"/><path d=\"M17.41 7.96l-1.37-1.37c-.4-.4-.92-.59-1.43-.59-.52 0-1.04.2-1.43.59L10.3 9.45l-7.72 7.72c-.78.78-.78 2.05 0 2.83L4 21.41c.39.39.9.59 1.41.59.51 0 1.02-.2 1.41-.59l7.78-7.78 2.81-2.81c.8-.78.8-2.07 0-2.86zM5.41 20L4 18.59l7.72-7.72 1.47 1.35L5.41 20z\"/>\n",
              "  </svg>\n",
              "      </button>\n",
              "      \n",
              "  <style>\n",
              "    .colab-df-container {\n",
              "      display:flex;\n",
              "      flex-wrap:wrap;\n",
              "      gap: 12px;\n",
              "    }\n",
              "\n",
              "    .colab-df-convert {\n",
              "      background-color: #E8F0FE;\n",
              "      border: none;\n",
              "      border-radius: 50%;\n",
              "      cursor: pointer;\n",
              "      display: none;\n",
              "      fill: #1967D2;\n",
              "      height: 32px;\n",
              "      padding: 0 0 0 0;\n",
              "      width: 32px;\n",
              "    }\n",
              "\n",
              "    .colab-df-convert:hover {\n",
              "      background-color: #E2EBFA;\n",
              "      box-shadow: 0px 1px 2px rgba(60, 64, 67, 0.3), 0px 1px 3px 1px rgba(60, 64, 67, 0.15);\n",
              "      fill: #174EA6;\n",
              "    }\n",
              "\n",
              "    [theme=dark] .colab-df-convert {\n",
              "      background-color: #3B4455;\n",
              "      fill: #D2E3FC;\n",
              "    }\n",
              "\n",
              "    [theme=dark] .colab-df-convert:hover {\n",
              "      background-color: #434B5C;\n",
              "      box-shadow: 0px 1px 3px 1px rgba(0, 0, 0, 0.15);\n",
              "      filter: drop-shadow(0px 1px 2px rgba(0, 0, 0, 0.3));\n",
              "      fill: #FFFFFF;\n",
              "    }\n",
              "  </style>\n",
              "\n",
              "      <script>\n",
              "        const buttonEl =\n",
              "          document.querySelector('#df-75c1054d-6d85-47cb-a09b-18b665a8a065 button.colab-df-convert');\n",
              "        buttonEl.style.display =\n",
              "          google.colab.kernel.accessAllowed ? 'block' : 'none';\n",
              "\n",
              "        async function convertToInteractive(key) {\n",
              "          const element = document.querySelector('#df-75c1054d-6d85-47cb-a09b-18b665a8a065');\n",
              "          const dataTable =\n",
              "            await google.colab.kernel.invokeFunction('convertToInteractive',\n",
              "                                                     [key], {});\n",
              "          if (!dataTable) return;\n",
              "\n",
              "          const docLinkHtml = 'Like what you see? Visit the ' +\n",
              "            '<a target=\"_blank\" href=https://colab.research.google.com/notebooks/data_table.ipynb>data table notebook</a>'\n",
              "            + ' to learn more about interactive tables.';\n",
              "          element.innerHTML = '';\n",
              "          dataTable['output_type'] = 'display_data';\n",
              "          await google.colab.output.renderOutput(dataTable, element);\n",
              "          const docLink = document.createElement('div');\n",
              "          docLink.innerHTML = docLinkHtml;\n",
              "          element.appendChild(docLink);\n",
              "        }\n",
              "      </script>\n",
              "    </div>\n",
              "  </div>\n",
              "  "
            ]
          },
          "metadata": {},
          "execution_count": 33
        }
      ]
    },
    {
      "cell_type": "markdown",
      "source": [
        "Посчитаем метрику f-score и точность"
      ],
      "metadata": {
        "id": "n4gpwEkJioYd"
      }
    },
    {
      "cell_type": "code",
      "source": [
        "from sklearn.metrics import f1_score\n",
        "f1_score(y_test, gs_cv_clf.best_estimator_.predict(X_test))"
      ],
      "metadata": {
        "colab": {
          "base_uri": "https://localhost:8080/"
        },
        "id": "4ZFBwX7CYfi6",
        "outputId": "15f98f4f-7df0-48e9-afcb-d5dfd161206b"
      },
      "execution_count": null,
      "outputs": [
        {
          "output_type": "execute_result",
          "data": {
            "text/plain": [
              "0.47863247863247865"
            ]
          },
          "metadata": {},
          "execution_count": 34
        }
      ]
    },
    {
      "cell_type": "code",
      "source": [
        "from sklearn.metrics import accuracy_score\n",
        "accuracy_score(y_test, gs_cv_clf.best_estimator_.predict(X_test))"
      ],
      "metadata": {
        "colab": {
          "base_uri": "https://localhost:8080/"
        },
        "id": "1kgDlJAcYfl4",
        "outputId": "37afbaf5-9dde-40d4-e0d0-4023d219804d"
      },
      "execution_count": null,
      "outputs": [
        {
          "output_type": "execute_result",
          "data": {
            "text/plain": [
              "0.8445859872611465"
            ]
          },
          "metadata": {},
          "execution_count": 35
        }
      ]
    },
    {
      "cell_type": "code",
      "source": [
        "from joblib import dump, load\n",
        "dump(best_clf, 'best_clf_RF.joblib') "
      ],
      "metadata": {
        "colab": {
          "base_uri": "https://localhost:8080/"
        },
        "id": "jVnKdChXWg6v",
        "outputId": "d580ad3d-4101-46aa-cf79-3683fa34a922"
      },
      "execution_count": null,
      "outputs": [
        {
          "output_type": "execute_result",
          "data": {
            "text/plain": [
              "['best_clf_RF.joblib']"
            ]
          },
          "metadata": {},
          "execution_count": 36
        }
      ]
    },
    {
      "cell_type": "markdown",
      "source": [
        "--------------------------------------------------------------------------------"
      ],
      "metadata": {
        "id": "grK5lG0SLlGu"
      }
    },
    {
      "cell_type": "markdown",
      "source": [
        "Попробуем обучить модель нейросети для бинарной классификации. Загрузим библиотеки"
      ],
      "metadata": {
        "id": "FIPfTJmXiwnz"
      }
    },
    {
      "cell_type": "code",
      "source": [
        "import tensorflow as tf\n",
        "from tensorflow import keras\n",
        "from keras.models import Sequential\n",
        "from tensorflow.keras.layers import BatchNormalization\n",
        "from tensorflow.keras.layers import Dense\n",
        "from keras.wrappers.scikit_learn import KerasClassifier\n",
        "import numpy as np"
      ],
      "metadata": {
        "id": "CRWiViNrYfwg"
      },
      "execution_count": null,
      "outputs": []
    },
    {
      "cell_type": "markdown",
      "source": [
        "Создадим архитектуру модели. В общем-то задаём 3 слоя, наугад ставим кол-во ядер в каждом слое. Задаём входную форму, выходной канал = 1. Выбираем функции активации. Между слоями нейронов вставляем слои нормализации значений."
      ],
      "metadata": {
        "id": "M9UJcuCNShUH"
      }
    },
    {
      "cell_type": "code",
      "source": [
        "tf.keras.utils.set_random_seed(13)\n",
        "model = Sequential()\n",
        "model.add(Dense(128, input_shape=(12,), activation='relu'))\n",
        "model.add(BatchNormalization())\n",
        "model.add(Dense(64, activation='relu'))\n",
        "model.add(BatchNormalization())\n",
        "model.add(Dense(1, activation='sigmoid'))\n",
        "model.summary()"
      ],
      "metadata": {
        "colab": {
          "base_uri": "https://localhost:8080/"
        },
        "id": "1zTu_9DZKpsd",
        "outputId": "9e554a30-fbbb-408b-d567-760cdc935ac3"
      },
      "execution_count": null,
      "outputs": [
        {
          "output_type": "stream",
          "name": "stdout",
          "text": [
            "Model: \"sequential\"\n",
            "_________________________________________________________________\n",
            " Layer (type)                Output Shape              Param #   \n",
            "=================================================================\n",
            " dense (Dense)               (None, 128)               1664      \n",
            "                                                                 \n",
            " batch_normalization (BatchN  (None, 128)              512       \n",
            " ormalization)                                                   \n",
            "                                                                 \n",
            " dense_1 (Dense)             (None, 64)                8256      \n",
            "                                                                 \n",
            " batch_normalization_1 (Batc  (None, 64)               256       \n",
            " hNormalization)                                                 \n",
            "                                                                 \n",
            " dense_2 (Dense)             (None, 1)                 65        \n",
            "                                                                 \n",
            "=================================================================\n",
            "Total params: 10,753\n",
            "Trainable params: 10,369\n",
            "Non-trainable params: 384\n",
            "_________________________________________________________________\n"
          ]
        }
      ]
    },
    {
      "cell_type": "markdown",
      "source": [
        "Компилируем модель, выбираем оптимизатор, скорость сходимости алгоритма, критерий сходимости - бинарная кроссэнтропия. Выводимая метрика - бинарная точность."
      ],
      "metadata": {
        "id": "1phu1FehTGqJ"
      }
    },
    {
      "cell_type": "code",
      "source": [
        "model.compile(optimizer=keras.optimizers.Adam(learning_rate=0.001), loss='binary_crossentropy', metrics=['binary_accuracy'])"
      ],
      "metadata": {
        "id": "p8d4ZEmfKp6p"
      },
      "execution_count": null,
      "outputs": []
    },
    {
      "cell_type": "markdown",
      "source": [
        "Фитим данные в модель. Разбиваем данные на порции, задаём кол-во иттераций обучения и кол-во данных под валидацию во время обучения. Обучаем."
      ],
      "metadata": {
        "id": "qJMCDR4fTYa0"
      }
    },
    {
      "cell_type": "code",
      "source": [
        "model.fit(X_train, y_train, batch_size=64, epochs=50, validation_split=0.2)"
      ],
      "metadata": {
        "colab": {
          "base_uri": "https://localhost:8080/"
        },
        "id": "UawE7C91LEE1",
        "outputId": "c7a2fc6b-93b5-45f4-e0c9-1a6274fad5bb"
      },
      "execution_count": null,
      "outputs": [
        {
          "output_type": "stream",
          "name": "stdout",
          "text": [
            "Epoch 1/50\n",
            "89/89 [==============================] - 2s 6ms/step - loss: 0.5722 - binary_accuracy: 0.7225 - val_loss: 0.4947 - val_binary_accuracy: 0.8167\n",
            "Epoch 2/50\n",
            "89/89 [==============================] - 0s 3ms/step - loss: 0.4016 - binary_accuracy: 0.8366 - val_loss: 0.4454 - val_binary_accuracy: 0.8167\n",
            "Epoch 3/50\n",
            "89/89 [==============================] - 0s 4ms/step - loss: 0.3509 - binary_accuracy: 0.8572 - val_loss: 0.4350 - val_binary_accuracy: 0.8167\n",
            "Epoch 4/50\n",
            "89/89 [==============================] - 0s 3ms/step - loss: 0.3398 - binary_accuracy: 0.8582 - val_loss: 0.3924 - val_binary_accuracy: 0.8316\n",
            "Epoch 5/50\n",
            "89/89 [==============================] - 0s 4ms/step - loss: 0.3278 - binary_accuracy: 0.8627 - val_loss: 0.3861 - val_binary_accuracy: 0.8450\n",
            "Epoch 6/50\n",
            "89/89 [==============================] - 0s 3ms/step - loss: 0.3265 - binary_accuracy: 0.8665 - val_loss: 0.3838 - val_binary_accuracy: 0.8436\n",
            "Epoch 7/50\n",
            "89/89 [==============================] - 0s 4ms/step - loss: 0.3194 - binary_accuracy: 0.8662 - val_loss: 0.3786 - val_binary_accuracy: 0.8478\n",
            "Epoch 8/50\n",
            "89/89 [==============================] - 0s 3ms/step - loss: 0.3123 - binary_accuracy: 0.8706 - val_loss: 0.3896 - val_binary_accuracy: 0.8443\n",
            "Epoch 9/50\n",
            "89/89 [==============================] - 0s 3ms/step - loss: 0.3083 - binary_accuracy: 0.8674 - val_loss: 0.3899 - val_binary_accuracy: 0.8443\n",
            "Epoch 10/50\n",
            "89/89 [==============================] - 0s 4ms/step - loss: 0.3078 - binary_accuracy: 0.8719 - val_loss: 0.4143 - val_binary_accuracy: 0.8301\n",
            "Epoch 11/50\n",
            "89/89 [==============================] - 0s 3ms/step - loss: 0.3032 - binary_accuracy: 0.8756 - val_loss: 0.3955 - val_binary_accuracy: 0.8514\n",
            "Epoch 12/50\n",
            "89/89 [==============================] - 0s 3ms/step - loss: 0.3036 - binary_accuracy: 0.8736 - val_loss: 0.4116 - val_binary_accuracy: 0.8337\n",
            "Epoch 13/50\n",
            "89/89 [==============================] - 0s 3ms/step - loss: 0.2928 - binary_accuracy: 0.8786 - val_loss: 0.4193 - val_binary_accuracy: 0.8457\n",
            "Epoch 14/50\n",
            "89/89 [==============================] - 0s 3ms/step - loss: 0.2897 - binary_accuracy: 0.8798 - val_loss: 0.4267 - val_binary_accuracy: 0.8443\n",
            "Epoch 15/50\n",
            "89/89 [==============================] - 0s 3ms/step - loss: 0.2873 - binary_accuracy: 0.8807 - val_loss: 0.4047 - val_binary_accuracy: 0.8450\n",
            "Epoch 16/50\n",
            "89/89 [==============================] - 0s 3ms/step - loss: 0.2867 - binary_accuracy: 0.8777 - val_loss: 0.4184 - val_binary_accuracy: 0.8401\n",
            "Epoch 17/50\n",
            "89/89 [==============================] - 0s 4ms/step - loss: 0.2882 - binary_accuracy: 0.8781 - val_loss: 0.4131 - val_binary_accuracy: 0.8386\n",
            "Epoch 18/50\n",
            "89/89 [==============================] - 0s 3ms/step - loss: 0.2791 - binary_accuracy: 0.8777 - val_loss: 0.4211 - val_binary_accuracy: 0.8372\n",
            "Epoch 19/50\n",
            "89/89 [==============================] - 0s 3ms/step - loss: 0.2777 - binary_accuracy: 0.8811 - val_loss: 0.4215 - val_binary_accuracy: 0.8323\n",
            "Epoch 20/50\n",
            "89/89 [==============================] - 0s 3ms/step - loss: 0.2684 - binary_accuracy: 0.8892 - val_loss: 0.4456 - val_binary_accuracy: 0.8309\n",
            "Epoch 21/50\n",
            "89/89 [==============================] - 0s 3ms/step - loss: 0.2676 - binary_accuracy: 0.8862 - val_loss: 0.4400 - val_binary_accuracy: 0.8344\n",
            "Epoch 22/50\n",
            "89/89 [==============================] - 0s 4ms/step - loss: 0.2711 - binary_accuracy: 0.8834 - val_loss: 0.4589 - val_binary_accuracy: 0.8252\n",
            "Epoch 23/50\n",
            "89/89 [==============================] - 0s 3ms/step - loss: 0.2685 - binary_accuracy: 0.8887 - val_loss: 0.4419 - val_binary_accuracy: 0.8386\n",
            "Epoch 24/50\n",
            "89/89 [==============================] - 0s 3ms/step - loss: 0.2633 - binary_accuracy: 0.8919 - val_loss: 0.4501 - val_binary_accuracy: 0.8287\n",
            "Epoch 25/50\n",
            "89/89 [==============================] - 0s 3ms/step - loss: 0.2552 - binary_accuracy: 0.8938 - val_loss: 0.4348 - val_binary_accuracy: 0.8330\n",
            "Epoch 26/50\n",
            "89/89 [==============================] - 0s 3ms/step - loss: 0.2502 - binary_accuracy: 0.8929 - val_loss: 0.4721 - val_binary_accuracy: 0.8266\n",
            "Epoch 27/50\n",
            "89/89 [==============================] - 0s 3ms/step - loss: 0.2535 - binary_accuracy: 0.8892 - val_loss: 0.4429 - val_binary_accuracy: 0.8294\n",
            "Epoch 28/50\n",
            "89/89 [==============================] - 0s 3ms/step - loss: 0.2495 - binary_accuracy: 0.8963 - val_loss: 0.4480 - val_binary_accuracy: 0.8379\n",
            "Epoch 29/50\n",
            "89/89 [==============================] - 0s 3ms/step - loss: 0.2442 - binary_accuracy: 0.8947 - val_loss: 0.4848 - val_binary_accuracy: 0.8125\n",
            "Epoch 30/50\n",
            "89/89 [==============================] - 0s 3ms/step - loss: 0.2405 - binary_accuracy: 0.9002 - val_loss: 0.4760 - val_binary_accuracy: 0.8273\n",
            "Epoch 31/50\n",
            "89/89 [==============================] - 0s 3ms/step - loss: 0.2433 - binary_accuracy: 0.9025 - val_loss: 0.4942 - val_binary_accuracy: 0.8132\n",
            "Epoch 32/50\n",
            "89/89 [==============================] - 0s 3ms/step - loss: 0.2343 - binary_accuracy: 0.9046 - val_loss: 0.4779 - val_binary_accuracy: 0.8188\n",
            "Epoch 33/50\n",
            "89/89 [==============================] - 0s 3ms/step - loss: 0.2287 - binary_accuracy: 0.9030 - val_loss: 0.4915 - val_binary_accuracy: 0.8217\n",
            "Epoch 34/50\n",
            "89/89 [==============================] - 0s 3ms/step - loss: 0.2369 - binary_accuracy: 0.9021 - val_loss: 0.4880 - val_binary_accuracy: 0.8259\n",
            "Epoch 35/50\n",
            "89/89 [==============================] - 0s 4ms/step - loss: 0.2314 - binary_accuracy: 0.9062 - val_loss: 0.4754 - val_binary_accuracy: 0.8316\n",
            "Epoch 36/50\n",
            "89/89 [==============================] - 0s 4ms/step - loss: 0.2229 - binary_accuracy: 0.9074 - val_loss: 0.4944 - val_binary_accuracy: 0.8273\n",
            "Epoch 37/50\n",
            "89/89 [==============================] - 0s 4ms/step - loss: 0.2265 - binary_accuracy: 0.9076 - val_loss: 0.5086 - val_binary_accuracy: 0.8188\n",
            "Epoch 38/50\n",
            "89/89 [==============================] - 0s 3ms/step - loss: 0.2234 - binary_accuracy: 0.9087 - val_loss: 0.4981 - val_binary_accuracy: 0.8337\n",
            "Epoch 39/50\n",
            "89/89 [==============================] - 0s 4ms/step - loss: 0.2298 - binary_accuracy: 0.9035 - val_loss: 0.5228 - val_binary_accuracy: 0.8245\n",
            "Epoch 40/50\n",
            "89/89 [==============================] - 0s 3ms/step - loss: 0.2181 - binary_accuracy: 0.9081 - val_loss: 0.5170 - val_binary_accuracy: 0.8231\n",
            "Epoch 41/50\n",
            "89/89 [==============================] - 0s 3ms/step - loss: 0.2124 - binary_accuracy: 0.9099 - val_loss: 0.5570 - val_binary_accuracy: 0.8011\n",
            "Epoch 42/50\n",
            "89/89 [==============================] - 0s 3ms/step - loss: 0.2127 - binary_accuracy: 0.9115 - val_loss: 0.5209 - val_binary_accuracy: 0.8280\n",
            "Epoch 43/50\n",
            "89/89 [==============================] - 0s 3ms/step - loss: 0.2079 - binary_accuracy: 0.9113 - val_loss: 0.5282 - val_binary_accuracy: 0.8245\n",
            "Epoch 44/50\n",
            "89/89 [==============================] - 0s 3ms/step - loss: 0.2116 - binary_accuracy: 0.9147 - val_loss: 0.5635 - val_binary_accuracy: 0.8033\n",
            "Epoch 45/50\n",
            "89/89 [==============================] - 0s 3ms/step - loss: 0.2014 - binary_accuracy: 0.9168 - val_loss: 0.5705 - val_binary_accuracy: 0.8089\n",
            "Epoch 46/50\n",
            "89/89 [==============================] - 0s 3ms/step - loss: 0.2026 - binary_accuracy: 0.9154 - val_loss: 0.5294 - val_binary_accuracy: 0.8287\n",
            "Epoch 47/50\n",
            "89/89 [==============================] - 0s 3ms/step - loss: 0.1953 - binary_accuracy: 0.9198 - val_loss: 0.5469 - val_binary_accuracy: 0.8167\n",
            "Epoch 48/50\n",
            "89/89 [==============================] - 0s 3ms/step - loss: 0.1990 - binary_accuracy: 0.9166 - val_loss: 0.5398 - val_binary_accuracy: 0.8209\n",
            "Epoch 49/50\n",
            "89/89 [==============================] - 0s 3ms/step - loss: 0.1939 - binary_accuracy: 0.9214 - val_loss: 0.5395 - val_binary_accuracy: 0.8415\n",
            "Epoch 50/50\n",
            "89/89 [==============================] - 0s 4ms/step - loss: 0.1909 - binary_accuracy: 0.9216 - val_loss: 0.5419 - val_binary_accuracy: 0.8174\n"
          ]
        },
        {
          "output_type": "execute_result",
          "data": {
            "text/plain": [
              "<keras.callbacks.History at 0x7fb6f99ffca0>"
            ]
          },
          "metadata": {},
          "execution_count": 24
        }
      ]
    },
    {
      "cell_type": "markdown",
      "source": [
        "Проводим оценку модели на тестовых данных. Бинарная точность 0.8, значение потерь: 0.64"
      ],
      "metadata": {
        "id": "41ubGa0_Tx5T"
      }
    },
    {
      "cell_type": "code",
      "source": [
        "results = model.evaluate(X_test, y_test, batch_size=64)\n",
        "print('test loss, test acc:', results)"
      ],
      "metadata": {
        "colab": {
          "base_uri": "https://localhost:8080/"
        },
        "id": "odVmZC9PLEOS",
        "outputId": "ad17914c-1df8-4f3d-85c5-87d3f6792d2c"
      },
      "execution_count": null,
      "outputs": [
        {
          "output_type": "stream",
          "name": "stdout",
          "text": [
            "37/37 [==============================] - 0s 2ms/step - loss: 0.5302 - binary_accuracy: 0.8085\n",
            "test loss, test acc: [0.5302287936210632, 0.8084925413131714]\n"
          ]
        }
      ]
    },
    {
      "cell_type": "code",
      "source": [
        "!mkdir -p saved_model\n",
        "model.save('saved_model/my_model')\n"
      ],
      "metadata": {
        "id": "09M2YgvDT2yt"
      },
      "execution_count": null,
      "outputs": []
    },
    {
      "cell_type": "markdown",
      "source": [
        "К сожалению из модели нейросети довольно тяжело вытащить ценность признаков, поэтому ограничимся оценкой точности."
      ],
      "metadata": {
        "id": "A1aQdrf5Uxd8"
      }
    },
    {
      "cell_type": "markdown",
      "source": [
        "--------------------------------------------------------------------------------"
      ],
      "metadata": {
        "id": "ltdWt7HNLqMg"
      }
    },
    {
      "cell_type": "markdown",
      "source": [
        "Попробуем две модели бустинга."
      ],
      "metadata": {
        "id": "58uoVlW_UyWl"
      }
    },
    {
      "cell_type": "markdown",
      "source": [
        "Бустинг AdaBoost. Импортируем классификатор, задаём параметры. Импортируем сетку подбора лучших параметров, заполняем сетку. Выводим точность и лучшие параметры из сетки посел обучения."
      ],
      "metadata": {
        "id": "Ss1qjOm6omGn"
      }
    },
    {
      "cell_type": "code",
      "source": [
        "from sklearn.ensemble import AdaBoostClassifier\n",
        "classifier_AdaBoost = AdaBoostClassifier(learning_rate=0.01, random_state=32)\n",
        "classifier_AdaBoost.fit(X_train, y_train)\n",
        "from sklearn.model_selection import GridSearchCV\n",
        "parameters = [{'n_estimators': [50,100,200,300,500]}] \n",
        "grid_search = GridSearchCV(estimator = classifier_AdaBoost,\n",
        "                           param_grid = parameters,\n",
        "                           scoring = 'accuracy',\n",
        "                           cv = 10,\n",
        "                           n_jobs = -1)\n",
        "grid_search = grid_search.fit(X_train, y_train)\n",
        "best_accuracy = grid_search.best_score_\n",
        "best_parameters = grid_search.best_params_\n",
        "\n",
        "print('Accuracy: ',best_accuracy,end='\\n')\n",
        "print('Best Parameters: ',best_parameters,end='\\n')"
      ],
      "metadata": {
        "colab": {
          "base_uri": "https://localhost:8080/"
        },
        "id": "sg0hTeNymXFr",
        "outputId": "f5f6121c-aa61-4c98-d81c-e465ab189e08"
      },
      "execution_count": null,
      "outputs": [
        {
          "output_type": "stream",
          "name": "stdout",
          "text": [
            "Accuracy:  0.8364735886781716\n",
            "Best Parameters:  {'n_estimators': 500}\n"
          ]
        }
      ]
    },
    {
      "cell_type": "markdown",
      "source": [
        "Выводим вес фич графиком, в табличном виде."
      ],
      "metadata": {
        "id": "q43qmv6kVP09"
      }
    },
    {
      "cell_type": "code",
      "source": [
        "imp = pd.DataFrame(grid_search.best_estimator_.feature_importances_, index=X_train.columns, columns=['importance'])\n",
        "imp.sort_values('importance').plot(kind='barh', figsize=(12, 8))"
      ],
      "metadata": {
        "colab": {
          "base_uri": "https://localhost:8080/",
          "height": 503
        },
        "id": "X79XLc_nmXKL",
        "outputId": "6531473b-a891-41aa-c9b9-bd9bc54b909b"
      },
      "execution_count": null,
      "outputs": [
        {
          "output_type": "execute_result",
          "data": {
            "text/plain": [
              "<matplotlib.axes._subplots.AxesSubplot at 0x7fb6f513b880>"
            ]
          },
          "metadata": {},
          "execution_count": 39
        },
        {
          "output_type": "display_data",
          "data": {
            "text/plain": [
              "<Figure size 864x576 with 1 Axes>"
            ],
            "image/png": "[encoded data removed]"
          },
          "metadata": {}
        }
      ]
    },
    {
      "cell_type": "code",
      "source": [
        "best_boost_clf = grid_search.best_estimator_\n",
        "feature_importances = best_boost_clf.feature_importances_\n",
        "feature_importances_df = pd.DataFrame({'features': list(X_train), 'feature_importances': feature_importances})\n",
        "fi_df_sort = feature_importances_df.sort_values('feature_importances', ascending = False)\n",
        "fi_df_sort"
      ],
      "metadata": {
        "colab": {
          "base_uri": "https://localhost:8080/",
          "height": 426
        },
        "id": "J0kzjwCTmXPI",
        "outputId": "160eab5f-8626-434a-eca3-37f59d190ff2"
      },
      "execution_count": null,
      "outputs": [
        {
          "output_type": "execute_result",
          "data": {
            "text/plain": [
              "      features  feature_importances\n",
              "8    feature_8                0.462\n",
              "5    feature_5                0.354\n",
              "10  feature_10                0.106\n",
              "4    feature_4                0.040\n",
              "3    feature_3                0.030\n",
              "7    feature_7                0.008\n",
              "0    feature_0                0.000\n",
              "1    feature_1                0.000\n",
              "2    feature_2                0.000\n",
              "6    feature_6                0.000\n",
              "9    feature_9                0.000\n",
              "11  feature_11                0.000"
            ],
            "text/html": [
              "\n",
              "  <div id=\"df-7f1f9818-a9d1-4d26-ae7e-712d40f7d948\">\n",
              "    <div class=\"colab-df-container\">\n",
              "      <div>\n",
              "<style scoped>\n",
              "    .dataframe tbody tr th:only-of-type {\n",
              "        vertical-align: middle;\n",
              "    }\n",
              "\n",
              "    .dataframe tbody tr th {\n",
              "        vertical-align: top;\n",
              "    }\n",
              "\n",
              "    .dataframe thead th {\n",
              "        text-align: right;\n",
              "    }\n",
              "</style>\n",
              "<table border=\"1\" class=\"dataframe\">\n",
              "  <thead>\n",
              "    <tr style=\"text-align: right;\">\n",
              "      <th></th>\n",
              "      <th>features</th>\n",
              "      <th>feature_importances</th>\n",
              "    </tr>\n",
              "  </thead>\n",
              "  <tbody>\n",
              "    <tr>\n",
              "      <th>8</th>\n",
              "      <td>feature_8</td>\n",
              "      <td>0.462</td>\n",
              "    </tr>\n",
              "    <tr>\n",
              "      <th>5</th>\n",
              "      <td>feature_5</td>\n",
              "      <td>0.354</td>\n",
              "    </tr>\n",
              "    <tr>\n",
              "      <th>10</th>\n",
              "      <td>feature_10</td>\n",
              "      <td>0.106</td>\n",
              "    </tr>\n",
              "    <tr>\n",
              "      <th>4</th>\n",
              "      <td>feature_4</td>\n",
              "      <td>0.040</td>\n",
              "    </tr>\n",
              "    <tr>\n",
              "      <th>3</th>\n",
              "      <td>feature_3</td>\n",
              "      <td>0.030</td>\n",
              "    </tr>\n",
              "    <tr>\n",
              "      <th>7</th>\n",
              "      <td>feature_7</td>\n",
              "      <td>0.008</td>\n",
              "    </tr>\n",
              "    <tr>\n",
              "      <th>0</th>\n",
              "      <td>feature_0</td>\n",
              "      <td>0.000</td>\n",
              "    </tr>\n",
              "    <tr>\n",
              "      <th>1</th>\n",
              "      <td>feature_1</td>\n",
              "      <td>0.000</td>\n",
              "    </tr>\n",
              "    <tr>\n",
              "      <th>2</th>\n",
              "      <td>feature_2</td>\n",
              "      <td>0.000</td>\n",
              "    </tr>\n",
              "    <tr>\n",
              "      <th>6</th>\n",
              "      <td>feature_6</td>\n",
              "      <td>0.000</td>\n",
              "    </tr>\n",
              "    <tr>\n",
              "      <th>9</th>\n",
              "      <td>feature_9</td>\n",
              "      <td>0.000</td>\n",
              "    </tr>\n",
              "    <tr>\n",
              "      <th>11</th>\n",
              "      <td>feature_11</td>\n",
              "      <td>0.000</td>\n",
              "    </tr>\n",
              "  </tbody>\n",
              "</table>\n",
              "</div>\n",
              "      <button class=\"colab-df-convert\" onclick=\"convertToInteractive('df-7f1f9818-a9d1-4d26-ae7e-712d40f7d948')\"\n",
              "              title=\"Convert this dataframe to an interactive table.\"\n",
              "              style=\"display:none;\">\n",
              "        \n",
              "  <svg xmlns=\"http://www.w3.org/2000/svg\" height=\"24px\"viewBox=\"0 0 24 24\"\n",
              "       width=\"24px\">\n",
              "    <path d=\"M0 0h24v24H0V0z\" fill=\"none\"/>\n",
              "    <path d=\"M18.56 5.44l.94 2.06.94-2.06 2.06-.94-2.06-.94-.94-2.06-.94 2.06-2.06.94zm-11 1L8.5 8.5l.94-2.06 2.06-.94-2.06-.94L8.5 2.5l-.94 2.06-2.06.94zm10 10l.94 2.06.94-2.06 2.06-.94-2.06-.94-.94-2.06-.94 2.06-2.06.94z\"/><path d=\"M17.41 7.96l-1.37-1.37c-.4-.4-.92-.59-1.43-.59-.52 0-1.04.2-1.43.59L10.3 9.45l-7.72 7.72c-.78.78-.78 2.05 0 2.83L4 21.41c.39.39.9.59 1.41.59.51 0 1.02-.2 1.41-.59l7.78-7.78 2.81-2.81c.8-.78.8-2.07 0-2.86zM5.41 20L4 18.59l7.72-7.72 1.47 1.35L5.41 20z\"/>\n",
              "  </svg>\n",
              "      </button>\n",
              "      \n",
              "  <style>\n",
              "    .colab-df-container {\n",
              "      display:flex;\n",
              "      flex-wrap:wrap;\n",
              "      gap: 12px;\n",
              "    }\n",
              "\n",
              "    .colab-df-convert {\n",
              "      background-color: #E8F0FE;\n",
              "      border: none;\n",
              "      border-radius: 50%;\n",
              "      cursor: pointer;\n",
              "      display: none;\n",
              "      fill: #1967D2;\n",
              "      height: 32px;\n",
              "      padding: 0 0 0 0;\n",
              "      width: 32px;\n",
              "    }\n",
              "\n",
              "    .colab-df-convert:hover {\n",
              "      background-color: #E2EBFA;\n",
              "      box-shadow: 0px 1px 2px rgba(60, 64, 67, 0.3), 0px 1px 3px 1px rgba(60, 64, 67, 0.15);\n",
              "      fill: #174EA6;\n",
              "    }\n",
              "\n",
              "    [theme=dark] .colab-df-convert {\n",
              "      background-color: #3B4455;\n",
              "      fill: #D2E3FC;\n",
              "    }\n",
              "\n",
              "    [theme=dark] .colab-df-convert:hover {\n",
              "      background-color: #434B5C;\n",
              "      box-shadow: 0px 1px 3px 1px rgba(0, 0, 0, 0.15);\n",
              "      filter: drop-shadow(0px 1px 2px rgba(0, 0, 0, 0.3));\n",
              "      fill: #FFFFFF;\n",
              "    }\n",
              "  </style>\n",
              "\n",
              "      <script>\n",
              "        const buttonEl =\n",
              "          document.querySelector('#df-7f1f9818-a9d1-4d26-ae7e-712d40f7d948 button.colab-df-convert');\n",
              "        buttonEl.style.display =\n",
              "          google.colab.kernel.accessAllowed ? 'block' : 'none';\n",
              "\n",
              "        async function convertToInteractive(key) {\n",
              "          const element = document.querySelector('#df-7f1f9818-a9d1-4d26-ae7e-712d40f7d948');\n",
              "          const dataTable =\n",
              "            await google.colab.kernel.invokeFunction('convertToInteractive',\n",
              "                                                     [key], {});\n",
              "          if (!dataTable) return;\n",
              "\n",
              "          const docLinkHtml = 'Like what you see? Visit the ' +\n",
              "            '<a target=\"_blank\" href=https://colab.research.google.com/notebooks/data_table.ipynb>data table notebook</a>'\n",
              "            + ' to learn more about interactive tables.';\n",
              "          element.innerHTML = '';\n",
              "          dataTable['output_type'] = 'display_data';\n",
              "          await google.colab.output.renderOutput(dataTable, element);\n",
              "          const docLink = document.createElement('div');\n",
              "          docLink.innerHTML = docLinkHtml;\n",
              "          element.appendChild(docLink);\n",
              "        }\n",
              "      </script>\n",
              "    </div>\n",
              "  </div>\n",
              "  "
            ]
          },
          "metadata": {},
          "execution_count": 40
        }
      ]
    },
    {
      "cell_type": "markdown",
      "source": [
        "Выводим f1-score и точность модели на тестовых данных."
      ],
      "metadata": {
        "id": "lytJhiq3VX7e"
      }
    },
    {
      "cell_type": "code",
      "source": [
        "from sklearn.metrics import f1_score\n",
        "f1_score(y_test, best_boost_clf.predict(X_test))"
      ],
      "metadata": {
        "colab": {
          "base_uri": "https://localhost:8080/"
        },
        "id": "FedOkzIpvFgB",
        "outputId": "cb198f0c-a01d-4b95-d100-2645a785dab8"
      },
      "execution_count": null,
      "outputs": [
        {
          "output_type": "execute_result",
          "data": {
            "text/plain": [
              "0.23465703971119134"
            ]
          },
          "metadata": {},
          "execution_count": 41
        }
      ]
    },
    {
      "cell_type": "code",
      "source": [
        "from sklearn.metrics import accuracy_score\n",
        "accuracy_score(y_test, best_boost_clf.predict(X_test))"
      ],
      "metadata": {
        "colab": {
          "base_uri": "https://localhost:8080/"
        },
        "id": "ohzPdCQQvFjB",
        "outputId": "dc38a848-4ad7-4d34-8dce-d42b2391265e"
      },
      "execution_count": null,
      "outputs": [
        {
          "output_type": "execute_result",
          "data": {
            "text/plain": [
              "0.8199575371549894"
            ]
          },
          "metadata": {},
          "execution_count": 42
        }
      ]
    },
    {
      "cell_type": "code",
      "source": [
        "dump(best_boost_clf, 'best_clf_AB.joblib')"
      ],
      "metadata": {
        "colab": {
          "base_uri": "https://localhost:8080/"
        },
        "id": "YTn_pGkCXmwP",
        "outputId": "09cf40c3-d589-4367-98fc-3d5cd9cf473f"
      },
      "execution_count": null,
      "outputs": [
        {
          "output_type": "execute_result",
          "data": {
            "text/plain": [
              "['best_clf_AB.joblib']"
            ]
          },
          "metadata": {},
          "execution_count": 43
        }
      ]
    },
    {
      "cell_type": "markdown",
      "source": [
        "----------------------------------------------------------------------------------------"
      ],
      "metadata": {
        "id": "TdE4hqveLul0"
      }
    },
    {
      "cell_type": "markdown",
      "source": [
        "Попробуем градиентный бустинг. Делаем то же самое, что с Ada. Выводим ценность фич, f-меру, точность."
      ],
      "metadata": {
        "id": "DgUTYBusViHv"
      }
    },
    {
      "cell_type": "code",
      "source": [
        "from sklearn.ensemble import GradientBoostingClassifier\n",
        "from sklearn.model_selection import cross_val_score\n",
        "classifiergb = GradientBoostingClassifier(learning_rate=0.01,random_state=13)\n",
        "classifiergb.fit(X_train, y_train)\n",
        "\n",
        "parameters_gb = [{'n_estimators': [50,100,200,300,500]}] \n",
        "grid_search_gb = GridSearchCV(estimator = classifiergb,\n",
        "                           param_grid = parameters_gb,\n",
        "                           scoring = 'accuracy',\n",
        "                           cv = 10,\n",
        "                           n_jobs = -1)\n",
        "grid_search_gb = grid_search_gb.fit(X_train, y_train)\n"
      ],
      "metadata": {
        "id": "zxY4N1puvF1A"
      },
      "execution_count": null,
      "outputs": []
    },
    {
      "cell_type": "code",
      "source": [
        "best_clf_GB = grid_search_gb.best_estimator_\n",
        "imp = pd.DataFrame(grid_search_gb.best_estimator_.feature_importances_, index=X_train.columns, columns=['importance'])\n",
        "imp.sort_values('importance').plot(kind='barh', figsize=(12, 8))"
      ],
      "metadata": {
        "colab": {
          "base_uri": "https://localhost:8080/",
          "height": 503
        },
        "id": "u7a52fvMx6sJ",
        "outputId": "3008fa9a-7bb2-4be2-e196-4854c4fd235e"
      },
      "execution_count": null,
      "outputs": [
        {
          "output_type": "execute_result",
          "data": {
            "text/plain": [
              "<matplotlib.axes._subplots.AxesSubplot at 0x7fb6f5144c40>"
            ]
          },
          "metadata": {},
          "execution_count": 45
        },
        {
          "output_type": "display_data",
          "data": {
            "text/plain": [
              "<Figure size 864x576 with 1 Axes>"
            ],
            "image/png": "[encoded data removed]"
          },
          "metadata": {}
        }
      ]
    },
    {
      "cell_type": "code",
      "source": [
        "feature_importances = grid_search_gb.best_estimator_.feature_importances_\n",
        "feature_importances_df = pd.DataFrame({'features': list(X_train), 'feature_importances': feature_importances})\n",
        "fi_df_sort = feature_importances_df.sort_values('feature_importances', ascending = False)\n",
        "fi_df_sort"
      ],
      "metadata": {
        "colab": {
          "base_uri": "https://localhost:8080/",
          "height": 426
        },
        "id": "HVhp_nvEx64T",
        "outputId": "73bb7c8e-e3f7-48e1-d168-1ed3ebc39842"
      },
      "execution_count": null,
      "outputs": [
        {
          "output_type": "execute_result",
          "data": {
            "text/plain": [
              "      features  feature_importances\n",
              "5    feature_5             0.445717\n",
              "8    feature_8             0.360759\n",
              "10  feature_10             0.085105\n",
              "7    feature_7             0.036170\n",
              "3    feature_3             0.032648\n",
              "4    feature_4             0.015745\n",
              "2    feature_2             0.014836\n",
              "11  feature_11             0.003926\n",
              "0    feature_0             0.002923\n",
              "1    feature_1             0.001425\n",
              "6    feature_6             0.000667\n",
              "9    feature_9             0.000077"
            ],
            "text/html": [
              "\n",
              "  <div id=\"df-24a7cf32-b2b3-4acc-8543-08eb69a9ff7d\">\n",
              "    <div class=\"colab-df-container\">\n",
              "      <div>\n",
              "<style scoped>\n",
              "    .dataframe tbody tr th:only-of-type {\n",
              "        vertical-align: middle;\n",
              "    }\n",
              "\n",
              "    .dataframe tbody tr th {\n",
              "        vertical-align: top;\n",
              "    }\n",
              "\n",
              "    .dataframe thead th {\n",
              "        text-align: right;\n",
              "    }\n",
              "</style>\n",
              "<table border=\"1\" class=\"dataframe\">\n",
              "  <thead>\n",
              "    <tr style=\"text-align: right;\">\n",
              "      <th></th>\n",
              "      <th>features</th>\n",
              "      <th>feature_importances</th>\n",
              "    </tr>\n",
              "  </thead>\n",
              "  <tbody>\n",
              "    <tr>\n",
              "      <th>5</th>\n",
              "      <td>feature_5</td>\n",
              "      <td>0.445717</td>\n",
              "    </tr>\n",
              "    <tr>\n",
              "      <th>8</th>\n",
              "      <td>feature_8</td>\n",
              "      <td>0.360759</td>\n",
              "    </tr>\n",
              "    <tr>\n",
              "      <th>10</th>\n",
              "      <td>feature_10</td>\n",
              "      <td>0.085105</td>\n",
              "    </tr>\n",
              "    <tr>\n",
              "      <th>7</th>\n",
              "      <td>feature_7</td>\n",
              "      <td>0.036170</td>\n",
              "    </tr>\n",
              "    <tr>\n",
              "      <th>3</th>\n",
              "      <td>feature_3</td>\n",
              "      <td>0.032648</td>\n",
              "    </tr>\n",
              "    <tr>\n",
              "      <th>4</th>\n",
              "      <td>feature_4</td>\n",
              "      <td>0.015745</td>\n",
              "    </tr>\n",
              "    <tr>\n",
              "      <th>2</th>\n",
              "      <td>feature_2</td>\n",
              "      <td>0.014836</td>\n",
              "    </tr>\n",
              "    <tr>\n",
              "      <th>11</th>\n",
              "      <td>feature_11</td>\n",
              "      <td>0.003926</td>\n",
              "    </tr>\n",
              "    <tr>\n",
              "      <th>0</th>\n",
              "      <td>feature_0</td>\n",
              "      <td>0.002923</td>\n",
              "    </tr>\n",
              "    <tr>\n",
              "      <th>1</th>\n",
              "      <td>feature_1</td>\n",
              "      <td>0.001425</td>\n",
              "    </tr>\n",
              "    <tr>\n",
              "      <th>6</th>\n",
              "      <td>feature_6</td>\n",
              "      <td>0.000667</td>\n",
              "    </tr>\n",
              "    <tr>\n",
              "      <th>9</th>\n",
              "      <td>feature_9</td>\n",
              "      <td>0.000077</td>\n",
              "    </tr>\n",
              "  </tbody>\n",
              "</table>\n",
              "</div>\n",
              "      <button class=\"colab-df-convert\" onclick=\"convertToInteractive('df-24a7cf32-b2b3-4acc-8543-08eb69a9ff7d')\"\n",
              "              title=\"Convert this dataframe to an interactive table.\"\n",
              "              style=\"display:none;\">\n",
              "        \n",
              "  <svg xmlns=\"http://www.w3.org/2000/svg\" height=\"24px\"viewBox=\"0 0 24 24\"\n",
              "       width=\"24px\">\n",
              "    <path d=\"M0 0h24v24H0V0z\" fill=\"none\"/>\n",
              "    <path d=\"M18.56 5.44l.94 2.06.94-2.06 2.06-.94-2.06-.94-.94-2.06-.94 2.06-2.06.94zm-11 1L8.5 8.5l.94-2.06 2.06-.94-2.06-.94L8.5 2.5l-.94 2.06-2.06.94zm10 10l.94 2.06.94-2.06 2.06-.94-2.06-.94-.94-2.06-.94 2.06-2.06.94z\"/><path d=\"M17.41 7.96l-1.37-1.37c-.4-.4-.92-.59-1.43-.59-.52 0-1.04.2-1.43.59L10.3 9.45l-7.72 7.72c-.78.78-.78 2.05 0 2.83L4 21.41c.39.39.9.59 1.41.59.51 0 1.02-.2 1.41-.59l7.78-7.78 2.81-2.81c.8-.78.8-2.07 0-2.86zM5.41 20L4 18.59l7.72-7.72 1.47 1.35L5.41 20z\"/>\n",
              "  </svg>\n",
              "      </button>\n",
              "      \n",
              "  <style>\n",
              "    .colab-df-container {\n",
              "      display:flex;\n",
              "      flex-wrap:wrap;\n",
              "      gap: 12px;\n",
              "    }\n",
              "\n",
              "    .colab-df-convert {\n",
              "      background-color: #E8F0FE;\n",
              "      border: none;\n",
              "      border-radius: 50%;\n",
              "      cursor: pointer;\n",
              "      display: none;\n",
              "      fill: #1967D2;\n",
              "      height: 32px;\n",
              "      padding: 0 0 0 0;\n",
              "      width: 32px;\n",
              "    }\n",
              "\n",
              "    .colab-df-convert:hover {\n",
              "      background-color: #E2EBFA;\n",
              "      box-shadow: 0px 1px 2px rgba(60, 64, 67, 0.3), 0px 1px 3px 1px rgba(60, 64, 67, 0.15);\n",
              "      fill: #174EA6;\n",
              "    }\n",
              "\n",
              "    [theme=dark] .colab-df-convert {\n",
              "      background-color: #3B4455;\n",
              "      fill: #D2E3FC;\n",
              "    }\n",
              "\n",
              "    [theme=dark] .colab-df-convert:hover {\n",
              "      background-color: #434B5C;\n",
              "      box-shadow: 0px 1px 3px 1px rgba(0, 0, 0, 0.15);\n",
              "      filter: drop-shadow(0px 1px 2px rgba(0, 0, 0, 0.3));\n",
              "      fill: #FFFFFF;\n",
              "    }\n",
              "  </style>\n",
              "\n",
              "      <script>\n",
              "        const buttonEl =\n",
              "          document.querySelector('#df-24a7cf32-b2b3-4acc-8543-08eb69a9ff7d button.colab-df-convert');\n",
              "        buttonEl.style.display =\n",
              "          google.colab.kernel.accessAllowed ? 'block' : 'none';\n",
              "\n",
              "        async function convertToInteractive(key) {\n",
              "          const element = document.querySelector('#df-24a7cf32-b2b3-4acc-8543-08eb69a9ff7d');\n",
              "          const dataTable =\n",
              "            await google.colab.kernel.invokeFunction('convertToInteractive',\n",
              "                                                     [key], {});\n",
              "          if (!dataTable) return;\n",
              "\n",
              "          const docLinkHtml = 'Like what you see? Visit the ' +\n",
              "            '<a target=\"_blank\" href=https://colab.research.google.com/notebooks/data_table.ipynb>data table notebook</a>'\n",
              "            + ' to learn more about interactive tables.';\n",
              "          element.innerHTML = '';\n",
              "          dataTable['output_type'] = 'display_data';\n",
              "          await google.colab.output.renderOutput(dataTable, element);\n",
              "          const docLink = document.createElement('div');\n",
              "          docLink.innerHTML = docLinkHtml;\n",
              "          element.appendChild(docLink);\n",
              "        }\n",
              "      </script>\n",
              "    </div>\n",
              "  </div>\n",
              "  "
            ]
          },
          "metadata": {},
          "execution_count": 46
        }
      ]
    },
    {
      "cell_type": "code",
      "source": [
        "from sklearn.metrics import f1_score\n",
        "f1_score(y_test, classifiergb.predict(X_test))"
      ],
      "metadata": {
        "colab": {
          "base_uri": "https://localhost:8080/"
        },
        "id": "Y9NzsplpyrEg",
        "outputId": "2d14b07c-9d0f-436b-90f8-95a6597b3704"
      },
      "execution_count": null,
      "outputs": [
        {
          "output_type": "execute_result",
          "data": {
            "text/plain": [
              "0.3005181347150259"
            ]
          },
          "metadata": {},
          "execution_count": 47
        }
      ]
    },
    {
      "cell_type": "code",
      "source": [
        "from sklearn.metrics import accuracy_score\n",
        "accuracy_score(y_test, classifiergb.predict(X_test))"
      ],
      "metadata": {
        "colab": {
          "base_uri": "https://localhost:8080/"
        },
        "id": "KcTrndR6yrW7",
        "outputId": "cb8448d4-21a3-4000-9791-0d7f926d24f3"
      },
      "execution_count": null,
      "outputs": [
        {
          "output_type": "execute_result",
          "data": {
            "text/plain": [
              "0.8280254777070064"
            ]
          },
          "metadata": {},
          "execution_count": 48
        }
      ]
    },
    {
      "cell_type": "code",
      "source": [
        "dump(best_clf_GB, 'best_clf_GB.joblib')"
      ],
      "metadata": {
        "colab": {
          "base_uri": "https://localhost:8080/"
        },
        "id": "TP6ney5aX6pu",
        "outputId": "b6f79681-7e28-444a-d28d-b60198dffc2c"
      },
      "execution_count": null,
      "outputs": [
        {
          "output_type": "execute_result",
          "data": {
            "text/plain": [
              "['best_clf_GB.joblib']"
            ]
          },
          "metadata": {},
          "execution_count": 49
        }
      ]
    },
    {
      "cell_type": "markdown",
      "source": [
        "-------------------------------------------------------------------------------------"
      ],
      "metadata": {
        "id": "P9gACn5aLyLL"
      }
    },
    {
      "cell_type": "markdown",
      "source": [
        "Пропустим данные через Логистическую регрессию. Выберем сольвер, рандомное значение. Остальные параметры оставим по умолчанию."
      ],
      "metadata": {
        "id": "3COj7EQcV56E"
      }
    },
    {
      "cell_type": "code",
      "source": [
        "from sklearn.linear_model import LogisticRegression"
      ],
      "metadata": {
        "id": "QX7bNqtoHOHk"
      },
      "execution_count": null,
      "outputs": []
    },
    {
      "cell_type": "code",
      "source": [
        "logreg = LogisticRegression(solver='liblinear', random_state=12)"
      ],
      "metadata": {
        "id": "wL35TJXIHOQE"
      },
      "execution_count": null,
      "outputs": []
    },
    {
      "cell_type": "code",
      "source": [
        "logreg.fit(X_train, y_train)"
      ],
      "metadata": {
        "colab": {
          "base_uri": "https://localhost:8080/"
        },
        "id": "rX8xa202JcU-",
        "outputId": "85b9314a-8f3f-4e2e-b0fe-aacc01068cff"
      },
      "execution_count": null,
      "outputs": [
        {
          "output_type": "execute_result",
          "data": {
            "text/plain": [
              "LogisticRegression(random_state=12, solver='liblinear')"
            ]
          },
          "metadata": {},
          "execution_count": 52
        }
      ]
    },
    {
      "cell_type": "code",
      "source": [
        "y_pred_test = logreg.predict(X_test)\n",
        "y_pred_test"
      ],
      "metadata": {
        "colab": {
          "base_uri": "https://localhost:8080/"
        },
        "id": "D2NyqMKIJcXM",
        "outputId": "61930f11-5231-4474-9203-1cdd54ac071a"
      },
      "execution_count": null,
      "outputs": [
        {
          "output_type": "execute_result",
          "data": {
            "text/plain": [
              "array([0., 0., 0., ..., 0., 0., 0.])"
            ]
          },
          "metadata": {},
          "execution_count": 53
        }
      ]
    },
    {
      "cell_type": "markdown",
      "source": [
        "Выведем метрики."
      ],
      "metadata": {
        "id": "RGrVKQoRWLfM"
      }
    },
    {
      "cell_type": "code",
      "source": [
        "f1_score(y_test, logreg.predict(X_test))"
      ],
      "metadata": {
        "colab": {
          "base_uri": "https://localhost:8080/"
        },
        "id": "HDAAC910J25a",
        "outputId": "7c343440-07a2-41be-82ba-b087260a3c78"
      },
      "execution_count": null,
      "outputs": [
        {
          "output_type": "execute_result",
          "data": {
            "text/plain": [
              "0.37538461538461537"
            ]
          },
          "metadata": {},
          "execution_count": 54
        }
      ]
    },
    {
      "cell_type": "code",
      "source": [
        "accuracy_score(y_test, y_pred_test)"
      ],
      "metadata": {
        "colab": {
          "base_uri": "https://localhost:8080/"
        },
        "id": "N4dluBoIJ28C",
        "outputId": "7045ba84-8fcc-431a-de8c-468b698484f7"
      },
      "execution_count": null,
      "outputs": [
        {
          "output_type": "execute_result",
          "data": {
            "text/plain": [
              "0.8276008492569003"
            ]
          },
          "metadata": {},
          "execution_count": 55
        }
      ]
    },
    {
      "cell_type": "code",
      "source": [
        "dump(logreg, 'logreg.joblib')"
      ],
      "metadata": {
        "colab": {
          "base_uri": "https://localhost:8080/"
        },
        "id": "BTshYS_BYgzY",
        "outputId": "ab7689b9-5b0c-4c17-eeaa-f5227bda5835"
      },
      "execution_count": null,
      "outputs": [
        {
          "output_type": "execute_result",
          "data": {
            "text/plain": [
              "['logreg.joblib']"
            ]
          },
          "metadata": {},
          "execution_count": 56
        }
      ]
    },
    {
      "cell_type": "markdown",
      "source": [
        "Выведем коэффициенты модели. Наиболее ценный коэффициент - пятый."
      ],
      "metadata": {
        "id": "mtTMXcvEXGyj"
      }
    },
    {
      "cell_type": "markdown",
      "source": [
        "------------------------------------------------------------------------------------"
      ],
      "metadata": {
        "id": "tdqiizspL20Z"
      }
    },
    {
      "cell_type": "code",
      "source": [
        "print(logreg.coef_)"
      ],
      "metadata": {
        "colab": {
          "base_uri": "https://localhost:8080/"
        },
        "id": "sH9N_dgzW2Q_",
        "outputId": "c737cc3d-d810-4972-ea66-165d9bec0728"
      },
      "execution_count": null,
      "outputs": [
        {
          "output_type": "stream",
          "name": "stdout",
          "text": [
            "[[ 0.02930636 -0.10259392 -0.38280861  0.18608871 -0.53335348  4.59103048\n",
            "  -0.11007719  0.57591419 -0.55075825 -0.01867341 -0.86148456  0.0879825 ]]\n"
          ]
        }
      ]
    },
    {
      "cell_type": "markdown",
      "source": [
        "Попробуем дерево решений для выполнения нашей задачи. Зададим параметры для сетки, обучим, выведем лучшие параметры, ценность фичей и метрики."
      ],
      "metadata": {
        "id": "8pcv54TGXX5K"
      }
    },
    {
      "cell_type": "code",
      "source": [
        "from sklearn.tree import DecisionTreeClassifier"
      ],
      "metadata": {
        "id": "rrmNsCv4KaNK"
      },
      "execution_count": null,
      "outputs": []
    },
    {
      "cell_type": "code",
      "source": [
        "clf_tree = DecisionTreeClassifier(random_state=19)\n",
        "parametrs = {'criterion': ['entropy'], 'max_depth': range(1, 13, 2), 'min_samples_split': range(2, 10, 2), 'min_samples_leaf': range(1, 8)}"
      ],
      "metadata": {
        "id": "ocU34VRKKaPq"
      },
      "execution_count": null,
      "outputs": []
    },
    {
      "cell_type": "code",
      "source": [
        "gs_clf_tree = GridSearchCV(clf_tree, parametrs, cv=5, n_jobs=-1)\n",
        "gs_clf_tree.fit(X_train, y_train)"
      ],
      "metadata": {
        "colab": {
          "base_uri": "https://localhost:8080/"
        },
        "id": "xkpPGyB3KaSK",
        "outputId": "a062d87f-82f1-4d58-ed44-d95c557e4d7a"
      },
      "execution_count": null,
      "outputs": [
        {
          "output_type": "execute_result",
          "data": {
            "text/plain": [
              "GridSearchCV(cv=5, estimator=DecisionTreeClassifier(random_state=19), n_jobs=-1,\n",
              "             param_grid={'criterion': ['entropy'], 'max_depth': range(1, 13, 2),\n",
              "                         'min_samples_leaf': range(1, 8),\n",
              "                         'min_samples_split': range(2, 10, 2)})"
            ]
          },
          "metadata": {},
          "execution_count": 60
        }
      ]
    },
    {
      "cell_type": "code",
      "source": [
        "gs_clf_tree.best_params_"
      ],
      "metadata": {
        "colab": {
          "base_uri": "https://localhost:8080/"
        },
        "id": "Cm0s6P9xKaVN",
        "outputId": "2fa60191-36cb-47a6-d4d0-1ed119f2f872"
      },
      "execution_count": null,
      "outputs": [
        {
          "output_type": "execute_result",
          "data": {
            "text/plain": [
              "{'criterion': 'entropy',\n",
              " 'max_depth': 5,\n",
              " 'min_samples_leaf': 6,\n",
              " 'min_samples_split': 2}"
            ]
          },
          "metadata": {},
          "execution_count": 61
        }
      ]
    },
    {
      "cell_type": "code",
      "source": [
        "imp = pd.DataFrame(gs_clf_tree.best_estimator_.feature_importances_, index=X_train.columns, columns=['importance'])\n",
        "imp.sort_values('importance').plot(kind='barh', figsize=(12, 8))"
      ],
      "metadata": {
        "colab": {
          "base_uri": "https://localhost:8080/",
          "height": 503
        },
        "id": "YA6LNWYuKaXp",
        "outputId": "a1008d88-49bb-49bc-961d-ac15ab7b08b0"
      },
      "execution_count": null,
      "outputs": [
        {
          "output_type": "execute_result",
          "data": {
            "text/plain": [
              "<matplotlib.axes._subplots.AxesSubplot at 0x7fb6f7d174f0>"
            ]
          },
          "metadata": {},
          "execution_count": 62
        },
        {
          "output_type": "display_data",
          "data": {
            "text/plain": [
              "<Figure size 864x576 with 1 Axes>"
            ],
            "image/png": "[encoded data removed]"
          },
          "metadata": {}
        }
      ]
    },
    {
      "cell_type": "code",
      "source": [
        "best_clf = gs_clf_tree.best_estimator_\n",
        "feature_importances = best_clf.feature_importances_\n",
        "feature_importances_df = pd.DataFrame({'features': list(X_train), 'feature_importances': feature_importances})\n",
        "fi_df_sort = feature_importances_df.sort_values('feature_importances', ascending = False)\n",
        "fi_df_sort"
      ],
      "metadata": {
        "colab": {
          "base_uri": "https://localhost:8080/",
          "height": 426
        },
        "id": "-gMzMsZJM1A-",
        "outputId": "2c61943a-5a85-40b5-e52f-da484baf02c4"
      },
      "execution_count": null,
      "outputs": [
        {
          "output_type": "execute_result",
          "data": {
            "text/plain": [
              "      features  feature_importances\n",
              "5    feature_5             0.450550\n",
              "8    feature_8             0.400340\n",
              "7    feature_7             0.059675\n",
              "10  feature_10             0.054596\n",
              "3    feature_3             0.018523\n",
              "11  feature_11             0.006043\n",
              "0    feature_0             0.004738\n",
              "2    feature_2             0.003626\n",
              "4    feature_4             0.001908\n",
              "1    feature_1             0.000000\n",
              "6    feature_6             0.000000\n",
              "9    feature_9             0.000000"
            ],
            "text/html": [
              "\n",
              "  <div id=\"df-4025849f-2541-413c-ba0b-fd68edce99da\">\n",
              "    <div class=\"colab-df-container\">\n",
              "      <div>\n",
              "<style scoped>\n",
              "    .dataframe tbody tr th:only-of-type {\n",
              "        vertical-align: middle;\n",
              "    }\n",
              "\n",
              "    .dataframe tbody tr th {\n",
              "        vertical-align: top;\n",
              "    }\n",
              "\n",
              "    .dataframe thead th {\n",
              "        text-align: right;\n",
              "    }\n",
              "</style>\n",
              "<table border=\"1\" class=\"dataframe\">\n",
              "  <thead>\n",
              "    <tr style=\"text-align: right;\">\n",
              "      <th></th>\n",
              "      <th>features</th>\n",
              "      <th>feature_importances</th>\n",
              "    </tr>\n",
              "  </thead>\n",
              "  <tbody>\n",
              "    <tr>\n",
              "      <th>5</th>\n",
              "      <td>feature_5</td>\n",
              "      <td>0.450550</td>\n",
              "    </tr>\n",
              "    <tr>\n",
              "      <th>8</th>\n",
              "      <td>feature_8</td>\n",
              "      <td>0.400340</td>\n",
              "    </tr>\n",
              "    <tr>\n",
              "      <th>7</th>\n",
              "      <td>feature_7</td>\n",
              "      <td>0.059675</td>\n",
              "    </tr>\n",
              "    <tr>\n",
              "      <th>10</th>\n",
              "      <td>feature_10</td>\n",
              "      <td>0.054596</td>\n",
              "    </tr>\n",
              "    <tr>\n",
              "      <th>3</th>\n",
              "      <td>feature_3</td>\n",
              "      <td>0.018523</td>\n",
              "    </tr>\n",
              "    <tr>\n",
              "      <th>11</th>\n",
              "      <td>feature_11</td>\n",
              "      <td>0.006043</td>\n",
              "    </tr>\n",
              "    <tr>\n",
              "      <th>0</th>\n",
              "      <td>feature_0</td>\n",
              "      <td>0.004738</td>\n",
              "    </tr>\n",
              "    <tr>\n",
              "      <th>2</th>\n",
              "      <td>feature_2</td>\n",
              "      <td>0.003626</td>\n",
              "    </tr>\n",
              "    <tr>\n",
              "      <th>4</th>\n",
              "      <td>feature_4</td>\n",
              "      <td>0.001908</td>\n",
              "    </tr>\n",
              "    <tr>\n",
              "      <th>1</th>\n",
              "      <td>feature_1</td>\n",
              "      <td>0.000000</td>\n",
              "    </tr>\n",
              "    <tr>\n",
              "      <th>6</th>\n",
              "      <td>feature_6</td>\n",
              "      <td>0.000000</td>\n",
              "    </tr>\n",
              "    <tr>\n",
              "      <th>9</th>\n",
              "      <td>feature_9</td>\n",
              "      <td>0.000000</td>\n",
              "    </tr>\n",
              "  </tbody>\n",
              "</table>\n",
              "</div>\n",
              "      <button class=\"colab-df-convert\" onclick=\"convertToInteractive('df-4025849f-2541-413c-ba0b-fd68edce99da')\"\n",
              "              title=\"Convert this dataframe to an interactive table.\"\n",
              "              style=\"display:none;\">\n",
              "        \n",
              "  <svg xmlns=\"http://www.w3.org/2000/svg\" height=\"24px\"viewBox=\"0 0 24 24\"\n",
              "       width=\"24px\">\n",
              "    <path d=\"M0 0h24v24H0V0z\" fill=\"none\"/>\n",
              "    <path d=\"M18.56 5.44l.94 2.06.94-2.06 2.06-.94-2.06-.94-.94-2.06-.94 2.06-2.06.94zm-11 1L8.5 8.5l.94-2.06 2.06-.94-2.06-.94L8.5 2.5l-.94 2.06-2.06.94zm10 10l.94 2.06.94-2.06 2.06-.94-2.06-.94-.94-2.06-.94 2.06-2.06.94z\"/><path d=\"M17.41 7.96l-1.37-1.37c-.4-.4-.92-.59-1.43-.59-.52 0-1.04.2-1.43.59L10.3 9.45l-7.72 7.72c-.78.78-.78 2.05 0 2.83L4 21.41c.39.39.9.59 1.41.59.51 0 1.02-.2 1.41-.59l7.78-7.78 2.81-2.81c.8-.78.8-2.07 0-2.86zM5.41 20L4 18.59l7.72-7.72 1.47 1.35L5.41 20z\"/>\n",
              "  </svg>\n",
              "      </button>\n",
              "      \n",
              "  <style>\n",
              "    .colab-df-container {\n",
              "      display:flex;\n",
              "      flex-wrap:wrap;\n",
              "      gap: 12px;\n",
              "    }\n",
              "\n",
              "    .colab-df-convert {\n",
              "      background-color: #E8F0FE;\n",
              "      border: none;\n",
              "      border-radius: 50%;\n",
              "      cursor: pointer;\n",
              "      display: none;\n",
              "      fill: #1967D2;\n",
              "      height: 32px;\n",
              "      padding: 0 0 0 0;\n",
              "      width: 32px;\n",
              "    }\n",
              "\n",
              "    .colab-df-convert:hover {\n",
              "      background-color: #E2EBFA;\n",
              "      box-shadow: 0px 1px 2px rgba(60, 64, 67, 0.3), 0px 1px 3px 1px rgba(60, 64, 67, 0.15);\n",
              "      fill: #174EA6;\n",
              "    }\n",
              "\n",
              "    [theme=dark] .colab-df-convert {\n",
              "      background-color: #3B4455;\n",
              "      fill: #D2E3FC;\n",
              "    }\n",
              "\n",
              "    [theme=dark] .colab-df-convert:hover {\n",
              "      background-color: #434B5C;\n",
              "      box-shadow: 0px 1px 3px 1px rgba(0, 0, 0, 0.15);\n",
              "      filter: drop-shadow(0px 1px 2px rgba(0, 0, 0, 0.3));\n",
              "      fill: #FFFFFF;\n",
              "    }\n",
              "  </style>\n",
              "\n",
              "      <script>\n",
              "        const buttonEl =\n",
              "          document.querySelector('#df-4025849f-2541-413c-ba0b-fd68edce99da button.colab-df-convert');\n",
              "        buttonEl.style.display =\n",
              "          google.colab.kernel.accessAllowed ? 'block' : 'none';\n",
              "\n",
              "        async function convertToInteractive(key) {\n",
              "          const element = document.querySelector('#df-4025849f-2541-413c-ba0b-fd68edce99da');\n",
              "          const dataTable =\n",
              "            await google.colab.kernel.invokeFunction('convertToInteractive',\n",
              "                                                     [key], {});\n",
              "          if (!dataTable) return;\n",
              "\n",
              "          const docLinkHtml = 'Like what you see? Visit the ' +\n",
              "            '<a target=\"_blank\" href=https://colab.research.google.com/notebooks/data_table.ipynb>data table notebook</a>'\n",
              "            + ' to learn more about interactive tables.';\n",
              "          element.innerHTML = '';\n",
              "          dataTable['output_type'] = 'display_data';\n",
              "          await google.colab.output.renderOutput(dataTable, element);\n",
              "          const docLink = document.createElement('div');\n",
              "          docLink.innerHTML = docLinkHtml;\n",
              "          element.appendChild(docLink);\n",
              "        }\n",
              "      </script>\n",
              "    </div>\n",
              "  </div>\n",
              "  "
            ]
          },
          "metadata": {},
          "execution_count": 63
        }
      ]
    },
    {
      "cell_type": "code",
      "source": [
        "f1_score(y_test, gs_clf_tree.best_estimator_.predict(X_test))"
      ],
      "metadata": {
        "colab": {
          "base_uri": "https://localhost:8080/"
        },
        "id": "ol0fq6Y8M1DW",
        "outputId": "19724e62-d2e4-40d8-fb29-501ffb963619"
      },
      "execution_count": null,
      "outputs": [
        {
          "output_type": "execute_result",
          "data": {
            "text/plain": [
              "0.4658298465829847"
            ]
          },
          "metadata": {},
          "execution_count": 64
        }
      ]
    },
    {
      "cell_type": "code",
      "source": [
        "accuracy_score(y_test, gs_clf_tree.best_estimator_.predict(X_test))"
      ],
      "metadata": {
        "colab": {
          "base_uri": "https://localhost:8080/"
        },
        "id": "v7YOx5iJNPMO",
        "outputId": "faee871c-e635-4b7e-ecf3-ea27feacd897"
      },
      "execution_count": null,
      "outputs": [
        {
          "output_type": "execute_result",
          "data": {
            "text/plain": [
              "0.8373673036093419"
            ]
          },
          "metadata": {},
          "execution_count": 65
        }
      ]
    },
    {
      "cell_type": "code",
      "source": [
        "dump(best_clf, 'best_clf_DT.joblib')"
      ],
      "metadata": {
        "colab": {
          "base_uri": "https://localhost:8080/"
        },
        "id": "FvylIBUUZDL-",
        "outputId": "54fb4b67-9c58-4c85-b4ca-22f77e85b9c9"
      },
      "execution_count": null,
      "outputs": [
        {
          "output_type": "execute_result",
          "data": {
            "text/plain": [
              "['best_clf_DT.joblib']"
            ]
          },
          "metadata": {},
          "execution_count": 66
        }
      ]
    },
    {
      "cell_type": "markdown",
      "source": [
        "---------------------------------------------------------------------------------"
      ],
      "metadata": {
        "id": "qGdewFgXL6iI"
      }
    },
    {
      "cell_type": "markdown",
      "source": [
        "Выводы:"
      ],
      "metadata": {
        "id": "OC19AOnIYHer"
      }
    },
    {
      "cell_type": "markdown",
      "source": [
        "Рандом форест: 5, 8, 7 фичи. 0.47/0.84 f1-score/точность\n"
      ],
      "metadata": {
        "id": "DQrurU_kNWVP"
      }
    },
    {
      "cell_type": "markdown",
      "source": [
        "Дерево решений: 5, 8 фичи. 0.46/0.83 f1-score/точность\n"
      ],
      "metadata": {
        "id": "txKZEWNuPNzM"
      }
    },
    {
      "cell_type": "markdown",
      "source": [
        "АдаБуст: 8, 5, 10 фичи. 0.23/0.82 f1-score/точность\n"
      ],
      "metadata": {
        "id": "exy-O9TkPN10"
      }
    },
    {
      "cell_type": "markdown",
      "source": [
        "ГрадиентБуст: 5, 8, 10 фичи. 0.3/0.82 f1-score/точность\n"
      ],
      "metadata": {
        "id": "d720Ium5PS8e"
      }
    },
    {
      "cell_type": "markdown",
      "source": [
        "Нейронная сеть: точноть 0.807"
      ],
      "metadata": {
        "id": "edsVHkNjPVal"
      }
    },
    {
      "cell_type": "markdown",
      "source": [
        "Логистическая регрессия: 5 фича. 0.37/0.82"
      ],
      "metadata": {
        "id": "wM-vPbBMXnxj"
      }
    },
    {
      "cell_type": "markdown",
      "source": [
        "Лучший алогритм: РандомФорест.\n",
        "Самые ценные признаки: 5, 8, 7, 10"
      ],
      "metadata": {
        "id": "BPHAarJ-PYpn"
      }
    },
    {
      "cell_type": "code",
      "source": [],
      "metadata": {
        "id": "MyztmoAuNUyE"
      },
      "execution_count": null,
      "outputs": []
    },
    {
      "cell_type": "code",
      "source": [],
      "metadata": {
        "id": "bR2BIaIHNU0j"
      },
      "execution_count": null,
      "outputs": []
    }
  ]
}